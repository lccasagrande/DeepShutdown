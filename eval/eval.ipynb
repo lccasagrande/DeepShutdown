{
 "cells": [
  {
   "cell_type": "markdown",
   "metadata": {},
   "source": [
    "## Deep Shutdown Benchmark Test"
   ]
  },
  {
   "cell_type": "markdown",
   "metadata": {},
   "source": [
    "### 1) Load evaluation environment"
   ]
  },
  {
   "cell_type": "code",
   "execution_count": 1,
   "metadata": {},
   "outputs": [],
   "source": [
    "import warnings\n",
    "import os\n",
    "from gridgym.envs.grid_env import GridEnv\n",
    "from datetime import datetime\n",
    "from shutil import copyfile\n",
    "from gridgym.envs.off_reservation_env import OffReservationEnv\n",
    "\n",
    "warnings.filterwarnings('ignore')\n",
    "\n",
    "cluster = 'taurus/1/'\n",
    "\n",
    "# Define variables\n",
    "#train_log = \"../weights/ppo_log.csv\"\n",
    "train_log = cluster + \"log/ppo_log.csv\"\n",
    "test_workloads =  cluster + \"workloads/test/\"\n",
    "train_workloads =  cluster + \"workloads/train/\"\n",
    "output_dir =  cluster + \"results/\"\n",
    "platform_fn = cluster + \"platform.xml\"\n",
    "#deepshutdown_model = \"../weights/checkpoints/taurus\"\n",
    "deepshutdown_model = cluster + \"weights\"\n",
    "simulator_path = \"../src/\"\n",
    "env_id = 'OffReservation-v0'\n",
    "deepshutdown_repeat = 5\n",
    "timeout_policies = [1, 5, 10]\n",
    "or_stretches = [0.5]\n",
    "seed = 48238\n",
    "\n",
    "GridEnv.OUTPUT= os.path.join(simulator_path, GridEnv.OUTPUT)\n",
    "GridEnv.PLATFORM= os.path.join(simulator_path, GridEnv.PLATFORM)\n",
    "GridEnv.WORKLOADS= os.path.join(simulator_path, GridEnv.WORKLOADS)\n",
    "OffReservationEnv.TRACE = True"
   ]
  },
  {
   "cell_type": "code",
   "execution_count": 2,
   "metadata": {},
   "outputs": [
    {
     "name": "stdout",
     "output_type": "stream",
     "text": [
      "WARNING:tensorflow:From /home/d2/anaconda3/envs/drl-gpu/lib/python3.6/site-packages/tensorflow/python/data/ops/dataset_ops.py:1419: colocate_with (from tensorflow.python.framework.ops) is deprecated and will be removed in a future version.\n",
      "Instructions for updating:\n",
      "Colocations handled automatically by placer.\n",
      "WARNING:tensorflow:From /home/d2/Projects/Deep-Scheduler/src/agents/ppo.py:154: Categorical.__init__ (from tensorflow.python.ops.distributions.categorical) is deprecated and will be removed after 2019-01-01.\n",
      "Instructions for updating:\n",
      "The TensorFlow Distributions library has moved to TensorFlow Probability (https://github.com/tensorflow/probability). You should update all references to use `tfp.distributions` instead of `tf.distributions`.\n",
      "WARNING:tensorflow:From /home/d2/anaconda3/envs/drl-gpu/lib/python3.6/site-packages/tensorflow/python/ops/distributions/categorical.py:242: Distribution.__init__ (from tensorflow.python.ops.distributions.distribution) is deprecated and will be removed after 2019-01-01.\n",
      "Instructions for updating:\n",
      "The TensorFlow Distributions library has moved to TensorFlow Probability (https://github.com/tensorflow/probability). You should update all references to use `tfp.distributions` instead of `tf.distributions`.\n",
      "WARNING:tensorflow:From /home/d2/anaconda3/envs/drl-gpu/lib/python3.6/site-packages/tensorflow/python/ops/distributions/categorical.py:278: multinomial (from tensorflow.python.ops.random_ops) is deprecated and will be removed in a future version.\n",
      "Instructions for updating:\n",
      "Use tf.random.categorical instead.\n",
      "WARNING:tensorflow:From /home/d2/anaconda3/envs/drl-gpu/lib/python3.6/site-packages/tensorflow/python/ops/math_ops.py:3066: to_int32 (from tensorflow.python.ops.math_ops) is deprecated and will be removed in a future version.\n",
      "Instructions for updating:\n",
      "Use tf.cast instead.\n",
      "\u001b[32m [*] Loading variables...\u001b[0m\n",
      "\u001b[32m [*] Variables loaded successfully\u001b[0m\n"
     ]
    }
   ],
   "source": [
    "# Load platform/model\n",
    "from src import deepshutdown as launcher\n",
    "def load_platform(fn):\n",
    "    simulator_platform = os.path.join(simulator_path, GridEnv.PLATFORM)\n",
    "    copyfile(fn, simulator_platform)\n",
    "    \n",
    "def load_deepshutdown(weights, env_id):\n",
    "    import sys\n",
    "    argv_tmp, sys.argv = sys.argv, [sys.argv[0]]  # workaround to get default model parameters from launcher.\n",
    "    args = launcher.parse_args()\n",
    "    sys.argv = argv_tmp\n",
    "    env = launcher.build_env(args.env_id, 1, args.nb_frames)\n",
    "    input_shape, nb_actions = env.observation_space.shape, env.action_space.n\n",
    "    agent = launcher.get_agent(input_shape, nb_actions, 1, seed, args.nb_frames, 1, 1, 1, 1, None)\n",
    "    agent.load(weights)\n",
    "    return agent, args.nb_frames\n",
    "\n",
    "load_platform(platform_fn)\n",
    "deep_shutdown, nb_frames = load_deepshutdown(deepshutdown_model, env_id)"
   ]
  },
  {
   "cell_type": "markdown",
   "metadata": {},
   "source": [
    "### 3) Run tests"
   ]
  },
  {
   "cell_type": "markdown",
   "metadata": {},
   "source": [
    "#### 3.1) Prepare"
   ]
  },
  {
   "cell_type": "code",
   "execution_count": 3,
   "metadata": {},
   "outputs": [],
   "source": [
    "import gym\n",
    "import gridgym.envs.grid_env as g\n",
    "import pandas as pd\n",
    "import numpy as np\n",
    "from gridgym.envs.simulator.utils.graphics import plot_simulation_graphics\n",
    "from collections import defaultdict\n",
    "from shutil import rmtree\n",
    "from tqdm import tqdm_notebook as tqdm\n",
    "from src.agents.timeout import TimeoutAgent  \n",
    "from src.agents.offreservation import OffReservationAgent\n",
    "\n",
    "import matplotlib.pyplot as plt\n",
    "\n",
    "\n",
    "def get_workloads(path):\n",
    "    return [os.path.join(path, w) for w in os.listdir(path) if w.endswith('.json')]\n",
    "\n",
    "def load_workload(src, dest):\n",
    "    rmtree(dest)\n",
    "    os.makedirs(dest)\n",
    "    fn = os.path.split(src)[-1]\n",
    "    copyfile(src, os.path.join(dest, fn))\n",
    "\n",
    "def run_deepshutdown(env_id, agent):\n",
    "    env = launcher.build_env(env_id, 1, nb_frames)\n",
    "    r = agent.play(env)\n",
    "    r['policy'] = 'DeepShutdown'\n",
    "    return r\n",
    "\n",
    "def run_timeout(env_id, queue_sz, timeout):    \n",
    "    env = gym.make(env_id)\n",
    "    nb_resources = env.observation_space.spaces['agenda'].shape[0]\n",
    "    nb_nodes = env.observation_space.spaces['platform'].shape[0]\n",
    "    agent = TimeoutAgent(timeout, nb_resources, nb_nodes, queue_sz)\n",
    "    results = agent.play(env)\n",
    "    results['policy'] = \"Timeout ({})\".format(timeout)\n",
    "    return results\n",
    "\n",
    "def run_or(env_id, max_stretch, queue_sz, timeout):    \n",
    "    env = gym.make(env_id)\n",
    "    nb_resources = env.observation_space.spaces['agenda'].shape[0]\n",
    "    nb_nodes = env.observation_space.spaces['platform'].shape[0]\n",
    "    agent = OffReservationAgent(max_stretch, nb_resources, nb_nodes, queue_sz, timeout)\n",
    "    results = agent.play(env)\n",
    "    results['policy'] = \"OR ({})\".format(max_stretch)\n",
    "    return results\n",
    "\n",
    "def run_experiment(workloads):\n",
    "    bench_results = defaultdict(list)\n",
    "    simulator_workload = os.path.join(simulator_path, GridEnv.WORKLOADS)\n",
    "    \n",
    "    for _ in tqdm(range(1), desc=\"DeepShutdown Experiments\"):\n",
    "        for workload in tqdm(workloads, desc='Workloads', leave=False):\n",
    "            w_name = workload[workload.rfind('_')+1:workload.rfind('.json')]\n",
    "            load_workload(workload, simulator_workload)\n",
    "            results = run_deepshutdown(env_id, deep_shutdown)\n",
    "            results['week'] = w_name\n",
    "            for k, v in results.items():\n",
    "                bench_results[k].append(v)\n",
    "            #f = plot_simulation_graphics(results['trace'][-1]['jobs'],results['trace'][-1]['host_states'],results['trace'][-1]['host_pstates'],results['trace'][-1]['consumed_energy'],show=False)\n",
    "            #plt.close()\n",
    "            #f.savefig(os.path.join(output_dir, 'deepshutdown_{}.png'.format(results['workload'][-1])))\n",
    "            \n",
    "    for workload in tqdm(workloads, desc='Timeout Experiments', leave=True):\n",
    "        load_workload(workload, simulator_workload)\n",
    "        w_name = workload[workload.rfind('_')+1:workload.rfind('.json')]\n",
    "        # Run Timeout Experiments\n",
    "        for timeout in tqdm(timeout_policies, desc='Timeout', leave=False):\n",
    "            results = run_timeout(env_id, OffReservationEnv.MAX_QUEUE_SZ, timeout)\n",
    "            results['week'] = w_name\n",
    "            for k, v in results.items():\n",
    "                bench_results[k].append(v)\n",
    "            #f = plot_simulation_graphics(results['trace']['jobs'],results['trace']['host_states'],results['trace']['host_pstates'],results['trace']['consumed_energy'],show=False)\n",
    "            #plt.close()\n",
    "            #f.savefig(os.path.join(output_dir, '{}_{}.png'.format(timeout, results['workload'])))\n",
    "        for m_stretch in tqdm(or_stretches, desc='OR', leave=False):\n",
    "            results = run_or(env_id, m_stretch, OffReservationEnv.MAX_QUEUE_SZ, 0)\n",
    "            results['week'] = w_name\n",
    "            for k, v in results.items():\n",
    "                bench_results[k].append(v)\n",
    "    return bench_results    "
   ]
  },
  {
   "cell_type": "markdown",
   "metadata": {},
   "source": [
    "#### Evaluate"
   ]
  },
  {
   "cell_type": "code",
   "execution_count": 9,
   "metadata": {},
   "outputs": [
    {
     "data": {
      "application/vnd.jupyter.widget-view+json": {
       "model_id": "4e349de65c1e42e0b44f0aa067a08381",
       "version_major": 2,
       "version_minor": 0
      },
      "text/plain": [
       "HBox(children=(IntProgress(value=0, description='DeepShutdown Experiments', max=1), HTML(value='')))"
      ]
     },
     "metadata": {},
     "output_type": "display_data"
    },
    {
     "data": {
      "application/vnd.jupyter.widget-view+json": {
       "model_id": "",
       "version_major": 2,
       "version_minor": 0
      },
      "text/plain": [
       "HBox(children=(IntProgress(value=0, description='Workloads', max=1), HTML(value='')))"
      ]
     },
     "metadata": {},
     "output_type": "display_data"
    },
    {
     "name": "stdout",
     "output_type": "stream",
     "text": [
      "\n"
     ]
    },
    {
     "data": {
      "application/vnd.jupyter.widget-view+json": {
       "model_id": "3a4fe7a42ea8467e96d1185a42b4606c",
       "version_major": 2,
       "version_minor": 0
      },
      "text/plain": [
       "HBox(children=(IntProgress(value=0, description='Timeout Experiments', max=1), HTML(value='')))"
      ]
     },
     "metadata": {},
     "output_type": "display_data"
    },
    {
     "data": {
      "application/vnd.jupyter.widget-view+json": {
       "model_id": "",
       "version_major": 2,
       "version_minor": 0
      },
      "text/plain": [
       "HBox(children=(IntProgress(value=0, description='Timeout', max=3), HTML(value='')))"
      ]
     },
     "metadata": {},
     "output_type": "display_data"
    },
    {
     "data": {
      "application/vnd.jupyter.widget-view+json": {
       "model_id": "",
       "version_major": 2,
       "version_minor": 0
      },
      "text/plain": [
       "HBox(children=(IntProgress(value=0, description='OR', max=1), HTML(value='')))"
      ]
     },
     "metadata": {},
     "output_type": "display_data"
    },
    {
     "name": "stdout",
     "output_type": "stream",
     "text": [
      "\n"
     ]
    },
    {
     "data": {
      "application/vnd.jupyter.widget-view+json": {
       "model_id": "2414ee86300441649e7b6c564c37f25e",
       "version_major": 2,
       "version_minor": 0
      },
      "text/plain": [
       "HBox(children=(IntProgress(value=0, description='DeepShutdown Experiments', max=1), HTML(value='')))"
      ]
     },
     "metadata": {},
     "output_type": "display_data"
    },
    {
     "data": {
      "application/vnd.jupyter.widget-view+json": {
       "model_id": "",
       "version_major": 2,
       "version_minor": 0
      },
      "text/plain": [
       "HBox(children=(IntProgress(value=0, description='Workloads', max=1), HTML(value='')))"
      ]
     },
     "metadata": {},
     "output_type": "display_data"
    },
    {
     "name": "stdout",
     "output_type": "stream",
     "text": [
      "\n"
     ]
    },
    {
     "data": {
      "application/vnd.jupyter.widget-view+json": {
       "model_id": "75942630f8cb4429bdb6c42028f3b574",
       "version_major": 2,
       "version_minor": 0
      },
      "text/plain": [
       "HBox(children=(IntProgress(value=0, description='Timeout Experiments', max=1), HTML(value='')))"
      ]
     },
     "metadata": {},
     "output_type": "display_data"
    },
    {
     "data": {
      "application/vnd.jupyter.widget-view+json": {
       "model_id": "",
       "version_major": 2,
       "version_minor": 0
      },
      "text/plain": [
       "HBox(children=(IntProgress(value=0, description='Timeout', max=3), HTML(value='')))"
      ]
     },
     "metadata": {},
     "output_type": "display_data"
    },
    {
     "data": {
      "application/vnd.jupyter.widget-view+json": {
       "model_id": "",
       "version_major": 2,
       "version_minor": 0
      },
      "text/plain": [
       "HBox(children=(IntProgress(value=0, description='OR', max=1), HTML(value='')))"
      ]
     },
     "metadata": {},
     "output_type": "display_data"
    },
    {
     "name": "stdout",
     "output_type": "stream",
     "text": [
      "\n"
     ]
    }
   ],
   "source": [
    "def get_results(workloads, out_dir):\n",
    "    results = run_experiment(get_workloads(workloads)[:1])\n",
    "    results = pd.DataFrame(results)\n",
    "    if out_dir:\n",
    "        os.makedirs(out_dir, exist_ok=True)\n",
    "        results.to_csv(os.path.join(out_dir, \"benchmark.csv\"), index=False)  \n",
    "    results.set_index(results['week'], inplace=True)\n",
    "    results.index.name = \"week\"\n",
    "    return results\n",
    "\n",
    "train_dir = os.path.join(output_dir, 'train/') if output_dir else None\n",
    "train_results = get_results(train_workloads, train_dir)\n",
    "\n",
    "test_dir = os.path.join(output_dir, 'test/') if output_dir else None\n",
    "test_results = get_results(test_workloads, test_dir)\n"
   ]
  },
  {
   "cell_type": "markdown",
   "metadata": {},
   "source": [
    "### 4) Plot Results"
   ]
  },
  {
   "cell_type": "code",
   "execution_count": 4,
   "metadata": {},
   "outputs": [
    {
     "data": {
      "text/html": [
       "\n",
       "    <div class=\"bk-root\">\n",
       "        <a href=\"https://bokeh.pydata.org\" target=\"_blank\" class=\"bk-logo bk-logo-small bk-logo-notebook\"></a>\n",
       "        <span id=\"1001\">Loading BokehJS ...</span>\n",
       "    </div>"
      ]
     },
     "metadata": {},
     "output_type": "display_data"
    },
    {
     "data": {
      "application/javascript": [
       "\n",
       "(function(root) {\n",
       "  function now() {\n",
       "    return new Date();\n",
       "  }\n",
       "\n",
       "  var force = true;\n",
       "\n",
       "  if (typeof root._bokeh_onload_callbacks === \"undefined\" || force === true) {\n",
       "    root._bokeh_onload_callbacks = [];\n",
       "    root._bokeh_is_loading = undefined;\n",
       "  }\n",
       "\n",
       "  var JS_MIME_TYPE = 'application/javascript';\n",
       "  var HTML_MIME_TYPE = 'text/html';\n",
       "  var EXEC_MIME_TYPE = 'application/vnd.bokehjs_exec.v0+json';\n",
       "  var CLASS_NAME = 'output_bokeh rendered_html';\n",
       "\n",
       "  /**\n",
       "   * Render data to the DOM node\n",
       "   */\n",
       "  function render(props, node) {\n",
       "    var script = document.createElement(\"script\");\n",
       "    node.appendChild(script);\n",
       "  }\n",
       "\n",
       "  /**\n",
       "   * Handle when an output is cleared or removed\n",
       "   */\n",
       "  function handleClearOutput(event, handle) {\n",
       "    var cell = handle.cell;\n",
       "\n",
       "    var id = cell.output_area._bokeh_element_id;\n",
       "    var server_id = cell.output_area._bokeh_server_id;\n",
       "    // Clean up Bokeh references\n",
       "    if (id != null && id in Bokeh.index) {\n",
       "      Bokeh.index[id].model.document.clear();\n",
       "      delete Bokeh.index[id];\n",
       "    }\n",
       "\n",
       "    if (server_id !== undefined) {\n",
       "      // Clean up Bokeh references\n",
       "      var cmd = \"from bokeh.io.state import curstate; print(curstate().uuid_to_server['\" + server_id + \"'].get_sessions()[0].document.roots[0]._id)\";\n",
       "      cell.notebook.kernel.execute(cmd, {\n",
       "        iopub: {\n",
       "          output: function(msg) {\n",
       "            var id = msg.content.text.trim();\n",
       "            if (id in Bokeh.index) {\n",
       "              Bokeh.index[id].model.document.clear();\n",
       "              delete Bokeh.index[id];\n",
       "            }\n",
       "          }\n",
       "        }\n",
       "      });\n",
       "      // Destroy server and session\n",
       "      var cmd = \"import bokeh.io.notebook as ion; ion.destroy_server('\" + server_id + \"')\";\n",
       "      cell.notebook.kernel.execute(cmd);\n",
       "    }\n",
       "  }\n",
       "\n",
       "  /**\n",
       "   * Handle when a new output is added\n",
       "   */\n",
       "  function handleAddOutput(event, handle) {\n",
       "    var output_area = handle.output_area;\n",
       "    var output = handle.output;\n",
       "\n",
       "    // limit handleAddOutput to display_data with EXEC_MIME_TYPE content only\n",
       "    if ((output.output_type != \"display_data\") || (!output.data.hasOwnProperty(EXEC_MIME_TYPE))) {\n",
       "      return\n",
       "    }\n",
       "\n",
       "    var toinsert = output_area.element.find(\".\" + CLASS_NAME.split(' ')[0]);\n",
       "\n",
       "    if (output.metadata[EXEC_MIME_TYPE][\"id\"] !== undefined) {\n",
       "      toinsert[toinsert.length - 1].firstChild.textContent = output.data[JS_MIME_TYPE];\n",
       "      // store reference to embed id on output_area\n",
       "      output_area._bokeh_element_id = output.metadata[EXEC_MIME_TYPE][\"id\"];\n",
       "    }\n",
       "    if (output.metadata[EXEC_MIME_TYPE][\"server_id\"] !== undefined) {\n",
       "      var bk_div = document.createElement(\"div\");\n",
       "      bk_div.innerHTML = output.data[HTML_MIME_TYPE];\n",
       "      var script_attrs = bk_div.children[0].attributes;\n",
       "      for (var i = 0; i < script_attrs.length; i++) {\n",
       "        toinsert[toinsert.length - 1].firstChild.setAttribute(script_attrs[i].name, script_attrs[i].value);\n",
       "      }\n",
       "      // store reference to server id on output_area\n",
       "      output_area._bokeh_server_id = output.metadata[EXEC_MIME_TYPE][\"server_id\"];\n",
       "    }\n",
       "  }\n",
       "\n",
       "  function register_renderer(events, OutputArea) {\n",
       "\n",
       "    function append_mime(data, metadata, element) {\n",
       "      // create a DOM node to render to\n",
       "      var toinsert = this.create_output_subarea(\n",
       "        metadata,\n",
       "        CLASS_NAME,\n",
       "        EXEC_MIME_TYPE\n",
       "      );\n",
       "      this.keyboard_manager.register_events(toinsert);\n",
       "      // Render to node\n",
       "      var props = {data: data, metadata: metadata[EXEC_MIME_TYPE]};\n",
       "      render(props, toinsert[toinsert.length - 1]);\n",
       "      element.append(toinsert);\n",
       "      return toinsert\n",
       "    }\n",
       "\n",
       "    /* Handle when an output is cleared or removed */\n",
       "    events.on('clear_output.CodeCell', handleClearOutput);\n",
       "    events.on('delete.Cell', handleClearOutput);\n",
       "\n",
       "    /* Handle when a new output is added */\n",
       "    events.on('output_added.OutputArea', handleAddOutput);\n",
       "\n",
       "    /**\n",
       "     * Register the mime type and append_mime function with output_area\n",
       "     */\n",
       "    OutputArea.prototype.register_mime_type(EXEC_MIME_TYPE, append_mime, {\n",
       "      /* Is output safe? */\n",
       "      safe: true,\n",
       "      /* Index of renderer in `output_area.display_order` */\n",
       "      index: 0\n",
       "    });\n",
       "  }\n",
       "\n",
       "  // register the mime type if in Jupyter Notebook environment and previously unregistered\n",
       "  if (root.Jupyter !== undefined) {\n",
       "    var events = require('base/js/events');\n",
       "    var OutputArea = require('notebook/js/outputarea').OutputArea;\n",
       "\n",
       "    if (OutputArea.prototype.mime_types().indexOf(EXEC_MIME_TYPE) == -1) {\n",
       "      register_renderer(events, OutputArea);\n",
       "    }\n",
       "  }\n",
       "\n",
       "  \n",
       "  if (typeof (root._bokeh_timeout) === \"undefined\" || force === true) {\n",
       "    root._bokeh_timeout = Date.now() + 5000;\n",
       "    root._bokeh_failed_load = false;\n",
       "  }\n",
       "\n",
       "  var NB_LOAD_WARNING = {'data': {'text/html':\n",
       "     \"<div style='background-color: #fdd'>\\n\"+\n",
       "     \"<p>\\n\"+\n",
       "     \"BokehJS does not appear to have successfully loaded. If loading BokehJS from CDN, this \\n\"+\n",
       "     \"may be due to a slow or bad network connection. Possible fixes:\\n\"+\n",
       "     \"</p>\\n\"+\n",
       "     \"<ul>\\n\"+\n",
       "     \"<li>re-rerun `output_notebook()` to attempt to load from CDN again, or</li>\\n\"+\n",
       "     \"<li>use INLINE resources instead, as so:</li>\\n\"+\n",
       "     \"</ul>\\n\"+\n",
       "     \"<code>\\n\"+\n",
       "     \"from bokeh.resources import INLINE\\n\"+\n",
       "     \"output_notebook(resources=INLINE)\\n\"+\n",
       "     \"</code>\\n\"+\n",
       "     \"</div>\"}};\n",
       "\n",
       "  function display_loaded() {\n",
       "    var el = document.getElementById(\"1001\");\n",
       "    if (el != null) {\n",
       "      el.textContent = \"BokehJS is loading...\";\n",
       "    }\n",
       "    if (root.Bokeh !== undefined) {\n",
       "      if (el != null) {\n",
       "        el.textContent = \"BokehJS \" + root.Bokeh.version + \" successfully loaded.\";\n",
       "      }\n",
       "    } else if (Date.now() < root._bokeh_timeout) {\n",
       "      setTimeout(display_loaded, 100)\n",
       "    }\n",
       "  }\n",
       "\n",
       "\n",
       "  function run_callbacks() {\n",
       "    try {\n",
       "      root._bokeh_onload_callbacks.forEach(function(callback) {\n",
       "        if (callback != null)\n",
       "          callback();\n",
       "      });\n",
       "    } finally {\n",
       "      delete root._bokeh_onload_callbacks\n",
       "    }\n",
       "    console.debug(\"Bokeh: all callbacks have finished\");\n",
       "  }\n",
       "\n",
       "  function load_libs(css_urls, js_urls, callback) {\n",
       "    if (css_urls == null) css_urls = [];\n",
       "    if (js_urls == null) js_urls = [];\n",
       "\n",
       "    root._bokeh_onload_callbacks.push(callback);\n",
       "    if (root._bokeh_is_loading > 0) {\n",
       "      console.debug(\"Bokeh: BokehJS is being loaded, scheduling callback at\", now());\n",
       "      return null;\n",
       "    }\n",
       "    if (js_urls == null || js_urls.length === 0) {\n",
       "      run_callbacks();\n",
       "      return null;\n",
       "    }\n",
       "    console.debug(\"Bokeh: BokehJS not loaded, scheduling load and callback at\", now());\n",
       "    root._bokeh_is_loading = css_urls.length + js_urls.length;\n",
       "\n",
       "    function on_load() {\n",
       "      root._bokeh_is_loading--;\n",
       "      if (root._bokeh_is_loading === 0) {\n",
       "        console.debug(\"Bokeh: all BokehJS libraries/stylesheets loaded\");\n",
       "        run_callbacks()\n",
       "      }\n",
       "    }\n",
       "\n",
       "    function on_error() {\n",
       "      console.error(\"failed to load \" + url);\n",
       "    }\n",
       "\n",
       "    for (var i = 0; i < css_urls.length; i++) {\n",
       "      var url = css_urls[i];\n",
       "      const element = document.createElement(\"link\");\n",
       "      element.onload = on_load;\n",
       "      element.onerror = on_error;\n",
       "      element.rel = \"stylesheet\";\n",
       "      element.type = \"text/css\";\n",
       "      element.href = url;\n",
       "      console.debug(\"Bokeh: injecting link tag for BokehJS stylesheet: \", url);\n",
       "      document.body.appendChild(element);\n",
       "    }\n",
       "\n",
       "    for (var i = 0; i < js_urls.length; i++) {\n",
       "      var url = js_urls[i];\n",
       "      var element = document.createElement('script');\n",
       "      element.onload = on_load;\n",
       "      element.onerror = on_error;\n",
       "      element.async = false;\n",
       "      element.src = url;\n",
       "      console.debug(\"Bokeh: injecting script tag for BokehJS library: \", url);\n",
       "      document.head.appendChild(element);\n",
       "    }\n",
       "  };var element = document.getElementById(\"1001\");\n",
       "  if (element == null) {\n",
       "    console.error(\"Bokeh: ERROR: autoload.js configured with elementid '1001' but no matching script tag was found. \")\n",
       "    return false;\n",
       "  }\n",
       "\n",
       "  function inject_raw_css(css) {\n",
       "    const element = document.createElement(\"style\");\n",
       "    element.appendChild(document.createTextNode(css));\n",
       "    document.body.appendChild(element);\n",
       "  }\n",
       "\n",
       "  var js_urls = [\"https://cdn.pydata.org/bokeh/release/bokeh-1.3.4.min.js\", \"https://cdn.pydata.org/bokeh/release/bokeh-widgets-1.3.4.min.js\", \"https://cdn.pydata.org/bokeh/release/bokeh-tables-1.3.4.min.js\", \"https://cdn.pydata.org/bokeh/release/bokeh-gl-1.3.4.min.js\"];\n",
       "  var css_urls = [];\n",
       "\n",
       "  var inline_js = [\n",
       "    function(Bokeh) {\n",
       "      Bokeh.set_log_level(\"info\");\n",
       "    },\n",
       "    \n",
       "    function(Bokeh) {\n",
       "      \n",
       "    },\n",
       "    function(Bokeh) {} // ensure no trailing comma for IE\n",
       "  ];\n",
       "\n",
       "  function run_inline_js() {\n",
       "    \n",
       "    if ((root.Bokeh !== undefined) || (force === true)) {\n",
       "      for (var i = 0; i < inline_js.length; i++) {\n",
       "        inline_js[i].call(root, root.Bokeh);\n",
       "      }if (force === true) {\n",
       "        display_loaded();\n",
       "      }} else if (Date.now() < root._bokeh_timeout) {\n",
       "      setTimeout(run_inline_js, 100);\n",
       "    } else if (!root._bokeh_failed_load) {\n",
       "      console.log(\"Bokeh: BokehJS failed to load within specified timeout.\");\n",
       "      root._bokeh_failed_load = true;\n",
       "    } else if (force !== true) {\n",
       "      var cell = $(document.getElementById(\"1001\")).parents('.cell').data().cell;\n",
       "      cell.output_area.append_execute_result(NB_LOAD_WARNING)\n",
       "    }\n",
       "\n",
       "  }\n",
       "\n",
       "  if (root._bokeh_is_loading === 0) {\n",
       "    console.debug(\"Bokeh: BokehJS loaded, going straight to plotting\");\n",
       "    run_inline_js();\n",
       "  } else {\n",
       "    load_libs(css_urls, js_urls, function() {\n",
       "      console.debug(\"Bokeh: BokehJS plotting callback run at\", now());\n",
       "      run_inline_js();\n",
       "    });\n",
       "  }\n",
       "}(window));"
      ],
      "application/vnd.bokehjs_load.v0+json": "\n(function(root) {\n  function now() {\n    return new Date();\n  }\n\n  var force = true;\n\n  if (typeof root._bokeh_onload_callbacks === \"undefined\" || force === true) {\n    root._bokeh_onload_callbacks = [];\n    root._bokeh_is_loading = undefined;\n  }\n\n  \n\n  \n  if (typeof (root._bokeh_timeout) === \"undefined\" || force === true) {\n    root._bokeh_timeout = Date.now() + 5000;\n    root._bokeh_failed_load = false;\n  }\n\n  var NB_LOAD_WARNING = {'data': {'text/html':\n     \"<div style='background-color: #fdd'>\\n\"+\n     \"<p>\\n\"+\n     \"BokehJS does not appear to have successfully loaded. If loading BokehJS from CDN, this \\n\"+\n     \"may be due to a slow or bad network connection. Possible fixes:\\n\"+\n     \"</p>\\n\"+\n     \"<ul>\\n\"+\n     \"<li>re-rerun `output_notebook()` to attempt to load from CDN again, or</li>\\n\"+\n     \"<li>use INLINE resources instead, as so:</li>\\n\"+\n     \"</ul>\\n\"+\n     \"<code>\\n\"+\n     \"from bokeh.resources import INLINE\\n\"+\n     \"output_notebook(resources=INLINE)\\n\"+\n     \"</code>\\n\"+\n     \"</div>\"}};\n\n  function display_loaded() {\n    var el = document.getElementById(\"1001\");\n    if (el != null) {\n      el.textContent = \"BokehJS is loading...\";\n    }\n    if (root.Bokeh !== undefined) {\n      if (el != null) {\n        el.textContent = \"BokehJS \" + root.Bokeh.version + \" successfully loaded.\";\n      }\n    } else if (Date.now() < root._bokeh_timeout) {\n      setTimeout(display_loaded, 100)\n    }\n  }\n\n\n  function run_callbacks() {\n    try {\n      root._bokeh_onload_callbacks.forEach(function(callback) {\n        if (callback != null)\n          callback();\n      });\n    } finally {\n      delete root._bokeh_onload_callbacks\n    }\n    console.debug(\"Bokeh: all callbacks have finished\");\n  }\n\n  function load_libs(css_urls, js_urls, callback) {\n    if (css_urls == null) css_urls = [];\n    if (js_urls == null) js_urls = [];\n\n    root._bokeh_onload_callbacks.push(callback);\n    if (root._bokeh_is_loading > 0) {\n      console.debug(\"Bokeh: BokehJS is being loaded, scheduling callback at\", now());\n      return null;\n    }\n    if (js_urls == null || js_urls.length === 0) {\n      run_callbacks();\n      return null;\n    }\n    console.debug(\"Bokeh: BokehJS not loaded, scheduling load and callback at\", now());\n    root._bokeh_is_loading = css_urls.length + js_urls.length;\n\n    function on_load() {\n      root._bokeh_is_loading--;\n      if (root._bokeh_is_loading === 0) {\n        console.debug(\"Bokeh: all BokehJS libraries/stylesheets loaded\");\n        run_callbacks()\n      }\n    }\n\n    function on_error() {\n      console.error(\"failed to load \" + url);\n    }\n\n    for (var i = 0; i < css_urls.length; i++) {\n      var url = css_urls[i];\n      const element = document.createElement(\"link\");\n      element.onload = on_load;\n      element.onerror = on_error;\n      element.rel = \"stylesheet\";\n      element.type = \"text/css\";\n      element.href = url;\n      console.debug(\"Bokeh: injecting link tag for BokehJS stylesheet: \", url);\n      document.body.appendChild(element);\n    }\n\n    for (var i = 0; i < js_urls.length; i++) {\n      var url = js_urls[i];\n      var element = document.createElement('script');\n      element.onload = on_load;\n      element.onerror = on_error;\n      element.async = false;\n      element.src = url;\n      console.debug(\"Bokeh: injecting script tag for BokehJS library: \", url);\n      document.head.appendChild(element);\n    }\n  };var element = document.getElementById(\"1001\");\n  if (element == null) {\n    console.error(\"Bokeh: ERROR: autoload.js configured with elementid '1001' but no matching script tag was found. \")\n    return false;\n  }\n\n  function inject_raw_css(css) {\n    const element = document.createElement(\"style\");\n    element.appendChild(document.createTextNode(css));\n    document.body.appendChild(element);\n  }\n\n  var js_urls = [\"https://cdn.pydata.org/bokeh/release/bokeh-1.3.4.min.js\", \"https://cdn.pydata.org/bokeh/release/bokeh-widgets-1.3.4.min.js\", \"https://cdn.pydata.org/bokeh/release/bokeh-tables-1.3.4.min.js\", \"https://cdn.pydata.org/bokeh/release/bokeh-gl-1.3.4.min.js\"];\n  var css_urls = [];\n\n  var inline_js = [\n    function(Bokeh) {\n      Bokeh.set_log_level(\"info\");\n    },\n    \n    function(Bokeh) {\n      \n    },\n    function(Bokeh) {} // ensure no trailing comma for IE\n  ];\n\n  function run_inline_js() {\n    \n    if ((root.Bokeh !== undefined) || (force === true)) {\n      for (var i = 0; i < inline_js.length; i++) {\n        inline_js[i].call(root, root.Bokeh);\n      }if (force === true) {\n        display_loaded();\n      }} else if (Date.now() < root._bokeh_timeout) {\n      setTimeout(run_inline_js, 100);\n    } else if (!root._bokeh_failed_load) {\n      console.log(\"Bokeh: BokehJS failed to load within specified timeout.\");\n      root._bokeh_failed_load = true;\n    } else if (force !== true) {\n      var cell = $(document.getElementById(\"1001\")).parents('.cell').data().cell;\n      cell.output_area.append_execute_result(NB_LOAD_WARNING)\n    }\n\n  }\n\n  if (root._bokeh_is_loading === 0) {\n    console.debug(\"Bokeh: BokehJS loaded, going straight to plotting\");\n    run_inline_js();\n  } else {\n    load_libs(css_urls, js_urls, function() {\n      console.debug(\"Bokeh: BokehJS plotting callback run at\", now());\n      run_inline_js();\n    });\n  }\n}(window));"
     },
     "metadata": {},
     "output_type": "display_data"
    }
   ],
   "source": [
    "import pandas as pd\n",
    "import numpy as np\n",
    "import matplotlib.pyplot as plt\n",
    "from scipy import stats\n",
    "from datetime import datetime\n",
    "from bokeh.layouts import gridplot\n",
    "from math import radians\n",
    "from bokeh.models.tickers import FixedTicker, DatetimeTicker, SingleIntervalTicker\n",
    "from bokeh.models.formatters import DatetimeTickFormatter\n",
    "from bokeh.models import ColumnDataSource, Range1d, DatetimeAxis\n",
    "from bokeh.palettes import mpl\n",
    "from bokeh.io import export_png\n",
    "from bokeh.models import Band, ColumnDataSource, Whisker\n",
    "from bokeh.plotting import figure, show, output_notebook, output_file\n",
    "\n",
    "output_notebook()\n",
    "\n",
    "\n",
    "#test_results = pd.read_csv(os.path.join(output_dir + \"test/\", \"benchmark.csv\"))\n",
    "#test_results.set_index(test_results['week'], inplace=True)\n",
    "#test_results.index.name = \"week\"\n",
    "#train_results = pd.read_csv(os.path.join(output_dir + \"train/\", \"benchmark.csv\"))\n",
    "#train_results.set_index(train_results['week'], inplace=True)\n",
    "#train_results.index.name = \"week\"\n",
    "\n",
    "colors = mpl['Plasma'][5]\n",
    "def compare(df, metric, ylabel, showx=True, legnd=True, compare=True, scale=1):\n",
    "    grouped = df.groupby([df.index, df.policy]).aggregate([np.mean, np.std]).unstack()[metric].sort_index()\n",
    "    grouped /= scale\n",
    "    #x = np.array(grouped.index, dtype=np.datetime64)\n",
    "    x = list(range(0, len(grouped.index)))\n",
    "    fig = figure(toolbar_location=\"below\", tools='', x_range=(x[0], x[-1] + 0.5), width=900, height=250, x_axis_label='week', y_axis_label=ylabel)\n",
    "    std = grouped['std']['DeepShutdown']\n",
    "    fig.line(x, grouped['mean']['DeepShutdown'], legend='DeepShutdown', line_color=colors[0], line_width=1)\n",
    "    fig.square(x, grouped['mean']['DeepShutdown'], legend='DeepShutdown', line_color=colors[0], fill_color=colors[0], line_width=2)\n",
    "    if compare:\n",
    "        fig.line(x, grouped['mean']['Timeout (1)'], legend='Timeout (1)', line_color=colors[3], line_width=1)\n",
    "        fig.diamond(x, grouped['mean']['Timeout (1)'], legend='Timeout (1)', line_color=colors[3], fill_color=colors[3], line_width=2)\n",
    "        fig.line(x, grouped['mean']['Timeout (10)'], legend='Timeout (10)', line_color=colors[1], line_width=1)\n",
    "        fig.circle(x, grouped['mean']['Timeout (10)'], legend='Timeout (10)', line_color=colors[1], fill_color=colors[1], line_width=2)\n",
    "        #fig.line(x, grouped['mean']['Timeout (10)'], legend='Timeout (10)', line_color=colors[2], line_width=1)\n",
    "        #fig.triangle(x, grouped['mean']['Timeout (10)'], legend='Timeout (10)', line_color=colors[2], fill_color=colors[2], line_width=2)\n",
    "         \n",
    "    errors = ColumnDataSource({\n",
    "        'upper':grouped['mean']['DeepShutdown'] + std, \n",
    "        'lower': grouped['mean']['DeepShutdown'] - std, \n",
    "        'base':x})\n",
    "    fig.add_layout(Whisker(source=errors, base='base', upper='upper', lower='lower'))\n",
    "    #band = Band(base='base', lower='lower', upper='upper', source=errors, level='underlay', fill_alpha=0.05, line_width=1, line_color=colors[0], fill_color=colors[0])\n",
    "    #fig.add_layout(band)\n",
    "    \n",
    "    fig.grid.grid_line_alpha = 0\n",
    "    fig.xaxis.ticker = SingleIntervalTicker(interval=1)\n",
    "    fig.legend.orientation = \"horizontal\"\n",
    "    fig.legend.location = \"top_center\"\n",
    "    fig.xaxis.minor_tick_line_color = None  # turn off x-axis minor ticks\n",
    "    fig.yaxis.minor_tick_line_color = None  # turn off y-axis minor ticks\n",
    "    fig.xaxis.visible = showx\n",
    "    fig.legend.visible = legnd\n",
    "    return fig\n"
   ]
  },
  {
   "cell_type": "markdown",
   "metadata": {},
   "source": [
    "#### Plot Learning"
   ]
  },
  {
   "cell_type": "code",
   "execution_count": 4,
   "metadata": {},
   "outputs": [
    {
     "data": {
      "text/plain": [
       "<matplotlib.legend.Legend at 0x7f63e07fc6d8>"
      ]
     },
     "execution_count": 4,
     "metadata": {},
     "output_type": "execute_result"
    },
    {
     "data": {
      "image/png": "[encoded data removed]",
      "text/plain": [
       "<Figure size 1152x288 with 1 Axes>"
      ]
     },
     "metadata": {},
     "output_type": "display_data"
    }
   ],
   "source": [
    "import seaborn as sns\n",
    "import pandas as pd\n",
    "sns.set()\n",
    "f, ax = plt.subplots(figsize=(16,4)) \n",
    "log = pd.read_csv(train_log)\n",
    "log = pd.melt(log, id_vars='nupdates', value_vars=['eprew_avg', 'eprew_avg_max'], var_name='Metric')\n",
    "sns.lineplot(x='nupdates', y='value', hue='Metric', style='Metric', data=log, ax=ax, legend=False)\n",
    "ax.set(ylabel='Score', xlabel='Nb. updates')\n",
    "ax.legend(labels=['Avg. Score', 'Avg. Score (max)'], title='Metric')"
   ]
  },
  {
   "cell_type": "markdown",
   "metadata": {},
   "source": [
    "#### Plot Train Results"
   ]
  },
  {
   "cell_type": "code",
   "execution_count": 5,
   "metadata": {},
   "outputs": [
    {
     "ename": "NameError",
     "evalue": "name 'compare' is not defined",
     "output_type": "error",
     "traceback": [
      "\u001b[0;31m---------------------------------------------------------------------------\u001b[0m",
      "\u001b[0;31mNameError\u001b[0m                                 Traceback (most recent call last)",
      "\u001b[0;32m<ipython-input-5-baff77b36329>\u001b[0m in \u001b[0;36m<module>\u001b[0;34m\u001b[0m\n\u001b[0;32m----> 1\u001b[0;31m \u001b[0mp4\u001b[0m\u001b[0;34m=\u001b[0m \u001b[0mcompare\u001b[0m\u001b[0;34m(\u001b[0m\u001b[0mtrain_results\u001b[0m\u001b[0;34m,\u001b[0m\u001b[0;34m'mean_stretch'\u001b[0m\u001b[0;34m,\u001b[0m \u001b[0;34m'Average stretch (min)'\u001b[0m\u001b[0;34m,\u001b[0m \u001b[0mlegnd\u001b[0m\u001b[0;34m=\u001b[0m\u001b[0;32mFalse\u001b[0m\u001b[0;34m)\u001b[0m\u001b[0;34m\u001b[0m\u001b[0;34m\u001b[0m\u001b[0m\n\u001b[0m\u001b[1;32m      2\u001b[0m \u001b[0mp3\u001b[0m \u001b[0;34m=\u001b[0m \u001b[0mcompare\u001b[0m\u001b[0;34m(\u001b[0m\u001b[0mtrain_results\u001b[0m\u001b[0;34m,\u001b[0m\u001b[0;34m'score'\u001b[0m\u001b[0;34m,\u001b[0m \u001b[0;34m'Score'\u001b[0m\u001b[0;34m,\u001b[0m \u001b[0mlegnd\u001b[0m\u001b[0;34m=\u001b[0m\u001b[0;32mFalse\u001b[0m\u001b[0;34m,\u001b[0m \u001b[0mshowx\u001b[0m\u001b[0;34m=\u001b[0m\u001b[0;32mFalse\u001b[0m\u001b[0;34m)\u001b[0m\u001b[0;34m\u001b[0m\u001b[0;34m\u001b[0m\u001b[0m\n\u001b[1;32m      3\u001b[0m \u001b[0mp2\u001b[0m \u001b[0;34m=\u001b[0m \u001b[0mcompare\u001b[0m\u001b[0;34m(\u001b[0m\u001b[0mtrain_results\u001b[0m\u001b[0;34m,\u001b[0m\u001b[0;34m'energy_waste'\u001b[0m\u001b[0;34m,\u001b[0m \u001b[0;34m'Energy wasted (J x Million)'\u001b[0m\u001b[0;34m,\u001b[0m \u001b[0mlegnd\u001b[0m\u001b[0;34m=\u001b[0m\u001b[0;32mFalse\u001b[0m\u001b[0;34m,\u001b[0m \u001b[0mshowx\u001b[0m\u001b[0;34m=\u001b[0m\u001b[0;32mFalse\u001b[0m\u001b[0;34m,\u001b[0m \u001b[0mscale\u001b[0m\u001b[0;34m=\u001b[0m\u001b[0;36m1000000\u001b[0m\u001b[0;34m)\u001b[0m\u001b[0;34m\u001b[0m\u001b[0;34m\u001b[0m\u001b[0m\n\u001b[1;32m      4\u001b[0m \u001b[0mp1\u001b[0m \u001b[0;34m=\u001b[0m \u001b[0mcompare\u001b[0m\u001b[0;34m(\u001b[0m\u001b[0mtrain_results\u001b[0m\u001b[0;34m,\u001b[0m\u001b[0;34m'nb_switches'\u001b[0m\u001b[0;34m,\u001b[0m \u001b[0;34m'Nb. of state switches'\u001b[0m\u001b[0;34m,\u001b[0m \u001b[0mshowx\u001b[0m\u001b[0;34m=\u001b[0m\u001b[0;32mFalse\u001b[0m\u001b[0;34m)\u001b[0m\u001b[0;34m\u001b[0m\u001b[0;34m\u001b[0m\u001b[0m\n\u001b[1;32m      5\u001b[0m \u001b[0mfig\u001b[0m \u001b[0;34m=\u001b[0m \u001b[0mgridplot\u001b[0m\u001b[0;34m(\u001b[0m\u001b[0;34m[\u001b[0m\u001b[0;34m[\u001b[0m\u001b[0mp1\u001b[0m\u001b[0;34m]\u001b[0m\u001b[0;34m,\u001b[0m \u001b[0;34m[\u001b[0m\u001b[0mp2\u001b[0m\u001b[0;34m]\u001b[0m\u001b[0;34m,\u001b[0m \u001b[0;34m[\u001b[0m\u001b[0mp3\u001b[0m\u001b[0;34m]\u001b[0m\u001b[0;34m,\u001b[0m \u001b[0;34m[\u001b[0m\u001b[0mp4\u001b[0m\u001b[0;34m]\u001b[0m\u001b[0;34m]\u001b[0m\u001b[0;34m)\u001b[0m\u001b[0;34m\u001b[0m\u001b[0;34m\u001b[0m\u001b[0m\n",
      "\u001b[0;31mNameError\u001b[0m: name 'compare' is not defined"
     ]
    }
   ],
   "source": [
    "p4= compare(train_results,'mean_stretch', 'Average stretch (min)', legnd=False)\n",
    "p3 = compare(train_results,'score', 'Score', legnd=False, showx=False)\n",
    "p2 = compare(train_results,'energy_waste', 'Energy wasted (J x Million)', legnd=False, showx=False, scale=1000000)\n",
    "p1 = compare(train_results,'nb_switches', 'Nb. of state switches', showx=False)\n",
    "fig = gridplot([[p1], [p2], [p3], [p4]])\n",
    "export_png(fig, os.path.join(output_dir, 'train_results.png'))\n",
    "show(fig)"
   ]
  },
  {
   "cell_type": "code",
   "execution_count": 10,
   "metadata": {},
   "outputs": [
    {
     "data": {
      "text/html": [
       "<div>\n",
       "<style scoped>\n",
       "    .dataframe tbody tr th:only-of-type {\n",
       "        vertical-align: middle;\n",
       "    }\n",
       "\n",
       "    .dataframe tbody tr th {\n",
       "        vertical-align: top;\n",
       "    }\n",
       "\n",
       "    .dataframe thead th {\n",
       "        text-align: right;\n",
       "    }\n",
       "</style>\n",
       "<table border=\"1\" class=\"dataframe\">\n",
       "  <thead>\n",
       "    <tr style=\"text-align: right;\">\n",
       "      <th></th>\n",
       "      <th>policy</th>\n",
       "      <th>score</th>\n",
       "      <th>mean_stretch</th>\n",
       "      <th>nb_switches</th>\n",
       "      <th>energy_waste</th>\n",
       "      <th>score_perc</th>\n",
       "      <th>mean_stretch_perc</th>\n",
       "      <th>nb_switches_perc</th>\n",
       "      <th>energy_waste_perc</th>\n",
       "    </tr>\n",
       "  </thead>\n",
       "  <tbody>\n",
       "    <tr>\n",
       "      <th>0</th>\n",
       "      <td>DeepShutdown</td>\n",
       "      <td>-5.431429</td>\n",
       "      <td>0.241487</td>\n",
       "      <td>43.0</td>\n",
       "      <td>9505.0</td>\n",
       "      <td>0.298168</td>\n",
       "      <td>1.000000</td>\n",
       "      <td>0.728814</td>\n",
       "      <td>0.298168</td>\n",
       "    </tr>\n",
       "    <tr>\n",
       "      <th>1</th>\n",
       "      <td>OR (0.5)</td>\n",
       "      <td>-2.958857</td>\n",
       "      <td>0.080108</td>\n",
       "      <td>25.0</td>\n",
       "      <td>5178.0</td>\n",
       "      <td>0.162432</td>\n",
       "      <td>0.331725</td>\n",
       "      <td>0.423729</td>\n",
       "      <td>0.162432</td>\n",
       "    </tr>\n",
       "    <tr>\n",
       "      <th>2</th>\n",
       "      <td>Timeout (1)</td>\n",
       "      <td>-8.853714</td>\n",
       "      <td>0.002509</td>\n",
       "      <td>59.0</td>\n",
       "      <td>15494.0</td>\n",
       "      <td>0.486041</td>\n",
       "      <td>0.010390</td>\n",
       "      <td>1.000000</td>\n",
       "      <td>0.486041</td>\n",
       "    </tr>\n",
       "    <tr>\n",
       "      <th>3</th>\n",
       "      <td>Timeout (10)</td>\n",
       "      <td>-18.216000</td>\n",
       "      <td>0.001971</td>\n",
       "      <td>45.0</td>\n",
       "      <td>31878.0</td>\n",
       "      <td>1.000000</td>\n",
       "      <td>0.008163</td>\n",
       "      <td>0.762712</td>\n",
       "      <td>1.000000</td>\n",
       "    </tr>\n",
       "    <tr>\n",
       "      <th>4</th>\n",
       "      <td>Timeout (5)</td>\n",
       "      <td>-12.706286</td>\n",
       "      <td>0.002151</td>\n",
       "      <td>47.0</td>\n",
       "      <td>22236.0</td>\n",
       "      <td>0.697534</td>\n",
       "      <td>0.008905</td>\n",
       "      <td>0.796610</td>\n",
       "      <td>0.697534</td>\n",
       "    </tr>\n",
       "  </tbody>\n",
       "</table>\n",
       "</div>"
      ],
      "text/plain": [
       "         policy      score  mean_stretch  nb_switches  energy_waste  \\\n",
       "0  DeepShutdown  -5.431429      0.241487         43.0        9505.0   \n",
       "1      OR (0.5)  -2.958857      0.080108         25.0        5178.0   \n",
       "2   Timeout (1)  -8.853714      0.002509         59.0       15494.0   \n",
       "3  Timeout (10) -18.216000      0.001971         45.0       31878.0   \n",
       "4   Timeout (5) -12.706286      0.002151         47.0       22236.0   \n",
       "\n",
       "   score_perc  mean_stretch_perc  nb_switches_perc  energy_waste_perc  \n",
       "0    0.298168           1.000000          0.728814           0.298168  \n",
       "1    0.162432           0.331725          0.423729           0.162432  \n",
       "2    0.486041           0.010390          1.000000           0.486041  \n",
       "3    1.000000           0.008163          0.762712           1.000000  \n",
       "4    0.697534           0.008905          0.796610           0.697534  "
      ]
     },
     "execution_count": 10,
     "metadata": {},
     "output_type": "execute_result"
    }
   ],
   "source": [
    "x = train_results.groupby(['policy'], as_index=False).mean()\n",
    "x = x[['policy', 'score', 'mean_stretch', 'nb_switches', 'energy_waste']]\n",
    "x['score_perc'] = x['score'] / x['score'].min()\n",
    "x['mean_stretch_perc'] = x['mean_stretch'] / x['mean_stretch'].max()\n",
    "x['nb_switches_perc'] = x['nb_switches'] / x['nb_switches'].max()\n",
    "x['energy_waste_perc'] = x['energy_waste'] / x['energy_waste'].max()\n",
    "x"
   ]
  },
  {
   "cell_type": "markdown",
   "metadata": {},
   "source": [
    "#### Plot Test Results"
   ]
  },
  {
   "cell_type": "code",
   "execution_count": 10,
   "metadata": {},
   "outputs": [
    {
     "data": {
      "text/html": [
       "\n",
       "\n",
       "\n",
       "\n",
       "\n",
       "\n",
       "  <div class=\"bk-root\" id=\"22156f32-0375-463e-bbf9-2bed56c9778d\" data-root-id=\"3614\"></div>\n"
      ]
     },
     "metadata": {},
     "output_type": "display_data"
    },
    {
     "data": {
      "application/javascript": [
       "(function(root) {\n",
       "  function embed_document(root) {\n",
       "    \n",
       "  var docs_json = {\"4d7e049a-e242-46bf-b119-639938c5820b\":{\"roots\":{\"references\":[{\"attributes\":{\"children\":[{\"id\":\"3613\",\"type\":\"ToolbarBox\"},{\"id\":\"3611\",\"type\":\"GridBox\"}]},\"id\":\"3614\",\"type\":\"Column\"},{\"attributes\":{\"source\":{\"id\":\"3194\",\"type\":\"ColumnDataSource\"}},\"id\":\"3198\",\"type\":\"CDSView\"},{\"attributes\":{\"label\":{\"value\":\"Timeout (1)\"},\"renderers\":[{\"id\":\"3072\",\"type\":\"GlyphRenderer\"},{\"id\":\"3088\",\"type\":\"GlyphRenderer\"}]},\"id\":\"3084\",\"type\":\"LegendItem\"},{\"attributes\":{},\"id\":\"3267\",\"type\":\"Selection\"},{\"attributes\":{\"data_source\":{\"id\":\"3247\",\"type\":\"ColumnDataSource\"},\"glyph\":{\"id\":\"3248\",\"type\":\"Circle\"},\"hover_glyph\":null,\"muted_glyph\":null,\"nonselection_glyph\":{\"id\":\"3249\",\"type\":\"Circle\"},\"selection_glyph\":null,\"view\":{\"id\":\"3251\",\"type\":\"CDSView\"}},\"id\":\"3250\",\"type\":\"GlyphRenderer\"},{\"attributes\":{},\"id\":\"3370\",\"type\":\"Selection\"},{\"attributes\":{\"line_alpha\":0.1,\"line_color\":\"#1f77b4\",\"x\":{\"field\":\"x\"},\"y\":{\"field\":\"y\"}},\"id\":\"3295\",\"type\":\"Line\"},{\"attributes\":{},\"id\":\"3082\",\"type\":\"UnionRenderers\"},{\"attributes\":{\"below\":[{\"id\":\"3282\",\"type\":\"LinearAxis\"}],\"center\":[{\"id\":\"3286\",\"type\":\"Grid\"},{\"id\":\"3291\",\"type\":\"Grid\"},{\"id\":\"3304\",\"type\":\"Legend\"},{\"id\":\"3394\",\"type\":\"Whisker\"}],\"left\":[{\"id\":\"3287\",\"type\":\"LinearAxis\"}],\"plot_height\":250,\"plot_width\":900,\"renderers\":[{\"id\":\"3296\",\"type\":\"GlyphRenderer\"},{\"id\":\"3309\",\"type\":\"GlyphRenderer\"},{\"id\":\"3322\",\"type\":\"GlyphRenderer\"},{\"id\":\"3338\",\"type\":\"GlyphRenderer\"},{\"id\":\"3355\",\"type\":\"GlyphRenderer\"},{\"id\":\"3375\",\"type\":\"GlyphRenderer\"}],\"title\":{\"id\":\"3298\",\"type\":\"Title\"},\"toolbar\":{\"id\":\"3292\",\"type\":\"Toolbar\"},\"toolbar_location\":null,\"x_range\":{\"id\":\"3274\",\"type\":\"Range1d\"},\"x_scale\":{\"id\":\"3278\",\"type\":\"LinearScale\"},\"y_range\":{\"id\":\"3276\",\"type\":\"DataRange1d\"},\"y_scale\":{\"id\":\"3280\",\"type\":\"LinearScale\"}},\"id\":\"3273\",\"subtype\":\"Figure\",\"type\":\"Plot\"},{\"attributes\":{\"base\":{\"field\":\"base\",\"units\":\"data\"},\"lower\":{\"field\":\"lower\",\"units\":\"data\"},\"lower_head\":{\"id\":\"3573\",\"type\":\"TeeHead\"},\"source\":{\"id\":\"3268\",\"type\":\"ColumnDataSource\"},\"upper\":{\"field\":\"upper\",\"units\":\"data\"},\"upper_head\":{\"id\":\"3572\",\"type\":\"TeeHead\"}},\"id\":\"3269\",\"type\":\"Whisker\"},{\"attributes\":{\"source\":{\"id\":\"3069\",\"type\":\"ColumnDataSource\"}},\"id\":\"3073\",\"type\":\"CDSView\"},{\"attributes\":{\"line_color\":\"#0C0786\",\"x\":{\"field\":\"x\"},\"y\":{\"field\":\"y\"}},\"id\":\"3044\",\"type\":\"Line\"},{\"attributes\":{\"data_source\":{\"id\":\"3227\",\"type\":\"ColumnDataSource\"},\"glyph\":{\"id\":\"3228\",\"type\":\"Line\"},\"hover_glyph\":null,\"muted_glyph\":null,\"nonselection_glyph\":{\"id\":\"3229\",\"type\":\"Line\"},\"selection_glyph\":null,\"view\":{\"id\":\"3231\",\"type\":\"CDSView\"}},\"id\":\"3230\",\"type\":\"GlyphRenderer\"},{\"attributes\":{\"data_source\":{\"id\":\"3069\",\"type\":\"ColumnDataSource\"},\"glyph\":{\"id\":\"3070\",\"type\":\"Line\"},\"hover_glyph\":null,\"muted_glyph\":null,\"nonselection_glyph\":{\"id\":\"3071\",\"type\":\"Line\"},\"selection_glyph\":null,\"view\":{\"id\":\"3073\",\"type\":\"CDSView\"}},\"id\":\"3072\",\"type\":\"GlyphRenderer\"},{\"attributes\":{},\"id\":\"3030\",\"type\":\"LinearScale\"},{\"attributes\":{\"line_color\":\"#F79341\",\"x\":{\"field\":\"x\"},\"y\":{\"field\":\"y\"}},\"id\":\"3320\",\"type\":\"Line\"},{\"attributes\":{\"line_alpha\":0.1,\"line_color\":\"#1f77b4\",\"x\":{\"field\":\"x\"},\"y\":{\"field\":\"y\"}},\"id\":\"3071\",\"type\":\"Line\"},{\"attributes\":{},\"id\":\"3028\",\"type\":\"LinearScale\"},{\"attributes\":{\"line_color\":\"#0C0786\",\"x\":{\"field\":\"x\"},\"y\":{\"field\":\"y\"}},\"id\":\"3294\",\"type\":\"Line\"},{\"attributes\":{\"callback\":null,\"data\":{\"base\":[0,1,2,3,4,5,6,7,8,9,10,11,12,13],\"lower\":{\"__ndarray__\":\"82gfi4kA5L838bk/PjIQwCRJVv40bxTABumWp+vDAcDGSWZRZ3Drvxd5EmRR/R3AssQ/5eHG4L8PuoKpvCcEwNjnaMHpKw7AQDvoD4bqJMC8TkoxS6sjwCmZKdwUUjTAIUfunSKIFcCSX8j2OiYwwA==\",\"dtype\":\"float64\",\"shape\":[14]},\"upper\":{\"__ndarray__\":\"xr2SNcPx3r/rX16DkkIPwGDwzIGdlg/Aho/AOrtnAMBtb0FZNV/fv+XK54mawxvARKD/4j1y3r/llqJqr0UCwDiFA1oB3APAjHIoRt0OJMAi+wrzJMohwEeo5wm9RjLAk2UNKiDMEsBBMywdaYUswA==\",\"dtype\":\"float64\",\"shape\":[14]}},\"selected\":{\"id\":\"3587\",\"type\":\"Selection\"},\"selection_policy\":{\"id\":\"3586\",\"type\":\"UnionRenderers\"}},\"id\":\"3268\",\"type\":\"ColumnDataSource\"},{\"attributes\":{},\"id\":\"3280\",\"type\":\"LinearScale\"},{\"attributes\":{\"below\":[{\"id\":\"3032\",\"type\":\"LinearAxis\"}],\"center\":[{\"id\":\"3036\",\"type\":\"Grid\"},{\"id\":\"3041\",\"type\":\"Grid\"},{\"id\":\"3054\",\"type\":\"Legend\"},{\"id\":\"3144\",\"type\":\"Whisker\"}],\"left\":[{\"id\":\"3037\",\"type\":\"LinearAxis\"}],\"plot_height\":250,\"plot_width\":900,\"renderers\":[{\"id\":\"3046\",\"type\":\"GlyphRenderer\"},{\"id\":\"3059\",\"type\":\"GlyphRenderer\"},{\"id\":\"3072\",\"type\":\"GlyphRenderer\"},{\"id\":\"3088\",\"type\":\"GlyphRenderer\"},{\"id\":\"3105\",\"type\":\"GlyphRenderer\"},{\"id\":\"3125\",\"type\":\"GlyphRenderer\"}],\"title\":{\"id\":\"3048\",\"type\":\"Title\"},\"toolbar\":{\"id\":\"3042\",\"type\":\"Toolbar\"},\"toolbar_location\":null,\"x_range\":{\"id\":\"3024\",\"type\":\"Range1d\"},\"x_scale\":{\"id\":\"3028\",\"type\":\"LinearScale\"},\"y_range\":{\"id\":\"3026\",\"type\":\"DataRange1d\"},\"y_scale\":{\"id\":\"3030\",\"type\":\"LinearScale\"}},\"id\":\"3023\",\"subtype\":\"Figure\",\"type\":\"Plot\"},{\"attributes\":{\"callback\":null,\"data\":{\"x\":[0,1,2,3,4,5,6,7,8,9,10,11,12,13],\"y\":{\"__ndarray__\":\"mpmZmZmZqT97FK5H4XrEP4iW17ixC6I/TJCnBHlKsD8zMzMzMzOjPwAAAAAAALI/GGzBFmzBRj8RERERERGhP1lGVYeJNqE/B5nKkKkMiT8aSaaTyvJdP1qBx40gXoU/GBcXFxcXhz8MV1ZFoJOMPw==\",\"dtype\":\"float64\",\"shape\":[14]}},\"selected\":{\"id\":\"3101\",\"type\":\"Selection\"},\"selection_policy\":{\"id\":\"3100\",\"type\":\"UnionRenderers\"}},\"id\":\"3069\",\"type\":\"ColumnDataSource\"},{\"attributes\":{\"source\":{\"id\":\"3247\",\"type\":\"ColumnDataSource\"}},\"id\":\"3251\",\"type\":\"CDSView\"},{\"attributes\":{\"axis_label\":\"week\",\"formatter\":{\"id\":\"3300\",\"type\":\"BasicTickFormatter\"},\"minor_tick_line_color\":{\"value\":null},\"ticker\":{\"id\":\"3396\",\"type\":\"SingleIntervalTicker\"},\"visible\":false},\"id\":\"3282\",\"type\":\"LinearAxis\"},{\"attributes\":{\"line_color\":\"#F79341\",\"x\":{\"field\":\"x\"},\"y\":{\"field\":\"y\"}},\"id\":\"3070\",\"type\":\"Line\"},{\"attributes\":{\"fill_color\":{\"value\":\"#7C02A7\"},\"line_color\":{\"value\":\"#7C02A7\"},\"line_width\":{\"value\":2},\"x\":{\"field\":\"x\"},\"y\":{\"field\":\"y\"}},\"id\":\"3248\",\"type\":\"Circle\"},{\"attributes\":{},\"id\":\"3083\",\"type\":\"Selection\"},{\"attributes\":{\"interval\":1},\"id\":\"3146\",\"type\":\"SingleIntervalTicker\"},{\"attributes\":{\"line_color\":\"#7C02A7\",\"x\":{\"field\":\"x\"},\"y\":{\"field\":\"y\"}},\"id\":\"3103\",\"type\":\"Line\"},{\"attributes\":{\"grid_line_alpha\":0,\"ticker\":{\"id\":\"3283\",\"type\":\"BasicTicker\"}},\"id\":\"3286\",\"type\":\"Grid\"},{\"attributes\":{\"below\":[{\"id\":\"3157\",\"type\":\"LinearAxis\"}],\"center\":[{\"id\":\"3161\",\"type\":\"Grid\"},{\"id\":\"3166\",\"type\":\"Grid\"},{\"id\":\"3179\",\"type\":\"Legend\"},{\"id\":\"3269\",\"type\":\"Whisker\"}],\"left\":[{\"id\":\"3162\",\"type\":\"LinearAxis\"}],\"plot_height\":250,\"plot_width\":900,\"renderers\":[{\"id\":\"3171\",\"type\":\"GlyphRenderer\"},{\"id\":\"3184\",\"type\":\"GlyphRenderer\"},{\"id\":\"3197\",\"type\":\"GlyphRenderer\"},{\"id\":\"3213\",\"type\":\"GlyphRenderer\"},{\"id\":\"3230\",\"type\":\"GlyphRenderer\"},{\"id\":\"3250\",\"type\":\"GlyphRenderer\"}],\"title\":{\"id\":\"3173\",\"type\":\"Title\"},\"toolbar\":{\"id\":\"3167\",\"type\":\"Toolbar\"},\"toolbar_location\":null,\"x_range\":{\"id\":\"3149\",\"type\":\"Range1d\"},\"x_scale\":{\"id\":\"3153\",\"type\":\"LinearScale\"},\"y_range\":{\"id\":\"3151\",\"type\":\"DataRange1d\"},\"y_scale\":{\"id\":\"3155\",\"type\":\"LinearScale\"}},\"id\":\"3148\",\"subtype\":\"Figure\",\"type\":\"Plot\"},{\"attributes\":{},\"id\":\"3278\",\"type\":\"LinearScale\"},{\"attributes\":{\"callback\":null},\"id\":\"3026\",\"type\":\"DataRange1d\"},{\"attributes\":{\"base\":{\"field\":\"base\",\"units\":\"data\"},\"lower\":{\"field\":\"lower\",\"units\":\"data\"},\"lower_head\":{\"id\":\"3595\",\"type\":\"TeeHead\"},\"source\":{\"id\":\"3143\",\"type\":\"ColumnDataSource\"},\"upper\":{\"field\":\"upper\",\"units\":\"data\"},\"upper_head\":{\"id\":\"3594\",\"type\":\"TeeHead\"}},\"id\":\"3144\",\"type\":\"Whisker\"},{\"attributes\":{\"source\":{\"id\":\"3352\",\"type\":\"ColumnDataSource\"}},\"id\":\"3356\",\"type\":\"CDSView\"},{\"attributes\":{\"callback\":null,\"data\":{\"base\":[0,1,2,3,4,5,6,7,8,9,10,11,12,13],\"lower\":{\"__ndarray__\":\"dp4StnNrvj+amZmZmZnJP8TY57U6IdQ/Kt7Zlz95wT+aw5aHmhekP5KGBODh3c8/9Umf9EmfZD/OCuCIYEOePyagtY9I5tA/xC2eQHitkj9i08qMRBCoP4xuYKxQ+LU/rP92mbV4tz+4dDsHWL24Pw==\",\"dtype\":\"float64\",\"shape\":[14]},\"upper\":{\"__ndarray__\":\"RNOPwGpG0z+amZmZmZnJP2oyDRGk7dU/zEqC94J8xz+l2z6T1mSzPwl1HJX6YtE/9Umf9EmfZD8/Gvq18YSgP0w4Oap02tc/5vfjGar6kj8uiAQnyCCqP66fOmEG77k/EvKtvtVFuj8E+sDh4Ja7Pw==\",\"dtype\":\"float64\",\"shape\":[14]}},\"selected\":{\"id\":\"3609\",\"type\":\"Selection\"},\"selection_policy\":{\"id\":\"3608\",\"type\":\"UnionRenderers\"}},\"id\":\"3143\",\"type\":\"ColumnDataSource\"},{\"attributes\":{\"callback\":null,\"end\":13.5},\"id\":\"3274\",\"type\":\"Range1d\"},{\"attributes\":{\"callback\":null,\"data\":{\"x\":[0,1,2,3,4,5,6,7,8,9,10,11,12,13],\"y\":{\"__ndarray__\":\"mpmZmZmZqT97FK5H4XrEP4iW17ixC6I/TJCnBHlKsD8zMzMzMzOjPwAAAAAAALI/GGzBFmzBRj8RERERERGhP1lGVYeJNqE/B5nKkKkMiT8aSaaTyvJdP1qBx40gXoU/GBcXFxcXhz8MV1ZFoJOMPw==\",\"dtype\":\"float64\",\"shape\":[14]}},\"selected\":{\"id\":\"3120\",\"type\":\"Selection\"},\"selection_policy\":{\"id\":\"3119\",\"type\":\"UnionRenderers\"}},\"id\":\"3085\",\"type\":\"ColumnDataSource\"},{\"attributes\":{\"fill_color\":{\"value\":\"#F79341\"},\"line_color\":{\"value\":\"#F79341\"},\"line_width\":{\"value\":2},\"x\":{\"field\":\"x\"},\"y\":{\"field\":\"y\"}},\"id\":\"3086\",\"type\":\"Diamond\"},{\"attributes\":{\"interval\":1},\"id\":\"3271\",\"type\":\"SingleIntervalTicker\"},{\"attributes\":{},\"id\":\"3142\",\"type\":\"Selection\"},{\"attributes\":{\"callback\":null,\"end\":13.5},\"id\":\"3024\",\"type\":\"Range1d\"},{\"attributes\":{},\"id\":\"3288\",\"type\":\"BasicTicker\"},{\"attributes\":{},\"id\":\"3283\",\"type\":\"BasicTicker\"},{\"attributes\":{},\"id\":\"3141\",\"type\":\"UnionRenderers\"},{\"attributes\":{\"source\":{\"id\":\"3122\",\"type\":\"ColumnDataSource\"}},\"id\":\"3126\",\"type\":\"CDSView\"},{\"attributes\":{\"data_source\":{\"id\":\"3122\",\"type\":\"ColumnDataSource\"},\"glyph\":{\"id\":\"3123\",\"type\":\"Circle\"},\"hover_glyph\":null,\"muted_glyph\":null,\"nonselection_glyph\":{\"id\":\"3124\",\"type\":\"Circle\"},\"selection_glyph\":null,\"view\":{\"id\":\"3126\",\"type\":\"CDSView\"}},\"id\":\"3125\",\"type\":\"GlyphRenderer\"},{\"attributes\":{},\"id\":\"3318\",\"type\":\"Selection\"},{\"attributes\":{\"fill_alpha\":{\"value\":0.1},\"fill_color\":{\"value\":\"#1f77b4\"},\"line_alpha\":{\"value\":0.1},\"line_color\":{\"value\":\"#1f77b4\"},\"line_width\":{\"value\":2},\"x\":{\"field\":\"x\"},\"y\":{\"field\":\"y\"}},\"id\":\"3124\",\"type\":\"Circle\"},{\"attributes\":{},\"id\":\"3266\",\"type\":\"UnionRenderers\"},{\"attributes\":{\"axis_label\":\"Energy wasted (J x Million)\",\"formatter\":{\"id\":\"3302\",\"type\":\"BasicTickFormatter\"},\"minor_tick_line_color\":{\"value\":null},\"ticker\":{\"id\":\"3288\",\"type\":\"BasicTicker\"}},\"id\":\"3287\",\"type\":\"LinearAxis\"},{\"attributes\":{\"callback\":null,\"data\":{\"x\":[0,1,2,3,4,5,6,7,8,9,10,11,12,13],\"y\":{\"__ndarray__\":\"mpmZmZmZqT8zMzMzMzPDP4d9tuazHpk/mpmZmZmZqT8RERERERGhP8/MzMzMzKw/GGzBFmzBRj/SGDCNAdOIP5uZmZmZmZk/Y5dddtllhz/TdSIzlrVVPzh+KP2bXHg/EhISEhISYj+htRUitdOBPw==\",\"dtype\":\"float64\",\"shape\":[14]}},\"selected\":{\"id\":\"3607\",\"type\":\"Selection\"},\"selection_policy\":{\"id\":\"3606\",\"type\":\"UnionRenderers\"}},\"id\":\"3122\",\"type\":\"ColumnDataSource\"},{\"attributes\":{\"fill_color\":{\"value\":\"#7C02A7\"},\"line_color\":{\"value\":\"#7C02A7\"},\"line_width\":{\"value\":2},\"x\":{\"field\":\"x\"},\"y\":{\"field\":\"y\"}},\"id\":\"3123\",\"type\":\"Circle\"},{\"attributes\":{},\"id\":\"3458\",\"type\":\"Selection\"},{\"attributes\":{\"callback\":null},\"id\":\"3276\",\"type\":\"DataRange1d\"},{\"attributes\":{\"callback\":null,\"data\":{\"x\":[0,1,2,3,4,5,6,7,8,9,10,11,12,13],\"y\":{\"__ndarray__\":\"SYCaWrbWhz8L68a7I2O1P9iBc0aU9rY/vZmHAmz2pj+8c82J4vqMP+rdDsP9NsI/Gy/dJAaBhT9LBRVVv9KpP9rdqLrsfKQ/0AWadABpzD9UfmMZLCb7P2VvKeeLvfE/wsHexJCc0z89u3zrw3rvPw==\",\"dtype\":\"float64\",\"shape\":[14]}},\"selected\":{\"id\":\"3318\",\"type\":\"Selection\"},\"selection_policy\":{\"id\":\"3317\",\"type\":\"UnionRenderers\"}},\"id\":\"3293\",\"type\":\"ColumnDataSource\"},{\"attributes\":{\"label\":{\"value\":\"Timeout (10)\"},\"renderers\":[{\"id\":\"3105\",\"type\":\"GlyphRenderer\"},{\"id\":\"3125\",\"type\":\"GlyphRenderer\"}]},\"id\":\"3121\",\"type\":\"LegendItem\"},{\"attributes\":{\"callback\":null,\"data\":{\"x\":[0,1,2,3,4,5,6,7,8,9,10,11,12,13],\"y\":{\"__ndarray__\":\"4noUrkfhyj+amZmZmZnJP5eFemNvB9U/exSuR+F6xD9yPQrXo3CtPylcj8L1qNA/9Umf9EmfZD+mH2r6oaafPzls95xeYNQ/1RJBLRHUkj/IredZhhipPx2HzYar87c/33gSrEXfuD9eN350HCq6Pw==\",\"dtype\":\"float64\",\"shape\":[14]}},\"selected\":{\"id\":\"3068\",\"type\":\"Selection\"},\"selection_policy\":{\"id\":\"3067\",\"type\":\"UnionRenderers\"}},\"id\":\"3043\",\"type\":\"ColumnDataSource\"},{\"attributes\":{},\"id\":\"3120\",\"type\":\"Selection\"},{\"attributes\":{},\"id\":\"3541\",\"type\":\"Selection\"},{\"attributes\":{},\"id\":\"3119\",\"type\":\"UnionRenderers\"},{\"attributes\":{},\"id\":\"3100\",\"type\":\"UnionRenderers\"},{\"attributes\":{\"source\":{\"id\":\"3085\",\"type\":\"ColumnDataSource\"}},\"id\":\"3089\",\"type\":\"CDSView\"},{\"attributes\":{\"dimension\":1,\"grid_line_alpha\":0,\"ticker\":{\"id\":\"3288\",\"type\":\"BasicTicker\"}},\"id\":\"3291\",\"type\":\"Grid\"},{\"attributes\":{},\"id\":\"3609\",\"type\":\"Selection\"},{\"attributes\":{\"data_source\":{\"id\":\"3085\",\"type\":\"ColumnDataSource\"},\"glyph\":{\"id\":\"3086\",\"type\":\"Diamond\"},\"hover_glyph\":null,\"muted_glyph\":null,\"nonselection_glyph\":{\"id\":\"3087\",\"type\":\"Diamond\"},\"selection_glyph\":null,\"view\":{\"id\":\"3089\",\"type\":\"CDSView\"}},\"id\":\"3088\",\"type\":\"GlyphRenderer\"},{\"attributes\":{\"fill_alpha\":{\"value\":0.1},\"fill_color\":{\"value\":\"#1f77b4\"},\"line_alpha\":{\"value\":0.1},\"line_color\":{\"value\":\"#1f77b4\"},\"line_width\":{\"value\":2},\"x\":{\"field\":\"x\"},\"y\":{\"field\":\"y\"}},\"id\":\"3249\",\"type\":\"Circle\"},{\"attributes\":{},\"id\":\"3369\",\"type\":\"UnionRenderers\"},{\"attributes\":{\"active_drag\":\"auto\",\"active_inspect\":\"auto\",\"active_multi\":null,\"active_scroll\":\"auto\",\"active_tap\":\"auto\"},\"id\":\"3292\",\"type\":\"Toolbar\"},{\"attributes\":{\"fill_alpha\":{\"value\":0.1},\"fill_color\":{\"value\":\"#1f77b4\"},\"line_alpha\":{\"value\":0.1},\"line_color\":{\"value\":\"#1f77b4\"},\"line_width\":{\"value\":2},\"x\":{\"field\":\"x\"},\"y\":{\"field\":\"y\"}},\"id\":\"3087\",\"type\":\"Diamond\"},{\"attributes\":{},\"id\":\"3540\",\"type\":\"UnionRenderers\"},{\"attributes\":{},\"id\":\"3226\",\"type\":\"Selection\"},{\"attributes\":{\"active_drag\":\"auto\",\"active_inspect\":\"auto\",\"active_multi\":null,\"active_scroll\":\"auto\",\"active_tap\":\"auto\"},\"id\":\"3042\",\"type\":\"Toolbar\"},{\"attributes\":{\"source\":{\"id\":\"3181\",\"type\":\"ColumnDataSource\"}},\"id\":\"3185\",\"type\":\"CDSView\"},{\"attributes\":{\"axis_label\":\"Average stretch (min)\",\"formatter\":{\"id\":\"3052\",\"type\":\"BasicTickFormatter\"},\"minor_tick_line_color\":{\"value\":null},\"ticker\":{\"id\":\"3038\",\"type\":\"BasicTicker\"}},\"id\":\"3037\",\"type\":\"LinearAxis\"},{\"attributes\":{\"callback\":null,\"data\":{\"x\":[0,1,2,3,4,5,6,7,8,9,10,11,12,13],\"y\":{\"__ndarray__\":\"SYCaWrbWhz8L68a7I2O1P9iBc0aU9rY/vZmHAmz2pj+8c82J4vqMP+rdDsP9NsI/Gy/dJAaBhT9LBRVVv9KpP9rdqLrsfKQ/0AWadABpzD9UfmMZLCb7P2VvKeeLvfE/wsHexJCc0z89u3zrw3rvPw==\",\"dtype\":\"float64\",\"shape\":[14]}},\"selected\":{\"id\":\"3333\",\"type\":\"Selection\"},\"selection_policy\":{\"id\":\"3332\",\"type\":\"UnionRenderers\"}},\"id\":\"3306\",\"type\":\"ColumnDataSource\"},{\"attributes\":{\"callback\":null,\"data\":{\"x\":[0,1,2,3,4,5,6,7,8,9,10,11,12,13],\"y\":{\"__ndarray__\":\"XQmg1x1O379gCaDXHU4PwPACYlNpyBPA3gXEptKQA8AGB7hhlnrnv2cEE/2drBjAXAmg1x1O/79zBj6EtIUFwGAJoNcdTv+/k4jHggPcLMD5TlbLGyMkwDTHxRRrNjjAuSrKJ2jUFMCvYZZ6Vz81wA==\",\"dtype\":\"float64\",\"shape\":[14]}},\"selected\":{\"id\":\"3245\",\"type\":\"Selection\"},\"selection_policy\":{\"id\":\"3244\",\"type\":\"UnionRenderers\"}},\"id\":\"3210\",\"type\":\"ColumnDataSource\"},{\"attributes\":{},\"id\":\"3608\",\"type\":\"UnionRenderers\"},{\"attributes\":{\"callback\":null,\"data\":{\"x\":[0,1,2,3,4,5,6,7,8,9,10,11,12,13],\"y\":{\"__ndarray__\":\"3h6EgHwJhT/eHoSAfAm1P7vQXKeRlro/lialoNtLqj9NLsbAOo6PPzANw0fElMA/3h6EgHwJpT9xqrUwC+2sPxn+0w0UeKc/rUuN0M/U0z86OxkcJe/yP3wo0ZLH0/M/VffI5qp51T8NcEG2LF/xPw==\",\"dtype\":\"float64\",\"shape\":[14]}},\"selected\":{\"id\":\"3370\",\"type\":\"Selection\"},\"selection_policy\":{\"id\":\"3369\",\"type\":\"UnionRenderers\"}},\"id\":\"3335\",\"type\":\"ColumnDataSource\"},{\"attributes\":{},\"id\":\"3476\",\"type\":\"Selection\"},{\"attributes\":{},\"id\":\"3564\",\"type\":\"UnionRenderers\"},{\"attributes\":{\"data_source\":{\"id\":\"3181\",\"type\":\"ColumnDataSource\"},\"glyph\":{\"id\":\"3182\",\"type\":\"Square\"},\"hover_glyph\":null,\"muted_glyph\":null,\"nonselection_glyph\":{\"id\":\"3183\",\"type\":\"Square\"},\"selection_glyph\":null,\"view\":{\"id\":\"3185\",\"type\":\"CDSView\"}},\"id\":\"3184\",\"type\":\"GlyphRenderer\"},{\"attributes\":{\"line_color\":\"#0C0786\",\"x\":{\"field\":\"x\"},\"y\":{\"field\":\"y\"}},\"id\":\"3419\",\"type\":\"Line\"},{\"attributes\":{},\"id\":\"3542\",\"type\":\"UnionRenderers\"},{\"attributes\":{},\"id\":\"3584\",\"type\":\"UnionRenderers\"},{\"attributes\":{\"data_source\":{\"id\":\"3293\",\"type\":\"ColumnDataSource\"},\"glyph\":{\"id\":\"3294\",\"type\":\"Line\"},\"hover_glyph\":null,\"muted_glyph\":null,\"nonselection_glyph\":{\"id\":\"3295\",\"type\":\"Line\"},\"selection_glyph\":null,\"view\":{\"id\":\"3297\",\"type\":\"CDSView\"}},\"id\":\"3296\",\"type\":\"GlyphRenderer\"},{\"attributes\":{\"callback\":null,\"data\":{\"x\":[0,1,2,3,4,5,6,7,8,9,10,11,12,13],\"y\":{\"__ndarray__\":\"AAAAAAAAEEAAAAAAAAA+QAAAAAAAAD5AAAAAAAAAMEAAAAAAAAAQQAAAAAAAAENAAAAAAAAAMEAAAAAAAAAgQAAAAAAAACRAAAAAAACAVUAAAAAAAIBOQAAAAAAAAF9AAAAAAAAAP0AAAAAAAMBcQA==\",\"dtype\":\"float64\",\"shape\":[14]}},\"selected\":{\"id\":\"3541\",\"type\":\"Selection\"},\"selection_policy\":{\"id\":\"3540\",\"type\":\"UnionRenderers\"}},\"id\":\"3497\",\"type\":\"ColumnDataSource\"},{\"attributes\":{},\"id\":\"3068\",\"type\":\"Selection\"},{\"attributes\":{\"text\":\"\"},\"id\":\"3423\",\"type\":\"Title\"},{\"attributes\":{\"fill_alpha\":{\"value\":0.1},\"fill_color\":{\"value\":\"#1f77b4\"},\"line_alpha\":{\"value\":0.1},\"line_color\":{\"value\":\"#1f77b4\"},\"line_width\":{\"value\":2},\"x\":{\"field\":\"x\"},\"y\":{\"field\":\"y\"}},\"id\":\"3433\",\"type\":\"Square\"},{\"attributes\":{\"callback\":null,\"data\":{\"x\":[0,1,2,3,4,5,6,7,8,9,10,11,12,13],\"y\":{\"__ndarray__\":\"si9XAuh197/htm3btm0mwJ6ZmZmZmSjA/iPPtEJUGMAu9a5+rc37v7hyaJHtfC3Ary9XAuh1F8C1TpncqigRwFreGMFEfw/AmSnWbKRqP8BlMvxm4EM1wCnxWHCAG0fAaC1vjGCiKMBjMvxm4ANFwA==\",\"dtype\":\"float64\",\"shape\":[14]}},\"selected\":{\"id\":\"3267\",\"type\":\"Selection\"},\"selection_policy\":{\"id\":\"3266\",\"type\":\"UnionRenderers\"}},\"id\":\"3227\",\"type\":\"ColumnDataSource\"},{\"attributes\":{},\"id\":\"3606\",\"type\":\"UnionRenderers\"},{\"attributes\":{\"axis_label\":\"week\",\"formatter\":{\"id\":\"3175\",\"type\":\"BasicTickFormatter\"},\"minor_tick_line_color\":{\"value\":null},\"ticker\":{\"id\":\"3271\",\"type\":\"SingleIntervalTicker\"},\"visible\":false},\"id\":\"3157\",\"type\":\"LinearAxis\"},{\"attributes\":{\"source\":{\"id\":\"3335\",\"type\":\"ColumnDataSource\"}},\"id\":\"3339\",\"type\":\"CDSView\"},{\"attributes\":{},\"id\":\"3208\",\"type\":\"Selection\"},{\"attributes\":{\"callback\":null,\"end\":13.5},\"id\":\"3149\",\"type\":\"Range1d\"},{\"attributes\":{\"fill_color\":{\"value\":\"#0C0786\"},\"line_color\":{\"value\":\"#0C0786\"},\"line_width\":{\"value\":2},\"x\":{\"field\":\"x\"},\"y\":{\"field\":\"y\"}},\"id\":\"3307\",\"type\":\"Square\"},{\"attributes\":{\"fill_color\":{\"value\":\"#7C02A7\"},\"line_color\":{\"value\":\"#7C02A7\"},\"line_width\":{\"value\":2},\"x\":{\"field\":\"x\"},\"y\":{\"field\":\"y\"}},\"id\":\"3373\",\"type\":\"Circle\"},{\"attributes\":{},\"id\":\"3443\",\"type\":\"Selection\"},{\"attributes\":{\"grid_line_alpha\":0,\"ticker\":{\"id\":\"3158\",\"type\":\"BasicTicker\"}},\"id\":\"3161\",\"type\":\"Grid\"},{\"attributes\":{\"line_alpha\":0.1,\"line_color\":\"#1f77b4\",\"x\":{\"field\":\"x\"},\"y\":{\"field\":\"y\"}},\"id\":\"3196\",\"type\":\"Line\"},{\"attributes\":{},\"id\":\"3350\",\"type\":\"UnionRenderers\"},{\"attributes\":{\"fill_color\":{\"value\":\"#0C0786\"},\"line_color\":{\"value\":\"#0C0786\"},\"line_width\":{\"value\":2},\"x\":{\"field\":\"x\"},\"y\":{\"field\":\"y\"}},\"id\":\"3182\",\"type\":\"Square\"},{\"attributes\":{},\"id\":\"3587\",\"type\":\"Selection\"},{\"attributes\":{\"fill_color\":{\"value\":\"#F79341\"},\"line_color\":{\"value\":\"#F79341\"},\"line_width\":{\"value\":2},\"x\":{\"field\":\"x\"},\"y\":{\"field\":\"y\"}},\"id\":\"3461\",\"type\":\"Diamond\"},{\"attributes\":{\"source\":{\"id\":\"3319\",\"type\":\"ColumnDataSource\"}},\"id\":\"3323\",\"type\":\"CDSView\"},{\"attributes\":{\"level\":\"underlay\",\"size\":10},\"id\":\"3551\",\"type\":\"TeeHead\"},{\"attributes\":{\"dimension\":1,\"grid_line_alpha\":0,\"ticker\":{\"id\":\"3038\",\"type\":\"BasicTicker\"}},\"id\":\"3041\",\"type\":\"Grid\"},{\"attributes\":{\"line_alpha\":0.1,\"line_color\":\"#1f77b4\",\"x\":{\"field\":\"x\"},\"y\":{\"field\":\"y\"}},\"id\":\"3420\",\"type\":\"Line\"},{\"attributes\":{\"fill_alpha\":{\"value\":0.1},\"fill_color\":{\"value\":\"#1f77b4\"},\"line_alpha\":{\"value\":0.1},\"line_color\":{\"value\":\"#1f77b4\"},\"line_width\":{\"value\":2},\"x\":{\"field\":\"x\"},\"y\":{\"field\":\"y\"}},\"id\":\"3308\",\"type\":\"Square\"},{\"attributes\":{},\"id\":\"3245\",\"type\":\"Selection\"},{\"attributes\":{\"label\":{\"value\":\"Timeout (10)\"},\"renderers\":[{\"id\":\"3480\",\"type\":\"GlyphRenderer\"},{\"id\":\"3500\",\"type\":\"GlyphRenderer\"}]},\"id\":\"3496\",\"type\":\"LegendItem\"},{\"attributes\":{\"interval\":1},\"id\":\"3396\",\"type\":\"SingleIntervalTicker\"},{\"attributes\":{},\"id\":\"3585\",\"type\":\"Selection\"},{\"attributes\":{\"active_drag\":\"auto\",\"active_inspect\":\"auto\",\"active_multi\":null,\"active_scroll\":\"auto\",\"active_tap\":\"auto\"},\"id\":\"3417\",\"type\":\"Toolbar\"},{\"attributes\":{\"line_alpha\":0.1,\"line_color\":\"#1f77b4\",\"x\":{\"field\":\"x\"},\"y\":{\"field\":\"y\"}},\"id\":\"3479\",\"type\":\"Line\"},{\"attributes\":{},\"id\":\"3475\",\"type\":\"UnionRenderers\"},{\"attributes\":{\"label\":{\"value\":\"DeepShutdown\"},\"renderers\":[{\"id\":\"3171\",\"type\":\"GlyphRenderer\"},{\"id\":\"3184\",\"type\":\"GlyphRenderer\"}]},\"id\":\"3180\",\"type\":\"LegendItem\"},{\"attributes\":{\"callback\":null,\"data\":{\"x\":[0,1,2,3,4,5,6,7,8,9,10,11,12,13],\"y\":{\"__ndarray__\":\"mpmZmZmZqT8zMzMzMzPDP4d9tuazHpk/mpmZmZmZqT8RERERERGhP8/MzMzMzKw/GGzBFmzBRj/SGDCNAdOIP5uZmZmZmZk/Y5dddtllhz/TdSIzlrVVPzh+KP2bXHg/EhISEhISYj+htRUitdOBPw==\",\"dtype\":\"float64\",\"shape\":[14]}},\"selected\":{\"id\":\"3142\",\"type\":\"Selection\"},\"selection_policy\":{\"id\":\"3141\",\"type\":\"UnionRenderers\"}},\"id\":\"3102\",\"type\":\"ColumnDataSource\"},{\"attributes\":{\"children\":[[{\"id\":\"3398\",\"subtype\":\"Figure\",\"type\":\"Plot\"},0,0],[{\"id\":\"3273\",\"subtype\":\"Figure\",\"type\":\"Plot\"},1,0],[{\"id\":\"3148\",\"subtype\":\"Figure\",\"type\":\"Plot\"},2,0],[{\"id\":\"3023\",\"subtype\":\"Figure\",\"type\":\"Plot\"},3,0]]},\"id\":\"3611\",\"type\":\"GridBox\"},{\"attributes\":{\"axis_label\":\"Score\",\"formatter\":{\"id\":\"3177\",\"type\":\"BasicTickFormatter\"},\"minor_tick_line_color\":{\"value\":null},\"ticker\":{\"id\":\"3163\",\"type\":\"BasicTicker\"}},\"id\":\"3162\",\"type\":\"LinearAxis\"},{\"attributes\":{\"interval\":1},\"id\":\"3521\",\"type\":\"SingleIntervalTicker\"},{\"attributes\":{\"callback\":null,\"data\":{\"x\":[0,1,2,3,4,5,6,7,8,9,10,11,12,13],\"y\":{\"__ndarray__\":\"AAAAAAAAEEAAAAAAAAA+QAAAAAAAAD5AAAAAAAAAMEAAAAAAAAAQQAAAAAAAAENAAAAAAAAAMEAAAAAAAAAgQAAAAAAAACRAAAAAAACAVUAAAAAAAIBOQAAAAAAAAF9AAAAAAAAAP0AAAAAAAMBcQA==\",\"dtype\":\"float64\",\"shape\":[14]}},\"selected\":{\"id\":\"3517\",\"type\":\"Selection\"},\"selection_policy\":{\"id\":\"3516\",\"type\":\"UnionRenderers\"}},\"id\":\"3477\",\"type\":\"ColumnDataSource\"},{\"attributes\":{},\"id\":\"3302\",\"type\":\"BasicTickFormatter\"},{\"attributes\":{\"fill_color\":{\"value\":\"#0C0786\"},\"line_color\":{\"value\":\"#0C0786\"},\"line_width\":{\"value\":2},\"x\":{\"field\":\"x\"},\"y\":{\"field\":\"y\"}},\"id\":\"3057\",\"type\":\"Square\"},{\"attributes\":{\"grid_line_alpha\":0,\"ticker\":{\"id\":\"3408\",\"type\":\"BasicTicker\"}},\"id\":\"3411\",\"type\":\"Grid\"},{\"attributes\":{\"source\":{\"id\":\"3210\",\"type\":\"ColumnDataSource\"}},\"id\":\"3214\",\"type\":\"CDSView\"},{\"attributes\":{\"source\":{\"id\":\"3102\",\"type\":\"ColumnDataSource\"}},\"id\":\"3106\",\"type\":\"CDSView\"},{\"attributes\":{},\"id\":\"3207\",\"type\":\"UnionRenderers\"},{\"attributes\":{\"data_source\":{\"id\":\"3319\",\"type\":\"ColumnDataSource\"},\"glyph\":{\"id\":\"3320\",\"type\":\"Line\"},\"hover_glyph\":null,\"muted_glyph\":null,\"nonselection_glyph\":{\"id\":\"3321\",\"type\":\"Line\"},\"selection_glyph\":null,\"view\":{\"id\":\"3323\",\"type\":\"CDSView\"}},\"id\":\"3322\",\"type\":\"GlyphRenderer\"},{\"attributes\":{},\"id\":\"3405\",\"type\":\"LinearScale\"},{\"attributes\":{\"line_color\":\"#7C02A7\",\"x\":{\"field\":\"x\"},\"y\":{\"field\":\"y\"}},\"id\":\"3478\",\"type\":\"Line\"},{\"attributes\":{\"label\":{\"value\":\"Timeout (1)\"},\"renderers\":[{\"id\":\"3447\",\"type\":\"GlyphRenderer\"},{\"id\":\"3463\",\"type\":\"GlyphRenderer\"}]},\"id\":\"3459\",\"type\":\"LegendItem\"},{\"attributes\":{},\"id\":\"3158\",\"type\":\"BasicTicker\"},{\"attributes\":{\"label\":{\"value\":\"Timeout (10)\"},\"renderers\":[{\"id\":\"3355\",\"type\":\"GlyphRenderer\"},{\"id\":\"3375\",\"type\":\"GlyphRenderer\"}]},\"id\":\"3371\",\"type\":\"LegendItem\"},{\"attributes\":{\"source\":{\"id\":\"3168\",\"type\":\"ColumnDataSource\"}},\"id\":\"3172\",\"type\":\"CDSView\"},{\"attributes\":{\"fill_alpha\":{\"value\":0.1},\"fill_color\":{\"value\":\"#1f77b4\"},\"line_alpha\":{\"value\":0.1},\"line_color\":{\"value\":\"#1f77b4\"},\"line_width\":{\"value\":2},\"x\":{\"field\":\"x\"},\"y\":{\"field\":\"y\"}},\"id\":\"3058\",\"type\":\"Square\"},{\"attributes\":{\"data_source\":{\"id\":\"3194\",\"type\":\"ColumnDataSource\"},\"glyph\":{\"id\":\"3195\",\"type\":\"Line\"},\"hover_glyph\":null,\"muted_glyph\":null,\"nonselection_glyph\":{\"id\":\"3196\",\"type\":\"Line\"},\"selection_glyph\":null,\"view\":{\"id\":\"3198\",\"type\":\"CDSView\"}},\"id\":\"3197\",\"type\":\"GlyphRenderer\"},{\"attributes\":{\"line_color\":\"#F79341\",\"x\":{\"field\":\"x\"},\"y\":{\"field\":\"y\"}},\"id\":\"3445\",\"type\":\"Line\"},{\"attributes\":{},\"id\":\"3408\",\"type\":\"BasicTicker\"},{\"attributes\":{},\"id\":\"3392\",\"type\":\"Selection\"},{\"attributes\":{\"items\":[{\"id\":\"3430\",\"type\":\"LegendItem\"},{\"id\":\"3459\",\"type\":\"LegendItem\"},{\"id\":\"3496\",\"type\":\"LegendItem\"}],\"location\":\"top_center\",\"orientation\":\"horizontal\"},\"id\":\"3429\",\"type\":\"Legend\"},{\"attributes\":{},\"id\":\"3332\",\"type\":\"UnionRenderers\"},{\"attributes\":{},\"id\":\"3562\",\"type\":\"UnionRenderers\"},{\"attributes\":{\"line_alpha\":0.1,\"line_color\":\"#1f77b4\",\"x\":{\"field\":\"x\"},\"y\":{\"field\":\"y\"}},\"id\":\"3045\",\"type\":\"Line\"},{\"attributes\":{},\"id\":\"3586\",\"type\":\"UnionRenderers\"},{\"attributes\":{\"base\":{\"field\":\"base\",\"units\":\"data\"},\"lower\":{\"field\":\"lower\",\"units\":\"data\"},\"lower_head\":{\"id\":\"3529\",\"type\":\"TeeHead\"},\"source\":{\"id\":\"3518\",\"type\":\"ColumnDataSource\"},\"upper\":{\"field\":\"upper\",\"units\":\"data\"},\"upper_head\":{\"id\":\"3528\",\"type\":\"TeeHead\"}},\"id\":\"3519\",\"type\":\"Whisker\"},{\"attributes\":{\"source\":{\"id\":\"3293\",\"type\":\"ColumnDataSource\"}},\"id\":\"3297\",\"type\":\"CDSView\"},{\"attributes\":{\"callback\":null,\"data\":{\"x\":[0,1,2,3,4,5,6,7,8,9,10,11,12,13],\"y\":{\"__ndarray__\":\"si9XAuh197/htm3btm0mwJ6ZmZmZmSjA/iPPtEJUGMAu9a5+rc37v7hyaJHtfC3Ary9XAuh1F8C1TpncqigRwFreGMFEfw/AmSnWbKRqP8BlMvxm4EM1wCnxWHCAG0fAaC1vjGCiKMBjMvxm4ANFwA==\",\"dtype\":\"float64\",\"shape\":[14]}},\"selected\":{\"id\":\"3585\",\"type\":\"Selection\"},\"selection_policy\":{\"id\":\"3584\",\"type\":\"UnionRenderers\"}},\"id\":\"3247\",\"type\":\"ColumnDataSource\"},{\"attributes\":{\"line_color\":\"#7C02A7\",\"x\":{\"field\":\"x\"},\"y\":{\"field\":\"y\"}},\"id\":\"3228\",\"type\":\"Line\"},{\"attributes\":{\"level\":\"underlay\",\"size\":10},\"id\":\"3572\",\"type\":\"TeeHead\"},{\"attributes\":{},\"id\":\"3067\",\"type\":\"UnionRenderers\"},{\"attributes\":{\"line_color\":\"#7C02A7\",\"x\":{\"field\":\"x\"},\"y\":{\"field\":\"y\"}},\"id\":\"3353\",\"type\":\"Line\"},{\"attributes\":{},\"id\":\"3495\",\"type\":\"Selection\"},{\"attributes\":{\"data_source\":{\"id\":\"3102\",\"type\":\"ColumnDataSource\"},\"glyph\":{\"id\":\"3103\",\"type\":\"Line\"},\"hover_glyph\":null,\"muted_glyph\":null,\"nonselection_glyph\":{\"id\":\"3104\",\"type\":\"Line\"},\"selection_glyph\":null,\"view\":{\"id\":\"3106\",\"type\":\"CDSView\"}},\"id\":\"3105\",\"type\":\"GlyphRenderer\"},{\"attributes\":{\"line_alpha\":0.1,\"line_color\":\"#1f77b4\",\"x\":{\"field\":\"x\"},\"y\":{\"field\":\"y\"}},\"id\":\"3446\",\"type\":\"Line\"},{\"attributes\":{\"fill_color\":{\"value\":\"#F79341\"},\"line_color\":{\"value\":\"#F79341\"},\"line_width\":{\"value\":2},\"x\":{\"field\":\"x\"},\"y\":{\"field\":\"y\"}},\"id\":\"3336\",\"type\":\"Diamond\"},{\"attributes\":{},\"id\":\"3038\",\"type\":\"BasicTicker\"},{\"attributes\":{\"callback\":null,\"data\":{\"x\":[0,1,2,3,4,5,6,7,8,9,10,11,12,13],\"y\":{\"__ndarray__\":\"FOrpI/CHnz++nxov3STOP5yiI7n8h9A/VklkH2RZwD+EmiFVFK+iPwqhgy7h0NM/FOrpI/CHvz+8kuS5vg+3P6d0sP7PYbY/WP58W7BU5T8qq+l6oiv3PyEiNe1imvs/uVM6WP/n3z/hRPRr66f5Pw==\",\"dtype\":\"float64\",\"shape\":[14]}},\"selected\":{\"id\":\"3563\",\"type\":\"Selection\"},\"selection_policy\":{\"id\":\"3562\",\"type\":\"UnionRenderers\"}},\"id\":\"3372\",\"type\":\"ColumnDataSource\"},{\"attributes\":{},\"id\":\"3333\",\"type\":\"Selection\"},{\"attributes\":{\"line_alpha\":0.1,\"line_color\":\"#1f77b4\",\"x\":{\"field\":\"x\"},\"y\":{\"field\":\"y\"}},\"id\":\"3321\",\"type\":\"Line\"},{\"attributes\":{\"callback\":null,\"data\":{\"x\":[0,1,2,3,4,5,6,7,8,9,10,11,12,13],\"y\":{\"__ndarray__\":\"AAAAAAAAEEAAAAAAAABAQAAAAAAAAERAAAAAAAAANEAAAAAAAAAYQAAAAAAAAElAAAAAAAAAMEAAAAAAAAA2QAAAAAAAADBAAAAAAACAXUAAAAAAAABVQAAAAAAAwGhAAAAAAACARUAAAAAAAOBlQA==\",\"dtype\":\"float64\",\"shape\":[14]}},\"selected\":{\"id\":\"3476\",\"type\":\"Selection\"},\"selection_policy\":{\"id\":\"3475\",\"type\":\"UnionRenderers\"}},\"id\":\"3444\",\"type\":\"ColumnDataSource\"},{\"attributes\":{\"callback\":null,\"data\":{\"x\":[0,1,2,3,4,5,6,7,8,9,10,11,12,13],\"y\":{\"__ndarray__\":\"3h6EgHwJhT/eHoSAfAm1P7vQXKeRlro/lialoNtLqj9NLsbAOo6PPzANw0fElMA/3h6EgHwJpT9xqrUwC+2sPxn+0w0UeKc/rUuN0M/U0z86OxkcJe/yP3wo0ZLH0/M/VffI5qp51T8NcEG2LF/xPw==\",\"dtype\":\"float64\",\"shape\":[14]}},\"selected\":{\"id\":\"3351\",\"type\":\"Selection\"},\"selection_policy\":{\"id\":\"3350\",\"type\":\"UnionRenderers\"}},\"id\":\"3319\",\"type\":\"ColumnDataSource\"},{\"attributes\":{\"level\":\"underlay\",\"size\":10},\"id\":\"3595\",\"type\":\"TeeHead\"},{\"attributes\":{\"data_source\":{\"id\":\"3335\",\"type\":\"ColumnDataSource\"},\"glyph\":{\"id\":\"3336\",\"type\":\"Diamond\"},\"hover_glyph\":null,\"muted_glyph\":null,\"nonselection_glyph\":{\"id\":\"3337\",\"type\":\"Diamond\"},\"selection_glyph\":null,\"view\":{\"id\":\"3339\",\"type\":\"CDSView\"}},\"id\":\"3338\",\"type\":\"GlyphRenderer\"},{\"attributes\":{\"label\":{\"value\":\"Timeout (10)\"},\"renderers\":[{\"id\":\"3230\",\"type\":\"GlyphRenderer\"},{\"id\":\"3250\",\"type\":\"GlyphRenderer\"}]},\"id\":\"3246\",\"type\":\"LegendItem\"},{\"attributes\":{},\"id\":\"3494\",\"type\":\"UnionRenderers\"},{\"attributes\":{\"callback\":null,\"data\":{\"x\":[0,1,2,3,4,5,6,7,8,9,10,11,12,13],\"y\":{\"__ndarray__\":\"4noUrkfhyj+amZmZmZnJP5eFemNvB9U/exSuR+F6xD9yPQrXo3CtPylcj8L1qNA/9Umf9EmfZD+mH2r6oaafPzls95xeYNQ/1RJBLRHUkj/IredZhhipPx2HzYar87c/33gSrEXfuD9eN350HCq6Pw==\",\"dtype\":\"float64\",\"shape\":[14]}},\"selected\":{\"id\":\"3083\",\"type\":\"Selection\"},\"selection_policy\":{\"id\":\"3082\",\"type\":\"UnionRenderers\"}},\"id\":\"3056\",\"type\":\"ColumnDataSource\"},{\"attributes\":{},\"id\":\"3033\",\"type\":\"BasicTicker\"},{\"attributes\":{\"callback\":null},\"id\":\"3151\",\"type\":\"DataRange1d\"},{\"attributes\":{},\"id\":\"3413\",\"type\":\"BasicTicker\"},{\"attributes\":{\"fill_alpha\":{\"value\":0.1},\"fill_color\":{\"value\":\"#1f77b4\"},\"line_alpha\":{\"value\":0.1},\"line_color\":{\"value\":\"#1f77b4\"},\"line_width\":{\"value\":2},\"x\":{\"field\":\"x\"},\"y\":{\"field\":\"y\"}},\"id\":\"3337\",\"type\":\"Diamond\"},{\"attributes\":{\"callback\":null,\"data\":{\"x\":[0,1,2,3,4,5,6,7,8,9,10,11,12,13],\"y\":{\"__ndarray__\":\"62P0krW84b8tIWmBh9MPwKpgnt9BHRLARrwrcdMVAcC+gAP/AJDlv/4h/fZ14BzAaspfawAA4L96qBIKtjYDwIg2to31AwnA5lYIq7F8JMDvpCoSuLoiwLigCPNoTDPAWtb9YyEqFMAyeV6F72guwA==\",\"dtype\":\"float64\",\"shape\":[14]}},\"selected\":{\"id\":\"3193\",\"type\":\"Selection\"},\"selection_policy\":{\"id\":\"3192\",\"type\":\"UnionRenderers\"}},\"id\":\"3168\",\"type\":\"ColumnDataSource\"},{\"attributes\":{\"text\":\"\"},\"id\":\"3298\",\"type\":\"Title\"},{\"attributes\":{\"callback\":null,\"data\":{\"x\":[0,1,2,3,4,5,6,7,8,9,10,11,12,13],\"y\":{\"__ndarray__\":\"AAAAAAAAEEAAAAAAAABAQAAAAAAAAERAAAAAAAAANEAAAAAAAAAYQAAAAAAAAElAAAAAAAAAMEAAAAAAAAA2QAAAAAAAADBAAAAAAACAXUAAAAAAAABVQAAAAAAAwGhAAAAAAACARUAAAAAAAOBlQA==\",\"dtype\":\"float64\",\"shape\":[14]}},\"selected\":{\"id\":\"3495\",\"type\":\"Selection\"},\"selection_policy\":{\"id\":\"3494\",\"type\":\"UnionRenderers\"}},\"id\":\"3460\",\"type\":\"ColumnDataSource\"},{\"attributes\":{\"level\":\"underlay\",\"size\":10},\"id\":\"3550\",\"type\":\"TeeHead\"},{\"attributes\":{\"line_alpha\":0.1,\"line_color\":\"#1f77b4\",\"x\":{\"field\":\"x\"},\"y\":{\"field\":\"y\"}},\"id\":\"3170\",\"type\":\"Line\"},{\"attributes\":{\"callback\":null},\"id\":\"3401\",\"type\":\"DataRange1d\"},{\"attributes\":{\"axis_label\":\"week\",\"formatter\":{\"id\":\"3050\",\"type\":\"BasicTickFormatter\"},\"minor_tick_line_color\":{\"value\":null},\"ticker\":{\"id\":\"3146\",\"type\":\"SingleIntervalTicker\"}},\"id\":\"3032\",\"type\":\"LinearAxis\"},{\"attributes\":{\"fill_alpha\":{\"value\":0.1},\"fill_color\":{\"value\":\"#1f77b4\"},\"line_alpha\":{\"value\":0.1},\"line_color\":{\"value\":\"#1f77b4\"},\"line_width\":{\"value\":2},\"x\":{\"field\":\"x\"},\"y\":{\"field\":\"y\"}},\"id\":\"3499\",\"type\":\"Circle\"},{\"attributes\":{},\"id\":\"3425\",\"type\":\"BasicTickFormatter\"},{\"attributes\":{\"source\":{\"id\":\"3497\",\"type\":\"ColumnDataSource\"}},\"id\":\"3501\",\"type\":\"CDSView\"},{\"attributes\":{\"level\":\"underlay\",\"size\":10},\"id\":\"3528\",\"type\":\"TeeHead\"},{\"attributes\":{\"below\":[{\"id\":\"3407\",\"type\":\"LinearAxis\"}],\"center\":[{\"id\":\"3411\",\"type\":\"Grid\"},{\"id\":\"3416\",\"type\":\"Grid\"},{\"id\":\"3429\",\"type\":\"Legend\"},{\"id\":\"3519\",\"type\":\"Whisker\"}],\"left\":[{\"id\":\"3412\",\"type\":\"LinearAxis\"}],\"plot_height\":250,\"plot_width\":900,\"renderers\":[{\"id\":\"3421\",\"type\":\"GlyphRenderer\"},{\"id\":\"3434\",\"type\":\"GlyphRenderer\"},{\"id\":\"3447\",\"type\":\"GlyphRenderer\"},{\"id\":\"3463\",\"type\":\"GlyphRenderer\"},{\"id\":\"3480\",\"type\":\"GlyphRenderer\"},{\"id\":\"3500\",\"type\":\"GlyphRenderer\"}],\"title\":{\"id\":\"3423\",\"type\":\"Title\"},\"toolbar\":{\"id\":\"3417\",\"type\":\"Toolbar\"},\"toolbar_location\":null,\"x_range\":{\"id\":\"3399\",\"type\":\"Range1d\"},\"x_scale\":{\"id\":\"3403\",\"type\":\"LinearScale\"},\"y_range\":{\"id\":\"3401\",\"type\":\"DataRange1d\"},\"y_scale\":{\"id\":\"3405\",\"type\":\"LinearScale\"}},\"id\":\"3398\",\"subtype\":\"Figure\",\"type\":\"Plot\"},{\"attributes\":{\"callback\":null,\"data\":{\"x\":[0,1,2,3,4,5,6,7,8,9,10,11,12,13],\"y\":{\"__ndarray__\":\"AAAAAAAAEEAAAAAAAABAQAAAAAAAAEBAMzMzMzMzL0AzMzMzMzMTQDMzMzMzM0hAAAAAAAAAEEAAAAAAAAAwQGZmZmZmZipAMzMzMzOzUkBmZmZmZuZQQAAAAAAAgF1AAAAAAACAQ0CamZmZmRlaQA==\",\"dtype\":\"float64\",\"shape\":[14]}},\"selected\":{\"id\":\"3443\",\"type\":\"Selection\"},\"selection_policy\":{\"id\":\"3442\",\"type\":\"UnionRenderers\"}},\"id\":\"3418\",\"type\":\"ColumnDataSource\"},{\"attributes\":{\"source\":{\"id\":\"3460\",\"type\":\"ColumnDataSource\"}},\"id\":\"3464\",\"type\":\"CDSView\"},{\"attributes\":{\"toolbar\":{\"id\":\"3612\",\"type\":\"ProxyToolbar\"},\"toolbar_location\":\"above\"},\"id\":\"3613\",\"type\":\"ToolbarBox\"},{\"attributes\":{\"active_drag\":\"auto\",\"active_inspect\":\"auto\",\"active_multi\":null,\"active_scroll\":\"auto\",\"active_tap\":\"auto\"},\"id\":\"3167\",\"type\":\"Toolbar\"},{\"attributes\":{},\"id\":\"3300\",\"type\":\"BasicTickFormatter\"},{\"attributes\":{\"line_color\":\"#F79341\",\"x\":{\"field\":\"x\"},\"y\":{\"field\":\"y\"}},\"id\":\"3195\",\"type\":\"Line\"},{\"attributes\":{\"data_source\":{\"id\":\"3306\",\"type\":\"ColumnDataSource\"},\"glyph\":{\"id\":\"3307\",\"type\":\"Square\"},\"hover_glyph\":null,\"muted_glyph\":null,\"nonselection_glyph\":{\"id\":\"3308\",\"type\":\"Square\"},\"selection_glyph\":null,\"view\":{\"id\":\"3310\",\"type\":\"CDSView\"}},\"id\":\"3309\",\"type\":\"GlyphRenderer\"},{\"attributes\":{\"items\":[{\"id\":\"3180\",\"type\":\"LegendItem\"},{\"id\":\"3209\",\"type\":\"LegendItem\"},{\"id\":\"3246\",\"type\":\"LegendItem\"}],\"location\":\"top_center\",\"orientation\":\"horizontal\",\"visible\":false},\"id\":\"3179\",\"type\":\"Legend\"},{\"attributes\":{\"fill_color\":{\"value\":\"#7C02A7\"},\"line_color\":{\"value\":\"#7C02A7\"},\"line_width\":{\"value\":2},\"x\":{\"field\":\"x\"},\"y\":{\"field\":\"y\"}},\"id\":\"3498\",\"type\":\"Circle\"},{\"attributes\":{\"axis_label\":\"Nb. of state switches\",\"formatter\":{\"id\":\"3427\",\"type\":\"BasicTickFormatter\"},\"minor_tick_line_color\":{\"value\":null},\"ticker\":{\"id\":\"3413\",\"type\":\"BasicTicker\"}},\"id\":\"3412\",\"type\":\"LinearAxis\"},{\"attributes\":{\"text\":\"\"},\"id\":\"3048\",\"type\":\"Title\"},{\"attributes\":{\"source\":{\"id\":\"3306\",\"type\":\"ColumnDataSource\"}},\"id\":\"3310\",\"type\":\"CDSView\"},{\"attributes\":{},\"id\":\"3175\",\"type\":\"BasicTickFormatter\"},{\"attributes\":{\"data_source\":{\"id\":\"3418\",\"type\":\"ColumnDataSource\"},\"glyph\":{\"id\":\"3419\",\"type\":\"Line\"},\"hover_glyph\":null,\"muted_glyph\":null,\"nonselection_glyph\":{\"id\":\"3420\",\"type\":\"Line\"},\"selection_glyph\":null,\"view\":{\"id\":\"3422\",\"type\":\"CDSView\"}},\"id\":\"3421\",\"type\":\"GlyphRenderer\"},{\"attributes\":{\"data_source\":{\"id\":\"3056\",\"type\":\"ColumnDataSource\"},\"glyph\":{\"id\":\"3057\",\"type\":\"Square\"},\"hover_glyph\":null,\"muted_glyph\":null,\"nonselection_glyph\":{\"id\":\"3058\",\"type\":\"Square\"},\"selection_glyph\":null,\"view\":{\"id\":\"3060\",\"type\":\"CDSView\"}},\"id\":\"3059\",\"type\":\"GlyphRenderer\"},{\"attributes\":{\"callback\":null,\"data\":{\"x\":[0,1,2,3,4,5,6,7,8,9,10,11,12,13],\"y\":{\"__ndarray__\":\"62P0krW84b8tIWmBh9MPwKpgnt9BHRLARrwrcdMVAcC+gAP/AJDlv/4h/fZ14BzAaspfawAA4L96qBIKtjYDwIg2to31AwnA5lYIq7F8JMDvpCoSuLoiwLigCPNoTDPAWtb9YyEqFMAyeV6F72guwA==\",\"dtype\":\"float64\",\"shape\":[14]}},\"selected\":{\"id\":\"3208\",\"type\":\"Selection\"},\"selection_policy\":{\"id\":\"3207\",\"type\":\"UnionRenderers\"}},\"id\":\"3181\",\"type\":\"ColumnDataSource\"},{\"attributes\":{\"data_source\":{\"id\":\"3431\",\"type\":\"ColumnDataSource\"},\"glyph\":{\"id\":\"3432\",\"type\":\"Square\"},\"hover_glyph\":null,\"muted_glyph\":null,\"nonselection_glyph\":{\"id\":\"3433\",\"type\":\"Square\"},\"selection_glyph\":null,\"view\":{\"id\":\"3435\",\"type\":\"CDSView\"}},\"id\":\"3434\",\"type\":\"GlyphRenderer\"},{\"attributes\":{\"grid_line_alpha\":0,\"ticker\":{\"id\":\"3033\",\"type\":\"BasicTicker\"}},\"id\":\"3036\",\"type\":\"Grid\"},{\"attributes\":{\"label\":{\"value\":\"Timeout (1)\"},\"renderers\":[{\"id\":\"3322\",\"type\":\"GlyphRenderer\"},{\"id\":\"3338\",\"type\":\"GlyphRenderer\"}]},\"id\":\"3334\",\"type\":\"LegendItem\"},{\"attributes\":{\"label\":{\"value\":\"DeepShutdown\"},\"renderers\":[{\"id\":\"3046\",\"type\":\"GlyphRenderer\"},{\"id\":\"3059\",\"type\":\"GlyphRenderer\"}]},\"id\":\"3055\",\"type\":\"LegendItem\"},{\"attributes\":{},\"id\":\"3153\",\"type\":\"LinearScale\"},{\"attributes\":{\"line_alpha\":0.1,\"line_color\":\"#1f77b4\",\"x\":{\"field\":\"x\"},\"y\":{\"field\":\"y\"}},\"id\":\"3229\",\"type\":\"Line\"},{\"attributes\":{},\"id\":\"3193\",\"type\":\"Selection\"},{\"attributes\":{\"data_source\":{\"id\":\"3444\",\"type\":\"ColumnDataSource\"},\"glyph\":{\"id\":\"3445\",\"type\":\"Line\"},\"hover_glyph\":null,\"muted_glyph\":null,\"nonselection_glyph\":{\"id\":\"3446\",\"type\":\"Line\"},\"selection_glyph\":null,\"view\":{\"id\":\"3448\",\"type\":\"CDSView\"}},\"id\":\"3447\",\"type\":\"GlyphRenderer\"},{\"attributes\":{\"base\":{\"field\":\"base\",\"units\":\"data\"},\"lower\":{\"field\":\"lower\",\"units\":\"data\"},\"lower_head\":{\"id\":\"3551\",\"type\":\"TeeHead\"},\"source\":{\"id\":\"3393\",\"type\":\"ColumnDataSource\"},\"upper\":{\"field\":\"upper\",\"units\":\"data\"},\"upper_head\":{\"id\":\"3550\",\"type\":\"TeeHead\"}},\"id\":\"3394\",\"type\":\"Whisker\"},{\"attributes\":{\"label\":{\"value\":\"DeepShutdown\"},\"renderers\":[{\"id\":\"3296\",\"type\":\"GlyphRenderer\"},{\"id\":\"3309\",\"type\":\"GlyphRenderer\"}]},\"id\":\"3305\",\"type\":\"LegendItem\"},{\"attributes\":{},\"id\":\"3163\",\"type\":\"BasicTicker\"},{\"attributes\":{\"items\":[{\"id\":\"3055\",\"type\":\"LegendItem\"},{\"id\":\"3084\",\"type\":\"LegendItem\"},{\"id\":\"3121\",\"type\":\"LegendItem\"}],\"location\":\"top_center\",\"orientation\":\"horizontal\",\"visible\":false},\"id\":\"3054\",\"type\":\"Legend\"},{\"attributes\":{\"source\":{\"id\":\"3431\",\"type\":\"ColumnDataSource\"}},\"id\":\"3435\",\"type\":\"CDSView\"},{\"attributes\":{\"level\":\"underlay\",\"size\":10},\"id\":\"3573\",\"type\":\"TeeHead\"},{\"attributes\":{\"data_source\":{\"id\":\"3497\",\"type\":\"ColumnDataSource\"},\"glyph\":{\"id\":\"3498\",\"type\":\"Circle\"},\"hover_glyph\":null,\"muted_glyph\":null,\"nonselection_glyph\":{\"id\":\"3499\",\"type\":\"Circle\"},\"selection_glyph\":null,\"view\":{\"id\":\"3501\",\"type\":\"CDSView\"}},\"id\":\"3500\",\"type\":\"GlyphRenderer\"},{\"attributes\":{\"dimension\":1,\"grid_line_alpha\":0,\"ticker\":{\"id\":\"3413\",\"type\":\"BasicTicker\"}},\"id\":\"3416\",\"type\":\"Grid\"},{\"attributes\":{\"callback\":null,\"data\":{\"x\":[0,1,2,3,4,5,6,7,8,9,10,11,12,13],\"y\":{\"__ndarray__\":\"XQmg1x1O379gCaDXHU4PwPACYlNpyBPA3gXEptKQA8AGB7hhlnrnv2cEE/2drBjAXAmg1x1O/79zBj6EtIUFwGAJoNcdTv+/k4jHggPcLMD5TlbLGyMkwDTHxRRrNjjAuSrKJ2jUFMCvYZZ6Vz81wA==\",\"dtype\":\"float64\",\"shape\":[14]}},\"selected\":{\"id\":\"3226\",\"type\":\"Selection\"},\"selection_policy\":{\"id\":\"3225\",\"type\":\"UnionRenderers\"}},\"id\":\"3194\",\"type\":\"ColumnDataSource\"},{\"attributes\":{\"source\":{\"id\":\"3227\",\"type\":\"ColumnDataSource\"}},\"id\":\"3231\",\"type\":\"CDSView\"},{\"attributes\":{\"fill_color\":{\"value\":\"#0C0786\"},\"line_color\":{\"value\":\"#0C0786\"},\"line_width\":{\"value\":2},\"x\":{\"field\":\"x\"},\"y\":{\"field\":\"y\"}},\"id\":\"3432\",\"type\":\"Square\"},{\"attributes\":{\"callback\":null,\"data\":{\"x\":[0,1,2,3,4,5,6,7,8,9,10,11,12,13],\"y\":{\"__ndarray__\":\"FOrpI/CHnz++nxov3STOP5yiI7n8h9A/VklkH2RZwD+EmiFVFK+iPwqhgy7h0NM/FOrpI/CHvz+8kuS5vg+3P6d0sP7PYbY/WP58W7BU5T8qq+l6oiv3PyEiNe1imvs/uVM6WP/n3z/hRPRr66f5Pw==\",\"dtype\":\"float64\",\"shape\":[14]}},\"selected\":{\"id\":\"3392\",\"type\":\"Selection\"},\"selection_policy\":{\"id\":\"3391\",\"type\":\"UnionRenderers\"}},\"id\":\"3352\",\"type\":\"ColumnDataSource\"},{\"attributes\":{\"source\":{\"id\":\"3043\",\"type\":\"ColumnDataSource\"}},\"id\":\"3047\",\"type\":\"CDSView\"},{\"attributes\":{\"source\":{\"id\":\"3418\",\"type\":\"ColumnDataSource\"}},\"id\":\"3422\",\"type\":\"CDSView\"},{\"attributes\":{\"fill_color\":{\"value\":\"#F79341\"},\"line_color\":{\"value\":\"#F79341\"},\"line_width\":{\"value\":2},\"x\":{\"field\":\"x\"},\"y\":{\"field\":\"y\"}},\"id\":\"3211\",\"type\":\"Diamond\"},{\"attributes\":{\"line_alpha\":0.1,\"line_color\":\"#1f77b4\",\"x\":{\"field\":\"x\"},\"y\":{\"field\":\"y\"}},\"id\":\"3104\",\"type\":\"Line\"},{\"attributes\":{},\"id\":\"3565\",\"type\":\"Selection\"},{\"attributes\":{\"text\":\"\"},\"id\":\"3173\",\"type\":\"Title\"},{\"attributes\":{\"source\":{\"id\":\"3444\",\"type\":\"ColumnDataSource\"}},\"id\":\"3448\",\"type\":\"CDSView\"},{\"attributes\":{\"level\":\"underlay\",\"size\":10},\"id\":\"3529\",\"type\":\"TeeHead\"},{\"attributes\":{\"data_source\":{\"id\":\"3168\",\"type\":\"ColumnDataSource\"},\"glyph\":{\"id\":\"3169\",\"type\":\"Line\"},\"hover_glyph\":null,\"muted_glyph\":null,\"nonselection_glyph\":{\"id\":\"3170\",\"type\":\"Line\"},\"selection_glyph\":null,\"view\":{\"id\":\"3172\",\"type\":\"CDSView\"}},\"id\":\"3171\",\"type\":\"GlyphRenderer\"},{\"attributes\":{},\"id\":\"3427\",\"type\":\"BasicTickFormatter\"},{\"attributes\":{},\"id\":\"3052\",\"type\":\"BasicTickFormatter\"},{\"attributes\":{},\"id\":\"3351\",\"type\":\"Selection\"},{\"attributes\":{\"data_source\":{\"id\":\"3352\",\"type\":\"ColumnDataSource\"},\"glyph\":{\"id\":\"3353\",\"type\":\"Line\"},\"hover_glyph\":null,\"muted_glyph\":null,\"nonselection_glyph\":{\"id\":\"3354\",\"type\":\"Line\"},\"selection_glyph\":null,\"view\":{\"id\":\"3356\",\"type\":\"CDSView\"}},\"id\":\"3355\",\"type\":\"GlyphRenderer\"},{\"attributes\":{\"source\":{\"id\":\"3056\",\"type\":\"ColumnDataSource\"}},\"id\":\"3060\",\"type\":\"CDSView\"},{\"attributes\":{},\"id\":\"3391\",\"type\":\"UnionRenderers\"},{\"attributes\":{},\"id\":\"3612\",\"type\":\"ProxyToolbar\"},{\"attributes\":{},\"id\":\"3050\",\"type\":\"BasicTickFormatter\"},{\"attributes\":{},\"id\":\"3225\",\"type\":\"UnionRenderers\"},{\"attributes\":{},\"id\":\"3244\",\"type\":\"UnionRenderers\"},{\"attributes\":{},\"id\":\"3177\",\"type\":\"BasicTickFormatter\"},{\"attributes\":{},\"id\":\"3101\",\"type\":\"Selection\"},{\"attributes\":{\"items\":[{\"id\":\"3305\",\"type\":\"LegendItem\"},{\"id\":\"3334\",\"type\":\"LegendItem\"},{\"id\":\"3371\",\"type\":\"LegendItem\"}],\"location\":\"top_center\",\"orientation\":\"horizontal\",\"visible\":false},\"id\":\"3304\",\"type\":\"Legend\"},{\"attributes\":{\"callback\":null,\"data\":{\"x\":[0,1,2,3,4,5,6,7,8,9,10,11,12,13],\"y\":{\"__ndarray__\":\"AAAAAAAAEEAAAAAAAABAQAAAAAAAAEBAMzMzMzMzL0AzMzMzMzMTQDMzMzMzM0hAAAAAAAAAEEAAAAAAAAAwQGZmZmZmZipAMzMzMzOzUkBmZmZmZuZQQAAAAAAAgF1AAAAAAACAQ0CamZmZmRlaQA==\",\"dtype\":\"float64\",\"shape\":[14]}},\"selected\":{\"id\":\"3458\",\"type\":\"Selection\"},\"selection_policy\":{\"id\":\"3457\",\"type\":\"UnionRenderers\"}},\"id\":\"3431\",\"type\":\"ColumnDataSource\"},{\"attributes\":{\"line_color\":\"#0C0786\",\"x\":{\"field\":\"x\"},\"y\":{\"field\":\"y\"}},\"id\":\"3169\",\"type\":\"Line\"},{\"attributes\":{\"axis_label\":\"week\",\"formatter\":{\"id\":\"3425\",\"type\":\"BasicTickFormatter\"},\"minor_tick_line_color\":{\"value\":null},\"ticker\":{\"id\":\"3521\",\"type\":\"SingleIntervalTicker\"},\"visible\":false},\"id\":\"3407\",\"type\":\"LinearAxis\"},{\"attributes\":{\"dimension\":1,\"grid_line_alpha\":0,\"ticker\":{\"id\":\"3163\",\"type\":\"BasicTicker\"}},\"id\":\"3166\",\"type\":\"Grid\"},{\"attributes\":{},\"id\":\"3457\",\"type\":\"UnionRenderers\"},{\"attributes\":{\"callback\":null,\"data\":{\"base\":[0,1,2,3,4,5,6,7,8,9,10,11,12,13],\"lower\":{\"__ndarray__\":\"AAAAAAAAEEAAAAAAAABAQJa0pPh01jxAVTTX1kBpLUAtJOqr7aINQHwzHJy2wEdAAAAAAAAAEEAAAAAAAAAwQKtorq2B0iZAIVFfbRdtUkD3Zjg4bQFQQEtaUnw661tAAAAAAACAQkD/Jhc7UINYQA==\",\"dtype\":\"float64\",\"shape\":[14]},\"upper\":{\"__ndarray__\":\"AAAAAAAAEEAAAAAAAABAQLWlrYPFlEFACJnHx5J+MEBQVHGQ75QXQOoySsqvpUhAAAAAAAAAEEAAAAAAAAAwQCFkHh9L+i1ARRUH+U75UkDVZZSUX8tRQLWlrYPFFF9AAAAAAACAREA1DBz44q9bQA==\",\"dtype\":\"float64\",\"shape\":[14]}},\"selected\":{\"id\":\"3543\",\"type\":\"Selection\"},\"selection_policy\":{\"id\":\"3542\",\"type\":\"UnionRenderers\"}},\"id\":\"3518\",\"type\":\"ColumnDataSource\"},{\"attributes\":{},\"id\":\"3563\",\"type\":\"Selection\"},{\"attributes\":{},\"id\":\"3192\",\"type\":\"UnionRenderers\"},{\"attributes\":{},\"id\":\"3607\",\"type\":\"Selection\"},{\"attributes\":{},\"id\":\"3403\",\"type\":\"LinearScale\"},{\"attributes\":{\"data_source\":{\"id\":\"3043\",\"type\":\"ColumnDataSource\"},\"glyph\":{\"id\":\"3044\",\"type\":\"Line\"},\"hover_glyph\":null,\"muted_glyph\":null,\"nonselection_glyph\":{\"id\":\"3045\",\"type\":\"Line\"},\"selection_glyph\":null,\"view\":{\"id\":\"3047\",\"type\":\"CDSView\"}},\"id\":\"3046\",\"type\":\"GlyphRenderer\"},{\"attributes\":{\"source\":{\"id\":\"3372\",\"type\":\"ColumnDataSource\"}},\"id\":\"3376\",\"type\":\"CDSView\"},{\"attributes\":{},\"id\":\"3155\",\"type\":\"LinearScale\"},{\"attributes\":{},\"id\":\"3516\",\"type\":\"UnionRenderers\"},{\"attributes\":{},\"id\":\"3517\",\"type\":\"Selection\"},{\"attributes\":{\"data_source\":{\"id\":\"3372\",\"type\":\"ColumnDataSource\"},\"glyph\":{\"id\":\"3373\",\"type\":\"Circle\"},\"hover_glyph\":null,\"muted_glyph\":null,\"nonselection_glyph\":{\"id\":\"3374\",\"type\":\"Circle\"},\"selection_glyph\":null,\"view\":{\"id\":\"3376\",\"type\":\"CDSView\"}},\"id\":\"3375\",\"type\":\"GlyphRenderer\"},{\"attributes\":{\"fill_alpha\":{\"value\":0.1},\"fill_color\":{\"value\":\"#1f77b4\"},\"line_alpha\":{\"value\":0.1},\"line_color\":{\"value\":\"#1f77b4\"},\"line_width\":{\"value\":2},\"x\":{\"field\":\"x\"},\"y\":{\"field\":\"y\"}},\"id\":\"3212\",\"type\":\"Diamond\"},{\"attributes\":{\"data_source\":{\"id\":\"3477\",\"type\":\"ColumnDataSource\"},\"glyph\":{\"id\":\"3478\",\"type\":\"Line\"},\"hover_glyph\":null,\"muted_glyph\":null,\"nonselection_glyph\":{\"id\":\"3479\",\"type\":\"Line\"},\"selection_glyph\":null,\"view\":{\"id\":\"3481\",\"type\":\"CDSView\"}},\"id\":\"3480\",\"type\":\"GlyphRenderer\"},{\"attributes\":{\"label\":{\"value\":\"Timeout (1)\"},\"renderers\":[{\"id\":\"3197\",\"type\":\"GlyphRenderer\"},{\"id\":\"3213\",\"type\":\"GlyphRenderer\"}]},\"id\":\"3209\",\"type\":\"LegendItem\"},{\"attributes\":{},\"id\":\"3442\",\"type\":\"UnionRenderers\"},{\"attributes\":{\"fill_alpha\":{\"value\":0.1},\"fill_color\":{\"value\":\"#1f77b4\"},\"line_alpha\":{\"value\":0.1},\"line_color\":{\"value\":\"#1f77b4\"},\"line_width\":{\"value\":2},\"x\":{\"field\":\"x\"},\"y\":{\"field\":\"y\"}},\"id\":\"3374\",\"type\":\"Circle\"},{\"attributes\":{\"fill_alpha\":{\"value\":0.1},\"fill_color\":{\"value\":\"#1f77b4\"},\"line_alpha\":{\"value\":0.1},\"line_color\":{\"value\":\"#1f77b4\"},\"line_width\":{\"value\":2},\"x\":{\"field\":\"x\"},\"y\":{\"field\":\"y\"}},\"id\":\"3183\",\"type\":\"Square\"},{\"attributes\":{\"callback\":null,\"end\":13.5},\"id\":\"3399\",\"type\":\"Range1d\"},{\"attributes\":{\"callback\":null,\"data\":{\"base\":[0,1,2,3,4,5,6,7,8,9,10,11,12,13],\"lower\":{\"__ndarray__\":\"aB5PDmzLhD/Pfj1yugG1P6XA/cqQ57Q/ydJZSnAMpj9G+BFZ+BSFP95KRSoogcE/YzfUyrp1hD/XDdXbzo6oP2RRN2YDL6I/IbRYDWTVyz9yVIeJtmn5Pwl4WFbTQ/A/gReP/Ors0j8JAfoUyeDsPw==\",\"dtype\":\"float64\",\"shape\":[14]},\"upper\":{\"__ndarray__\":\"KuLlpgDiij9HV1AFjcS1PwtD6cGXBbk/sWC1umfgpz+Zd0RdZnCSP/Zw2FvT7MI/0ybmflGMhj+//FTOrxarP1BqGg/WyqY/f1fb25z8zD82qD+poeL8P8Fm+ndEN/M/A2wujTZM1D+4uv9gXwrxPw==\",\"dtype\":\"float64\",\"shape\":[14]}},\"selected\":{\"id\":\"3565\",\"type\":\"Selection\"},\"selection_policy\":{\"id\":\"3564\",\"type\":\"UnionRenderers\"}},\"id\":\"3393\",\"type\":\"ColumnDataSource\"},{\"attributes\":{},\"id\":\"3317\",\"type\":\"UnionRenderers\"},{\"attributes\":{\"data_source\":{\"id\":\"3210\",\"type\":\"ColumnDataSource\"},\"glyph\":{\"id\":\"3211\",\"type\":\"Diamond\"},\"hover_glyph\":null,\"muted_glyph\":null,\"nonselection_glyph\":{\"id\":\"3212\",\"type\":\"Diamond\"},\"selection_glyph\":null,\"view\":{\"id\":\"3214\",\"type\":\"CDSView\"}},\"id\":\"3213\",\"type\":\"GlyphRenderer\"},{\"attributes\":{\"source\":{\"id\":\"3477\",\"type\":\"ColumnDataSource\"}},\"id\":\"3481\",\"type\":\"CDSView\"},{\"attributes\":{\"line_alpha\":0.1,\"line_color\":\"#1f77b4\",\"x\":{\"field\":\"x\"},\"y\":{\"field\":\"y\"}},\"id\":\"3354\",\"type\":\"Line\"},{\"attributes\":{\"level\":\"underlay\",\"size\":10},\"id\":\"3594\",\"type\":\"TeeHead\"},{\"attributes\":{\"fill_alpha\":{\"value\":0.1},\"fill_color\":{\"value\":\"#1f77b4\"},\"line_alpha\":{\"value\":0.1},\"line_color\":{\"value\":\"#1f77b4\"},\"line_width\":{\"value\":2},\"x\":{\"field\":\"x\"},\"y\":{\"field\":\"y\"}},\"id\":\"3462\",\"type\":\"Diamond\"},{\"attributes\":{},\"id\":\"3543\",\"type\":\"Selection\"},{\"attributes\":{\"data_source\":{\"id\":\"3460\",\"type\":\"ColumnDataSource\"},\"glyph\":{\"id\":\"3461\",\"type\":\"Diamond\"},\"hover_glyph\":null,\"muted_glyph\":null,\"nonselection_glyph\":{\"id\":\"3462\",\"type\":\"Diamond\"},\"selection_glyph\":null,\"view\":{\"id\":\"3464\",\"type\":\"CDSView\"}},\"id\":\"3463\",\"type\":\"GlyphRenderer\"},{\"attributes\":{\"label\":{\"value\":\"DeepShutdown\"},\"renderers\":[{\"id\":\"3421\",\"type\":\"GlyphRenderer\"},{\"id\":\"3434\",\"type\":\"GlyphRenderer\"}]},\"id\":\"3430\",\"type\":\"LegendItem\"}],\"root_ids\":[\"3614\"]},\"title\":\"Bokeh Application\",\"version\":\"1.3.4\"}};\n",
       "  var render_items = [{\"docid\":\"4d7e049a-e242-46bf-b119-639938c5820b\",\"roots\":{\"3614\":\"22156f32-0375-463e-bbf9-2bed56c9778d\"}}];\n",
       "  root.Bokeh.embed.embed_items_notebook(docs_json, render_items);\n",
       "\n",
       "  }\n",
       "  if (root.Bokeh !== undefined) {\n",
       "    embed_document(root);\n",
       "  } else {\n",
       "    var attempts = 0;\n",
       "    var timer = setInterval(function(root) {\n",
       "      if (root.Bokeh !== undefined) {\n",
       "        embed_document(root);\n",
       "        clearInterval(timer);\n",
       "      }\n",
       "      attempts++;\n",
       "      if (attempts > 100) {\n",
       "        console.log(\"Bokeh: ERROR: Unable to run BokehJS code because BokehJS library is missing\");\n",
       "        clearInterval(timer);\n",
       "      }\n",
       "    }, 10, root)\n",
       "  }\n",
       "})(window);"
      ],
      "application/vnd.bokehjs_exec.v0+json": ""
     },
     "metadata": {
      "application/vnd.bokehjs_exec.v0+json": {
       "id": "3614"
      }
     },
     "output_type": "display_data"
    }
   ],
   "source": [
    "p4= compare(test_results, 'mean_stretch', 'Average stretch (min)', legnd=False)\n",
    "p3 = compare(test_results,'score', 'Score', legnd=False, showx=False)\n",
    "p2 = compare(test_results,'energy_waste', 'Energy wasted (J x Million)', legnd=False, showx=False, scale=1000000)\n",
    "p1 = compare(test_results,'nb_switches', 'Nb. of state switches', showx=False)\n",
    "fig = gridplot([[p1], [p2], [p3], [p4]])\n",
    "export_png(fig, os.path.join(output_dir, 'test_results.png'))\n",
    "show(fig)"
   ]
  },
  {
   "cell_type": "code",
   "execution_count": 11,
   "metadata": {},
   "outputs": [
    {
     "data": {
      "text/html": [
       "<div>\n",
       "<style scoped>\n",
       "    .dataframe tbody tr th:only-of-type {\n",
       "        vertical-align: middle;\n",
       "    }\n",
       "\n",
       "    .dataframe tbody tr th {\n",
       "        vertical-align: top;\n",
       "    }\n",
       "\n",
       "    .dataframe thead th {\n",
       "        text-align: right;\n",
       "    }\n",
       "</style>\n",
       "<table border=\"1\" class=\"dataframe\">\n",
       "  <thead>\n",
       "    <tr style=\"text-align: right;\">\n",
       "      <th></th>\n",
       "      <th>policy</th>\n",
       "      <th>score</th>\n",
       "      <th>mean_stretch</th>\n",
       "      <th>nb_switches</th>\n",
       "      <th>energy_waste</th>\n",
       "      <th>score_perc</th>\n",
       "      <th>mean_stretch_perc</th>\n",
       "      <th>nb_switches_perc</th>\n",
       "      <th>energy_waste_perc</th>\n",
       "    </tr>\n",
       "  </thead>\n",
       "  <tbody>\n",
       "    <tr>\n",
       "      <th>0</th>\n",
       "      <td>DeepShutdown</td>\n",
       "      <td>-0.805143</td>\n",
       "      <td>0.020660</td>\n",
       "      <td>7.0</td>\n",
       "      <td>1409.0</td>\n",
       "      <td>0.234365</td>\n",
       "      <td>1.000000</td>\n",
       "      <td>0.583333</td>\n",
       "      <td>0.234365</td>\n",
       "    </tr>\n",
       "    <tr>\n",
       "      <th>1</th>\n",
       "      <td>OR (0.5)</td>\n",
       "      <td>-1.264000</td>\n",
       "      <td>0.013021</td>\n",
       "      <td>12.0</td>\n",
       "      <td>2212.0</td>\n",
       "      <td>0.367931</td>\n",
       "      <td>0.630252</td>\n",
       "      <td>1.000000</td>\n",
       "      <td>0.367931</td>\n",
       "    </tr>\n",
       "    <tr>\n",
       "      <th>2</th>\n",
       "      <td>Timeout (1)</td>\n",
       "      <td>-1.481143</td>\n",
       "      <td>0.013021</td>\n",
       "      <td>12.0</td>\n",
       "      <td>2592.0</td>\n",
       "      <td>0.431138</td>\n",
       "      <td>0.630252</td>\n",
       "      <td>1.000000</td>\n",
       "      <td>0.431138</td>\n",
       "    </tr>\n",
       "    <tr>\n",
       "      <th>3</th>\n",
       "      <td>Timeout (10)</td>\n",
       "      <td>-3.435429</td>\n",
       "      <td>0.013021</td>\n",
       "      <td>12.0</td>\n",
       "      <td>6012.0</td>\n",
       "      <td>1.000000</td>\n",
       "      <td>0.630252</td>\n",
       "      <td>1.000000</td>\n",
       "      <td>1.000000</td>\n",
       "    </tr>\n",
       "    <tr>\n",
       "      <th>4</th>\n",
       "      <td>Timeout (5)</td>\n",
       "      <td>-2.349714</td>\n",
       "      <td>0.013021</td>\n",
       "      <td>12.0</td>\n",
       "      <td>4112.0</td>\n",
       "      <td>0.683965</td>\n",
       "      <td>0.630252</td>\n",
       "      <td>1.000000</td>\n",
       "      <td>0.683965</td>\n",
       "    </tr>\n",
       "  </tbody>\n",
       "</table>\n",
       "</div>"
      ],
      "text/plain": [
       "         policy     score  mean_stretch  nb_switches  energy_waste  \\\n",
       "0  DeepShutdown -0.805143      0.020660          7.0        1409.0   \n",
       "1      OR (0.5) -1.264000      0.013021         12.0        2212.0   \n",
       "2   Timeout (1) -1.481143      0.013021         12.0        2592.0   \n",
       "3  Timeout (10) -3.435429      0.013021         12.0        6012.0   \n",
       "4   Timeout (5) -2.349714      0.013021         12.0        4112.0   \n",
       "\n",
       "   score_perc  mean_stretch_perc  nb_switches_perc  energy_waste_perc  \n",
       "0    0.234365           1.000000          0.583333           0.234365  \n",
       "1    0.367931           0.630252          1.000000           0.367931  \n",
       "2    0.431138           0.630252          1.000000           0.431138  \n",
       "3    1.000000           0.630252          1.000000           1.000000  \n",
       "4    0.683965           0.630252          1.000000           0.683965  "
      ]
     },
     "execution_count": 11,
     "metadata": {},
     "output_type": "execute_result"
    }
   ],
   "source": [
    "x = test_results.groupby(['policy'], as_index=False).mean()\n",
    "x = x[['policy', 'score', 'mean_stretch', 'nb_switches', 'energy_waste']]\n",
    "x['score_perc'] = x['score'] / x['score'].min()\n",
    "x['mean_stretch_perc'] = x['mean_stretch'] / x['mean_stretch'].max()\n",
    "x['nb_switches_perc'] = x['nb_switches'] / x['nb_switches'].max()\n",
    "x['energy_waste_perc'] = x['energy_waste'] / x['energy_waste'].max()\n",
    "x"
   ]
  },
  {
   "cell_type": "markdown",
   "metadata": {},
   "source": [
    "### 5) Analyse the policy learned by DeepShutdown"
   ]
  },
  {
   "cell_type": "code",
   "execution_count": 42,
   "metadata": {},
   "outputs": [],
   "source": [
    "import pandas as pd\n",
    "\n",
    "history = pd.read_csv(\"lyon/results/history.csv\")\n",
    "history = history[~((history.queue_sz == 0) & (history.reservation == 0))]\n",
    "\n",
    "#clusters = pd.read_csv(\"lyon/lyon_clusters.csv\")\n",
    "#cluster_util = clusters.groupby('cluster', as_index=False).mean()\n",
    "#bins = [0, 5., 25., 50., 75., 100.]\n",
    "#group_names = [\"5 %\", \"25 %\", \"50 %\", \"75 %\", \"100 %\"]\n",
    "#clusters['utilization_binned'] = pd.cut(clusters['utilization'], bins, labels=group_names, include_lowest=True)\n",
    "#clusters = clusters.groupby('cluster').first()\n",
    "#history['cluster_util'] = history['cluster'].apply(lambda c: clusters.iloc[c]['utilization_binned'])"
   ]
  },
  {
   "cell_type": "markdown",
   "metadata": {},
   "source": [
    "#### 5.1) Reservation size frequency per workload utilisation"
   ]
  },
  {
   "cell_type": "code",
   "execution_count": 83,
   "metadata": {},
   "outputs": [
    {
     "ename": "NameError",
     "evalue": "name 'history' is not defined",
     "output_type": "error",
     "traceback": [
      "\u001b[0;31m---------------------------------------------------------------------------\u001b[0m",
      "\u001b[0;31mNameError\u001b[0m                                 Traceback (most recent call last)",
      "\u001b[0;32m<ipython-input-83-172ffefd4741>\u001b[0m in \u001b[0;36m<module>\u001b[0;34m\u001b[0m\n\u001b[1;32m      6\u001b[0m \u001b[0mplot_order\u001b[0m \u001b[0;34m=\u001b[0m \u001b[0;34m{\u001b[0m\u001b[0;34m'5 %'\u001b[0m\u001b[0;34m:\u001b[0m \u001b[0;36m0\u001b[0m\u001b[0;34m,\u001b[0m \u001b[0;34m'25 %'\u001b[0m\u001b[0;34m:\u001b[0m \u001b[0;36m1\u001b[0m\u001b[0;34m,\u001b[0m \u001b[0;34m'50 %'\u001b[0m\u001b[0;34m:\u001b[0m \u001b[0;36m2\u001b[0m\u001b[0;34m,\u001b[0m \u001b[0;34m'75 %'\u001b[0m\u001b[0;34m:\u001b[0m \u001b[0;36m3\u001b[0m\u001b[0;34m,\u001b[0m \u001b[0;34m'100 %'\u001b[0m\u001b[0;34m:\u001b[0m \u001b[0;36m4\u001b[0m\u001b[0;34m}\u001b[0m\u001b[0;34m\u001b[0m\u001b[0;34m\u001b[0m\u001b[0m\n\u001b[1;32m      7\u001b[0m \u001b[0;34m\u001b[0m\u001b[0m\n\u001b[0;32m----> 8\u001b[0;31m \u001b[0;32mfor\u001b[0m \u001b[0ma\u001b[0m\u001b[0;34m,\u001b[0m \u001b[0mb\u001b[0m \u001b[0;32min\u001b[0m \u001b[0mhistory\u001b[0m\u001b[0;34m.\u001b[0m\u001b[0mgroupby\u001b[0m\u001b[0;34m(\u001b[0m\u001b[0;34m'cluster_util'\u001b[0m\u001b[0;34m)\u001b[0m\u001b[0;34m:\u001b[0m\u001b[0;34m\u001b[0m\u001b[0;34m\u001b[0m\u001b[0m\n\u001b[0m\u001b[1;32m      9\u001b[0m     \u001b[0mx\u001b[0m \u001b[0;34m=\u001b[0m \u001b[0mb\u001b[0m\u001b[0;34m.\u001b[0m\u001b[0mgroupby\u001b[0m\u001b[0;34m(\u001b[0m\u001b[0;34m'reservation'\u001b[0m\u001b[0;34m)\u001b[0m\u001b[0;34m.\u001b[0m\u001b[0msize\u001b[0m\u001b[0;34m(\u001b[0m\u001b[0;34m)\u001b[0m\u001b[0;34m\u001b[0m\u001b[0;34m\u001b[0m\u001b[0m\n\u001b[1;32m     10\u001b[0m     \u001b[0mx\u001b[0m \u001b[0;34m/=\u001b[0m \u001b[0mx\u001b[0m\u001b[0;34m.\u001b[0m\u001b[0msum\u001b[0m\u001b[0;34m(\u001b[0m\u001b[0;34m)\u001b[0m\u001b[0;34m\u001b[0m\u001b[0;34m\u001b[0m\u001b[0m\n",
      "\u001b[0;31mNameError\u001b[0m: name 'history' is not defined"
     ]
    },
    {
     "data": {
      "image/png": "[encoded data removed]",
      "text/plain": [
       "<Figure size 1080x360 with 5 Axes>"
      ]
     },
     "metadata": {
      "needs_background": "light"
     },
     "output_type": "display_data"
    }
   ],
   "source": [
    "import matplotlib.pyplot as plt\n",
    "import numpy as np\n",
    "\n",
    "fig, ax = plt.subplots(1, 5, figsize=(15,5), sharey=True, sharex=False, clear=True)\n",
    "\n",
    "plot_order = {'5 %': 0, '25 %': 1, '50 %': 2, '75 %': 3, '100 %': 4}\n",
    "\n",
    "for a, b in history.groupby('cluster_util'):\n",
    "    x = b.groupby('reservation').size()\n",
    "    x /= x.sum()\n",
    "    ax[plot_order[a]].set_title(a)\n",
    "    ax[plot_order[a]].bar(x=np.arange(0, 15), height=x, width=1, align='edge', edgecolor='black')\n",
    "    ax[plot_order[a]].set_xlim([-0, 15])\n",
    "    ax[plot_order[a]].set_xticks(np.arange(0, 15)+.5, minor=False)\n",
    "    ax[plot_order[a]].set_xticklabels([str(a) for a in np.arange(0, 15)], minor=False)\n",
    "    ax[plot_order[a]].set_ylim([0, 0.7])\n",
    "    ax[plot_order[a]].grid(axis='y')\n",
    "\n",
    "ax[0].set_ylabel(\"Frequency\")\n",
    "ax[2].set_xlabel(\"Reservation size\")\n",
    "plt.tight_layout()\n",
    "\n",
    "plt.savefig(os.path.join(output_dir, 'reservation_freq.png'))\n"
   ]
  },
  {
   "cell_type": "markdown",
   "metadata": {},
   "source": [
    "#### 5.2) Reservation size vs Queue size"
   ]
  },
  {
   "cell_type": "code",
   "execution_count": 106,
   "metadata": {},
   "outputs": [
    {
     "name": "stdout",
     "output_type": "stream",
     "text": [
      "56477.0\n"
     ]
    },
    {
     "data": {
      "image/png": "[encoded data removed]",
      "text/plain": [
       "<Figure size 576x288 with 1 Axes>"
      ]
     },
     "metadata": {
      "needs_background": "light"
     },
     "output_type": "display_data"
    }
   ],
   "source": [
    "\n",
    "import matplotlib.colors as colors\n",
    "grouped =history.groupby(['queue_sz', 'reservation']).size().unstack().fillna(0)\n",
    "print(np.max(grouped.max()))\n",
    "fig, ax = plt.subplots(figsize=(8,4))\n",
    "im = ax.pcolor(grouped, edgecolors=None, cmap='PuBu', norm=colors.LogNorm(vmin=1+np.min(grouped.min()), vmax=np.max(grouped.max())))\n",
    "               \n",
    "ax.set_xticks(np.arange(0, 15)+.5, minor=False)\n",
    "ax.set_xticklabels([str(a) for a in np.arange(0, 15)], minor=False)\n",
    "ax.set_yticks(np.arange(0, grouped.shape[0]+1, 25), minor=False)\n",
    "ax.set_xlabel(\"Reservation size\")\n",
    "ax.set_ylabel(\"Queue size\")\n",
    "plt.tight_layout()\n",
    "plt.savefig(os.path.join(output_dir, 'normalized_reservation_per_queue.png'))"
   ]
  },
  {
   "cell_type": "code",
   "execution_count": 105,
   "metadata": {},
   "outputs": [
    {
     "data": {
      "image/png": "[encoded data removed]",
      "text/plain": [
       "<Figure size 432x432 with 1 Axes>"
      ]
     },
     "metadata": {
      "needs_background": "light"
     },
     "output_type": "display_data"
    }
   ],
   "source": [
    "import seaborn as sns\n",
    "f, ax = plt.subplots(figsize=(6, 6))\n",
    "#cmap = sns.cubehelix_palette(as_cmap=True, dark=0, light=1, reverse=False)\n",
    "sns.kdeplot(history.reservation, history.queue_sz, shade=True);"
   ]
  },
  {
   "cell_type": "markdown",
   "metadata": {},
   "source": [
    "#### 4.1) ANOVA   "
   ]
  },
  {
   "cell_type": "code",
   "execution_count": 103,
   "metadata": {},
   "outputs": [
    {
     "name": "stdout",
     "output_type": "stream",
     "text": [
      "F_onewayResult(statistic=21.46025640351677, pvalue=1.0500722183321777e-05)\n",
      "F_onewayResult(statistic=65.99968357968736, pvalue=9.863426074777389e-13)\n",
      "F_onewayResult(statistic=110.67840849562002, pvalue=4.6260566079517584e-18)\n"
     ]
    }
   ],
   "source": [
    "#fig, ax = plt.subplots()\n",
    "grouped = bench_results.groupby([bench_results.index, bench_results.policy]).reward.apply(np.mean).unstack()\n",
    "\n",
    "print(stats.f_oneway(grouped['DeepShutdown'], grouped['idle_5']))\n",
    "print(stats.f_oneway(grouped['DeepShutdown'], grouped['idle_10']))\n",
    "print(stats.f_oneway(grouped['DeepShutdown'], grouped['idle_15']))"
   ]
  },
  {
   "cell_type": "code",
   "execution_count": 82,
   "metadata": {},
   "outputs": [],
   "source": [
    "import json\n",
    "\n",
    "with open('clrlcgce02/workloads/temp/2006-03-05.json') as f:\n",
    "    workload = json.load(f)\n",
    "    all_jobs = workload['jobs']\n",
    "    for i in range(1, 8):\n",
    "        workload['jobs'] = []\n",
    "        while True and all_jobs:\n",
    "            job = all_jobs[0]\n",
    "            if job['subtime'] < 1440 * i:\n",
    "                job['subtime'] -= 1440 * (i - 1)\n",
    "                workload['jobs'].append(job)\n",
    "                del all_jobs[0]\n",
    "            else:\n",
    "                break\n",
    "        workload['nb_jobs'] = len(workload['jobs'])\n",
    "        if workload['jobs']:\n",
    "            workload['max_walltime'] = max(j['walltime'] for j in workload['jobs'])\n",
    "            workload['load'] = sum((workload['profiles'][j['profile']]['cpu'] / 1000000.) * j['res'] for j in workload['jobs']) / (1440 * 168.)\n",
    "            with open('clrlcgce02/workloads/temp/day_{}.json'.format(i), 'w') as ou:\n",
    "                json.dump(workload, ou)\n",
    "                                \n",
    "        \n"
   ]
  }
 ],
 "metadata": {
  "kernelspec": {
   "display_name": "Python 3",
   "language": "python",
   "name": "python3"
  },
  "language_info": {
   "codemirror_mode": {
    "name": "ipython",
    "version": 3
   },
   "file_extension": ".py",
   "mimetype": "text/x-python",
   "name": "python",
   "nbconvert_exporter": "python",
   "pygments_lexer": "ipython3",
   "version": "3.6.7"
  }
 },
 "nbformat": 4,
 "nbformat_minor": 2
}
