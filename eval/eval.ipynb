{
 "cells": [
  {
   "cell_type": "markdown",
   "metadata": {},
   "source": [
    "## Deep Shutdown Benchmark Test"
   ]
  },
  {
   "cell_type": "markdown",
   "metadata": {},
   "source": [
    "### 1) Load evaluation environment"
   ]
  },
  {
   "cell_type": "code",
   "execution_count": 1,
   "metadata": {},
   "outputs": [],
   "source": [
    "import warnings\n",
    "import os\n",
    "from gridgym.envs.grid_env import GridEnv\n",
    "from datetime import datetime\n",
    "from shutil import copyfile\n",
    "from gridgym.envs.off_reservation_env import OffReservationEnv\n",
    "\n",
    "warnings.filterwarnings('ignore')\n",
    "\n",
    "cluster = 'lyon'\n",
    "\n",
    "# Define variables\n",
    "train_log = \"../weights/ppo_log.csv\"\n",
    "test_workloads =  cluster + \"/workloads/test/\"\n",
    "train_workloads =  cluster + \"/workloads/train/\"\n",
    "output_dir =  cluster + \"/results/\"\n",
    "platform_fn = cluster + \"/platform.xml\"\n",
    "deepshutdown_model = \"../weights/checkpoints/taurus\"\n",
    "simulator_path = \"../src/\"\n",
    "env_id = 'OffReservation-v0'\n",
    "deepshutdown_repeat = 5\n",
    "timeout_policies = [1, 10]\n",
    "seed = 48238\n",
    "\n",
    "GridEnv.OUTPUT= os.path.join(simulator_path, GridEnv.OUTPUT)\n",
    "GridEnv.PLATFORM= os.path.join(simulator_path, GridEnv.PLATFORM)\n",
    "GridEnv.WORKLOADS= os.path.join(simulator_path, GridEnv.WORKLOADS)\n",
    "OffReservationEnv.TRACE = True"
   ]
  },
  {
   "cell_type": "code",
   "execution_count": 2,
   "metadata": {},
   "outputs": [
    {
     "name": "stdout",
     "output_type": "stream",
     "text": [
      "WARNING:tensorflow:From /home/d2/anaconda3/envs/drl-gpu/lib/python3.6/site-packages/tensorflow/python/data/ops/dataset_ops.py:1419: colocate_with (from tensorflow.python.framework.ops) is deprecated and will be removed in a future version.\n",
      "Instructions for updating:\n",
      "Colocations handled automatically by placer.\n",
      "WARNING:tensorflow:From /home/d2/Projects/Deep-Scheduler/src/agents/ppo.py:154: Categorical.__init__ (from tensorflow.python.ops.distributions.categorical) is deprecated and will be removed after 2019-01-01.\n",
      "Instructions for updating:\n",
      "The TensorFlow Distributions library has moved to TensorFlow Probability (https://github.com/tensorflow/probability). You should update all references to use `tfp.distributions` instead of `tf.distributions`.\n",
      "WARNING:tensorflow:From /home/d2/anaconda3/envs/drl-gpu/lib/python3.6/site-packages/tensorflow/python/ops/distributions/categorical.py:242: Distribution.__init__ (from tensorflow.python.ops.distributions.distribution) is deprecated and will be removed after 2019-01-01.\n",
      "Instructions for updating:\n",
      "The TensorFlow Distributions library has moved to TensorFlow Probability (https://github.com/tensorflow/probability). You should update all references to use `tfp.distributions` instead of `tf.distributions`.\n",
      "WARNING:tensorflow:From /home/d2/anaconda3/envs/drl-gpu/lib/python3.6/site-packages/tensorflow/python/ops/distributions/categorical.py:278: multinomial (from tensorflow.python.ops.random_ops) is deprecated and will be removed in a future version.\n",
      "Instructions for updating:\n",
      "Use tf.random.categorical instead.\n",
      "WARNING:tensorflow:From /home/d2/anaconda3/envs/drl-gpu/lib/python3.6/site-packages/tensorflow/python/ops/math_ops.py:3066: to_int32 (from tensorflow.python.ops.math_ops) is deprecated and will be removed in a future version.\n",
      "Instructions for updating:\n",
      "Use tf.cast instead.\n",
      "\u001b[32m [*] Loading variables...\u001b[0m\n",
      "\u001b[32m [*] Variables loaded successfully\u001b[0m\n"
     ]
    }
   ],
   "source": [
    "# Load platform/model\n",
    "from src import deepshutdown as launcher\n",
    "def load_platform(fn):\n",
    "    simulator_platform = os.path.join(simulator_path, GridEnv.PLATFORM)\n",
    "    copyfile(fn, simulator_platform)\n",
    "    \n",
    "def load_deepshutdown(weights, env_id):\n",
    "    import sys\n",
    "    argv_tmp, sys.argv = sys.argv, [sys.argv[0]]  # workaround to get default model parameters from launcher.\n",
    "    args = launcher.parse_args()\n",
    "    sys.argv = argv_tmp\n",
    "    env = launcher.build_env(args.env_id, 1, args.nb_frames)\n",
    "    input_shape, nb_actions = env.observation_space.shape, env.action_space.n\n",
    "    agent = launcher.get_agent(input_shape, nb_actions, 1, seed, args.nb_frames, 1, 1, 1, 1, None)\n",
    "    agent.load(weights)\n",
    "    return agent, args.nb_frames\n",
    "\n",
    "load_platform(platform_fn)\n",
    "deep_shutdown, nb_frames = load_deepshutdown(deepshutdown_model, env_id)"
   ]
  },
  {
   "cell_type": "markdown",
   "metadata": {},
   "source": [
    "### 3) Run tests"
   ]
  },
  {
   "cell_type": "markdown",
   "metadata": {},
   "source": [
    "#### 3.1) Prepare"
   ]
  },
  {
   "cell_type": "code",
   "execution_count": 3,
   "metadata": {},
   "outputs": [],
   "source": [
    "import gym\n",
    "import gridgym.envs.grid_env as g\n",
    "import pandas as pd\n",
    "import numpy as np\n",
    "from gridgym.envs.simulator.utils.graphics import plot_simulation_graphics\n",
    "from collections import defaultdict\n",
    "from shutil import rmtree\n",
    "from tqdm import tqdm_notebook as tqdm\n",
    "from src.agents.timeout import TimeoutAgent  \n",
    "\n",
    "import matplotlib.pyplot as plt\n",
    "\n",
    "\n",
    "def get_workloads(path):\n",
    "    return [os.path.join(path, w) for w in os.listdir(path) if w.endswith('.json')]\n",
    "\n",
    "def load_workload(src, dest):\n",
    "    rmtree(dest)\n",
    "    os.makedirs(dest)\n",
    "    fn = os.path.split(src)[-1]\n",
    "    copyfile(src, os.path.join(dest, fn))\n",
    "\n",
    "def run_deepshutdown(env_id, agent):\n",
    "    env = launcher.build_env(env_id, 1, nb_frames)\n",
    "    r = agent.play(env)\n",
    "    r['policy'] = 'DeepShutdown'\n",
    "    return r\n",
    "\n",
    "def run_timeout(env_id, timeout):    \n",
    "    env = gym.make(env_id)\n",
    "    nb_resources = env.observation_space.spaces['platform'].shape[0] * env.observation_space.spaces['platform'].shape[1]\n",
    "    nb_nodes = env.observation_space.spaces['platform'].shape[0]\n",
    "    agent = TimeoutAgent(timeout, nb_resources, nb_nodes)\n",
    "    results = agent.play(env)\n",
    "    results['policy'] = \"Timeout ({})\".format(timeout)\n",
    "    return results\n",
    "\n",
    "def run_experiment(workloads):\n",
    "    bench_results = defaultdict(list)\n",
    "    simulator_workload = os.path.join(simulator_path, GridEnv.WORKLOADS)\n",
    "    \n",
    "    for _ in tqdm(range(4), desc=\"DeepShutdown Experiments\"):\n",
    "        for workload in tqdm(workloads, desc='Workloads', leave=False):\n",
    "            w_name = workload[workload.rfind('_')+1:workload.rfind('.json')]\n",
    "            load_workload(workload, simulator_workload)\n",
    "            results = run_deepshutdown(env_id, deep_shutdown)\n",
    "            results['week'] = w_name\n",
    "            for k, v in results.items():\n",
    "                bench_results[k].append(v)\n",
    "            #f = plot_simulation_graphics(results['trace'][-1]['jobs'],results['trace'][-1]['host_states'],results['trace'][-1]['host_pstates'],results['trace'][-1]['consumed_energy'],show=False)\n",
    "            #plt.close()\n",
    "            #f.savefig(os.path.join(output_dir, 'deepshutdown_{}.png'.format(results['workload'][-1])))\n",
    "    for workload in tqdm(workloads, desc='Timeout Experiments', leave=True):\n",
    "        load_workload(workload, simulator_workload)\n",
    "        w_name = workload[workload.rfind('_')+1:workload.rfind('.json')]\n",
    "        # Run Timeout Experiments\n",
    "        for timeout in tqdm(timeout_policies, desc='Timeout', leave=False):\n",
    "            results = run_timeout(env_id, timeout)\n",
    "            results['week'] = w_name\n",
    "            for k, v in results.items():\n",
    "                bench_results[k].append(v)\n",
    "            #f = plot_simulation_graphics(results['trace']['jobs'],results['trace']['host_states'],results['trace']['host_pstates'],results['trace']['consumed_energy'],show=False)\n",
    "            #plt.close()\n",
    "            #f.savefig(os.path.join(output_dir, '{}_{}.png'.format(timeout, results['workload'])))\n",
    "    return bench_results    "
   ]
  },
  {
   "cell_type": "markdown",
   "metadata": {},
   "source": [
    "#### Test with Train Data"
   ]
  },
  {
   "cell_type": "code",
   "execution_count": 4,
   "metadata": {},
   "outputs": [
    {
     "data": {
      "application/vnd.jupyter.widget-view+json": {
       "model_id": "3e8e9b6d7453455caf35951a36358530",
       "version_major": 2,
       "version_minor": 0
      },
      "text/plain": [
       "HBox(children=(IntProgress(value=0, description='DeepShutdown Experiments', max=4), HTML(value='')))"
      ]
     },
     "metadata": {},
     "output_type": "display_data"
    },
    {
     "data": {
      "application/vnd.jupyter.widget-view+json": {
       "model_id": "",
       "version_major": 2,
       "version_minor": 0
      },
      "text/plain": [
       "HBox(children=(IntProgress(value=0, description='Workloads', max=48), HTML(value='')))"
      ]
     },
     "metadata": {},
     "output_type": "display_data"
    },
    {
     "data": {
      "application/vnd.jupyter.widget-view+json": {
       "model_id": "",
       "version_major": 2,
       "version_minor": 0
      },
      "text/plain": [
       "HBox(children=(IntProgress(value=0, description='Workloads', max=48), HTML(value='')))"
      ]
     },
     "metadata": {},
     "output_type": "display_data"
    },
    {
     "data": {
      "application/vnd.jupyter.widget-view+json": {
       "model_id": "",
       "version_major": 2,
       "version_minor": 0
      },
      "text/plain": [
       "HBox(children=(IntProgress(value=0, description='Workloads', max=48), HTML(value='')))"
      ]
     },
     "metadata": {},
     "output_type": "display_data"
    },
    {
     "data": {
      "application/vnd.jupyter.widget-view+json": {
       "model_id": "",
       "version_major": 2,
       "version_minor": 0
      },
      "text/plain": [
       "HBox(children=(IntProgress(value=0, description='Workloads', max=48), HTML(value='')))"
      ]
     },
     "metadata": {},
     "output_type": "display_data"
    },
    {
     "name": "stdout",
     "output_type": "stream",
     "text": [
      "\n"
     ]
    },
    {
     "data": {
      "application/vnd.jupyter.widget-view+json": {
       "model_id": "3e6e7e473cb6412194a77fc203ee73b1",
       "version_major": 2,
       "version_minor": 0
      },
      "text/plain": [
       "HBox(children=(IntProgress(value=0, description='Timeout Experiments', max=48), HTML(value='')))"
      ]
     },
     "metadata": {},
     "output_type": "display_data"
    },
    {
     "data": {
      "application/vnd.jupyter.widget-view+json": {
       "model_id": "",
       "version_major": 2,
       "version_minor": 0
      },
      "text/plain": [
       "HBox(children=(IntProgress(value=0, description='Timeout', max=2), HTML(value='')))"
      ]
     },
     "metadata": {},
     "output_type": "display_data"
    },
    {
     "data": {
      "application/vnd.jupyter.widget-view+json": {
       "model_id": "",
       "version_major": 2,
       "version_minor": 0
      },
      "text/plain": [
       "HBox(children=(IntProgress(value=0, description='Timeout', max=2), HTML(value='')))"
      ]
     },
     "metadata": {},
     "output_type": "display_data"
    },
    {
     "data": {
      "application/vnd.jupyter.widget-view+json": {
       "model_id": "",
       "version_major": 2,
       "version_minor": 0
      },
      "text/plain": [
       "HBox(children=(IntProgress(value=0, description='Timeout', max=2), HTML(value='')))"
      ]
     },
     "metadata": {},
     "output_type": "display_data"
    },
    {
     "data": {
      "application/vnd.jupyter.widget-view+json": {
       "model_id": "",
       "version_major": 2,
       "version_minor": 0
      },
      "text/plain": [
       "HBox(children=(IntProgress(value=0, description='Timeout', max=2), HTML(value='')))"
      ]
     },
     "metadata": {},
     "output_type": "display_data"
    },
    {
     "data": {
      "application/vnd.jupyter.widget-view+json": {
       "model_id": "",
       "version_major": 2,
       "version_minor": 0
      },
      "text/plain": [
       "HBox(children=(IntProgress(value=0, description='Timeout', max=2), HTML(value='')))"
      ]
     },
     "metadata": {},
     "output_type": "display_data"
    },
    {
     "data": {
      "application/vnd.jupyter.widget-view+json": {
       "model_id": "",
       "version_major": 2,
       "version_minor": 0
      },
      "text/plain": [
       "HBox(children=(IntProgress(value=0, description='Timeout', max=2), HTML(value='')))"
      ]
     },
     "metadata": {},
     "output_type": "display_data"
    },
    {
     "data": {
      "application/vnd.jupyter.widget-view+json": {
       "model_id": "",
       "version_major": 2,
       "version_minor": 0
      },
      "text/plain": [
       "HBox(children=(IntProgress(value=0, description='Timeout', max=2), HTML(value='')))"
      ]
     },
     "metadata": {},
     "output_type": "display_data"
    },
    {
     "data": {
      "application/vnd.jupyter.widget-view+json": {
       "model_id": "",
       "version_major": 2,
       "version_minor": 0
      },
      "text/plain": [
       "HBox(children=(IntProgress(value=0, description='Timeout', max=2), HTML(value='')))"
      ]
     },
     "metadata": {},
     "output_type": "display_data"
    },
    {
     "data": {
      "application/vnd.jupyter.widget-view+json": {
       "model_id": "",
       "version_major": 2,
       "version_minor": 0
      },
      "text/plain": [
       "HBox(children=(IntProgress(value=0, description='Timeout', max=2), HTML(value='')))"
      ]
     },
     "metadata": {},
     "output_type": "display_data"
    },
    {
     "data": {
      "application/vnd.jupyter.widget-view+json": {
       "model_id": "",
       "version_major": 2,
       "version_minor": 0
      },
      "text/plain": [
       "HBox(children=(IntProgress(value=0, description='Timeout', max=2), HTML(value='')))"
      ]
     },
     "metadata": {},
     "output_type": "display_data"
    },
    {
     "data": {
      "application/vnd.jupyter.widget-view+json": {
       "model_id": "",
       "version_major": 2,
       "version_minor": 0
      },
      "text/plain": [
       "HBox(children=(IntProgress(value=0, description='Timeout', max=2), HTML(value='')))"
      ]
     },
     "metadata": {},
     "output_type": "display_data"
    },
    {
     "data": {
      "application/vnd.jupyter.widget-view+json": {
       "model_id": "",
       "version_major": 2,
       "version_minor": 0
      },
      "text/plain": [
       "HBox(children=(IntProgress(value=0, description='Timeout', max=2), HTML(value='')))"
      ]
     },
     "metadata": {},
     "output_type": "display_data"
    },
    {
     "data": {
      "application/vnd.jupyter.widget-view+json": {
       "model_id": "",
       "version_major": 2,
       "version_minor": 0
      },
      "text/plain": [
       "HBox(children=(IntProgress(value=0, description='Timeout', max=2), HTML(value='')))"
      ]
     },
     "metadata": {},
     "output_type": "display_data"
    },
    {
     "data": {
      "application/vnd.jupyter.widget-view+json": {
       "model_id": "",
       "version_major": 2,
       "version_minor": 0
      },
      "text/plain": [
       "HBox(children=(IntProgress(value=0, description='Timeout', max=2), HTML(value='')))"
      ]
     },
     "metadata": {},
     "output_type": "display_data"
    },
    {
     "data": {
      "application/vnd.jupyter.widget-view+json": {
       "model_id": "",
       "version_major": 2,
       "version_minor": 0
      },
      "text/plain": [
       "HBox(children=(IntProgress(value=0, description='Timeout', max=2), HTML(value='')))"
      ]
     },
     "metadata": {},
     "output_type": "display_data"
    },
    {
     "data": {
      "application/vnd.jupyter.widget-view+json": {
       "model_id": "",
       "version_major": 2,
       "version_minor": 0
      },
      "text/plain": [
       "HBox(children=(IntProgress(value=0, description='Timeout', max=2), HTML(value='')))"
      ]
     },
     "metadata": {},
     "output_type": "display_data"
    },
    {
     "data": {
      "application/vnd.jupyter.widget-view+json": {
       "model_id": "",
       "version_major": 2,
       "version_minor": 0
      },
      "text/plain": [
       "HBox(children=(IntProgress(value=0, description='Timeout', max=2), HTML(value='')))"
      ]
     },
     "metadata": {},
     "output_type": "display_data"
    },
    {
     "data": {
      "application/vnd.jupyter.widget-view+json": {
       "model_id": "",
       "version_major": 2,
       "version_minor": 0
      },
      "text/plain": [
       "HBox(children=(IntProgress(value=0, description='Timeout', max=2), HTML(value='')))"
      ]
     },
     "metadata": {},
     "output_type": "display_data"
    },
    {
     "data": {
      "application/vnd.jupyter.widget-view+json": {
       "model_id": "",
       "version_major": 2,
       "version_minor": 0
      },
      "text/plain": [
       "HBox(children=(IntProgress(value=0, description='Timeout', max=2), HTML(value='')))"
      ]
     },
     "metadata": {},
     "output_type": "display_data"
    },
    {
     "data": {
      "application/vnd.jupyter.widget-view+json": {
       "model_id": "",
       "version_major": 2,
       "version_minor": 0
      },
      "text/plain": [
       "HBox(children=(IntProgress(value=0, description='Timeout', max=2), HTML(value='')))"
      ]
     },
     "metadata": {},
     "output_type": "display_data"
    },
    {
     "data": {
      "application/vnd.jupyter.widget-view+json": {
       "model_id": "",
       "version_major": 2,
       "version_minor": 0
      },
      "text/plain": [
       "HBox(children=(IntProgress(value=0, description='Timeout', max=2), HTML(value='')))"
      ]
     },
     "metadata": {},
     "output_type": "display_data"
    },
    {
     "data": {
      "application/vnd.jupyter.widget-view+json": {
       "model_id": "",
       "version_major": 2,
       "version_minor": 0
      },
      "text/plain": [
       "HBox(children=(IntProgress(value=0, description='Timeout', max=2), HTML(value='')))"
      ]
     },
     "metadata": {},
     "output_type": "display_data"
    },
    {
     "data": {
      "application/vnd.jupyter.widget-view+json": {
       "model_id": "",
       "version_major": 2,
       "version_minor": 0
      },
      "text/plain": [
       "HBox(children=(IntProgress(value=0, description='Timeout', max=2), HTML(value='')))"
      ]
     },
     "metadata": {},
     "output_type": "display_data"
    },
    {
     "data": {
      "application/vnd.jupyter.widget-view+json": {
       "model_id": "",
       "version_major": 2,
       "version_minor": 0
      },
      "text/plain": [
       "HBox(children=(IntProgress(value=0, description='Timeout', max=2), HTML(value='')))"
      ]
     },
     "metadata": {},
     "output_type": "display_data"
    },
    {
     "data": {
      "application/vnd.jupyter.widget-view+json": {
       "model_id": "",
       "version_major": 2,
       "version_minor": 0
      },
      "text/plain": [
       "HBox(children=(IntProgress(value=0, description='Timeout', max=2), HTML(value='')))"
      ]
     },
     "metadata": {},
     "output_type": "display_data"
    },
    {
     "data": {
      "application/vnd.jupyter.widget-view+json": {
       "model_id": "",
       "version_major": 2,
       "version_minor": 0
      },
      "text/plain": [
       "HBox(children=(IntProgress(value=0, description='Timeout', max=2), HTML(value='')))"
      ]
     },
     "metadata": {},
     "output_type": "display_data"
    },
    {
     "data": {
      "application/vnd.jupyter.widget-view+json": {
       "model_id": "",
       "version_major": 2,
       "version_minor": 0
      },
      "text/plain": [
       "HBox(children=(IntProgress(value=0, description='Timeout', max=2), HTML(value='')))"
      ]
     },
     "metadata": {},
     "output_type": "display_data"
    },
    {
     "data": {
      "application/vnd.jupyter.widget-view+json": {
       "model_id": "",
       "version_major": 2,
       "version_minor": 0
      },
      "text/plain": [
       "HBox(children=(IntProgress(value=0, description='Timeout', max=2), HTML(value='')))"
      ]
     },
     "metadata": {},
     "output_type": "display_data"
    },
    {
     "data": {
      "application/vnd.jupyter.widget-view+json": {
       "model_id": "",
       "version_major": 2,
       "version_minor": 0
      },
      "text/plain": [
       "HBox(children=(IntProgress(value=0, description='Timeout', max=2), HTML(value='')))"
      ]
     },
     "metadata": {},
     "output_type": "display_data"
    },
    {
     "data": {
      "application/vnd.jupyter.widget-view+json": {
       "model_id": "",
       "version_major": 2,
       "version_minor": 0
      },
      "text/plain": [
       "HBox(children=(IntProgress(value=0, description='Timeout', max=2), HTML(value='')))"
      ]
     },
     "metadata": {},
     "output_type": "display_data"
    },
    {
     "data": {
      "application/vnd.jupyter.widget-view+json": {
       "model_id": "",
       "version_major": 2,
       "version_minor": 0
      },
      "text/plain": [
       "HBox(children=(IntProgress(value=0, description='Timeout', max=2), HTML(value='')))"
      ]
     },
     "metadata": {},
     "output_type": "display_data"
    },
    {
     "data": {
      "application/vnd.jupyter.widget-view+json": {
       "model_id": "",
       "version_major": 2,
       "version_minor": 0
      },
      "text/plain": [
       "HBox(children=(IntProgress(value=0, description='Timeout', max=2), HTML(value='')))"
      ]
     },
     "metadata": {},
     "output_type": "display_data"
    },
    {
     "data": {
      "application/vnd.jupyter.widget-view+json": {
       "model_id": "",
       "version_major": 2,
       "version_minor": 0
      },
      "text/plain": [
       "HBox(children=(IntProgress(value=0, description='Timeout', max=2), HTML(value='')))"
      ]
     },
     "metadata": {},
     "output_type": "display_data"
    },
    {
     "data": {
      "application/vnd.jupyter.widget-view+json": {
       "model_id": "",
       "version_major": 2,
       "version_minor": 0
      },
      "text/plain": [
       "HBox(children=(IntProgress(value=0, description='Timeout', max=2), HTML(value='')))"
      ]
     },
     "metadata": {},
     "output_type": "display_data"
    },
    {
     "data": {
      "application/vnd.jupyter.widget-view+json": {
       "model_id": "",
       "version_major": 2,
       "version_minor": 0
      },
      "text/plain": [
       "HBox(children=(IntProgress(value=0, description='Timeout', max=2), HTML(value='')))"
      ]
     },
     "metadata": {},
     "output_type": "display_data"
    },
    {
     "data": {
      "application/vnd.jupyter.widget-view+json": {
       "model_id": "",
       "version_major": 2,
       "version_minor": 0
      },
      "text/plain": [
       "HBox(children=(IntProgress(value=0, description='Timeout', max=2), HTML(value='')))"
      ]
     },
     "metadata": {},
     "output_type": "display_data"
    },
    {
     "data": {
      "application/vnd.jupyter.widget-view+json": {
       "model_id": "",
       "version_major": 2,
       "version_minor": 0
      },
      "text/plain": [
       "HBox(children=(IntProgress(value=0, description='Timeout', max=2), HTML(value='')))"
      ]
     },
     "metadata": {},
     "output_type": "display_data"
    },
    {
     "data": {
      "application/vnd.jupyter.widget-view+json": {
       "model_id": "",
       "version_major": 2,
       "version_minor": 0
      },
      "text/plain": [
       "HBox(children=(IntProgress(value=0, description='Timeout', max=2), HTML(value='')))"
      ]
     },
     "metadata": {},
     "output_type": "display_data"
    },
    {
     "data": {
      "application/vnd.jupyter.widget-view+json": {
       "model_id": "",
       "version_major": 2,
       "version_minor": 0
      },
      "text/plain": [
       "HBox(children=(IntProgress(value=0, description='Timeout', max=2), HTML(value='')))"
      ]
     },
     "metadata": {},
     "output_type": "display_data"
    },
    {
     "data": {
      "application/vnd.jupyter.widget-view+json": {
       "model_id": "",
       "version_major": 2,
       "version_minor": 0
      },
      "text/plain": [
       "HBox(children=(IntProgress(value=0, description='Timeout', max=2), HTML(value='')))"
      ]
     },
     "metadata": {},
     "output_type": "display_data"
    },
    {
     "data": {
      "application/vnd.jupyter.widget-view+json": {
       "model_id": "",
       "version_major": 2,
       "version_minor": 0
      },
      "text/plain": [
       "HBox(children=(IntProgress(value=0, description='Timeout', max=2), HTML(value='')))"
      ]
     },
     "metadata": {},
     "output_type": "display_data"
    },
    {
     "data": {
      "application/vnd.jupyter.widget-view+json": {
       "model_id": "",
       "version_major": 2,
       "version_minor": 0
      },
      "text/plain": [
       "HBox(children=(IntProgress(value=0, description='Timeout', max=2), HTML(value='')))"
      ]
     },
     "metadata": {},
     "output_type": "display_data"
    },
    {
     "data": {
      "application/vnd.jupyter.widget-view+json": {
       "model_id": "",
       "version_major": 2,
       "version_minor": 0
      },
      "text/plain": [
       "HBox(children=(IntProgress(value=0, description='Timeout', max=2), HTML(value='')))"
      ]
     },
     "metadata": {},
     "output_type": "display_data"
    },
    {
     "data": {
      "application/vnd.jupyter.widget-view+json": {
       "model_id": "",
       "version_major": 2,
       "version_minor": 0
      },
      "text/plain": [
       "HBox(children=(IntProgress(value=0, description='Timeout', max=2), HTML(value='')))"
      ]
     },
     "metadata": {},
     "output_type": "display_data"
    },
    {
     "data": {
      "application/vnd.jupyter.widget-view+json": {
       "model_id": "",
       "version_major": 2,
       "version_minor": 0
      },
      "text/plain": [
       "HBox(children=(IntProgress(value=0, description='Timeout', max=2), HTML(value='')))"
      ]
     },
     "metadata": {},
     "output_type": "display_data"
    },
    {
     "data": {
      "application/vnd.jupyter.widget-view+json": {
       "model_id": "",
       "version_major": 2,
       "version_minor": 0
      },
      "text/plain": [
       "HBox(children=(IntProgress(value=0, description='Timeout', max=2), HTML(value='')))"
      ]
     },
     "metadata": {},
     "output_type": "display_data"
    },
    {
     "data": {
      "application/vnd.jupyter.widget-view+json": {
       "model_id": "",
       "version_major": 2,
       "version_minor": 0
      },
      "text/plain": [
       "HBox(children=(IntProgress(value=0, description='Timeout', max=2), HTML(value='')))"
      ]
     },
     "metadata": {},
     "output_type": "display_data"
    },
    {
     "data": {
      "application/vnd.jupyter.widget-view+json": {
       "model_id": "",
       "version_major": 2,
       "version_minor": 0
      },
      "text/plain": [
       "HBox(children=(IntProgress(value=0, description='Timeout', max=2), HTML(value='')))"
      ]
     },
     "metadata": {},
     "output_type": "display_data"
    },
    {
     "name": "stdout",
     "output_type": "stream",
     "text": [
      "\n"
     ]
    }
   ],
   "source": [
    "train_results = run_experiment(get_workloads(train_workloads))\n",
    "train_results = pd.DataFrame(train_results)\n",
    "if output_dir:\n",
    "    out_dir = os.path.join(output_dir, 'train/')\n",
    "    os.makedirs(out_dir, exist_ok=True)\n",
    "    train_results.to_csv(os.path.join(out_dir, \"benchmark.csv\"), index=False)  \n",
    "train_results.set_index(train_results['week'], inplace=True)\n",
    "train_results.index.name = \"week\""
   ]
  },
  {
   "cell_type": "markdown",
   "metadata": {},
   "source": [
    "#### Test with Test Data"
   ]
  },
  {
   "cell_type": "code",
   "execution_count": 9,
   "metadata": {},
   "outputs": [
    {
     "data": {
      "application/vnd.jupyter.widget-view+json": {
       "model_id": "51e4f4cb84ab41e88e12254bfe92747c",
       "version_major": 2,
       "version_minor": 0
      },
      "text/plain": [
       "HBox(children=(IntProgress(value=0, description='DeepShutdown Experiments', max=4), HTML(value='')))"
      ]
     },
     "metadata": {},
     "output_type": "display_data"
    },
    {
     "data": {
      "application/vnd.jupyter.widget-view+json": {
       "model_id": "",
       "version_major": 2,
       "version_minor": 0
      },
      "text/plain": [
       "HBox(children=(IntProgress(value=0, description='Workloads', max=11), HTML(value='')))"
      ]
     },
     "metadata": {},
     "output_type": "display_data"
    },
    {
     "data": {
      "application/vnd.jupyter.widget-view+json": {
       "model_id": "",
       "version_major": 2,
       "version_minor": 0
      },
      "text/plain": [
       "HBox(children=(IntProgress(value=0, description='Workloads', max=11), HTML(value='')))"
      ]
     },
     "metadata": {},
     "output_type": "display_data"
    },
    {
     "data": {
      "application/vnd.jupyter.widget-view+json": {
       "model_id": "",
       "version_major": 2,
       "version_minor": 0
      },
      "text/plain": [
       "HBox(children=(IntProgress(value=0, description='Workloads', max=11), HTML(value='')))"
      ]
     },
     "metadata": {},
     "output_type": "display_data"
    },
    {
     "data": {
      "application/vnd.jupyter.widget-view+json": {
       "model_id": "",
       "version_major": 2,
       "version_minor": 0
      },
      "text/plain": [
       "HBox(children=(IntProgress(value=0, description='Workloads', max=11), HTML(value='')))"
      ]
     },
     "metadata": {},
     "output_type": "display_data"
    },
    {
     "name": "stdout",
     "output_type": "stream",
     "text": [
      "\n"
     ]
    },
    {
     "data": {
      "application/vnd.jupyter.widget-view+json": {
       "model_id": "f3fb3b7485d244c9a85446ec2a08a3de",
       "version_major": 2,
       "version_minor": 0
      },
      "text/plain": [
       "HBox(children=(IntProgress(value=0, description='Timeout Experiments', max=11), HTML(value='')))"
      ]
     },
     "metadata": {},
     "output_type": "display_data"
    },
    {
     "data": {
      "application/vnd.jupyter.widget-view+json": {
       "model_id": "",
       "version_major": 2,
       "version_minor": 0
      },
      "text/plain": [
       "HBox(children=(IntProgress(value=0, description='Timeout', max=2), HTML(value='')))"
      ]
     },
     "metadata": {},
     "output_type": "display_data"
    },
    {
     "data": {
      "application/vnd.jupyter.widget-view+json": {
       "model_id": "",
       "version_major": 2,
       "version_minor": 0
      },
      "text/plain": [
       "HBox(children=(IntProgress(value=0, description='Timeout', max=2), HTML(value='')))"
      ]
     },
     "metadata": {},
     "output_type": "display_data"
    },
    {
     "data": {
      "application/vnd.jupyter.widget-view+json": {
       "model_id": "",
       "version_major": 2,
       "version_minor": 0
      },
      "text/plain": [
       "HBox(children=(IntProgress(value=0, description='Timeout', max=2), HTML(value='')))"
      ]
     },
     "metadata": {},
     "output_type": "display_data"
    },
    {
     "data": {
      "application/vnd.jupyter.widget-view+json": {
       "model_id": "",
       "version_major": 2,
       "version_minor": 0
      },
      "text/plain": [
       "HBox(children=(IntProgress(value=0, description='Timeout', max=2), HTML(value='')))"
      ]
     },
     "metadata": {},
     "output_type": "display_data"
    },
    {
     "data": {
      "application/vnd.jupyter.widget-view+json": {
       "model_id": "",
       "version_major": 2,
       "version_minor": 0
      },
      "text/plain": [
       "HBox(children=(IntProgress(value=0, description='Timeout', max=2), HTML(value='')))"
      ]
     },
     "metadata": {},
     "output_type": "display_data"
    },
    {
     "data": {
      "application/vnd.jupyter.widget-view+json": {
       "model_id": "",
       "version_major": 2,
       "version_minor": 0
      },
      "text/plain": [
       "HBox(children=(IntProgress(value=0, description='Timeout', max=2), HTML(value='')))"
      ]
     },
     "metadata": {},
     "output_type": "display_data"
    },
    {
     "data": {
      "application/vnd.jupyter.widget-view+json": {
       "model_id": "",
       "version_major": 2,
       "version_minor": 0
      },
      "text/plain": [
       "HBox(children=(IntProgress(value=0, description='Timeout', max=2), HTML(value='')))"
      ]
     },
     "metadata": {},
     "output_type": "display_data"
    },
    {
     "data": {
      "application/vnd.jupyter.widget-view+json": {
       "model_id": "",
       "version_major": 2,
       "version_minor": 0
      },
      "text/plain": [
       "HBox(children=(IntProgress(value=0, description='Timeout', max=2), HTML(value='')))"
      ]
     },
     "metadata": {},
     "output_type": "display_data"
    },
    {
     "data": {
      "application/vnd.jupyter.widget-view+json": {
       "model_id": "",
       "version_major": 2,
       "version_minor": 0
      },
      "text/plain": [
       "HBox(children=(IntProgress(value=0, description='Timeout', max=2), HTML(value='')))"
      ]
     },
     "metadata": {},
     "output_type": "display_data"
    },
    {
     "data": {
      "application/vnd.jupyter.widget-view+json": {
       "model_id": "",
       "version_major": 2,
       "version_minor": 0
      },
      "text/plain": [
       "HBox(children=(IntProgress(value=0, description='Timeout', max=2), HTML(value='')))"
      ]
     },
     "metadata": {},
     "output_type": "display_data"
    },
    {
     "data": {
      "application/vnd.jupyter.widget-view+json": {
       "model_id": "",
       "version_major": 2,
       "version_minor": 0
      },
      "text/plain": [
       "HBox(children=(IntProgress(value=0, description='Timeout', max=2), HTML(value='')))"
      ]
     },
     "metadata": {},
     "output_type": "display_data"
    },
    {
     "name": "stdout",
     "output_type": "stream",
     "text": [
      "\n"
     ]
    }
   ],
   "source": [
    "test_results = run_experiment(get_workloads(test_workloads))\n",
    "test_results = pd.DataFrame(test_results)\n",
    "if output_dir:\n",
    "    out_dir = os.path.join(output_dir, 'test/')\n",
    "    os.makedirs(out_dir, exist_ok=True)\n",
    "    test_results.to_csv(os.path.join(out_dir, \"benchmark.csv\"), index=False)  \n",
    "test_results.set_index(test_results['week'], inplace=True)\n",
    "test_results.index.name = \"week\""
   ]
  },
  {
   "cell_type": "markdown",
   "metadata": {},
   "source": [
    "### 4) Plot Results"
   ]
  },
  {
   "cell_type": "code",
   "execution_count": 6,
   "metadata": {},
   "outputs": [
    {
     "data": {
      "text/html": [
       "\n",
       "    <div class=\"bk-root\">\n",
       "        <a href=\"https://bokeh.pydata.org\" target=\"_blank\" class=\"bk-logo bk-logo-small bk-logo-notebook\"></a>\n",
       "        <span id=\"1001\">Loading BokehJS ...</span>\n",
       "    </div>"
      ]
     },
     "metadata": {},
     "output_type": "display_data"
    },
    {
     "data": {
      "application/javascript": [
       "\n",
       "(function(root) {\n",
       "  function now() {\n",
       "    return new Date();\n",
       "  }\n",
       "\n",
       "  var force = true;\n",
       "\n",
       "  if (typeof root._bokeh_onload_callbacks === \"undefined\" || force === true) {\n",
       "    root._bokeh_onload_callbacks = [];\n",
       "    root._bokeh_is_loading = undefined;\n",
       "  }\n",
       "\n",
       "  var JS_MIME_TYPE = 'application/javascript';\n",
       "  var HTML_MIME_TYPE = 'text/html';\n",
       "  var EXEC_MIME_TYPE = 'application/vnd.bokehjs_exec.v0+json';\n",
       "  var CLASS_NAME = 'output_bokeh rendered_html';\n",
       "\n",
       "  /**\n",
       "   * Render data to the DOM node\n",
       "   */\n",
       "  function render(props, node) {\n",
       "    var script = document.createElement(\"script\");\n",
       "    node.appendChild(script);\n",
       "  }\n",
       "\n",
       "  /**\n",
       "   * Handle when an output is cleared or removed\n",
       "   */\n",
       "  function handleClearOutput(event, handle) {\n",
       "    var cell = handle.cell;\n",
       "\n",
       "    var id = cell.output_area._bokeh_element_id;\n",
       "    var server_id = cell.output_area._bokeh_server_id;\n",
       "    // Clean up Bokeh references\n",
       "    if (id != null && id in Bokeh.index) {\n",
       "      Bokeh.index[id].model.document.clear();\n",
       "      delete Bokeh.index[id];\n",
       "    }\n",
       "\n",
       "    if (server_id !== undefined) {\n",
       "      // Clean up Bokeh references\n",
       "      var cmd = \"from bokeh.io.state import curstate; print(curstate().uuid_to_server['\" + server_id + \"'].get_sessions()[0].document.roots[0]._id)\";\n",
       "      cell.notebook.kernel.execute(cmd, {\n",
       "        iopub: {\n",
       "          output: function(msg) {\n",
       "            var id = msg.content.text.trim();\n",
       "            if (id in Bokeh.index) {\n",
       "              Bokeh.index[id].model.document.clear();\n",
       "              delete Bokeh.index[id];\n",
       "            }\n",
       "          }\n",
       "        }\n",
       "      });\n",
       "      // Destroy server and session\n",
       "      var cmd = \"import bokeh.io.notebook as ion; ion.destroy_server('\" + server_id + \"')\";\n",
       "      cell.notebook.kernel.execute(cmd);\n",
       "    }\n",
       "  }\n",
       "\n",
       "  /**\n",
       "   * Handle when a new output is added\n",
       "   */\n",
       "  function handleAddOutput(event, handle) {\n",
       "    var output_area = handle.output_area;\n",
       "    var output = handle.output;\n",
       "\n",
       "    // limit handleAddOutput to display_data with EXEC_MIME_TYPE content only\n",
       "    if ((output.output_type != \"display_data\") || (!output.data.hasOwnProperty(EXEC_MIME_TYPE))) {\n",
       "      return\n",
       "    }\n",
       "\n",
       "    var toinsert = output_area.element.find(\".\" + CLASS_NAME.split(' ')[0]);\n",
       "\n",
       "    if (output.metadata[EXEC_MIME_TYPE][\"id\"] !== undefined) {\n",
       "      toinsert[toinsert.length - 1].firstChild.textContent = output.data[JS_MIME_TYPE];\n",
       "      // store reference to embed id on output_area\n",
       "      output_area._bokeh_element_id = output.metadata[EXEC_MIME_TYPE][\"id\"];\n",
       "    }\n",
       "    if (output.metadata[EXEC_MIME_TYPE][\"server_id\"] !== undefined) {\n",
       "      var bk_div = document.createElement(\"div\");\n",
       "      bk_div.innerHTML = output.data[HTML_MIME_TYPE];\n",
       "      var script_attrs = bk_div.children[0].attributes;\n",
       "      for (var i = 0; i < script_attrs.length; i++) {\n",
       "        toinsert[toinsert.length - 1].firstChild.setAttribute(script_attrs[i].name, script_attrs[i].value);\n",
       "      }\n",
       "      // store reference to server id on output_area\n",
       "      output_area._bokeh_server_id = output.metadata[EXEC_MIME_TYPE][\"server_id\"];\n",
       "    }\n",
       "  }\n",
       "\n",
       "  function register_renderer(events, OutputArea) {\n",
       "\n",
       "    function append_mime(data, metadata, element) {\n",
       "      // create a DOM node to render to\n",
       "      var toinsert = this.create_output_subarea(\n",
       "        metadata,\n",
       "        CLASS_NAME,\n",
       "        EXEC_MIME_TYPE\n",
       "      );\n",
       "      this.keyboard_manager.register_events(toinsert);\n",
       "      // Render to node\n",
       "      var props = {data: data, metadata: metadata[EXEC_MIME_TYPE]};\n",
       "      render(props, toinsert[toinsert.length - 1]);\n",
       "      element.append(toinsert);\n",
       "      return toinsert\n",
       "    }\n",
       "\n",
       "    /* Handle when an output is cleared or removed */\n",
       "    events.on('clear_output.CodeCell', handleClearOutput);\n",
       "    events.on('delete.Cell', handleClearOutput);\n",
       "\n",
       "    /* Handle when a new output is added */\n",
       "    events.on('output_added.OutputArea', handleAddOutput);\n",
       "\n",
       "    /**\n",
       "     * Register the mime type and append_mime function with output_area\n",
       "     */\n",
       "    OutputArea.prototype.register_mime_type(EXEC_MIME_TYPE, append_mime, {\n",
       "      /* Is output safe? */\n",
       "      safe: true,\n",
       "      /* Index of renderer in `output_area.display_order` */\n",
       "      index: 0\n",
       "    });\n",
       "  }\n",
       "\n",
       "  // register the mime type if in Jupyter Notebook environment and previously unregistered\n",
       "  if (root.Jupyter !== undefined) {\n",
       "    var events = require('base/js/events');\n",
       "    var OutputArea = require('notebook/js/outputarea').OutputArea;\n",
       "\n",
       "    if (OutputArea.prototype.mime_types().indexOf(EXEC_MIME_TYPE) == -1) {\n",
       "      register_renderer(events, OutputArea);\n",
       "    }\n",
       "  }\n",
       "\n",
       "  \n",
       "  if (typeof (root._bokeh_timeout) === \"undefined\" || force === true) {\n",
       "    root._bokeh_timeout = Date.now() + 5000;\n",
       "    root._bokeh_failed_load = false;\n",
       "  }\n",
       "\n",
       "  var NB_LOAD_WARNING = {'data': {'text/html':\n",
       "     \"<div style='background-color: #fdd'>\\n\"+\n",
       "     \"<p>\\n\"+\n",
       "     \"BokehJS does not appear to have successfully loaded. If loading BokehJS from CDN, this \\n\"+\n",
       "     \"may be due to a slow or bad network connection. Possible fixes:\\n\"+\n",
       "     \"</p>\\n\"+\n",
       "     \"<ul>\\n\"+\n",
       "     \"<li>re-rerun `output_notebook()` to attempt to load from CDN again, or</li>\\n\"+\n",
       "     \"<li>use INLINE resources instead, as so:</li>\\n\"+\n",
       "     \"</ul>\\n\"+\n",
       "     \"<code>\\n\"+\n",
       "     \"from bokeh.resources import INLINE\\n\"+\n",
       "     \"output_notebook(resources=INLINE)\\n\"+\n",
       "     \"</code>\\n\"+\n",
       "     \"</div>\"}};\n",
       "\n",
       "  function display_loaded() {\n",
       "    var el = document.getElementById(\"1001\");\n",
       "    if (el != null) {\n",
       "      el.textContent = \"BokehJS is loading...\";\n",
       "    }\n",
       "    if (root.Bokeh !== undefined) {\n",
       "      if (el != null) {\n",
       "        el.textContent = \"BokehJS \" + root.Bokeh.version + \" successfully loaded.\";\n",
       "      }\n",
       "    } else if (Date.now() < root._bokeh_timeout) {\n",
       "      setTimeout(display_loaded, 100)\n",
       "    }\n",
       "  }\n",
       "\n",
       "\n",
       "  function run_callbacks() {\n",
       "    try {\n",
       "      root._bokeh_onload_callbacks.forEach(function(callback) {\n",
       "        if (callback != null)\n",
       "          callback();\n",
       "      });\n",
       "    } finally {\n",
       "      delete root._bokeh_onload_callbacks\n",
       "    }\n",
       "    console.debug(\"Bokeh: all callbacks have finished\");\n",
       "  }\n",
       "\n",
       "  function load_libs(css_urls, js_urls, callback) {\n",
       "    if (css_urls == null) css_urls = [];\n",
       "    if (js_urls == null) js_urls = [];\n",
       "\n",
       "    root._bokeh_onload_callbacks.push(callback);\n",
       "    if (root._bokeh_is_loading > 0) {\n",
       "      console.debug(\"Bokeh: BokehJS is being loaded, scheduling callback at\", now());\n",
       "      return null;\n",
       "    }\n",
       "    if (js_urls == null || js_urls.length === 0) {\n",
       "      run_callbacks();\n",
       "      return null;\n",
       "    }\n",
       "    console.debug(\"Bokeh: BokehJS not loaded, scheduling load and callback at\", now());\n",
       "    root._bokeh_is_loading = css_urls.length + js_urls.length;\n",
       "\n",
       "    function on_load() {\n",
       "      root._bokeh_is_loading--;\n",
       "      if (root._bokeh_is_loading === 0) {\n",
       "        console.debug(\"Bokeh: all BokehJS libraries/stylesheets loaded\");\n",
       "        run_callbacks()\n",
       "      }\n",
       "    }\n",
       "\n",
       "    function on_error() {\n",
       "      console.error(\"failed to load \" + url);\n",
       "    }\n",
       "\n",
       "    for (var i = 0; i < css_urls.length; i++) {\n",
       "      var url = css_urls[i];\n",
       "      const element = document.createElement(\"link\");\n",
       "      element.onload = on_load;\n",
       "      element.onerror = on_error;\n",
       "      element.rel = \"stylesheet\";\n",
       "      element.type = \"text/css\";\n",
       "      element.href = url;\n",
       "      console.debug(\"Bokeh: injecting link tag for BokehJS stylesheet: \", url);\n",
       "      document.body.appendChild(element);\n",
       "    }\n",
       "\n",
       "    for (var i = 0; i < js_urls.length; i++) {\n",
       "      var url = js_urls[i];\n",
       "      var element = document.createElement('script');\n",
       "      element.onload = on_load;\n",
       "      element.onerror = on_error;\n",
       "      element.async = false;\n",
       "      element.src = url;\n",
       "      console.debug(\"Bokeh: injecting script tag for BokehJS library: \", url);\n",
       "      document.head.appendChild(element);\n",
       "    }\n",
       "  };var element = document.getElementById(\"1001\");\n",
       "  if (element == null) {\n",
       "    console.error(\"Bokeh: ERROR: autoload.js configured with elementid '1001' but no matching script tag was found. \")\n",
       "    return false;\n",
       "  }\n",
       "\n",
       "  function inject_raw_css(css) {\n",
       "    const element = document.createElement(\"style\");\n",
       "    element.appendChild(document.createTextNode(css));\n",
       "    document.body.appendChild(element);\n",
       "  }\n",
       "\n",
       "  var js_urls = [\"https://cdn.pydata.org/bokeh/release/bokeh-1.3.4.min.js\", \"https://cdn.pydata.org/bokeh/release/bokeh-widgets-1.3.4.min.js\", \"https://cdn.pydata.org/bokeh/release/bokeh-tables-1.3.4.min.js\", \"https://cdn.pydata.org/bokeh/release/bokeh-gl-1.3.4.min.js\"];\n",
       "  var css_urls = [];\n",
       "\n",
       "  var inline_js = [\n",
       "    function(Bokeh) {\n",
       "      Bokeh.set_log_level(\"info\");\n",
       "    },\n",
       "    \n",
       "    function(Bokeh) {\n",
       "      \n",
       "    },\n",
       "    function(Bokeh) {} // ensure no trailing comma for IE\n",
       "  ];\n",
       "\n",
       "  function run_inline_js() {\n",
       "    \n",
       "    if ((root.Bokeh !== undefined) || (force === true)) {\n",
       "      for (var i = 0; i < inline_js.length; i++) {\n",
       "        inline_js[i].call(root, root.Bokeh);\n",
       "      }if (force === true) {\n",
       "        display_loaded();\n",
       "      }} else if (Date.now() < root._bokeh_timeout) {\n",
       "      setTimeout(run_inline_js, 100);\n",
       "    } else if (!root._bokeh_failed_load) {\n",
       "      console.log(\"Bokeh: BokehJS failed to load within specified timeout.\");\n",
       "      root._bokeh_failed_load = true;\n",
       "    } else if (force !== true) {\n",
       "      var cell = $(document.getElementById(\"1001\")).parents('.cell').data().cell;\n",
       "      cell.output_area.append_execute_result(NB_LOAD_WARNING)\n",
       "    }\n",
       "\n",
       "  }\n",
       "\n",
       "  if (root._bokeh_is_loading === 0) {\n",
       "    console.debug(\"Bokeh: BokehJS loaded, going straight to plotting\");\n",
       "    run_inline_js();\n",
       "  } else {\n",
       "    load_libs(css_urls, js_urls, function() {\n",
       "      console.debug(\"Bokeh: BokehJS plotting callback run at\", now());\n",
       "      run_inline_js();\n",
       "    });\n",
       "  }\n",
       "}(window));"
      ],
      "application/vnd.bokehjs_load.v0+json": "\n(function(root) {\n  function now() {\n    return new Date();\n  }\n\n  var force = true;\n\n  if (typeof root._bokeh_onload_callbacks === \"undefined\" || force === true) {\n    root._bokeh_onload_callbacks = [];\n    root._bokeh_is_loading = undefined;\n  }\n\n  \n\n  \n  if (typeof (root._bokeh_timeout) === \"undefined\" || force === true) {\n    root._bokeh_timeout = Date.now() + 5000;\n    root._bokeh_failed_load = false;\n  }\n\n  var NB_LOAD_WARNING = {'data': {'text/html':\n     \"<div style='background-color: #fdd'>\\n\"+\n     \"<p>\\n\"+\n     \"BokehJS does not appear to have successfully loaded. If loading BokehJS from CDN, this \\n\"+\n     \"may be due to a slow or bad network connection. Possible fixes:\\n\"+\n     \"</p>\\n\"+\n     \"<ul>\\n\"+\n     \"<li>re-rerun `output_notebook()` to attempt to load from CDN again, or</li>\\n\"+\n     \"<li>use INLINE resources instead, as so:</li>\\n\"+\n     \"</ul>\\n\"+\n     \"<code>\\n\"+\n     \"from bokeh.resources import INLINE\\n\"+\n     \"output_notebook(resources=INLINE)\\n\"+\n     \"</code>\\n\"+\n     \"</div>\"}};\n\n  function display_loaded() {\n    var el = document.getElementById(\"1001\");\n    if (el != null) {\n      el.textContent = \"BokehJS is loading...\";\n    }\n    if (root.Bokeh !== undefined) {\n      if (el != null) {\n        el.textContent = \"BokehJS \" + root.Bokeh.version + \" successfully loaded.\";\n      }\n    } else if (Date.now() < root._bokeh_timeout) {\n      setTimeout(display_loaded, 100)\n    }\n  }\n\n\n  function run_callbacks() {\n    try {\n      root._bokeh_onload_callbacks.forEach(function(callback) {\n        if (callback != null)\n          callback();\n      });\n    } finally {\n      delete root._bokeh_onload_callbacks\n    }\n    console.debug(\"Bokeh: all callbacks have finished\");\n  }\n\n  function load_libs(css_urls, js_urls, callback) {\n    if (css_urls == null) css_urls = [];\n    if (js_urls == null) js_urls = [];\n\n    root._bokeh_onload_callbacks.push(callback);\n    if (root._bokeh_is_loading > 0) {\n      console.debug(\"Bokeh: BokehJS is being loaded, scheduling callback at\", now());\n      return null;\n    }\n    if (js_urls == null || js_urls.length === 0) {\n      run_callbacks();\n      return null;\n    }\n    console.debug(\"Bokeh: BokehJS not loaded, scheduling load and callback at\", now());\n    root._bokeh_is_loading = css_urls.length + js_urls.length;\n\n    function on_load() {\n      root._bokeh_is_loading--;\n      if (root._bokeh_is_loading === 0) {\n        console.debug(\"Bokeh: all BokehJS libraries/stylesheets loaded\");\n        run_callbacks()\n      }\n    }\n\n    function on_error() {\n      console.error(\"failed to load \" + url);\n    }\n\n    for (var i = 0; i < css_urls.length; i++) {\n      var url = css_urls[i];\n      const element = document.createElement(\"link\");\n      element.onload = on_load;\n      element.onerror = on_error;\n      element.rel = \"stylesheet\";\n      element.type = \"text/css\";\n      element.href = url;\n      console.debug(\"Bokeh: injecting link tag for BokehJS stylesheet: \", url);\n      document.body.appendChild(element);\n    }\n\n    for (var i = 0; i < js_urls.length; i++) {\n      var url = js_urls[i];\n      var element = document.createElement('script');\n      element.onload = on_load;\n      element.onerror = on_error;\n      element.async = false;\n      element.src = url;\n      console.debug(\"Bokeh: injecting script tag for BokehJS library: \", url);\n      document.head.appendChild(element);\n    }\n  };var element = document.getElementById(\"1001\");\n  if (element == null) {\n    console.error(\"Bokeh: ERROR: autoload.js configured with elementid '1001' but no matching script tag was found. \")\n    return false;\n  }\n\n  function inject_raw_css(css) {\n    const element = document.createElement(\"style\");\n    element.appendChild(document.createTextNode(css));\n    document.body.appendChild(element);\n  }\n\n  var js_urls = [\"https://cdn.pydata.org/bokeh/release/bokeh-1.3.4.min.js\", \"https://cdn.pydata.org/bokeh/release/bokeh-widgets-1.3.4.min.js\", \"https://cdn.pydata.org/bokeh/release/bokeh-tables-1.3.4.min.js\", \"https://cdn.pydata.org/bokeh/release/bokeh-gl-1.3.4.min.js\"];\n  var css_urls = [];\n\n  var inline_js = [\n    function(Bokeh) {\n      Bokeh.set_log_level(\"info\");\n    },\n    \n    function(Bokeh) {\n      \n    },\n    function(Bokeh) {} // ensure no trailing comma for IE\n  ];\n\n  function run_inline_js() {\n    \n    if ((root.Bokeh !== undefined) || (force === true)) {\n      for (var i = 0; i < inline_js.length; i++) {\n        inline_js[i].call(root, root.Bokeh);\n      }if (force === true) {\n        display_loaded();\n      }} else if (Date.now() < root._bokeh_timeout) {\n      setTimeout(run_inline_js, 100);\n    } else if (!root._bokeh_failed_load) {\n      console.log(\"Bokeh: BokehJS failed to load within specified timeout.\");\n      root._bokeh_failed_load = true;\n    } else if (force !== true) {\n      var cell = $(document.getElementById(\"1001\")).parents('.cell').data().cell;\n      cell.output_area.append_execute_result(NB_LOAD_WARNING)\n    }\n\n  }\n\n  if (root._bokeh_is_loading === 0) {\n    console.debug(\"Bokeh: BokehJS loaded, going straight to plotting\");\n    run_inline_js();\n  } else {\n    load_libs(css_urls, js_urls, function() {\n      console.debug(\"Bokeh: BokehJS plotting callback run at\", now());\n      run_inline_js();\n    });\n  }\n}(window));"
     },
     "metadata": {},
     "output_type": "display_data"
    }
   ],
   "source": [
    "import pandas as pd\n",
    "import numpy as np\n",
    "import matplotlib.pyplot as plt\n",
    "from scipy import stats\n",
    "from datetime import datetime\n",
    "from bokeh.layouts import gridplot\n",
    "from math import radians\n",
    "from bokeh.models.tickers import FixedTicker, DatetimeTicker, SingleIntervalTicker\n",
    "from bokeh.models.formatters import DatetimeTickFormatter\n",
    "from bokeh.models import ColumnDataSource, Range1d, DatetimeAxis\n",
    "from bokeh.palettes import mpl\n",
    "from bokeh.io import export_png\n",
    "from bokeh.models import Band, ColumnDataSource, Whisker\n",
    "from bokeh.plotting import figure, show, output_notebook, output_file\n",
    "\n",
    "output_notebook()\n",
    "\n",
    "\n",
    "#test_results = pd.read_csv(os.path.join(output_dir + \"test/\", \"benchmark.csv\"))\n",
    "#test_results.set_index(test_results['week'], inplace=True)\n",
    "#test_results.index.name = \"week\"\n",
    "#train_results = pd.read_csv(os.path.join(output_dir + \"train/\", \"benchmark.csv\"))\n",
    "#train_results.set_index(train_results['week'], inplace=True)\n",
    "#train_results.index.name = \"week\"\n",
    "\n",
    "colors = mpl['Plasma'][5]\n",
    "def compare(df, metric, ylabel, showx=True, legnd=True, compare=True, scale=1):\n",
    "    grouped = df.groupby([df.index, df.policy]).aggregate([np.mean, np.std]).unstack()[metric].sort_index()\n",
    "    grouped /= scale\n",
    "    #x = np.array(grouped.index, dtype=np.datetime64)\n",
    "    x = list(range(0, len(grouped.index)))\n",
    "    fig = figure(toolbar_location=\"below\", tools='', x_range=(x[0], x[-1] + 0.5), width=900, height=250, x_axis_label='week', y_axis_label=ylabel)\n",
    "    std = grouped['std']['DeepShutdown']\n",
    "    fig.line(x, grouped['mean']['DeepShutdown'], legend='DeepShutdown', line_color=colors[0], line_width=1)\n",
    "    fig.square(x, grouped['mean']['DeepShutdown'], legend='DeepShutdown', line_color=colors[0], fill_color=colors[0], line_width=2)\n",
    "    if compare:\n",
    "        fig.line(x, grouped['mean']['Timeout (1)'], legend='Timeout (1)', line_color=colors[3], line_width=1)\n",
    "        fig.diamond(x, grouped['mean']['Timeout (1)'], legend='Timeout (1)', line_color=colors[3], fill_color=colors[3], line_width=2)\n",
    "        fig.line(x, grouped['mean']['Timeout (10)'], legend='Timeout (10)', line_color=colors[1], line_width=1)\n",
    "        fig.circle(x, grouped['mean']['Timeout (10)'], legend='Timeout (10)', line_color=colors[1], fill_color=colors[1], line_width=2)\n",
    "        #fig.line(x, grouped['mean']['Timeout (10)'], legend='Timeout (10)', line_color=colors[2], line_width=1)\n",
    "        #fig.triangle(x, grouped['mean']['Timeout (10)'], legend='Timeout (10)', line_color=colors[2], fill_color=colors[2], line_width=2)\n",
    "         \n",
    "    errors = ColumnDataSource({\n",
    "        'upper':grouped['mean']['DeepShutdown'] + std, \n",
    "        'lower': grouped['mean']['DeepShutdown'] - std, \n",
    "        'base':x})\n",
    "    fig.add_layout(Whisker(source=errors, base='base', upper='upper', lower='lower'))\n",
    "    #band = Band(base='base', lower='lower', upper='upper', source=errors, level='underlay', fill_alpha=0.05, line_width=1, line_color=colors[0], fill_color=colors[0])\n",
    "    #fig.add_layout(band)\n",
    "    \n",
    "    fig.grid.grid_line_alpha = 0\n",
    "    fig.xaxis.ticker = SingleIntervalTicker(interval=1)\n",
    "    fig.legend.orientation = \"horizontal\"\n",
    "    fig.legend.location = \"top_center\"\n",
    "    fig.xaxis.minor_tick_line_color = None  # turn off x-axis minor ticks\n",
    "    fig.yaxis.minor_tick_line_color = None  # turn off y-axis minor ticks\n",
    "    fig.xaxis.visible = showx\n",
    "    fig.legend.visible = legnd\n",
    "    return fig\n"
   ]
  },
  {
   "cell_type": "markdown",
   "metadata": {},
   "source": [
    "#### Plot Learning"
   ]
  },
  {
   "cell_type": "code",
   "execution_count": 6,
   "metadata": {},
   "outputs": [
    {
     "data": {
      "text/plain": [
       "<matplotlib.legend.Legend at 0x7fec280a4f28>"
      ]
     },
     "execution_count": 6,
     "metadata": {},
     "output_type": "execute_result"
    },
    {
     "data": {
      "image/png": "[encoded data removed]",
      "text/plain": [
       "<Figure size 1152x288 with 1 Axes>"
      ]
     },
     "metadata": {},
     "output_type": "display_data"
    }
   ],
   "source": [
    "import seaborn as sns\n",
    "import pandas as pd\n",
    "sns.set()\n",
    "f, ax = plt.subplots(figsize=(16,4)) \n",
    "log = pd.read_csv(train_log)\n",
    "log = pd.melt(log, id_vars='nupdates', value_vars=['eprew_avg', 'eprew_avg_max'], var_name='Metric')\n",
    "sns.lineplot(x='nupdates', y='value', hue='Metric', style='Metric', data=log, ax=ax, legend=False)\n",
    "ax.set(ylabel='Score', xlabel='Nb. updates')\n",
    "ax.legend(labels=['Avg. Score', 'Avg. Score (max)'], title='Metric')"
   ]
  },
  {
   "cell_type": "markdown",
   "metadata": {},
   "source": [
    "#### Plot Train Results"
   ]
  },
  {
   "cell_type": "code",
   "execution_count": 7,
   "metadata": {},
   "outputs": [
    {
     "data": {
      "text/html": [
       "\n",
       "\n",
       "\n",
       "\n",
       "\n",
       "\n",
       "  <div class=\"bk-root\" id=\"14099537-d636-43af-9b83-634654afc13d\" data-root-id=\"1593\"></div>\n"
      ]
     },
     "metadata": {},
     "output_type": "display_data"
    },
    {
     "data": {
      "application/javascript": [
       "(function(root) {\n",
       "  function embed_document(root) {\n",
       "    \n",
       "  var docs_json = {\"0000b06c-9d11-4de9-b222-86d343d8e26e\":{\"roots\":{\"references\":[{\"attributes\":{\"children\":[{\"id\":\"1592\",\"type\":\"ToolbarBox\"},{\"id\":\"1590\",\"type\":\"GridBox\"}]},\"id\":\"1593\",\"type\":\"Column\"},{\"attributes\":{\"level\":\"underlay\",\"size\":10},\"id\":\"1528\",\"type\":\"TeeHead\"},{\"attributes\":{\"line_alpha\":0.1,\"line_color\":\"#1f77b4\",\"x\":{\"field\":\"x\"},\"y\":{\"field\":\"y\"}},\"id\":\"1208\",\"type\":\"Line\"},{\"attributes\":{\"label\":{\"value\":\"DeepShutdown\"},\"renderers\":[{\"id\":\"1150\",\"type\":\"GlyphRenderer\"},{\"id\":\"1163\",\"type\":\"GlyphRenderer\"}]},\"id\":\"1159\",\"type\":\"LegendItem\"},{\"attributes\":{\"line_alpha\":0.1,\"line_color\":\"#1f77b4\",\"x\":{\"field\":\"x\"},\"y\":{\"field\":\"y\"}},\"id\":\"1050\",\"type\":\"Line\"},{\"attributes\":{\"callback\":null,\"data\":{\"x\":[0,1,2,3,4,5,6,7,8,9,10,11,12,13,14,15,16,17,18,19,20,21,22,23,24,25,26,27,28,29,30,31,32,33,34,35,36,37,38,39,40,41,42,43,44,45,46,47],\"y\":{\"__ndarray__\":\"nfvsAmJTGcB59WttHsgYwCv1rn6tTTDAmOjvZLW8BcBFB3VQB/U6wNgFxKbSkCPAuSU9TegyQ8A6nD7+kSdAwGkZOyJhHC3A6r9QxGPBLcAh4rHgADcowF0JoNcdTv+/zQOZH7y3FsDBk9XyxgggwF0JoNcdTs+/nXpXv9ZmP8APogKlZFhQwF0JoNcdTu+/9q5+rc3DSMDbM60QFehLwJsHMj94bwnA0sc/8kwrMsDU8sYIJvopwK4E0OsOpyTAg153OH38NsBR46WbxCArwMu5zy4gllLAhE2lIedeVsAoMQisHNoxwKrXHU4ffznAnYryCRp1RcBQ/VqbBzJHwAFYObTINkzA2gXEptKQA8C2/0IRjwUdwDAIrBxaZAvA+XIlgF53IMCfBzI/eG8ZwLbAh5C28E/ADPFYcIAbSMAGB7hhlnrnvxDnPruA2EfAvhn4ENIWO8DcJ2jU/gs4wHmOiynWbC7ALAaBlUOLHsChLSx70ZxGwCUGgZVDiynA\",\"dtype\":\"float64\",\"shape\":[48]}},\"selected\":{\"id\":\"1204\",\"type\":\"Selection\"},\"selection_policy\":{\"id\":\"1205\",\"type\":\"UnionRenderers\"}},\"id\":\"1173\",\"type\":\"ColumnDataSource\"},{\"attributes\":{\"callback\":null,\"data\":{\"x\":[0,1,2,3,4,5,6,7,8,9,10,11,12,13,14,15,16,17,18,19,20,21,22,23,24,25,26,27,28,29,30,31,32,33,34,35,36,37,38,39,40,41,42,43,44,45,46,47],\"y\":{\"__ndarray__\":\"rRfFelGstz8sFLdCcSuUP70Z8WbEm5E/mpmZmZmZiT80k1HC/F16P+vj4p4rxFk/jiQXfOaBdj8bL8DroTqjP65DSzN5aKY/dfV/8DsJsD+02CTnC1iKPxhswRZswWY/Bx988MEHjz8zc3OVlWRvP00b6LSBTms/MF9UubUshj8FdyVTDJngP3sUrkfheqQ/0Rv66fxVqz+C/y6uVn/KPxEREREREZE/KnUS1wwQlD/zGw1Bi4eUPwm2YAu2YIs/B88sqj362T+OnjwmlmaEP0kjrRgLGZU/6adVRBjZkD+nS+YiET6fPyCe7vtGwHQ/kVtPro/jgj9opVZqpVZyP+4ecAWRQnM/ERERERERkT8IWn2poNWnP5qZmZmZmbk/lD7pkz7poz+bEuQpQZ5iPyUQREfMK6M/spMsWIPduT8dx3Ecx3GMP7Czi8rI12E/MbB3TA3snT/FnB78u1ClP5xayYbKwLY/+M3Wod9sjT+lbWfm+TV1P83MzMzMzIw/\",\"dtype\":\"float64\",\"shape\":[48]}},\"selected\":{\"id\":\"1098\",\"type\":\"Selection\"},\"selection_policy\":{\"id\":\"1099\",\"type\":\"UnionRenderers\"}},\"id\":\"1064\",\"type\":\"ColumnDataSource\"},{\"attributes\":{\"data_source\":{\"id\":\"1147\",\"type\":\"ColumnDataSource\"},\"glyph\":{\"id\":\"1148\",\"type\":\"Line\"},\"hover_glyph\":null,\"muted_glyph\":null,\"nonselection_glyph\":{\"id\":\"1149\",\"type\":\"Line\"},\"selection_glyph\":null,\"view\":{\"id\":\"1151\",\"type\":\"CDSView\"}},\"id\":\"1150\",\"type\":\"GlyphRenderer\"},{\"attributes\":{\"callback\":null,\"data\":{\"x\":[0,1,2,3,4,5,6,7,8,9,10,11,12,13,14,15,16,17,18,19,20,21,22,23,24,25,26,27,28,29,30,31,32,33,34,35,36,37,38,39,40,41,42,43,44,45,46,47],\"y\":{\"__ndarray__\":\"AAAAAAAAQUAAAAAAAIAwQAAAAAAAgFBAAAAAAAAANEAAAAAAAKBPQAAAAAAAAEBAAAAAAADgVEAAAAAAAMBiQAAAAAAAIFlAAAAAAADgUUAAAAAAAMBTQAAAAAAAADBAAAAAAAAAP0AAAAAAAEBPQAAAAAAAAABAAAAAAADAV0AAAAAAAABoQAAAAAAAAAhAAAAAAAAoZkAAAAAAAEBdQAAAAAAAADFAAAAAAADgW0AAAAAAAMBMQAAAAAAAAEdAAAAAAACAV0AAAAAAAIBOQAAAAAAAQG5AAAAAAACwakAAAAAAAABNQAAAAAAAYFNAAAAAAABwYUAAAAAAAJBgQAAAAAAA8FtAAAAAAAAAIkAAAAAAAABDQAAAAAAAgDBAAAAAAACAOUAAAAAAAAAuQAAAAAAA6GJAAAAAAABwXkAAAAAAAAAMQAAAAAAAQEhAAAAAAADAS0AAAAAAAMBeQAAAAAAAQEJAAAAAAAAAQUAAAAAAAABWQAAAAAAAIFBA\",\"dtype\":\"float64\",\"shape\":[48]}},\"selected\":{\"id\":\"1421\",\"type\":\"Selection\"},\"selection_policy\":{\"id\":\"1422\",\"type\":\"UnionRenderers\"}},\"id\":\"1397\",\"type\":\"ColumnDataSource\"},{\"attributes\":{\"line_color\":\"#F79341\",\"x\":{\"field\":\"x\"},\"y\":{\"field\":\"y\"}},\"id\":\"1174\",\"type\":\"Line\"},{\"attributes\":{\"data_source\":{\"id\":\"1226\",\"type\":\"ColumnDataSource\"},\"glyph\":{\"id\":\"1227\",\"type\":\"Circle\"},\"hover_glyph\":null,\"muted_glyph\":null,\"nonselection_glyph\":{\"id\":\"1228\",\"type\":\"Circle\"},\"selection_glyph\":null,\"view\":{\"id\":\"1230\",\"type\":\"CDSView\"}},\"id\":\"1229\",\"type\":\"GlyphRenderer\"},{\"attributes\":{\"active_drag\":\"auto\",\"active_inspect\":\"auto\",\"active_multi\":null,\"active_scroll\":\"auto\",\"active_tap\":\"auto\"},\"id\":\"1146\",\"type\":\"Toolbar\"},{\"attributes\":{},\"id\":\"1407\",\"type\":\"BasicTickFormatter\"},{\"attributes\":{},\"id\":\"1544\",\"type\":\"UnionRenderers\"},{\"attributes\":{\"data_source\":{\"id\":\"1456\",\"type\":\"ColumnDataSource\"},\"glyph\":{\"id\":\"1457\",\"type\":\"Line\"},\"hover_glyph\":null,\"muted_glyph\":null,\"nonselection_glyph\":{\"id\":\"1458\",\"type\":\"Line\"},\"selection_glyph\":null,\"view\":{\"id\":\"1460\",\"type\":\"CDSView\"}},\"id\":\"1459\",\"type\":\"GlyphRenderer\"},{\"attributes\":{\"grid_line_alpha\":0,\"ticker\":{\"id\":\"1012\",\"type\":\"BasicTicker\"}},\"id\":\"1015\",\"type\":\"Grid\"},{\"attributes\":{\"callback\":null,\"data\":{\"x\":[0,1,2,3,4,5,6,7,8,9,10,11,12,13,14,15,16,17,18,19,20,21,22,23,24,25,26,27,28,29,30,31,32,33,34,35,36,37,38,39,40,41,42,43,44,45,46,47],\"y\":{\"__ndarray__\":\"Z5qw/WR0E8BQ4nMn2JcEwBkdkIR9uSPAUHEceLW8BcCT/8nfvWUgwBKKraBphRDA5dAi2/l+JcC0ccRafOU2wF76l6QyOSrAoiWPp+WNJMCelh+4yiEjwA/VlGQdTv+/QIo6cw+hEMDfiO5Z12AdwO1mRj8aTs+/dcWM8PYcL8BseeV6WxZKwGjpCrYRj92/d2fttguoOsBWKxN+qfYywLosJjYf/wPApYKKql+rLMA7jbRU3lghwCDwwADCexnATPkQVI03MMCS/8nfvaUiwCygUE8fr0LAlnX/WIhqPcB+WG/UChEiwCic3VomNyfAuK6YEd77NcC9/bloyPkwwGE3bFuUTy3A/pqsUQ8h87/84lKVtrATwEq2upwSQADAHFpkO99PDMDVIqKYvDEAwDtWKT3TijjA2j7kLVeCMMCYpghwelfjv+kmMQisHBrADOnwEMZRIcCVQ4ts5zsxwBzoobYNsxPArKqX32lCEsCAQ6hSs5ErwLXBiejXGiHA\",\"dtype\":\"float64\",\"shape\":[48]}},\"selected\":{\"id\":\"1171\",\"type\":\"Selection\"},\"selection_policy\":{\"id\":\"1172\",\"type\":\"UnionRenderers\"}},\"id\":\"1147\",\"type\":\"ColumnDataSource\"},{\"attributes\":{},\"id\":\"1046\",\"type\":\"Selection\"},{\"attributes\":{\"line_color\":\"#0C0786\",\"x\":{\"field\":\"x\"},\"y\":{\"field\":\"y\"}},\"id\":\"1148\",\"type\":\"Line\"},{\"attributes\":{\"label\":{\"value\":\"Timeout (1)\"},\"renderers\":[{\"id\":\"1176\",\"type\":\"GlyphRenderer\"},{\"id\":\"1192\",\"type\":\"GlyphRenderer\"}]},\"id\":\"1188\",\"type\":\"LegendItem\"},{\"attributes\":{\"level\":\"underlay\",\"size\":10},\"id\":\"1550\",\"type\":\"TeeHead\"},{\"attributes\":{},\"id\":\"1012\",\"type\":\"BasicTicker\"},{\"attributes\":{\"label\":{\"value\":\"DeepShutdown\"},\"renderers\":[{\"id\":\"1025\",\"type\":\"GlyphRenderer\"},{\"id\":\"1038\",\"type\":\"GlyphRenderer\"}]},\"id\":\"1034\",\"type\":\"LegendItem\"},{\"attributes\":{},\"id\":\"1223\",\"type\":\"Selection\"},{\"attributes\":{\"label\":{\"value\":\"Timeout (10)\"},\"renderers\":[{\"id\":\"1209\",\"type\":\"GlyphRenderer\"},{\"id\":\"1229\",\"type\":\"GlyphRenderer\"}]},\"id\":\"1225\",\"type\":\"LegendItem\"},{\"attributes\":{\"fill_color\":{\"value\":\"#0C0786\"},\"line_color\":{\"value\":\"#0C0786\"},\"line_width\":{\"value\":2},\"x\":{\"field\":\"x\"},\"y\":{\"field\":\"y\"}},\"id\":\"1036\",\"type\":\"Square\"},{\"attributes\":{},\"id\":\"1522\",\"type\":\"UnionRenderers\"},{\"attributes\":{\"callback\":null,\"end\":47.5},\"id\":\"1378\",\"type\":\"Range1d\"},{\"attributes\":{},\"id\":\"1543\",\"type\":\"Selection\"},{\"attributes\":{\"toolbar\":{\"id\":\"1591\",\"type\":\"ProxyToolbar\"},\"toolbar_location\":\"above\"},\"id\":\"1592\",\"type\":\"ToolbarBox\"},{\"attributes\":{\"line_alpha\":0.1,\"line_color\":\"#1f77b4\",\"x\":{\"field\":\"x\"},\"y\":{\"field\":\"y\"}},\"id\":\"1149\",\"type\":\"Line\"},{\"attributes\":{\"fill_alpha\":{\"value\":0.1},\"fill_color\":{\"value\":\"#1f77b4\"},\"line_alpha\":{\"value\":0.1},\"line_color\":{\"value\":\"#1f77b4\"},\"line_width\":{\"value\":2},\"x\":{\"field\":\"x\"},\"y\":{\"field\":\"y\"}},\"id\":\"1037\",\"type\":\"Square\"},{\"attributes\":{\"source\":{\"id\":\"1397\",\"type\":\"ColumnDataSource\"}},\"id\":\"1401\",\"type\":\"CDSView\"},{\"attributes\":{\"fill_color\":{\"value\":\"#F79341\"},\"line_color\":{\"value\":\"#F79341\"},\"line_width\":{\"value\":2},\"x\":{\"field\":\"x\"},\"y\":{\"field\":\"y\"}},\"id\":\"1190\",\"type\":\"Diamond\"},{\"attributes\":{},\"id\":\"1521\",\"type\":\"Selection\"},{\"attributes\":{},\"id\":\"1245\",\"type\":\"Selection\"},{\"attributes\":{\"children\":[[{\"id\":\"1377\",\"subtype\":\"Figure\",\"type\":\"Plot\"},0,0],[{\"id\":\"1252\",\"subtype\":\"Figure\",\"type\":\"Plot\"},1,0],[{\"id\":\"1127\",\"subtype\":\"Figure\",\"type\":\"Plot\"},2,0],[{\"id\":\"1002\",\"subtype\":\"Figure\",\"type\":\"Plot\"},3,0]]},\"id\":\"1590\",\"type\":\"GridBox\"},{\"attributes\":{\"source\":{\"id\":\"1035\",\"type\":\"ColumnDataSource\"}},\"id\":\"1039\",\"type\":\"CDSView\"},{\"attributes\":{},\"id\":\"1155\",\"type\":\"BasicTickFormatter\"},{\"attributes\":{\"line_alpha\":0.1,\"line_color\":\"#1f77b4\",\"x\":{\"field\":\"x\"},\"y\":{\"field\":\"y\"}},\"id\":\"1175\",\"type\":\"Line\"},{\"attributes\":{},\"id\":\"1061\",\"type\":\"Selection\"},{\"attributes\":{\"line_alpha\":0.1,\"line_color\":\"#1f77b4\",\"x\":{\"field\":\"x\"},\"y\":{\"field\":\"y\"}},\"id\":\"1458\",\"type\":\"Line\"},{\"attributes\":{\"level\":\"underlay\",\"size\":10},\"id\":\"1551\",\"type\":\"TeeHead\"},{\"attributes\":{\"source\":{\"id\":\"1022\",\"type\":\"ColumnDataSource\"}},\"id\":\"1026\",\"type\":\"CDSView\"},{\"attributes\":{\"text\":\"\"},\"id\":\"1153\",\"type\":\"Title\"},{\"attributes\":{},\"id\":\"1405\",\"type\":\"BasicTickFormatter\"},{\"attributes\":{\"callback\":null},\"id\":\"1380\",\"type\":\"DataRange1d\"},{\"attributes\":{},\"id\":\"1171\",\"type\":\"Selection\"},{\"attributes\":{\"data_source\":{\"id\":\"1397\",\"type\":\"ColumnDataSource\"},\"glyph\":{\"id\":\"1398\",\"type\":\"Line\"},\"hover_glyph\":null,\"muted_glyph\":null,\"nonselection_glyph\":{\"id\":\"1399\",\"type\":\"Line\"},\"selection_glyph\":null,\"view\":{\"id\":\"1401\",\"type\":\"CDSView\"}},\"id\":\"1400\",\"type\":\"GlyphRenderer\"},{\"attributes\":{\"callback\":null,\"data\":{\"x\":[0,1,2,3,4,5,6,7,8,9,10,11,12,13,14,15,16,17,18,19,20,21,22,23,24,25,26,27,28,29,30,31,32,33,34,35,36,37,38,39,40,41,42,43,44,45,46,47],\"y\":{\"__ndarray__\":\"AAAAAAAAQ0AAAAAAAAA4QAAAAAAAgFFAAAAAAAAANEAAAAAAAIBbQAAAAAAAAEFAAAAAAADAYEAAAAAAAABiQAAAAAAAwFVAAAAAAAAAVEAAAAAAAIBVQAAAAAAAACBAAAAAAAAARkAAAAAAAABLQAAAAAAAAABAAAAAAADgYEAAAAAAAEBpQAAAAAAAABhAAAAAAACAbUAAAAAAAEBkQAAAAAAAADZAAAAAAADAW0AAAAAAAABGQAAAAAAAAExAAAAAAAAAUEAAAAAAAEBSQAAAAAAAIHFAAAAAAABweUAAAAAAAABSQAAAAAAAAFtAAAAAAAAAZ0AAAAAAAGBnQAAAAAAAYGhAAAAAAAAANEAAAAAAAABLQAAAAAAAADZAAAAAAAAAS0AAAAAAAAA+QAAAAAAAIHJAAAAAAADAZEAAAAAAAAAYQAAAAAAAQGZAAAAAAAAAYUAAAAAAAMBhQAAAAAAAAEhAAAAAAAAAQ0AAAAAAAKBsQAAAAAAAgFJA\",\"dtype\":\"float64\",\"shape\":[48]}},\"selected\":{\"id\":\"1495\",\"type\":\"Selection\"},\"selection_policy\":{\"id\":\"1496\",\"type\":\"UnionRenderers\"}},\"id\":\"1456\",\"type\":\"ColumnDataSource\"},{\"attributes\":{},\"id\":\"1062\",\"type\":\"UnionRenderers\"},{\"attributes\":{\"grid_line_alpha\":0,\"ticker\":{\"id\":\"1387\",\"type\":\"BasicTicker\"}},\"id\":\"1390\",\"type\":\"Grid\"},{\"attributes\":{\"line_color\":\"#7C02A7\",\"x\":{\"field\":\"x\"},\"y\":{\"field\":\"y\"}},\"id\":\"1207\",\"type\":\"Line\"},{\"attributes\":{},\"id\":\"1566\",\"type\":\"UnionRenderers\"},{\"attributes\":{\"axis_label\":\"Nb. of state switches\",\"formatter\":{\"id\":\"1405\",\"type\":\"BasicTickFormatter\"},\"minor_tick_line_color\":{\"value\":null},\"ticker\":{\"id\":\"1392\",\"type\":\"BasicTicker\"}},\"id\":\"1391\",\"type\":\"LinearAxis\"},{\"attributes\":{\"base\":{\"field\":\"base\",\"units\":\"data\"},\"lower\":{\"field\":\"lower\",\"units\":\"data\"},\"lower_head\":{\"id\":\"1551\",\"type\":\"TeeHead\"},\"source\":{\"id\":\"1247\",\"type\":\"ColumnDataSource\"},\"upper\":{\"field\":\"upper\",\"units\":\"data\"},\"upper_head\":{\"id\":\"1550\",\"type\":\"TeeHead\"}},\"id\":\"1248\",\"type\":\"Whisker\"},{\"attributes\":{},\"id\":\"1030\",\"type\":\"BasicTickFormatter\"},{\"attributes\":{\"axis_label\":\"week\",\"formatter\":{\"id\":\"1407\",\"type\":\"BasicTickFormatter\"},\"minor_tick_line_color\":{\"value\":null},\"ticker\":{\"id\":\"1500\",\"type\":\"SingleIntervalTicker\"},\"visible\":false},\"id\":\"1386\",\"type\":\"LinearAxis\"},{\"attributes\":{},\"id\":\"1047\",\"type\":\"UnionRenderers\"},{\"attributes\":{\"line_color\":\"#0C0786\",\"x\":{\"field\":\"x\"},\"y\":{\"field\":\"y\"}},\"id\":\"1398\",\"type\":\"Line\"},{\"attributes\":{\"source\":{\"id\":\"1147\",\"type\":\"ColumnDataSource\"}},\"id\":\"1151\",\"type\":\"CDSView\"},{\"attributes\":{\"items\":[{\"id\":\"1034\",\"type\":\"LegendItem\"},{\"id\":\"1063\",\"type\":\"LegendItem\"},{\"id\":\"1100\",\"type\":\"LegendItem\"}],\"location\":\"top_center\",\"orientation\":\"horizontal\",\"visible\":false},\"id\":\"1033\",\"type\":\"Legend\"},{\"attributes\":{\"label\":{\"value\":\"DeepShutdown\"},\"renderers\":[{\"id\":\"1400\",\"type\":\"GlyphRenderer\"},{\"id\":\"1413\",\"type\":\"GlyphRenderer\"}]},\"id\":\"1409\",\"type\":\"LegendItem\"},{\"attributes\":{\"callback\":null,\"data\":{\"x\":[0,1,2,3,4,5,6,7,8,9,10,11,12,13,14,15,16,17,18,19,20,21,22,23,24,25,26,27,28,29,30,31,32,33,34,35,36,37,38,39,40,41,42,43,44,45,46,47],\"y\":{\"__ndarray__\":\"2X+hiMeCLMDRTWIQWDkjwEcd1EEdVD7A++wCYlNpHsANPFktb8xDwNaJuz3HxSrAQSEqUEpGS8DlvSU9TShMwCTvLelpwj/AnwB63eF0P8AtqboG+3I9wKBR+y8U8RDAVe/q19o8MMBMW1j2ojkzwLAvVwLodee/F6QtLHuRS8DsMnZEwlhVwBFYObTIdgLACrqMHZFQUsCiUfsvFDFUwGzn+6nx0h/Aw5PV8sYIRMBRAuh1h1M4wI+0hWUvGjbAtVizkarrPcA6e9GcuNs6wLczrRAV6FjAFuPorFOmYcBbcIAbZik9wD4Ave5w+kfAZLx0kxikUsB2Wepd/fpSwD7hehSuB1XAn/vsAmJTHcASIW1h2YsywFnqXf1amx/Al6prsC/XMcDR38lqeWMjwMnE3Z7jIlnAInQZOyLhTcDEY8EBbpgBwO02zFLvakzA0v4LRTzWRsDmLelpQhdGwKy423NczDTAd2iR7Xw/LsB+WxXlE9RTwK+6BvtypTzA\",\"dtype\":\"float64\",\"shape\":[48]}},\"selected\":{\"id\":\"1563\",\"type\":\"Selection\"},\"selection_policy\":{\"id\":\"1564\",\"type\":\"UnionRenderers\"}},\"id\":\"1226\",\"type\":\"ColumnDataSource\"},{\"attributes\":{\"fill_color\":{\"value\":\"#0C0786\"},\"line_color\":{\"value\":\"#0C0786\"},\"line_width\":{\"value\":2},\"x\":{\"field\":\"x\"},\"y\":{\"field\":\"y\"}},\"id\":\"1161\",\"type\":\"Square\"},{\"attributes\":{\"line_color\":\"#F79341\",\"x\":{\"field\":\"x\"},\"y\":{\"field\":\"y\"}},\"id\":\"1049\",\"type\":\"Line\"},{\"attributes\":{\"fill_color\":{\"value\":\"#7C02A7\"},\"line_color\":{\"value\":\"#7C02A7\"},\"line_width\":{\"value\":2},\"x\":{\"field\":\"x\"},\"y\":{\"field\":\"y\"}},\"id\":\"1227\",\"type\":\"Circle\"},{\"attributes\":{},\"id\":\"1172\",\"type\":\"UnionRenderers\"},{\"attributes\":{},\"id\":\"1565\",\"type\":\"Selection\"},{\"attributes\":{},\"id\":\"1387\",\"type\":\"BasicTicker\"},{\"attributes\":{\"label\":{\"value\":\"Timeout (10)\"},\"renderers\":[{\"id\":\"1334\",\"type\":\"GlyphRenderer\"},{\"id\":\"1354\",\"type\":\"GlyphRenderer\"}]},\"id\":\"1350\",\"type\":\"LegendItem\"},{\"attributes\":{\"data_source\":{\"id\":\"1173\",\"type\":\"ColumnDataSource\"},\"glyph\":{\"id\":\"1174\",\"type\":\"Line\"},\"hover_glyph\":null,\"muted_glyph\":null,\"nonselection_glyph\":{\"id\":\"1175\",\"type\":\"Line\"},\"selection_glyph\":null,\"view\":{\"id\":\"1177\",\"type\":\"CDSView\"}},\"id\":\"1176\",\"type\":\"GlyphRenderer\"},{\"attributes\":{\"data_source\":{\"id\":\"1160\",\"type\":\"ColumnDataSource\"},\"glyph\":{\"id\":\"1161\",\"type\":\"Square\"},\"hover_glyph\":null,\"muted_glyph\":null,\"nonselection_glyph\":{\"id\":\"1162\",\"type\":\"Square\"},\"selection_glyph\":null,\"view\":{\"id\":\"1164\",\"type\":\"CDSView\"}},\"id\":\"1163\",\"type\":\"GlyphRenderer\"},{\"attributes\":{\"line_alpha\":0.1,\"line_color\":\"#1f77b4\",\"x\":{\"field\":\"x\"},\"y\":{\"field\":\"y\"}},\"id\":\"1399\",\"type\":\"Line\"},{\"attributes\":{\"source\":{\"id\":\"1226\",\"type\":\"ColumnDataSource\"}},\"id\":\"1230\",\"type\":\"CDSView\"},{\"attributes\":{\"dimension\":1,\"grid_line_alpha\":0,\"ticker\":{\"id\":\"1142\",\"type\":\"BasicTicker\"}},\"id\":\"1145\",\"type\":\"Grid\"},{\"attributes\":{},\"id\":\"1009\",\"type\":\"LinearScale\"},{\"attributes\":{},\"id\":\"1392\",\"type\":\"BasicTicker\"},{\"attributes\":{\"fill_alpha\":{\"value\":0.1},\"fill_color\":{\"value\":\"#1f77b4\"},\"line_alpha\":{\"value\":0.1},\"line_color\":{\"value\":\"#1f77b4\"},\"line_width\":{\"value\":2},\"x\":{\"field\":\"x\"},\"y\":{\"field\":\"y\"}},\"id\":\"1162\",\"type\":\"Square\"},{\"attributes\":{\"callback\":null,\"data\":{\"x\":[0,1,2,3,4,5,6,7,8,9,10,11,12,13,14,15,16,17,18,19,20,21,22,23,24,25,26,27,28,29,30,31,32,33,34,35,36,37,38,39,40,41,42,43,44,45,46,47],\"y\":{\"__ndarray__\":\"rRfFelGstz8sFLdCcSuUP70Z8WbEm5E/mpmZmZmZiT80k1HC/F16P+vj4p4rxFk/jiQXfOaBdj8bL8DroTqjP65DSzN5aKY/dfV/8DsJsD+02CTnC1iKPxhswRZswWY/Bx988MEHjz8zc3OVlWRvP00b6LSBTms/MF9UubUshj8FdyVTDJngP3sUrkfheqQ/0Rv66fxVqz+C/y6uVn/KPxEREREREZE/KnUS1wwQlD/zGw1Bi4eUPwm2YAu2YIs/B88sqj362T+OnjwmlmaEP0kjrRgLGZU/6adVRBjZkD+nS+YiET6fPyCe7vtGwHQ/kVtPro/jgj9opVZqpVZyP+4ecAWRQnM/ERERERERkT8IWn2poNWnP5qZmZmZmbk/lD7pkz7poz+bEuQpQZ5iPyUQREfMK6M/spMsWIPduT8dx3Ecx3GMP7Czi8rI12E/MbB3TA3snT/FnB78u1ClP5xayYbKwLY/+M3Wod9sjT+lbWfm+TV1P83MzMzMzIw/\",\"dtype\":\"float64\",\"shape\":[48]}},\"selected\":{\"id\":\"1079\",\"type\":\"Selection\"},\"selection_policy\":{\"id\":\"1080\",\"type\":\"UnionRenderers\"}},\"id\":\"1048\",\"type\":\"ColumnDataSource\"},{\"attributes\":{\"text\":\"\"},\"id\":\"1028\",\"type\":\"Title\"},{\"attributes\":{\"fill_alpha\":{\"value\":0.1},\"fill_color\":{\"value\":\"#1f77b4\"},\"line_alpha\":{\"value\":0.1},\"line_color\":{\"value\":\"#1f77b4\"},\"line_width\":{\"value\":2},\"x\":{\"field\":\"x\"},\"y\":{\"field\":\"y\"}},\"id\":\"1412\",\"type\":\"Square\"},{\"attributes\":{\"level\":\"underlay\",\"size\":10},\"id\":\"1529\",\"type\":\"TeeHead\"},{\"attributes\":{},\"id\":\"1204\",\"type\":\"Selection\"},{\"attributes\":{\"interval\":1},\"id\":\"1250\",\"type\":\"SingleIntervalTicker\"},{\"attributes\":{},\"id\":\"1473\",\"type\":\"Selection\"},{\"attributes\":{},\"id\":\"1563\",\"type\":\"Selection\"},{\"attributes\":{},\"id\":\"1382\",\"type\":\"LinearScale\"},{\"attributes\":{\"callback\":null},\"id\":\"1005\",\"type\":\"DataRange1d\"},{\"attributes\":{\"callback\":null,\"data\":{\"base\":[0,1,2,3,4,5,6,7,8,9,10,11,12,13,14,15,16,17,18,19,20,21,22,23,24,25,26,27,28,29,30,31,32,33,34,35,36,37,38,39,40,41,42,43,44,45,46,47],\"lower\":{\"__ndarray__\":\"PuXJHbVJFMCGKmIe7H0JwB9+qlTApCXAUHEceLW8BcDVpRR3v8YgwHKQXzidJxTABliOPr5eKMDMG28Gk3o4wH1v4LaYDizAp/NV9PbMJcDE4uGaRY0jwA/VlGQdTv+/FVlrKLV/EcDczdlum+sfwO1mRj8aTs+/pAh+Dr7jL8CNqjUOdi5LwFBxHHi1vOW/cZoTIt2vO8CrkO0xaPU0wBNsAOh1TQTAQuNMe4cnLcBfPdTuTZUhwPh26S7OBxrAptaKsB2rMsBOi+jIlW8kwMs3KijObEPA83pC8ddfPsDRzF58Yo0jwMXxqawdiynABFYDwxhNOcCBBu7aERsxwNzV3lGmLzDApdytpig197/IbX9iGf0VwFqoP0XVLQHAtIdQ45EvD8DWp6s8toABwCDA6AM0WjzAjeXO0AV/McAYT86/cdjmv7ANI25q1RvAYx0EfDHKIcBxR0RD46AxwEwL8/KvlxTAYKvehDHCFMAbO5zXR0guwK0U0wTNcyHA\",\"dtype\":\"float64\",\"shape\":[48]},\"upper\":{\"__ndarray__\":\"kE+X3RSfEsA1NAthiGP/vxO8dbQ6ziHAUHEceLW8BcBRWX9IvAQgwGMH9xFsxgnAxEm3dzWfIsCcxxmvZVA1wD+FT5LMYyjAnVfIWtROI8B4Sl3VT7YiwA/VlGQdTv+/1nYTfNOED8DiQwNFE9YawO1mRj8aTs+/RoKb0i9WLsBLSJXnQP5IwGDgufdwSc+/fTTHSzqgOcABxjjK6vcwwGHtS4TIsAPACCLI2TcvLMAX3ZS6bhwhwEhpmNK17xjA4zcu7/mHK8DWc6v25dsgwI0Id3Zw8UHAOXC8wDh1PMAr5H8ss5QgwItGEQkv4yTAbAcuYKOqMsD59IX2ftgwwAnDGhPcPyrArrJW+esZ7r8wWCbIU2QRwHOIa+ifpP6/hCx4kyxwCcCnOzHphcX9v1bsaXZyuzTATjDzFVELL8Ax/IVABq3fvyJAP6LtYxjAtbTdpVrZIMC5P9KV69YwwOzEUHprzhLA71OhdESFD8DlS7TNHtsowL1uQMziwSDA\",\"dtype\":\"float64\",\"shape\":[48]}},\"selected\":{\"id\":\"1565\",\"type\":\"Selection\"},\"selection_policy\":{\"id\":\"1566\",\"type\":\"UnionRenderers\"}},\"id\":\"1247\",\"type\":\"ColumnDataSource\"},{\"attributes\":{\"data_source\":{\"id\":\"1048\",\"type\":\"ColumnDataSource\"},\"glyph\":{\"id\":\"1049\",\"type\":\"Line\"},\"hover_glyph\":null,\"muted_glyph\":null,\"nonselection_glyph\":{\"id\":\"1050\",\"type\":\"Line\"},\"selection_glyph\":null,\"view\":{\"id\":\"1052\",\"type\":\"CDSView\"}},\"id\":\"1051\",\"type\":\"GlyphRenderer\"},{\"attributes\":{\"source\":{\"id\":\"1456\",\"type\":\"ColumnDataSource\"}},\"id\":\"1460\",\"type\":\"CDSView\"},{\"attributes\":{},\"id\":\"1586\",\"type\":\"UnionRenderers\"},{\"attributes\":{},\"id\":\"1520\",\"type\":\"UnionRenderers\"},{\"attributes\":{\"label\":{\"value\":\"Timeout (1)\"},\"renderers\":[{\"id\":\"1051\",\"type\":\"GlyphRenderer\"},{\"id\":\"1067\",\"type\":\"GlyphRenderer\"}]},\"id\":\"1063\",\"type\":\"LegendItem\"},{\"attributes\":{},\"id\":\"1187\",\"type\":\"UnionRenderers\"},{\"attributes\":{},\"id\":\"1384\",\"type\":\"LinearScale\"},{\"attributes\":{\"fill_alpha\":{\"value\":0.1},\"fill_color\":{\"value\":\"#1f77b4\"},\"line_alpha\":{\"value\":0.1},\"line_color\":{\"value\":\"#1f77b4\"},\"line_width\":{\"value\":2},\"x\":{\"field\":\"x\"},\"y\":{\"field\":\"y\"}},\"id\":\"1228\",\"type\":\"Circle\"},{\"attributes\":{\"callback\":null,\"data\":{\"x\":[0,1,2,3,4,5,6,7,8,9,10,11,12,13,14,15,16,17,18,19,20,21,22,23,24,25,26,27,28,29,30,31,32,33,34,35,36,37,38,39,40,41,42,43,44,45,46,47],\"y\":{\"__ndarray__\":\"7bLLLrvs0j+/Ye0b1r7JP2aq+w9VpsQ/mpmZmZmZiT96TFqNvemyP8x+NCkO984/QBi8+zYLxD+/RwKUhrPQP2oxEWeQBdA/wG+Q/xJVxz9fP1wqDCmnPxhswRZswWY/pF5H6nWkvj+aS64k8a3GP00b6LSBTms/ekcU4a16yj8GeFA7EhTmP0jhehSuR8k/G64lIpol0T+WQZIrfYHUP5qZmZmZmb0/7ATkejfjwT9Ya6pNEuLCP3Z3d3d3t8Y/XhQ21s5r4j+SuO3jFCDMP/qvEBzSMsI/gphZTNByyT+OA/dSW3PEP18Wf9awgbU/CFnM9EwBtT8EWxn7yIm0P5xRFvhz87M/2kCnDXTawD/PWwzpvMXSP+RGbuRGbtQ/aY4okTO9xz9s1rVmXWumP6HYlccor8A/H7rz3CBw1D990id90ie1P8koLyexRMA/wLPHqVZTuD+8dI2jWGmsPwByj2fIEME/GDllXJFTtj9ZE2YKv0XIP2ZmZmZmZsA/\",\"dtype\":\"float64\",\"shape\":[48]}},\"selected\":{\"id\":\"1046\",\"type\":\"Selection\"},\"selection_policy\":{\"id\":\"1047\",\"type\":\"UnionRenderers\"}},\"id\":\"1022\",\"type\":\"ColumnDataSource\"},{\"attributes\":{\"axis_label\":\"Average stretch (min)\",\"formatter\":{\"id\":\"1030\",\"type\":\"BasicTickFormatter\"},\"minor_tick_line_color\":{\"value\":null},\"ticker\":{\"id\":\"1017\",\"type\":\"BasicTicker\"}},\"id\":\"1016\",\"type\":\"LinearAxis\"},{\"attributes\":{},\"id\":\"1142\",\"type\":\"BasicTicker\"},{\"attributes\":{\"fill_alpha\":{\"value\":0.1},\"fill_color\":{\"value\":\"#1f77b4\"},\"line_alpha\":{\"value\":0.1},\"line_color\":{\"value\":\"#1f77b4\"},\"line_width\":{\"value\":2},\"x\":{\"field\":\"x\"},\"y\":{\"field\":\"y\"}},\"id\":\"1191\",\"type\":\"Diamond\"},{\"attributes\":{\"data_source\":{\"id\":\"1035\",\"type\":\"ColumnDataSource\"},\"glyph\":{\"id\":\"1036\",\"type\":\"Square\"},\"hover_glyph\":null,\"muted_glyph\":null,\"nonselection_glyph\":{\"id\":\"1037\",\"type\":\"Square\"},\"selection_glyph\":null,\"view\":{\"id\":\"1039\",\"type\":\"CDSView\"}},\"id\":\"1038\",\"type\":\"GlyphRenderer\"},{\"attributes\":{},\"id\":\"1519\",\"type\":\"Selection\"},{\"attributes\":{},\"id\":\"1205\",\"type\":\"UnionRenderers\"},{\"attributes\":{\"callback\":null,\"data\":{\"x\":[0,1,2,3,4,5,6,7,8,9,10,11,12,13,14,15,16,17,18,19,20,21,22,23,24,25,26,27,28,29,30,31,32,33,34,35,36,37,38,39,40,41,42,43,44,45,46,47],\"y\":{\"__ndarray__\":\"2X+hiMeCLMDRTWIQWDkjwEcd1EEdVD7A++wCYlNpHsANPFktb8xDwNaJuz3HxSrAQSEqUEpGS8DlvSU9TShMwCTvLelpwj/AnwB63eF0P8AtqboG+3I9wKBR+y8U8RDAVe/q19o8MMBMW1j2ojkzwLAvVwLodee/F6QtLHuRS8DsMnZEwlhVwBFYObTIdgLACrqMHZFQUsCiUfsvFDFUwGzn+6nx0h/Aw5PV8sYIRMBRAuh1h1M4wI+0hWUvGjbAtVizkarrPcA6e9GcuNs6wLczrRAV6FjAFuPorFOmYcBbcIAbZik9wD4Ave5w+kfAZLx0kxikUsB2Wepd/fpSwD7hehSuB1XAn/vsAmJTHcASIW1h2YsywFnqXf1amx/Al6prsC/XMcDR38lqeWMjwMnE3Z7jIlnAInQZOyLhTcDEY8EBbpgBwO02zFLvakzA0v4LRTzWRsDmLelpQhdGwKy423NczDTAd2iR7Xw/LsB+WxXlE9RTwK+6BvtypTzA\",\"dtype\":\"float64\",\"shape\":[48]}},\"selected\":{\"id\":\"1245\",\"type\":\"Selection\"},\"selection_policy\":{\"id\":\"1246\",\"type\":\"UnionRenderers\"}},\"id\":\"1206\",\"type\":\"ColumnDataSource\"},{\"attributes\":{\"dimension\":1,\"grid_line_alpha\":0,\"ticker\":{\"id\":\"1017\",\"type\":\"BasicTicker\"}},\"id\":\"1020\",\"type\":\"Grid\"},{\"attributes\":{},\"id\":\"1224\",\"type\":\"UnionRenderers\"},{\"attributes\":{\"callback\":null,\"data\":{\"x\":[0,1,2,3,4,5,6,7,8,9,10,11,12,13,14,15,16,17,18,19,20,21,22,23,24,25,26,27,28,29,30,31,32,33,34,35,36,37,38,39,40,41,42,43,44,45,46,47],\"y\":{\"__ndarray__\":\"AAAAAAAAQUAAAAAAAIAwQAAAAAAAgFBAAAAAAAAANEAAAAAAAKBPQAAAAAAAAEBAAAAAAADgVEAAAAAAAMBiQAAAAAAAIFlAAAAAAADgUUAAAAAAAMBTQAAAAAAAADBAAAAAAAAAP0AAAAAAAEBPQAAAAAAAAABAAAAAAADAV0AAAAAAAABoQAAAAAAAAAhAAAAAAAAoZkAAAAAAAEBdQAAAAAAAADFAAAAAAADgW0AAAAAAAMBMQAAAAAAAAEdAAAAAAACAV0AAAAAAAIBOQAAAAAAAQG5AAAAAAACwakAAAAAAAABNQAAAAAAAYFNAAAAAAABwYUAAAAAAAJBgQAAAAAAA8FtAAAAAAAAAIkAAAAAAAABDQAAAAAAAgDBAAAAAAACAOUAAAAAAAAAuQAAAAAAA6GJAAAAAAABwXkAAAAAAAAAMQAAAAAAAQEhAAAAAAADAS0AAAAAAAMBeQAAAAAAAQEJAAAAAAAAAQUAAAAAAAABWQAAAAAAAIFBA\",\"dtype\":\"float64\",\"shape\":[48]}},\"selected\":{\"id\":\"1436\",\"type\":\"Selection\"},\"selection_policy\":{\"id\":\"1437\",\"type\":\"UnionRenderers\"}},\"id\":\"1410\",\"type\":\"ColumnDataSource\"},{\"attributes\":{},\"id\":\"1017\",\"type\":\"BasicTicker\"},{\"attributes\":{\"fill_color\":{\"value\":\"#0C0786\"},\"line_color\":{\"value\":\"#0C0786\"},\"line_width\":{\"value\":2},\"x\":{\"field\":\"x\"},\"y\":{\"field\":\"y\"}},\"id\":\"1411\",\"type\":\"Square\"},{\"attributes\":{},\"id\":\"1098\",\"type\":\"Selection\"},{\"attributes\":{\"active_drag\":\"auto\",\"active_inspect\":\"auto\",\"active_multi\":null,\"active_scroll\":\"auto\",\"active_tap\":\"auto\"},\"id\":\"1396\",\"type\":\"Toolbar\"},{\"attributes\":{},\"id\":\"1246\",\"type\":\"UnionRenderers\"},{\"attributes\":{\"axis_label\":\"Score\",\"formatter\":{\"id\":\"1155\",\"type\":\"BasicTickFormatter\"},\"minor_tick_line_color\":{\"value\":null},\"ticker\":{\"id\":\"1142\",\"type\":\"BasicTicker\"}},\"id\":\"1141\",\"type\":\"LinearAxis\"},{\"attributes\":{},\"id\":\"1541\",\"type\":\"Selection\"},{\"attributes\":{\"callback\":null,\"data\":{\"x\":[0,1,2,3,4,5,6,7,8,9,10,11,12,13,14,15,16,17,18,19,20,21,22,23,24,25,26,27,28,29,30,31,32,33,34,35,36,37,38,39,40,41,42,43,44,45,46,47],\"y\":{\"__ndarray__\":\"Z5qw/WR0E8BQ4nMn2JcEwBkdkIR9uSPAUHEceLW8BcCT/8nfvWUgwBKKraBphRDA5dAi2/l+JcC0ccRafOU2wF76l6QyOSrAoiWPp+WNJMCelh+4yiEjwA/VlGQdTv+/QIo6cw+hEMDfiO5Z12AdwO1mRj8aTs+/dcWM8PYcL8BseeV6WxZKwGjpCrYRj92/d2fttguoOsBWKxN+qfYywLosJjYf/wPApYKKql+rLMA7jbRU3lghwCDwwADCexnATPkQVI03MMCS/8nfvaUiwCygUE8fr0LAlnX/WIhqPcB+WG/UChEiwCic3VomNyfAuK6YEd77NcC9/bloyPkwwGE3bFuUTy3A/pqsUQ8h87/84lKVtrATwEq2upwSQADAHFpkO99PDMDVIqKYvDEAwDtWKT3TijjA2j7kLVeCMMCYpghwelfjv+kmMQisHBrADOnwEMZRIcCVQ4ts5zsxwBzoobYNsxPArKqX32lCEsCAQ6hSs5ErwLXBiejXGiHA\",\"dtype\":\"float64\",\"shape\":[48]}},\"selected\":{\"id\":\"1186\",\"type\":\"Selection\"},\"selection_policy\":{\"id\":\"1187\",\"type\":\"UnionRenderers\"}},\"id\":\"1160\",\"type\":\"ColumnDataSource\"},{\"attributes\":{},\"id\":\"1099\",\"type\":\"UnionRenderers\"},{\"attributes\":{\"line_color\":\"#7C02A7\",\"x\":{\"field\":\"x\"},\"y\":{\"field\":\"y\"}},\"id\":\"1457\",\"type\":\"Line\"},{\"attributes\":{\"source\":{\"id\":\"1189\",\"type\":\"ColumnDataSource\"}},\"id\":\"1193\",\"type\":\"CDSView\"},{\"attributes\":{\"callback\":null,\"data\":{\"x\":[0,1,2,3,4,5,6,7,8,9,10,11,12,13,14,15,16,17,18,19,20,21,22,23,24,25,26,27,28,29,30,31,32,33,34,35,36,37,38,39,40,41,42,43,44,45,46,47],\"y\":{\"__ndarray__\":\"7bLLLrvs0j+/Ye0b1r7JP2aq+w9VpsQ/mpmZmZmZiT96TFqNvemyP8x+NCkO984/QBi8+zYLxD+/RwKUhrPQP2oxEWeQBdA/wG+Q/xJVxz9fP1wqDCmnPxhswRZswWY/pF5H6nWkvj+aS64k8a3GP00b6LSBTms/ekcU4a16yj8GeFA7EhTmP0jhehSuR8k/G64lIpol0T+WQZIrfYHUP5qZmZmZmb0/7ATkejfjwT9Ya6pNEuLCP3Z3d3d3t8Y/XhQ21s5r4j+SuO3jFCDMP/qvEBzSMsI/gphZTNByyT+OA/dSW3PEP18Wf9awgbU/CFnM9EwBtT8EWxn7yIm0P5xRFvhz87M/2kCnDXTawD/PWwzpvMXSP+RGbuRGbtQ/aY4okTO9xz9s1rVmXWumP6HYlccor8A/H7rz3CBw1D990id90ie1P8koLyexRMA/wLPHqVZTuD+8dI2jWGmsPwByj2fIEME/GDllXJFTtj9ZE2YKv0XIP2ZmZmZmZsA/\",\"dtype\":\"float64\",\"shape\":[48]}},\"selected\":{\"id\":\"1061\",\"type\":\"Selection\"},\"selection_policy\":{\"id\":\"1062\",\"type\":\"UnionRenderers\"}},\"id\":\"1035\",\"type\":\"ColumnDataSource\"},{\"attributes\":{\"callback\":null,\"end\":47.5},\"id\":\"1003\",\"type\":\"Range1d\"},{\"attributes\":{\"callback\":null,\"data\":{\"x\":[0,1,2,3,4,5,6,7,8,9,10,11,12,13,14,15,16,17,18,19,20,21,22,23,24,25,26,27,28,29,30,31,32,33,34,35,36,37,38,39,40,41,42,43,44,45,46,47],\"y\":{\"__ndarray__\":\"nfvsAmJTGcB59WttHsgYwCv1rn6tTTDAmOjvZLW8BcBFB3VQB/U6wNgFxKbSkCPAuSU9TegyQ8A6nD7+kSdAwGkZOyJhHC3A6r9QxGPBLcAh4rHgADcowF0JoNcdTv+/zQOZH7y3FsDBk9XyxgggwF0JoNcdTs+/nXpXv9ZmP8APogKlZFhQwF0JoNcdTu+/9q5+rc3DSMDbM60QFehLwJsHMj94bwnA0sc/8kwrMsDU8sYIJvopwK4E0OsOpyTAg153OH38NsBR46WbxCArwMu5zy4gllLAhE2lIedeVsAoMQisHNoxwKrXHU4ffznAnYryCRp1RcBQ/VqbBzJHwAFYObTINkzA2gXEptKQA8C2/0IRjwUdwDAIrBxaZAvA+XIlgF53IMCfBzI/eG8ZwLbAh5C28E/ADPFYcIAbSMAGB7hhlnrnvxDnPruA2EfAvhn4ENIWO8DcJ2jU/gs4wHmOiynWbC7ALAaBlUOLHsChLSx70ZxGwCUGgZVDiynA\",\"dtype\":\"float64\",\"shape\":[48]}},\"selected\":{\"id\":\"1223\",\"type\":\"Selection\"},\"selection_policy\":{\"id\":\"1224\",\"type\":\"UnionRenderers\"}},\"id\":\"1189\",\"type\":\"ColumnDataSource\"},{\"attributes\":{\"text\":\"\"},\"id\":\"1403\",\"type\":\"Title\"},{\"attributes\":{\"data_source\":{\"id\":\"1189\",\"type\":\"ColumnDataSource\"},\"glyph\":{\"id\":\"1190\",\"type\":\"Diamond\"},\"hover_glyph\":null,\"muted_glyph\":null,\"nonselection_glyph\":{\"id\":\"1191\",\"type\":\"Diamond\"},\"selection_glyph\":null,\"view\":{\"id\":\"1193\",\"type\":\"CDSView\"}},\"id\":\"1192\",\"type\":\"GlyphRenderer\"},{\"attributes\":{\"source\":{\"id\":\"1048\",\"type\":\"ColumnDataSource\"}},\"id\":\"1052\",\"type\":\"CDSView\"},{\"attributes\":{\"source\":{\"id\":\"1160\",\"type\":\"ColumnDataSource\"}},\"id\":\"1164\",\"type\":\"CDSView\"},{\"attributes\":{\"source\":{\"id\":\"1173\",\"type\":\"ColumnDataSource\"}},\"id\":\"1177\",\"type\":\"CDSView\"},{\"attributes\":{},\"id\":\"1032\",\"type\":\"BasicTickFormatter\"},{\"attributes\":{},\"id\":\"1587\",\"type\":\"Selection\"},{\"attributes\":{\"items\":[{\"id\":\"1159\",\"type\":\"LegendItem\"},{\"id\":\"1188\",\"type\":\"LegendItem\"},{\"id\":\"1225\",\"type\":\"LegendItem\"}],\"location\":\"top_center\",\"orientation\":\"horizontal\",\"visible\":false},\"id\":\"1158\",\"type\":\"Legend\"},{\"attributes\":{\"dimension\":1,\"grid_line_alpha\":0,\"ticker\":{\"id\":\"1392\",\"type\":\"BasicTicker\"}},\"id\":\"1395\",\"type\":\"Grid\"},{\"attributes\":{\"source\":{\"id\":\"1206\",\"type\":\"ColumnDataSource\"}},\"id\":\"1210\",\"type\":\"CDSView\"},{\"attributes\":{\"grid_line_alpha\":0,\"ticker\":{\"id\":\"1137\",\"type\":\"BasicTicker\"}},\"id\":\"1140\",\"type\":\"Grid\"},{\"attributes\":{\"axis_label\":\"week\",\"formatter\":{\"id\":\"1032\",\"type\":\"BasicTickFormatter\"},\"minor_tick_line_color\":{\"value\":null},\"ticker\":{\"id\":\"1125\",\"type\":\"SingleIntervalTicker\"}},\"id\":\"1011\",\"type\":\"LinearAxis\"},{\"attributes\":{},\"id\":\"1542\",\"type\":\"UnionRenderers\"},{\"attributes\":{},\"id\":\"1186\",\"type\":\"Selection\"},{\"attributes\":{},\"id\":\"1564\",\"type\":\"UnionRenderers\"},{\"attributes\":{\"active_drag\":\"auto\",\"active_inspect\":\"auto\",\"active_multi\":null,\"active_scroll\":\"auto\",\"active_tap\":\"auto\"},\"id\":\"1021\",\"type\":\"Toolbar\"},{\"attributes\":{},\"id\":\"1157\",\"type\":\"BasicTickFormatter\"},{\"attributes\":{\"callback\":null,\"end\":47.5},\"id\":\"1253\",\"type\":\"Range1d\"},{\"attributes\":{},\"id\":\"1137\",\"type\":\"BasicTicker\"},{\"attributes\":{},\"id\":\"1588\",\"type\":\"UnionRenderers\"},{\"attributes\":{\"data_source\":{\"id\":\"1206\",\"type\":\"ColumnDataSource\"},\"glyph\":{\"id\":\"1207\",\"type\":\"Line\"},\"hover_glyph\":null,\"muted_glyph\":null,\"nonselection_glyph\":{\"id\":\"1208\",\"type\":\"Line\"},\"selection_glyph\":null,\"view\":{\"id\":\"1210\",\"type\":\"CDSView\"}},\"id\":\"1209\",\"type\":\"GlyphRenderer\"},{\"attributes\":{\"line_color\":\"#0C0786\",\"x\":{\"field\":\"x\"},\"y\":{\"field\":\"y\"}},\"id\":\"1023\",\"type\":\"Line\"},{\"attributes\":{\"line_alpha\":0.1,\"line_color\":\"#1f77b4\",\"x\":{\"field\":\"x\"},\"y\":{\"field\":\"y\"}},\"id\":\"1024\",\"type\":\"Line\"},{\"attributes\":{\"items\":[{\"id\":\"1409\",\"type\":\"LegendItem\"},{\"id\":\"1438\",\"type\":\"LegendItem\"},{\"id\":\"1475\",\"type\":\"LegendItem\"}],\"location\":\"top_center\",\"orientation\":\"horizontal\"},\"id\":\"1408\",\"type\":\"Legend\"},{\"attributes\":{},\"id\":\"1591\",\"type\":\"ProxyToolbar\"},{\"attributes\":{\"data_source\":{\"id\":\"1022\",\"type\":\"ColumnDataSource\"},\"glyph\":{\"id\":\"1023\",\"type\":\"Line\"},\"hover_glyph\":null,\"muted_glyph\":null,\"nonselection_glyph\":{\"id\":\"1024\",\"type\":\"Line\"},\"selection_glyph\":null,\"view\":{\"id\":\"1026\",\"type\":\"CDSView\"}},\"id\":\"1025\",\"type\":\"GlyphRenderer\"},{\"attributes\":{},\"id\":\"1007\",\"type\":\"LinearScale\"},{\"attributes\":{\"below\":[{\"id\":\"1261\",\"type\":\"LinearAxis\"}],\"center\":[{\"id\":\"1265\",\"type\":\"Grid\"},{\"id\":\"1270\",\"type\":\"Grid\"},{\"id\":\"1283\",\"type\":\"Legend\"},{\"id\":\"1373\",\"type\":\"Whisker\"}],\"left\":[{\"id\":\"1266\",\"type\":\"LinearAxis\"}],\"plot_height\":250,\"plot_width\":900,\"renderers\":[{\"id\":\"1275\",\"type\":\"GlyphRenderer\"},{\"id\":\"1288\",\"type\":\"GlyphRenderer\"},{\"id\":\"1301\",\"type\":\"GlyphRenderer\"},{\"id\":\"1317\",\"type\":\"GlyphRenderer\"},{\"id\":\"1334\",\"type\":\"GlyphRenderer\"},{\"id\":\"1354\",\"type\":\"GlyphRenderer\"}],\"title\":{\"id\":\"1278\",\"type\":\"Title\"},\"toolbar\":{\"id\":\"1271\",\"type\":\"Toolbar\"},\"toolbar_location\":null,\"x_range\":{\"id\":\"1253\",\"type\":\"Range1d\"},\"x_scale\":{\"id\":\"1257\",\"type\":\"LinearScale\"},\"y_range\":{\"id\":\"1255\",\"type\":\"DataRange1d\"},\"y_scale\":{\"id\":\"1259\",\"type\":\"LinearScale\"}},\"id\":\"1252\",\"subtype\":\"Figure\",\"type\":\"Plot\"},{\"attributes\":{\"fill_alpha\":{\"value\":0.1},\"fill_color\":{\"value\":\"#1f77b4\"},\"line_alpha\":{\"value\":0.1},\"line_color\":{\"value\":\"#1f77b4\"},\"line_width\":{\"value\":2},\"x\":{\"field\":\"x\"},\"y\":{\"field\":\"y\"}},\"id\":\"1287\",\"type\":\"Square\"},{\"attributes\":{\"fill_color\":{\"value\":\"#F79341\"},\"line_color\":{\"value\":\"#F79341\"},\"line_width\":{\"value\":2},\"x\":{\"field\":\"x\"},\"y\":{\"field\":\"y\"}},\"id\":\"1440\",\"type\":\"Diamond\"},{\"attributes\":{\"line_alpha\":0.1,\"line_color\":\"#1f77b4\",\"x\":{\"field\":\"x\"},\"y\":{\"field\":\"y\"}},\"id\":\"1083\",\"type\":\"Line\"},{\"attributes\":{\"below\":[{\"id\":\"1136\",\"type\":\"LinearAxis\"}],\"center\":[{\"id\":\"1140\",\"type\":\"Grid\"},{\"id\":\"1145\",\"type\":\"Grid\"},{\"id\":\"1158\",\"type\":\"Legend\"},{\"id\":\"1248\",\"type\":\"Whisker\"}],\"left\":[{\"id\":\"1141\",\"type\":\"LinearAxis\"}],\"plot_height\":250,\"plot_width\":900,\"renderers\":[{\"id\":\"1150\",\"type\":\"GlyphRenderer\"},{\"id\":\"1163\",\"type\":\"GlyphRenderer\"},{\"id\":\"1176\",\"type\":\"GlyphRenderer\"},{\"id\":\"1192\",\"type\":\"GlyphRenderer\"},{\"id\":\"1209\",\"type\":\"GlyphRenderer\"},{\"id\":\"1229\",\"type\":\"GlyphRenderer\"}],\"title\":{\"id\":\"1153\",\"type\":\"Title\"},\"toolbar\":{\"id\":\"1146\",\"type\":\"Toolbar\"},\"toolbar_location\":null,\"x_range\":{\"id\":\"1128\",\"type\":\"Range1d\"},\"x_scale\":{\"id\":\"1132\",\"type\":\"LinearScale\"},\"y_range\":{\"id\":\"1130\",\"type\":\"DataRange1d\"},\"y_scale\":{\"id\":\"1134\",\"type\":\"LinearScale\"}},\"id\":\"1127\",\"subtype\":\"Figure\",\"type\":\"Plot\"},{\"attributes\":{},\"id\":\"1259\",\"type\":\"LinearScale\"},{\"attributes\":{\"fill_color\":{\"value\":\"#7C02A7\"},\"line_color\":{\"value\":\"#7C02A7\"},\"line_width\":{\"value\":2},\"x\":{\"field\":\"x\"},\"y\":{\"field\":\"y\"}},\"id\":\"1477\",\"type\":\"Circle\"},{\"attributes\":{\"callback\":null,\"data\":{\"x\":[0,1,2,3,4,5,6,7,8,9,10,11,12,13,14,15,16,17,18,19,20,21,22,23,24,25,26,27,28,29,30,31,32,33,34,35,36,37,38,39,40,41,42,43,44,45,46,47],\"y\":{\"__ndarray__\":\"CqGDLuHQ0z+r61BNSdbJPxpR2ht8YeQ/q1s9J71vxD9cGyrG+ZvqP3vXoC+9/dE/81fIXBlU8j/r/UY7bvjyP1M+BFWjV+U/WikEcokj5T8qWONsOgLkP5boLLMIxbY/4lrtYS8U1j/urx73rdbZP562RgTj4JI/OSo3UUsz+j/wFHKlnoUCQCYYzjXM0Kg/8SvWcJG7A0COkIE8u/wJQJ1lFqHYCsY/zHoxlBPt6j86kzZV98jgP0s6ysFsAt4//ffgtUsb5D8r9wKzQlH6PyWRfZBlwQBADJI+raK/B0CcbAN3oE7xP9Iag04IHfA/2PFfIAgQ+T/r5uJve4L5P0qYaftXVvw/TTJyFva0wz8nS633G+3YP8LfL2ZLVsU/LGLYYUz61z+tUQ/R6A7KPwqjWdk+5ABARl7WxAJf9j+Pb+8a9KWnP3Nk5ZfBGPM/KSZvgJnv7j842QbuQJ3uP83Ji0zAL+A/zApFup9T1D/CwkmaP6b6P4qsNZTai+o/\",\"dtype\":\"float64\",\"shape\":[48]}},\"selected\":{\"id\":\"1541\",\"type\":\"Selection\"},\"selection_policy\":{\"id\":\"1542\",\"type\":\"UnionRenderers\"}},\"id\":\"1351\",\"type\":\"ColumnDataSource\"},{\"attributes\":{},\"id\":\"1421\",\"type\":\"Selection\"},{\"attributes\":{\"source\":{\"id\":\"1423\",\"type\":\"ColumnDataSource\"}},\"id\":\"1427\",\"type\":\"CDSView\"},{\"attributes\":{\"axis_label\":\"week\",\"formatter\":{\"id\":\"1282\",\"type\":\"BasicTickFormatter\"},\"minor_tick_line_color\":{\"value\":null},\"ticker\":{\"id\":\"1375\",\"type\":\"SingleIntervalTicker\"},\"visible\":false},\"id\":\"1261\",\"type\":\"LinearAxis\"},{\"attributes\":{\"line_color\":\"#7C02A7\",\"x\":{\"field\":\"x\"},\"y\":{\"field\":\"y\"}},\"id\":\"1332\",\"type\":\"Line\"},{\"attributes\":{\"fill_alpha\":{\"value\":0.1},\"fill_color\":{\"value\":\"#1f77b4\"},\"line_alpha\":{\"value\":0.1},\"line_color\":{\"value\":\"#1f77b4\"},\"line_width\":{\"value\":2},\"x\":{\"field\":\"x\"},\"y\":{\"field\":\"y\"}},\"id\":\"1478\",\"type\":\"Circle\"},{\"attributes\":{\"callback\":null,\"data\":{\"x\":[0,1,2,3,4,5,6,7,8,9,10,11,12,13,14,15,16,17,18,19,20,21,22,23,24,25,26,27,28,29,30,31,32,33,34,35,36,37,38,39,40,41,42,43,44,45,46,47],\"y\":{\"__ndarray__\":\"cjPcgM8Pwz+YFYp0P6fAPy47xD9s6dU/EMzR4/c2rT/Mf0i/fR3iP5YmpaDbS8o/3A2itaLN6T/arWUyHM/lP30h5Lz/j9M/61OOyeL+0z9cc0f/y7XQP94ehIB8CaU/Cmr4FtaNvz8GL/oK0ozFP5aS5SSUvoA/hnE3iNZK8j9pqifzj779P94ehIB8CZU/zmxX6IPl/j9y++WTFQMEQL/WpUboZ7I/DkxuFFlr2D+KH2PuWkLSP2U1XU90Xcw/i8BY38Dk3j9nf6Dctq/1P10z+WabG/k/yR8MPPce/j9nKsQj8fL0PySbq+Y5IuE/GePD7GXb7D/YDHBBtizvPzxQpzy6EfM/lialoNtLqj8yO4veqYDDPxy3mJ8bmrI/yvrNxHQhxj8UWWsotRfBP7WHvVDAdvU/SE4mbhXE8j9NLsbAOo6PP4Oj5NU5BvA/5POKpx5p4j81YJD0aRXhPwFMGTigpdg/+tLbn4uGxD89DoP5K2TuP4xppnud1N8/\",\"dtype\":\"float64\",\"shape\":[48]}},\"selected\":{\"id\":\"1329\",\"type\":\"Selection\"},\"selection_policy\":{\"id\":\"1330\",\"type\":\"UnionRenderers\"}},\"id\":\"1298\",\"type\":\"ColumnDataSource\"},{\"attributes\":{},\"id\":\"1262\",\"type\":\"BasicTicker\"},{\"attributes\":{},\"id\":\"1079\",\"type\":\"Selection\"},{\"attributes\":{\"data_source\":{\"id\":\"1476\",\"type\":\"ColumnDataSource\"},\"glyph\":{\"id\":\"1477\",\"type\":\"Circle\"},\"hover_glyph\":null,\"muted_glyph\":null,\"nonselection_glyph\":{\"id\":\"1478\",\"type\":\"Circle\"},\"selection_glyph\":null,\"view\":{\"id\":\"1480\",\"type\":\"CDSView\"}},\"id\":\"1479\",\"type\":\"GlyphRenderer\"},{\"attributes\":{\"label\":{\"value\":\"Timeout (1)\"},\"renderers\":[{\"id\":\"1301\",\"type\":\"GlyphRenderer\"},{\"id\":\"1317\",\"type\":\"GlyphRenderer\"}]},\"id\":\"1313\",\"type\":\"LegendItem\"},{\"attributes\":{\"callback\":null,\"data\":{\"x\":[0,1,2,3,4,5,6,7,8,9,10,11,12,13,14,15,16,17,18,19,20,21,22,23,24,25,26,27,28,29,30,31,32,33,34,35,36,37,38,39,40,41,42,43,44,45,46,47],\"y\":{\"__ndarray__\":\"TZa/ZPlLtj8HH3zwwQd/P75AYWnrC4Q/mpmZmZmZiT/eY68hL6l1PzZ12HJ/r0Y/dy/v48GPbT+X202QVJCVP9b/r/XEjqI/XnwXWgkqqT8qO0xdbn+APxhswRZswVY/Bx988MEHjz8BmXmheh6QP00b6LSBTms/HCD00kzKgD/uT2JOefXeP7oehetRuJ4/m04mGHc+qj+yiLamg7fJP93d3d3d3Y0/3e1CLVIAij8uTORPVz2IP3Ecx3Ecx4E/4ziO4ziO0z/n9K4MOF97P+kxJubUfoU/GIfvLQUlhD/z8AcKUPmPP7lwfARS92g/CKQr3rCbeD9zDudwDudgP6NY3yMEhWM/ERERERERkT9BOm8xpPOmPxM7sRM7sbM/E/R6lgS9nj+fEuQpQZ5SPxgNUIBdsZs/Ag4TUP2KuT8dx3Ecx3GMP6jnRBDSn04/fM/I0kOamD/MayI69s+kP41ssu7tY7Y/lnsaYbmngT89AziNHIVxP8EWbMEWbIE/\",\"dtype\":\"float64\",\"shape\":[48]}},\"selected\":{\"id\":\"1120\",\"type\":\"Selection\"},\"selection_policy\":{\"id\":\"1121\",\"type\":\"UnionRenderers\"}},\"id\":\"1081\",\"type\":\"ColumnDataSource\"},{\"attributes\":{},\"id\":\"1495\",\"type\":\"Selection\"},{\"attributes\":{\"callback\":null,\"data\":{\"base\":[0,1,2,3,4,5,6,7,8,9,10,11,12,13,14,15,16,17,18,19,20,21,22,23,24,25,26,27,28,29,30,31,32,33,34,35,36,37,38,39,40,41,42,43,44,45,46,47],\"lower\":{\"__ndarray__\":\"AAAAAAAAQUAAAAAAAAArQDRyey6cLE9AAAAAAAAANEAwAZUJH5hOQFRa23q2HDpA3ZYhMyWGUUDQ/q08i+hhQETUFJ1dz1dAk7/S9oN/UEAAAAAAAEBTQAAAAAAAADBAAAAAAAAAPUCHqCk6u55MQAAAAAAAAABAAAAAAADAVkAF0rfy+ctlQAAAAAAAAPA/NOHHhmvkZEAUJnUGn3lZQJz5TRfLsC9A+/BNB3NlW0DeKDt5GGNKQAAAAAAAAEdAqquZ7kcEVUCGGDAz7KtLQIIpVv9V6WxAcYbF1xYiakBuuY7GAmtKQL+PqBgRLVJAgJx6pIqcYED2MbIj00NgQIN5ltwculhAAAAAAAAAHEDa23497oxAQAAAAAAAAC9A7MM3HcyVN0Cc+U0Xy7ArQP1tlyVju2FAew0WcSQMXUAAAAAAAAAEQN9p8fjLikZA9uGbDubKSkD24ZsO5spdQAAAAAAAwEFAtLf9etwZPUAYmdElCHJUQAAAAAAAwE9A\",\"dtype\":\"float64\",\"shape\":[48]},\"upper\":{\"__ndarray__\":\"AAAAAAAAQUAAAAAAAIAzQOZGwuixaVFAAAAAAAAANEBofzV78FNQQNZSksKk8UJAI2nezNo5WEAwAVLDdJdjQLwr62KicFpAbUAtCXxAU0AAAAAAAEBUQAAAAAAAADBAAAAAAACAQEC8K+tiovBQQAAAAAAAAABAAAAAAADAWED7LUgNBjRqQAAAAAAAABRAzB44eZRrZ0D2bMV8MINgQDIDWXSaJzJABQ+y+IxaXEAi18SG5xxPQAAAAAAAAEdAVlRmEbj7WUC982fmCapQQH7WqQCqlm9Aj3k6KOk9a0CSRnE5/ZRPQEFwV+fuklRAgGOFW3VDYkAKzk3cLNxgQH2GaSPjJV9AAAAAAAAAJkAmJIHCEXNFQAAAAAAAgDFAFDzI4jNqO0AyA1l0micwQAOSaNqcFGRAhfLpjtvTX0AAAAAAAAASQCGWDgc09UlACh5k8Rm1TEAKHmTxGbVfQAAAAAAAwEJAJiSBwhFzQ0DoZi7a941XQAAAAAAAYFBA\",\"dtype\":\"float64\",\"shape\":[48]}},\"selected\":{\"id\":\"1521\",\"type\":\"Selection\"},\"selection_policy\":{\"id\":\"1522\",\"type\":\"UnionRenderers\"}},\"id\":\"1497\",\"type\":\"ColumnDataSource\"},{\"attributes\":{\"line_alpha\":0.1,\"line_color\":\"#1f77b4\",\"x\":{\"field\":\"x\"},\"y\":{\"field\":\"y\"}},\"id\":\"1425\",\"type\":\"Line\"},{\"attributes\":{\"fill_alpha\":{\"value\":0.1},\"fill_color\":{\"value\":\"#1f77b4\"},\"line_alpha\":{\"value\":0.1},\"line_color\":{\"value\":\"#1f77b4\"},\"line_width\":{\"value\":2},\"x\":{\"field\":\"x\"},\"y\":{\"field\":\"y\"}},\"id\":\"1353\",\"type\":\"Circle\"},{\"attributes\":{\"active_drag\":\"auto\",\"active_inspect\":\"auto\",\"active_multi\":null,\"active_scroll\":\"auto\",\"active_tap\":\"auto\"},\"id\":\"1271\",\"type\":\"Toolbar\"},{\"attributes\":{\"source\":{\"id\":\"1351\",\"type\":\"ColumnDataSource\"}},\"id\":\"1355\",\"type\":\"CDSView\"},{\"attributes\":{},\"id\":\"1280\",\"type\":\"BasicTickFormatter\"},{\"attributes\":{},\"id\":\"1454\",\"type\":\"Selection\"},{\"attributes\":{\"text\":\"\"},\"id\":\"1278\",\"type\":\"Title\"},{\"attributes\":{\"interval\":1},\"id\":\"1375\",\"type\":\"SingleIntervalTicker\"},{\"attributes\":{},\"id\":\"1437\",\"type\":\"UnionRenderers\"},{\"attributes\":{\"data_source\":{\"id\":\"1064\",\"type\":\"ColumnDataSource\"},\"glyph\":{\"id\":\"1065\",\"type\":\"Diamond\"},\"hover_glyph\":null,\"muted_glyph\":null,\"nonselection_glyph\":{\"id\":\"1066\",\"type\":\"Diamond\"},\"selection_glyph\":null,\"view\":{\"id\":\"1068\",\"type\":\"CDSView\"}},\"id\":\"1067\",\"type\":\"GlyphRenderer\"},{\"attributes\":{\"fill_color\":{\"value\":\"#0C0786\"},\"line_color\":{\"value\":\"#0C0786\"},\"line_width\":{\"value\":2},\"x\":{\"field\":\"x\"},\"y\":{\"field\":\"y\"}},\"id\":\"1286\",\"type\":\"Square\"},{\"attributes\":{},\"id\":\"1474\",\"type\":\"UnionRenderers\"},{\"attributes\":{},\"id\":\"1121\",\"type\":\"UnionRenderers\"},{\"attributes\":{\"callback\":null,\"data\":{\"base\":[0,1,2,3,4,5,6,7,8,9,10,11,12,13,14,15,16,17,18,19,20,21,22,23,24,25,26,27,28,29,30,31,32,33,34,35,36,37,38,39,40,41,42,43,44,45,46,47],\"lower\":{\"__ndarray__\":\"bFaVvClG0T8Eun8idS/HP1m3SDPT+MI/mpmZmZmZiT/SPe0vH3myP31FGOiTss0//ggZ879Gwz/qc/Vmm/TKPzn4goLSQM4/90RVJVqUxj+I5TqIY2ejPxhswRZswWY/3d3d3d3dvT+fpxss+ie8P00b6LSBTms/ljw7twXqyT8kVwKWTojkP1yPwvUoXMc/qlwWMbKX0D87Bz4M2uTSP9ljUgkerbw/KMsp8SvrwD+9PKfH8DLCP8HL10IMj8U/h4J+BKHG4T+z1t65iYzLPzVcODbsvcE/54L1WIEhyT8fceoFYezDPzFW1fne9bI/ubqPGIxFtD+C/SpOOESyPywT9uipZbM/+ag65BsOwD8a/EU9+8LQP0Iv9EIv9NI/gd9lRvEYxj94LDZf2d+ZP2bZgKKHNrs/CChfOlf40z9swRZswRa0PxhB8cePwL8/SJiLePJItz/maVwT7yqsP4/aDSImDME/SK/0rMbRtD+CFqzogLfHP5gSsPDM1r4/\",\"dtype\":\"float64\",\"shape\":[48]},\"upper\":{\"__ndarray__\":\"bg8CoUyT1D96CVsVN07MP3OdruzWU8Y/mpmZmZmZiT8iW8fqW1qzPw1cKDXEHdA/gidfBK7PxD+J1Yl0v+zTP7jm4Iy36tA/iZrL2csVyD82mX3MtOqqPxhswRZswWY/a9+w9g1rvz9kw04z5UfPP00b6LSBTms/XlLtClYLyz/omJ7g1Z/nPzQzMzMzM8s/jP80E4Kz0T/xe+ZKIB7WP1vP4CkVhr4/sD6eBEPbwj/zma3TM5HDPysjF6zi38c/Nabtp/wQ4z9xmvwNoLPMP78D6QG4p8I/Ha69Px/EyT/9lQOgVfrEP43WKLOCDbg/V/cI0Q29tT+GuAeoWc+2PwyQNgc+gbQ/u9gTN8ymwT+Eu9KUfsjUP4Ze6IVe6NU/UT3r23VhyT+cltAdzuavP49E670Nw8M/NkyIf+rn1D+O4ziO4zi2PwaxZWoaqcA/OM8D27pduT+Sf74zwqesP3EJEa1qFcE/6MLVC1zVtz8wECAs/dPIP4DDdFRmYcE/\",\"dtype\":\"float64\",\"shape\":[48]}},\"selected\":{\"id\":\"1587\",\"type\":\"Selection\"},\"selection_policy\":{\"id\":\"1588\",\"type\":\"UnionRenderers\"}},\"id\":\"1122\",\"type\":\"ColumnDataSource\"},{\"attributes\":{\"callback\":null,\"end\":47.5},\"id\":\"1128\",\"type\":\"Range1d\"},{\"attributes\":{\"callback\":null,\"data\":{\"x\":[0,1,2,3,4,5,6,7,8,9,10,11,12,13,14,15,16,17,18,19,20,21,22,23,24,25,26,27,28,29,30,31,32,33,34,35,36,37,38,39,40,41,42,43,44,45,46,47],\"y\":{\"__ndarray__\":\"jLysiQW+vj/dXz3uW62rP0W3XtODgso/EMzR4/c2rT/jiSDOwwnGP3XHYptUNLY/Iv5hS4+mzD8tIR/0bFbeP5dSl4xjJNE/5E7pYP2fyz/dskP8w5bKP94ehIB8CaU/641aYfpetz9f1O5XAb7DP5aS5SSUvoA/uDoA4q7e6T+oyCHi5tT6Pzhlbr4R3YM/AWpq2Vqf8j8uxsA6jj/4P+RlTSzwFbE/ZFdaRuo90z/D0ytlGeLIP36qCg3EssE/R+NQvwtb1D8VyOwseqfwP22Oc5twL+k/zLbT1ojg4z8T1zGuuDjkPwjlfRzNkc0/+MPPfw9e3D/RXKeRlsrWP1aBWgweptM/w0maP6a1mT/bTIV4JF66P0D35cx2haY/Pq946pEGsz/5g4Hn3sOlP0lJD0Ork90/thK6S+Ks2z/a4hqfyf6JPzRHVn4ZjME/UFYMVwdAyD8stklFY+3YP3KJIw9EFsM/6NztemmKuD8MycnErYLQP9QnucMmMto/\",\"dtype\":\"float64\",\"shape\":[48]}},\"selected\":{\"id\":\"1296\",\"type\":\"Selection\"},\"selection_policy\":{\"id\":\"1297\",\"type\":\"UnionRenderers\"}},\"id\":\"1272\",\"type\":\"ColumnDataSource\"},{\"attributes\":{\"data_source\":{\"id\":\"1331\",\"type\":\"ColumnDataSource\"},\"glyph\":{\"id\":\"1332\",\"type\":\"Line\"},\"hover_glyph\":null,\"muted_glyph\":null,\"nonselection_glyph\":{\"id\":\"1333\",\"type\":\"Line\"},\"selection_glyph\":null,\"view\":{\"id\":\"1335\",\"type\":\"CDSView\"}},\"id\":\"1334\",\"type\":\"GlyphRenderer\"},{\"attributes\":{\"level\":\"underlay\",\"size\":10},\"id\":\"1572\",\"type\":\"TeeHead\"},{\"attributes\":{},\"id\":\"1329\",\"type\":\"Selection\"},{\"attributes\":{\"below\":[{\"id\":\"1386\",\"type\":\"LinearAxis\"}],\"center\":[{\"id\":\"1390\",\"type\":\"Grid\"},{\"id\":\"1395\",\"type\":\"Grid\"},{\"id\":\"1408\",\"type\":\"Legend\"},{\"id\":\"1498\",\"type\":\"Whisker\"}],\"left\":[{\"id\":\"1391\",\"type\":\"LinearAxis\"}],\"plot_height\":250,\"plot_width\":900,\"renderers\":[{\"id\":\"1400\",\"type\":\"GlyphRenderer\"},{\"id\":\"1413\",\"type\":\"GlyphRenderer\"},{\"id\":\"1426\",\"type\":\"GlyphRenderer\"},{\"id\":\"1442\",\"type\":\"GlyphRenderer\"},{\"id\":\"1459\",\"type\":\"GlyphRenderer\"},{\"id\":\"1479\",\"type\":\"GlyphRenderer\"}],\"title\":{\"id\":\"1403\",\"type\":\"Title\"},\"toolbar\":{\"id\":\"1396\",\"type\":\"Toolbar\"},\"toolbar_location\":null,\"x_range\":{\"id\":\"1378\",\"type\":\"Range1d\"},\"x_scale\":{\"id\":\"1382\",\"type\":\"LinearScale\"},\"y_range\":{\"id\":\"1380\",\"type\":\"DataRange1d\"},\"y_scale\":{\"id\":\"1384\",\"type\":\"LinearScale\"}},\"id\":\"1377\",\"subtype\":\"Figure\",\"type\":\"Plot\"},{\"attributes\":{\"data_source\":{\"id\":\"1285\",\"type\":\"ColumnDataSource\"},\"glyph\":{\"id\":\"1286\",\"type\":\"Square\"},\"hover_glyph\":null,\"muted_glyph\":null,\"nonselection_glyph\":{\"id\":\"1287\",\"type\":\"Square\"},\"selection_glyph\":null,\"view\":{\"id\":\"1289\",\"type\":\"CDSView\"}},\"id\":\"1288\",\"type\":\"GlyphRenderer\"},{\"attributes\":{\"line_color\":\"#F79341\",\"x\":{\"field\":\"x\"},\"y\":{\"field\":\"y\"}},\"id\":\"1424\",\"type\":\"Line\"},{\"attributes\":{\"callback\":null,\"data\":{\"x\":[0,1,2,3,4,5,6,7,8,9,10,11,12,13,14,15,16,17,18,19,20,21,22,23,24,25,26,27,28,29,30,31,32,33,34,35,36,37,38,39,40,41,42,43,44,45,46,47],\"y\":{\"__ndarray__\":\"cjPcgM8Pwz+YFYp0P6fAPy47xD9s6dU/EMzR4/c2rT/Mf0i/fR3iP5YmpaDbS8o/3A2itaLN6T/arWUyHM/lP30h5Lz/j9M/61OOyeL+0z9cc0f/y7XQP94ehIB8CaU/Cmr4FtaNvz8GL/oK0ozFP5aS5SSUvoA/hnE3iNZK8j9pqifzj779P94ehIB8CZU/zmxX6IPl/j9y++WTFQMEQL/WpUboZ7I/DkxuFFlr2D+KH2PuWkLSP2U1XU90Xcw/i8BY38Dk3j9nf6Dctq/1P10z+WabG/k/yR8MPPce/j9nKsQj8fL0PySbq+Y5IuE/GePD7GXb7D/YDHBBtizvPzxQpzy6EfM/lialoNtLqj8yO4veqYDDPxy3mJ8bmrI/yvrNxHQhxj8UWWsotRfBP7WHvVDAdvU/SE4mbhXE8j9NLsbAOo6PP4Oj5NU5BvA/5POKpx5p4j81YJD0aRXhPwFMGTigpdg/+tLbn4uGxD89DoP5K2TuP4xppnud1N8/\",\"dtype\":\"float64\",\"shape\":[48]}},\"selected\":{\"id\":\"1348\",\"type\":\"Selection\"},\"selection_policy\":{\"id\":\"1349\",\"type\":\"UnionRenderers\"}},\"id\":\"1314\",\"type\":\"ColumnDataSource\"},{\"attributes\":{\"line_alpha\":0.1,\"line_color\":\"#1f77b4\",\"x\":{\"field\":\"x\"},\"y\":{\"field\":\"y\"}},\"id\":\"1333\",\"type\":\"Line\"},{\"attributes\":{},\"id\":\"1349\",\"type\":\"UnionRenderers\"},{\"attributes\":{\"line_alpha\":0.1,\"line_color\":\"#1f77b4\",\"x\":{\"field\":\"x\"},\"y\":{\"field\":\"y\"}},\"id\":\"1274\",\"type\":\"Line\"},{\"attributes\":{},\"id\":\"1080\",\"type\":\"UnionRenderers\"},{\"attributes\":{},\"id\":\"1134\",\"type\":\"LinearScale\"},{\"attributes\":{\"callback\":null,\"data\":{\"x\":[0,1,2,3,4,5,6,7,8,9,10,11,12,13,14,15,16,17,18,19,20,21,22,23,24,25,26,27,28,29,30,31,32,33,34,35,36,37,38,39,40,41,42,43,44,45,46,47],\"y\":{\"__ndarray__\":\"jLysiQW+vj/dXz3uW62rP0W3XtODgso/EMzR4/c2rT/jiSDOwwnGP3XHYptUNLY/Iv5hS4+mzD8tIR/0bFbeP5dSl4xjJNE/5E7pYP2fyz/dskP8w5bKP94ehIB8CaU/641aYfpetz9f1O5XAb7DP5aS5SSUvoA/uDoA4q7e6T+oyCHi5tT6Pzhlbr4R3YM/AWpq2Vqf8j8uxsA6jj/4P+RlTSzwFbE/ZFdaRuo90z/D0ytlGeLIP36qCg3EssE/R+NQvwtb1D8VyOwseqfwP22Oc5twL+k/zLbT1ojg4z8T1zGuuDjkPwjlfRzNkc0/+MPPfw9e3D/RXKeRlsrWP1aBWgweptM/w0maP6a1mT/bTIV4JF66P0D35cx2haY/Pq946pEGsz/5g4Hn3sOlP0lJD0Ork90/thK6S+Ks2z/a4hqfyf6JPzRHVn4ZjME/UFYMVwdAyD8stklFY+3YP3KJIw9EFsM/6NztemmKuD8MycnErYLQP9QnucMmMto/\",\"dtype\":\"float64\",\"shape\":[48]}},\"selected\":{\"id\":\"1311\",\"type\":\"Selection\"},\"selection_policy\":{\"id\":\"1312\",\"type\":\"UnionRenderers\"}},\"id\":\"1285\",\"type\":\"ColumnDataSource\"},{\"attributes\":{},\"id\":\"1120\",\"type\":\"Selection\"},{\"attributes\":{\"source\":{\"id\":\"1439\",\"type\":\"ColumnDataSource\"}},\"id\":\"1443\",\"type\":\"CDSView\"},{\"attributes\":{},\"id\":\"1422\",\"type\":\"UnionRenderers\"},{\"attributes\":{},\"id\":\"1312\",\"type\":\"UnionRenderers\"},{\"attributes\":{\"axis_label\":\"week\",\"formatter\":{\"id\":\"1157\",\"type\":\"BasicTickFormatter\"},\"minor_tick_line_color\":{\"value\":null},\"ticker\":{\"id\":\"1250\",\"type\":\"SingleIntervalTicker\"},\"visible\":false},\"id\":\"1136\",\"type\":\"LinearAxis\"},{\"attributes\":{\"callback\":null},\"id\":\"1130\",\"type\":\"DataRange1d\"},{\"attributes\":{},\"id\":\"1348\",\"type\":\"Selection\"},{\"attributes\":{},\"id\":\"1585\",\"type\":\"Selection\"},{\"attributes\":{\"line_color\":\"#F79341\",\"x\":{\"field\":\"x\"},\"y\":{\"field\":\"y\"}},\"id\":\"1299\",\"type\":\"Line\"},{\"attributes\":{\"source\":{\"id\":\"1331\",\"type\":\"ColumnDataSource\"}},\"id\":\"1335\",\"type\":\"CDSView\"},{\"attributes\":{\"line_color\":\"#7C02A7\",\"x\":{\"field\":\"x\"},\"y\":{\"field\":\"y\"}},\"id\":\"1082\",\"type\":\"Line\"},{\"attributes\":{},\"id\":\"1436\",\"type\":\"Selection\"},{\"attributes\":{\"label\":{\"value\":\"Timeout (10)\"},\"renderers\":[{\"id\":\"1459\",\"type\":\"GlyphRenderer\"},{\"id\":\"1479\",\"type\":\"GlyphRenderer\"}]},\"id\":\"1475\",\"type\":\"LegendItem\"},{\"attributes\":{\"source\":{\"id\":\"1314\",\"type\":\"ColumnDataSource\"}},\"id\":\"1318\",\"type\":\"CDSView\"},{\"attributes\":{\"data_source\":{\"id\":\"1410\",\"type\":\"ColumnDataSource\"},\"glyph\":{\"id\":\"1411\",\"type\":\"Square\"},\"hover_glyph\":null,\"muted_glyph\":null,\"nonselection_glyph\":{\"id\":\"1412\",\"type\":\"Square\"},\"selection_glyph\":null,\"view\":{\"id\":\"1414\",\"type\":\"CDSView\"}},\"id\":\"1413\",\"type\":\"GlyphRenderer\"},{\"attributes\":{},\"id\":\"1371\",\"type\":\"UnionRenderers\"},{\"attributes\":{\"below\":[{\"id\":\"1011\",\"type\":\"LinearAxis\"}],\"center\":[{\"id\":\"1015\",\"type\":\"Grid\"},{\"id\":\"1020\",\"type\":\"Grid\"},{\"id\":\"1033\",\"type\":\"Legend\"},{\"id\":\"1123\",\"type\":\"Whisker\"}],\"left\":[{\"id\":\"1016\",\"type\":\"LinearAxis\"}],\"plot_height\":250,\"plot_width\":900,\"renderers\":[{\"id\":\"1025\",\"type\":\"GlyphRenderer\"},{\"id\":\"1038\",\"type\":\"GlyphRenderer\"},{\"id\":\"1051\",\"type\":\"GlyphRenderer\"},{\"id\":\"1067\",\"type\":\"GlyphRenderer\"},{\"id\":\"1084\",\"type\":\"GlyphRenderer\"},{\"id\":\"1104\",\"type\":\"GlyphRenderer\"}],\"title\":{\"id\":\"1028\",\"type\":\"Title\"},\"toolbar\":{\"id\":\"1021\",\"type\":\"Toolbar\"},\"toolbar_location\":null,\"x_range\":{\"id\":\"1003\",\"type\":\"Range1d\"},\"x_scale\":{\"id\":\"1007\",\"type\":\"LinearScale\"},\"y_range\":{\"id\":\"1005\",\"type\":\"DataRange1d\"},\"y_scale\":{\"id\":\"1009\",\"type\":\"LinearScale\"}},\"id\":\"1002\",\"subtype\":\"Figure\",\"type\":\"Plot\"},{\"attributes\":{\"callback\":null,\"data\":{\"x\":[0,1,2,3,4,5,6,7,8,9,10,11,12,13,14,15,16,17,18,19,20,21,22,23,24,25,26,27,28,29,30,31,32,33,34,35,36,37,38,39,40,41,42,43,44,45,46,47],\"y\":{\"__ndarray__\":\"AAAAAAAASUAAAAAAAABIQAAAAAAAAF9AAAAAAAAANEAAAAAAAEBrQAAAAAAAAFRAAAAAAACgc0AAAAAAAMBvQAAAAAAAwF1AAAAAAACAXUAAAAAAAABaQAAAAAAAADBAAAAAAAAAR0AAAAAAAABRQAAAAAAAAABAAAAAAAAgbkAAAAAAAOB3QAAAAAAAACBAAAAAAADgd0AAAAAAAOBxQAAAAAAAADpAAAAAAAAgYkAAAAAAAABZQAAAAAAAAFVAAAAAAACAZEAAAAAAAEBcQAAAAAAAIIJAAAAAAADohkAAAAAAAMBgQAAAAAAAAGpAAAAAAACgdUAAAAAAANB3QAAAAAAAwHxAAAAAAAAANEAAAAAAAABNQAAAAAAAADxAAAAAAAAAT0AAAAAAAABKQAAAAAAAMIBAAAAAAACgeEAAAAAAAAAYQAAAAAAAYHhAAAAAAABAaEAAAAAAAEBmQAAAAAAAAFZAAAAAAAAAT0AAAAAAAAB3QAAAAAAAAFpA\",\"dtype\":\"float64\",\"shape\":[48]}},\"selected\":{\"id\":\"1454\",\"type\":\"Selection\"},\"selection_policy\":{\"id\":\"1455\",\"type\":\"UnionRenderers\"}},\"id\":\"1423\",\"type\":\"ColumnDataSource\"},{\"attributes\":{\"fill_color\":{\"value\":\"#7C02A7\"},\"line_color\":{\"value\":\"#7C02A7\"},\"line_width\":{\"value\":2},\"x\":{\"field\":\"x\"},\"y\":{\"field\":\"y\"}},\"id\":\"1352\",\"type\":\"Circle\"},{\"attributes\":{\"interval\":1},\"id\":\"1125\",\"type\":\"SingleIntervalTicker\"},{\"attributes\":{\"fill_alpha\":{\"value\":0.1},\"fill_color\":{\"value\":\"#1f77b4\"},\"line_alpha\":{\"value\":0.1},\"line_color\":{\"value\":\"#1f77b4\"},\"line_width\":{\"value\":2},\"x\":{\"field\":\"x\"},\"y\":{\"field\":\"y\"}},\"id\":\"1066\",\"type\":\"Diamond\"},{\"attributes\":{\"line_alpha\":0.1,\"line_color\":\"#1f77b4\",\"x\":{\"field\":\"x\"},\"y\":{\"field\":\"y\"}},\"id\":\"1300\",\"type\":\"Line\"},{\"attributes\":{\"data_source\":{\"id\":\"1298\",\"type\":\"ColumnDataSource\"},\"glyph\":{\"id\":\"1299\",\"type\":\"Line\"},\"hover_glyph\":null,\"muted_glyph\":null,\"nonselection_glyph\":{\"id\":\"1300\",\"type\":\"Line\"},\"selection_glyph\":null,\"view\":{\"id\":\"1302\",\"type\":\"CDSView\"}},\"id\":\"1301\",\"type\":\"GlyphRenderer\"},{\"attributes\":{\"fill_alpha\":{\"value\":0.1},\"fill_color\":{\"value\":\"#1f77b4\"},\"line_alpha\":{\"value\":0.1},\"line_color\":{\"value\":\"#1f77b4\"},\"line_width\":{\"value\":2},\"x\":{\"field\":\"x\"},\"y\":{\"field\":\"y\"}},\"id\":\"1441\",\"type\":\"Diamond\"},{\"attributes\":{\"level\":\"underlay\",\"size\":10},\"id\":\"1506\",\"type\":\"TeeHead\"},{\"attributes\":{},\"id\":\"1267\",\"type\":\"BasicTicker\"},{\"attributes\":{\"callback\":null,\"data\":{\"x\":[0,1,2,3,4,5,6,7,8,9,10,11,12,13,14,15,16,17,18,19,20,21,22,23,24,25,26,27,28,29,30,31,32,33,34,35,36,37,38,39,40,41,42,43,44,45,46,47],\"y\":{\"__ndarray__\":\"AAAAAAAASUAAAAAAAABIQAAAAAAAAF9AAAAAAAAANEAAAAAAAEBrQAAAAAAAAFRAAAAAAACgc0AAAAAAAMBvQAAAAAAAwF1AAAAAAACAXUAAAAAAAABaQAAAAAAAADBAAAAAAAAAR0AAAAAAAABRQAAAAAAAAABAAAAAAAAgbkAAAAAAAOB3QAAAAAAAACBAAAAAAADgd0AAAAAAAOBxQAAAAAAAADpAAAAAAAAgYkAAAAAAAABZQAAAAAAAAFVAAAAAAACAZEAAAAAAAEBcQAAAAAAAIIJAAAAAAADohkAAAAAAAMBgQAAAAAAAAGpAAAAAAACgdUAAAAAAANB3QAAAAAAAwHxAAAAAAAAANEAAAAAAAABNQAAAAAAAADxAAAAAAAAAT0AAAAAAAABKQAAAAAAAMIBAAAAAAACgeEAAAAAAAAAYQAAAAAAAYHhAAAAAAABAaEAAAAAAAEBmQAAAAAAAAFZAAAAAAAAAT0AAAAAAAAB3QAAAAAAAAFpA\",\"dtype\":\"float64\",\"shape\":[48]}},\"selected\":{\"id\":\"1473\",\"type\":\"Selection\"},\"selection_policy\":{\"id\":\"1474\",\"type\":\"UnionRenderers\"}},\"id\":\"1439\",\"type\":\"ColumnDataSource\"},{\"attributes\":{\"source\":{\"id\":\"1298\",\"type\":\"ColumnDataSource\"}},\"id\":\"1302\",\"type\":\"CDSView\"},{\"attributes\":{\"fill_color\":{\"value\":\"#7C02A7\"},\"line_color\":{\"value\":\"#7C02A7\"},\"line_width\":{\"value\":2},\"x\":{\"field\":\"x\"},\"y\":{\"field\":\"y\"}},\"id\":\"1102\",\"type\":\"Circle\"},{\"attributes\":{},\"id\":\"1296\",\"type\":\"Selection\"},{\"attributes\":{},\"id\":\"1257\",\"type\":\"LinearScale\"},{\"attributes\":{\"callback\":null,\"data\":{\"x\":[0,1,2,3,4,5,6,7,8,9,10,11,12,13,14,15,16,17,18,19,20,21,22,23,24,25,26,27,28,29,30,31,32,33,34,35,36,37,38,39,40,41,42,43,44,45,46,47],\"y\":{\"__ndarray__\":\"AAAAAAAAQ0AAAAAAAAA4QAAAAAAAgFFAAAAAAAAANEAAAAAAAIBbQAAAAAAAAEFAAAAAAADAYEAAAAAAAABiQAAAAAAAwFVAAAAAAAAAVEAAAAAAAIBVQAAAAAAAACBAAAAAAAAARkAAAAAAAABLQAAAAAAAAABAAAAAAADgYEAAAAAAAEBpQAAAAAAAABhAAAAAAACAbUAAAAAAAEBkQAAAAAAAADZAAAAAAADAW0AAAAAAAABGQAAAAAAAAExAAAAAAAAAUEAAAAAAAEBSQAAAAAAAIHFAAAAAAABweUAAAAAAAABSQAAAAAAAAFtAAAAAAAAAZ0AAAAAAAGBnQAAAAAAAYGhAAAAAAAAANEAAAAAAAABLQAAAAAAAADZAAAAAAAAAS0AAAAAAAAA+QAAAAAAAIHJAAAAAAADAZEAAAAAAAAAYQAAAAAAAQGZAAAAAAAAAYUAAAAAAAMBhQAAAAAAAAEhAAAAAAAAAQ0AAAAAAAKBsQAAAAAAAgFJA\",\"dtype\":\"float64\",\"shape\":[48]}},\"selected\":{\"id\":\"1519\",\"type\":\"Selection\"},\"selection_policy\":{\"id\":\"1520\",\"type\":\"UnionRenderers\"}},\"id\":\"1476\",\"type\":\"ColumnDataSource\"},{\"attributes\":{\"source\":{\"id\":\"1081\",\"type\":\"ColumnDataSource\"}},\"id\":\"1085\",\"type\":\"CDSView\"},{\"attributes\":{\"axis_label\":\"Energy wasted (J x Million)\",\"formatter\":{\"id\":\"1280\",\"type\":\"BasicTickFormatter\"},\"minor_tick_line_color\":{\"value\":null},\"ticker\":{\"id\":\"1267\",\"type\":\"BasicTicker\"}},\"id\":\"1266\",\"type\":\"LinearAxis\"},{\"attributes\":{\"data_source\":{\"id\":\"1314\",\"type\":\"ColumnDataSource\"},\"glyph\":{\"id\":\"1315\",\"type\":\"Diamond\"},\"hover_glyph\":null,\"muted_glyph\":null,\"nonselection_glyph\":{\"id\":\"1316\",\"type\":\"Diamond\"},\"selection_glyph\":null,\"view\":{\"id\":\"1318\",\"type\":\"CDSView\"}},\"id\":\"1317\",\"type\":\"GlyphRenderer\"},{\"attributes\":{\"base\":{\"field\":\"base\",\"units\":\"data\"},\"lower\":{\"field\":\"lower\",\"units\":\"data\"},\"lower_head\":{\"id\":\"1507\",\"type\":\"TeeHead\"},\"source\":{\"id\":\"1497\",\"type\":\"ColumnDataSource\"},\"upper\":{\"field\":\"upper\",\"units\":\"data\"},\"upper_head\":{\"id\":\"1506\",\"type\":\"TeeHead\"}},\"id\":\"1498\",\"type\":\"Whisker\"},{\"attributes\":{\"data_source\":{\"id\":\"1101\",\"type\":\"ColumnDataSource\"},\"glyph\":{\"id\":\"1102\",\"type\":\"Circle\"},\"hover_glyph\":null,\"muted_glyph\":null,\"nonselection_glyph\":{\"id\":\"1103\",\"type\":\"Circle\"},\"selection_glyph\":null,\"view\":{\"id\":\"1105\",\"type\":\"CDSView\"}},\"id\":\"1104\",\"type\":\"GlyphRenderer\"},{\"attributes\":{\"data_source\":{\"id\":\"1351\",\"type\":\"ColumnDataSource\"},\"glyph\":{\"id\":\"1352\",\"type\":\"Circle\"},\"hover_glyph\":null,\"muted_glyph\":null,\"nonselection_glyph\":{\"id\":\"1353\",\"type\":\"Circle\"},\"selection_glyph\":null,\"view\":{\"id\":\"1355\",\"type\":\"CDSView\"}},\"id\":\"1354\",\"type\":\"GlyphRenderer\"},{\"attributes\":{\"grid_line_alpha\":0,\"ticker\":{\"id\":\"1262\",\"type\":\"BasicTicker\"}},\"id\":\"1265\",\"type\":\"Grid\"},{\"attributes\":{\"label\":{\"value\":\"Timeout (10)\"},\"renderers\":[{\"id\":\"1084\",\"type\":\"GlyphRenderer\"},{\"id\":\"1104\",\"type\":\"GlyphRenderer\"}]},\"id\":\"1100\",\"type\":\"LegendItem\"},{\"attributes\":{},\"id\":\"1330\",\"type\":\"UnionRenderers\"},{\"attributes\":{},\"id\":\"1132\",\"type\":\"LinearScale\"},{\"attributes\":{\"label\":{\"value\":\"Timeout (1)\"},\"renderers\":[{\"id\":\"1426\",\"type\":\"GlyphRenderer\"},{\"id\":\"1442\",\"type\":\"GlyphRenderer\"}]},\"id\":\"1438\",\"type\":\"LegendItem\"},{\"attributes\":{\"line_color\":\"#0C0786\",\"x\":{\"field\":\"x\"},\"y\":{\"field\":\"y\"}},\"id\":\"1273\",\"type\":\"Line\"},{\"attributes\":{\"source\":{\"id\":\"1101\",\"type\":\"ColumnDataSource\"}},\"id\":\"1105\",\"type\":\"CDSView\"},{\"attributes\":{\"base\":{\"field\":\"base\",\"units\":\"data\"},\"lower\":{\"field\":\"lower\",\"units\":\"data\"},\"lower_head\":{\"id\":\"1529\",\"type\":\"TeeHead\"},\"source\":{\"id\":\"1372\",\"type\":\"ColumnDataSource\"},\"upper\":{\"field\":\"upper\",\"units\":\"data\"},\"upper_head\":{\"id\":\"1528\",\"type\":\"TeeHead\"}},\"id\":\"1373\",\"type\":\"Whisker\"},{\"attributes\":{\"interval\":1},\"id\":\"1500\",\"type\":\"SingleIntervalTicker\"},{\"attributes\":{\"fill_color\":{\"value\":\"#F79341\"},\"line_color\":{\"value\":\"#F79341\"},\"line_width\":{\"value\":2},\"x\":{\"field\":\"x\"},\"y\":{\"field\":\"y\"}},\"id\":\"1065\",\"type\":\"Diamond\"},{\"attributes\":{\"data_source\":{\"id\":\"1272\",\"type\":\"ColumnDataSource\"},\"glyph\":{\"id\":\"1273\",\"type\":\"Line\"},\"hover_glyph\":null,\"muted_glyph\":null,\"nonselection_glyph\":{\"id\":\"1274\",\"type\":\"Line\"},\"selection_glyph\":null,\"view\":{\"id\":\"1276\",\"type\":\"CDSView\"}},\"id\":\"1275\",\"type\":\"GlyphRenderer\"},{\"attributes\":{\"source\":{\"id\":\"1476\",\"type\":\"ColumnDataSource\"}},\"id\":\"1480\",\"type\":\"CDSView\"},{\"attributes\":{\"callback\":null,\"data\":{\"base\":[0,1,2,3,4,5,6,7,8,9,10,11,12,13,14,15,16,17,18,19,20,21,22,23,24,25,26,27,28,29,30,31,32,33,34,35,36,37,38,39,40,41,42,43,44,45,46,47],\"lower\":{\"__ndarray__\":\"mXzt74j5vT/JGS624BelP8Y6RJdC7sc/EMzR4/c2rT/YnfJxY4fFP2RXVdAjUrE/ExCtwNlSyD8bh+XaFsbcP2EThMhKNNA/SW13qinzyT8W45QAUAbKP94ehIB8CaU/ECGunL0ztj/mB3a7sAjCP5aS5SSUvoA/fg/IdnyT6T9zSJKDk2v5P8H8FTJXBnU/fIEDP1EC8j86EJ1LYJb0P15sCnFL4bA/2pjj2Qnt0j8iUUSP7XfIP3r8iwLuRsE/WGq5JvtE0T+ndPMim4nwP65mhQAuB+g/5WuEg6874z9nDLF72sLjPwARL1ZDgcs/MAq7ap2i2T++kzc8tqHWP7LTNdiXrNE/QJV4kmE6lD+LEo20Hl63P5wKWPkAs6Q/vv6iXS4YsT842/UJqgGkP8stP5wLuts/172NyEek2j9rhs8bQ0mFP8EP/3brY8A/XWR6QC+exz9zItDqZmfYPz5cR3VwiMI/evWBUIwutT9rMiPB38/OP+JzzcQJDto/\",\"dtype\":\"float64\",\"shape\":[48]},\"upper\":{\"__ndarray__\":\"f/xrI4KCvz/5UiaTayGxP8QzeQ/FFs0/EMzR4/c2rT/udU4qJIzGP4Y3cGaFFrs/GHYLayJ90D8/u1gNw+bfP82RqlB8FNI/fzBbF9FMzT+kgvL3NyfLP94ehIB8CaU/xvoGJjeKuD/YoGf0UXPFP5aS5SSUvoA/8mU4TeEp6j/dSLFAOj78PxDM0eP3No0/hlLRc2Q88z8ifOQpvOj7P2pfkOeUSrE/7hXRssqO0z9kVhM7RUzJP4JYiReaHsI/NlzoVxxx1z+DG+Y2WcXwPyy2YTazV+o/swEjKmKF5D+/obLglq7kPxC5zOJWos8/wH3klIEZ3z/kJRfndvPWP/ouf0Ckn9U/Rv677Oownz8rh308Kl69P+Tjc6DsV6g/vl9Od/X0tD+6LA3FE4anP8dk3+lKbd8/lWfmzny13D9JP2YiULSOP6d+rYVHtMI/Q0iebd/hyD/lScOfX3PZP6a2/6gXpMM/VsRZpUbmuz/j+AGpa53RP8bbpMJDVto/\",\"dtype\":\"float64\",\"shape\":[48]}},\"selected\":{\"id\":\"1543\",\"type\":\"Selection\"},\"selection_policy\":{\"id\":\"1544\",\"type\":\"UnionRenderers\"}},\"id\":\"1372\",\"type\":\"ColumnDataSource\"},{\"attributes\":{\"source\":{\"id\":\"1064\",\"type\":\"ColumnDataSource\"}},\"id\":\"1068\",\"type\":\"CDSView\"},{\"attributes\":{\"fill_alpha\":{\"value\":0.1},\"fill_color\":{\"value\":\"#1f77b4\"},\"line_alpha\":{\"value\":0.1},\"line_color\":{\"value\":\"#1f77b4\"},\"line_width\":{\"value\":2},\"x\":{\"field\":\"x\"},\"y\":{\"field\":\"y\"}},\"id\":\"1316\",\"type\":\"Diamond\"},{\"attributes\":{\"callback\":null,\"data\":{\"x\":[0,1,2,3,4,5,6,7,8,9,10,11,12,13,14,15,16,17,18,19,20,21,22,23,24,25,26,27,28,29,30,31,32,33,34,35,36,37,38,39,40,41,42,43,44,45,46,47],\"y\":{\"__ndarray__\":\"TZa/ZPlLtj8HH3zwwQd/P75AYWnrC4Q/mpmZmZmZiT/eY68hL6l1PzZ12HJ/r0Y/dy/v48GPbT+X202QVJCVP9b/r/XEjqI/XnwXWgkqqT8qO0xdbn+APxhswRZswVY/Bx988MEHjz8BmXmheh6QP00b6LSBTms/HCD00kzKgD/uT2JOefXeP7oehetRuJ4/m04mGHc+qj+yiLamg7fJP93d3d3d3Y0/3e1CLVIAij8uTORPVz2IP3Ecx3Ecx4E/4ziO4ziO0z/n9K4MOF97P+kxJubUfoU/GIfvLQUlhD/z8AcKUPmPP7lwfARS92g/CKQr3rCbeD9zDudwDudgP6NY3yMEhWM/ERERERERkT9BOm8xpPOmPxM7sRM7sbM/E/R6lgS9nj+fEuQpQZ5SPxgNUIBdsZs/Ag4TUP2KuT8dx3Ecx3GMP6jnRBDSn04/fM/I0kOamD/MayI69s+kP41ssu7tY7Y/lnsaYbmngT89AziNHIVxP8EWbMEWbIE/\",\"dtype\":\"float64\",\"shape\":[48]}},\"selected\":{\"id\":\"1585\",\"type\":\"Selection\"},\"selection_policy\":{\"id\":\"1586\",\"type\":\"UnionRenderers\"}},\"id\":\"1101\",\"type\":\"ColumnDataSource\"},{\"attributes\":{\"level\":\"underlay\",\"size\":10},\"id\":\"1573\",\"type\":\"TeeHead\"},{\"attributes\":{},\"id\":\"1282\",\"type\":\"BasicTickFormatter\"},{\"attributes\":{\"items\":[{\"id\":\"1284\",\"type\":\"LegendItem\"},{\"id\":\"1313\",\"type\":\"LegendItem\"},{\"id\":\"1350\",\"type\":\"LegendItem\"}],\"location\":\"top_center\",\"orientation\":\"horizontal\",\"visible\":false},\"id\":\"1283\",\"type\":\"Legend\"},{\"attributes\":{\"data_source\":{\"id\":\"1081\",\"type\":\"ColumnDataSource\"},\"glyph\":{\"id\":\"1082\",\"type\":\"Line\"},\"hover_glyph\":null,\"muted_glyph\":null,\"nonselection_glyph\":{\"id\":\"1083\",\"type\":\"Line\"},\"selection_glyph\":null,\"view\":{\"id\":\"1085\",\"type\":\"CDSView\"}},\"id\":\"1084\",\"type\":\"GlyphRenderer\"},{\"attributes\":{\"source\":{\"id\":\"1410\",\"type\":\"ColumnDataSource\"}},\"id\":\"1414\",\"type\":\"CDSView\"},{\"attributes\":{\"dimension\":1,\"grid_line_alpha\":0,\"ticker\":{\"id\":\"1267\",\"type\":\"BasicTicker\"}},\"id\":\"1270\",\"type\":\"Grid\"},{\"attributes\":{\"level\":\"underlay\",\"size\":10},\"id\":\"1507\",\"type\":\"TeeHead\"},{\"attributes\":{},\"id\":\"1496\",\"type\":\"UnionRenderers\"},{\"attributes\":{\"base\":{\"field\":\"base\",\"units\":\"data\"},\"lower\":{\"field\":\"lower\",\"units\":\"data\"},\"lower_head\":{\"id\":\"1573\",\"type\":\"TeeHead\"},\"source\":{\"id\":\"1122\",\"type\":\"ColumnDataSource\"},\"upper\":{\"field\":\"upper\",\"units\":\"data\"},\"upper_head\":{\"id\":\"1572\",\"type\":\"TeeHead\"}},\"id\":\"1123\",\"type\":\"Whisker\"},{\"attributes\":{\"fill_color\":{\"value\":\"#F79341\"},\"line_color\":{\"value\":\"#F79341\"},\"line_width\":{\"value\":2},\"x\":{\"field\":\"x\"},\"y\":{\"field\":\"y\"}},\"id\":\"1315\",\"type\":\"Diamond\"},{\"attributes\":{\"callback\":null,\"data\":{\"x\":[0,1,2,3,4,5,6,7,8,9,10,11,12,13,14,15,16,17,18,19,20,21,22,23,24,25,26,27,28,29,30,31,32,33,34,35,36,37,38,39,40,41,42,43,44,45,46,47],\"y\":{\"__ndarray__\":\"CqGDLuHQ0z+r61BNSdbJPxpR2ht8YeQ/q1s9J71vxD9cGyrG+ZvqP3vXoC+9/dE/81fIXBlU8j/r/UY7bvjyP1M+BFWjV+U/WikEcokj5T8qWONsOgLkP5boLLMIxbY/4lrtYS8U1j/urx73rdbZP562RgTj4JI/OSo3UUsz+j/wFHKlnoUCQCYYzjXM0Kg/8SvWcJG7A0COkIE8u/wJQJ1lFqHYCsY/zHoxlBPt6j86kzZV98jgP0s6ysFsAt4//ffgtUsb5D8r9wKzQlH6PyWRfZBlwQBADJI+raK/B0CcbAN3oE7xP9Iag04IHfA/2PFfIAgQ+T/r5uJve4L5P0qYaftXVvw/TTJyFva0wz8nS633G+3YP8LfL2ZLVsU/LGLYYUz61z+tUQ/R6A7KPwqjWdk+5ABARl7WxAJf9j+Pb+8a9KWnP3Nk5ZfBGPM/KSZvgJnv7j842QbuQJ3uP83Ji0zAL+A/zApFup9T1D/CwkmaP6b6P4qsNZTai+o/\",\"dtype\":\"float64\",\"shape\":[48]}},\"selected\":{\"id\":\"1370\",\"type\":\"Selection\"},\"selection_policy\":{\"id\":\"1371\",\"type\":\"UnionRenderers\"}},\"id\":\"1331\",\"type\":\"ColumnDataSource\"},{\"attributes\":{\"data_source\":{\"id\":\"1439\",\"type\":\"ColumnDataSource\"},\"glyph\":{\"id\":\"1440\",\"type\":\"Diamond\"},\"hover_glyph\":null,\"muted_glyph\":null,\"nonselection_glyph\":{\"id\":\"1441\",\"type\":\"Diamond\"},\"selection_glyph\":null,\"view\":{\"id\":\"1443\",\"type\":\"CDSView\"}},\"id\":\"1442\",\"type\":\"GlyphRenderer\"},{\"attributes\":{},\"id\":\"1297\",\"type\":\"UnionRenderers\"},{\"attributes\":{\"source\":{\"id\":\"1285\",\"type\":\"ColumnDataSource\"}},\"id\":\"1289\",\"type\":\"CDSView\"},{\"attributes\":{\"label\":{\"value\":\"DeepShutdown\"},\"renderers\":[{\"id\":\"1275\",\"type\":\"GlyphRenderer\"},{\"id\":\"1288\",\"type\":\"GlyphRenderer\"}]},\"id\":\"1284\",\"type\":\"LegendItem\"},{\"attributes\":{\"callback\":null},\"id\":\"1255\",\"type\":\"DataRange1d\"},{\"attributes\":{},\"id\":\"1455\",\"type\":\"UnionRenderers\"},{\"attributes\":{\"data_source\":{\"id\":\"1423\",\"type\":\"ColumnDataSource\"},\"glyph\":{\"id\":\"1424\",\"type\":\"Line\"},\"hover_glyph\":null,\"muted_glyph\":null,\"nonselection_glyph\":{\"id\":\"1425\",\"type\":\"Line\"},\"selection_glyph\":null,\"view\":{\"id\":\"1427\",\"type\":\"CDSView\"}},\"id\":\"1426\",\"type\":\"GlyphRenderer\"},{\"attributes\":{\"source\":{\"id\":\"1272\",\"type\":\"ColumnDataSource\"}},\"id\":\"1276\",\"type\":\"CDSView\"},{\"attributes\":{},\"id\":\"1370\",\"type\":\"Selection\"},{\"attributes\":{},\"id\":\"1311\",\"type\":\"Selection\"},{\"attributes\":{\"fill_alpha\":{\"value\":0.1},\"fill_color\":{\"value\":\"#1f77b4\"},\"line_alpha\":{\"value\":0.1},\"line_color\":{\"value\":\"#1f77b4\"},\"line_width\":{\"value\":2},\"x\":{\"field\":\"x\"},\"y\":{\"field\":\"y\"}},\"id\":\"1103\",\"type\":\"Circle\"}],\"root_ids\":[\"1593\"]},\"title\":\"Bokeh Application\",\"version\":\"1.3.4\"}};\n",
       "  var render_items = [{\"docid\":\"0000b06c-9d11-4de9-b222-86d343d8e26e\",\"roots\":{\"1593\":\"14099537-d636-43af-9b83-634654afc13d\"}}];\n",
       "  root.Bokeh.embed.embed_items_notebook(docs_json, render_items);\n",
       "\n",
       "  }\n",
       "  if (root.Bokeh !== undefined) {\n",
       "    embed_document(root);\n",
       "  } else {\n",
       "    var attempts = 0;\n",
       "    var timer = setInterval(function(root) {\n",
       "      if (root.Bokeh !== undefined) {\n",
       "        embed_document(root);\n",
       "        clearInterval(timer);\n",
       "      }\n",
       "      attempts++;\n",
       "      if (attempts > 100) {\n",
       "        console.log(\"Bokeh: ERROR: Unable to run BokehJS code because BokehJS library is missing\");\n",
       "        clearInterval(timer);\n",
       "      }\n",
       "    }, 10, root)\n",
       "  }\n",
       "})(window);"
      ],
      "application/vnd.bokehjs_exec.v0+json": ""
     },
     "metadata": {
      "application/vnd.bokehjs_exec.v0+json": {
       "id": "1593"
      }
     },
     "output_type": "display_data"
    }
   ],
   "source": [
    "p4= compare(train_results,'mean_stretch', 'Average stretch (min)', legnd=False)\n",
    "p3 = compare(train_results,'score', 'Score', legnd=False, showx=False)\n",
    "p2 = compare(train_results,'energy_waste', 'Energy wasted (J x Million)', legnd=False, showx=False, scale=1000000)\n",
    "p1 = compare(train_results,'nb_switches', 'Nb. of state switches', showx=False)\n",
    "fig = gridplot([[p1], [p2], [p3], [p4]])\n",
    "#export_png(fig, os.path.join(output_dir, 'train_results.png'))\n",
    "show(fig)"
   ]
  },
  {
   "cell_type": "code",
   "execution_count": 8,
   "metadata": {},
   "outputs": [
    {
     "data": {
      "text/html": [
       "<div>\n",
       "<style scoped>\n",
       "    .dataframe tbody tr th:only-of-type {\n",
       "        vertical-align: middle;\n",
       "    }\n",
       "\n",
       "    .dataframe tbody tr th {\n",
       "        vertical-align: top;\n",
       "    }\n",
       "\n",
       "    .dataframe thead th {\n",
       "        text-align: right;\n",
       "    }\n",
       "</style>\n",
       "<table border=\"1\" class=\"dataframe\">\n",
       "  <thead>\n",
       "    <tr style=\"text-align: right;\">\n",
       "      <th></th>\n",
       "      <th>policy</th>\n",
       "      <th>score</th>\n",
       "      <th>mean_stretch</th>\n",
       "      <th>nb_switches</th>\n",
       "      <th>energy_waste</th>\n",
       "      <th>score_perc</th>\n",
       "      <th>mean_stretch_perc</th>\n",
       "      <th>nb_switches_perc</th>\n",
       "      <th>energy_waste_perc</th>\n",
       "    </tr>\n",
       "  </thead>\n",
       "  <tbody>\n",
       "    <tr>\n",
       "      <th>0</th>\n",
       "      <td>DeepShutdown</td>\n",
       "      <td>-11.344548</td>\n",
       "      <td>0.174790</td>\n",
       "      <td>75.088542</td>\n",
       "      <td>329516.385417</td>\n",
       "      <td>0.290611</td>\n",
       "      <td>1.000000</td>\n",
       "      <td>0.406067</td>\n",
       "      <td>0.352105</td>\n",
       "    </tr>\n",
       "    <tr>\n",
       "      <th>1</th>\n",
       "      <td>Timeout (1)</td>\n",
       "      <td>-24.039179</td>\n",
       "      <td>0.047834</td>\n",
       "      <td>184.916667</td>\n",
       "      <td>624833.479167</td>\n",
       "      <td>0.615807</td>\n",
       "      <td>0.273666</td>\n",
       "      <td>1.000000</td>\n",
       "      <td>0.667666</td>\n",
       "    </tr>\n",
       "    <tr>\n",
       "      <th>2</th>\n",
       "      <td>Timeout (10)</td>\n",
       "      <td>-39.036893</td>\n",
       "      <td>0.040521</td>\n",
       "      <td>103.333333</td>\n",
       "      <td>935846.937500</td>\n",
       "      <td>1.000000</td>\n",
       "      <td>0.231827</td>\n",
       "      <td>0.558810</td>\n",
       "      <td>1.000000</td>\n",
       "    </tr>\n",
       "  </tbody>\n",
       "</table>\n",
       "</div>"
      ],
      "text/plain": [
       "         policy      score  mean_stretch  nb_switches   energy_waste  \\\n",
       "0  DeepShutdown -11.344548      0.174790    75.088542  329516.385417   \n",
       "1   Timeout (1) -24.039179      0.047834   184.916667  624833.479167   \n",
       "2  Timeout (10) -39.036893      0.040521   103.333333  935846.937500   \n",
       "\n",
       "   score_perc  mean_stretch_perc  nb_switches_perc  energy_waste_perc  \n",
       "0    0.290611           1.000000          0.406067           0.352105  \n",
       "1    0.615807           0.273666          1.000000           0.667666  \n",
       "2    1.000000           0.231827          0.558810           1.000000  "
      ]
     },
     "execution_count": 8,
     "metadata": {},
     "output_type": "execute_result"
    }
   ],
   "source": [
    "x = train_results.groupby(['policy'], as_index=False).mean()\n",
    "x = x[['policy', 'score', 'mean_stretch', 'nb_switches', 'energy_waste']]\n",
    "x['score_perc'] = x['score'] / x['score'].min()\n",
    "x['mean_stretch_perc'] = x['mean_stretch'] / x['mean_stretch'].max()\n",
    "x['nb_switches_perc'] = x['nb_switches'] / x['nb_switches'].max()\n",
    "x['energy_waste_perc'] = x['energy_waste'] / x['energy_waste'].max()\n",
    "x"
   ]
  },
  {
   "cell_type": "markdown",
   "metadata": {},
   "source": [
    "#### Plot Test Results"
   ]
  },
  {
   "cell_type": "code",
   "execution_count": 10,
   "metadata": {},
   "outputs": [
    {
     "data": {
      "text/html": [
       "\n",
       "\n",
       "\n",
       "\n",
       "\n",
       "\n",
       "  <div class=\"bk-root\" id=\"0880213a-7252-4c1f-9d47-c8ef2bce1432\" data-root-id=\"2773\"></div>\n"
      ]
     },
     "metadata": {},
     "output_type": "display_data"
    },
    {
     "data": {
      "application/javascript": [
       "(function(root) {\n",
       "  function embed_document(root) {\n",
       "    \n",
       "  var docs_json = {\"384fd370-dc43-4fad-a68b-61485e388be6\":{\"roots\":{\"references\":[{\"attributes\":{\"children\":[{\"id\":\"2772\",\"type\":\"ToolbarBox\"},{\"id\":\"2770\",\"type\":\"GridBox\"}]},\"id\":\"2773\",\"type\":\"Column\"},{\"attributes\":{\"data_source\":{\"id\":\"2531\",\"type\":\"ColumnDataSource\"},\"glyph\":{\"id\":\"2532\",\"type\":\"Circle\"},\"hover_glyph\":null,\"muted_glyph\":null,\"nonselection_glyph\":{\"id\":\"2533\",\"type\":\"Circle\"},\"selection_glyph\":null,\"view\":{\"id\":\"2535\",\"type\":\"CDSView\"}},\"id\":\"2534\",\"type\":\"GlyphRenderer\"},{\"attributes\":{},\"id\":\"2567\",\"type\":\"BasicTicker\"},{\"attributes\":{},\"id\":\"2300\",\"type\":\"Selection\"},{\"attributes\":{\"fill_alpha\":{\"value\":0.1},\"fill_color\":{\"value\":\"#1f77b4\"},\"line_alpha\":{\"value\":0.1},\"line_color\":{\"value\":\"#1f77b4\"},\"line_width\":{\"value\":2},\"x\":{\"field\":\"x\"},\"y\":{\"field\":\"y\"}},\"id\":\"2246\",\"type\":\"Diamond\"},{\"attributes\":{\"fill_alpha\":{\"value\":0.1},\"fill_color\":{\"value\":\"#1f77b4\"},\"line_alpha\":{\"value\":0.1},\"line_color\":{\"value\":\"#1f77b4\"},\"line_width\":{\"value\":2},\"x\":{\"field\":\"x\"},\"y\":{\"field\":\"y\"}},\"id\":\"2283\",\"type\":\"Circle\"},{\"attributes\":{},\"id\":\"2529\",\"type\":\"UnionRenderers\"},{\"attributes\":{\"callback\":null,\"data\":{\"x\":[0,1,2,3,4,5,6,7,8,9,10],\"y\":{\"__ndarray__\":\"fBG6F6F7gT9K4Z67CaSYP9iCLdiCLYg/ERERERERkT9zEVm8EDKbP0T+ExrUeII/GISgZ9n1nD94FK5H4XpEPx7UQR3UQX0/61x5QLLOdT+cvbFBsBNePw==\",\"dtype\":\"float64\",\"shape\":[11]}},\"selected\":{\"id\":\"2300\",\"type\":\"Selection\"},\"selection_policy\":{\"id\":\"2301\",\"type\":\"UnionRenderers\"}},\"id\":\"2261\",\"type\":\"ColumnDataSource\"},{\"attributes\":{\"fill_color\":{\"value\":\"#7C02A7\"},\"line_color\":{\"value\":\"#7C02A7\"},\"line_width\":{\"value\":2},\"x\":{\"field\":\"x\"},\"y\":{\"field\":\"y\"}},\"id\":\"2282\",\"type\":\"Circle\"},{\"attributes\":{\"grid_line_alpha\":0,\"ticker\":{\"id\":\"2567\",\"type\":\"BasicTicker\"}},\"id\":\"2570\",\"type\":\"Grid\"},{\"attributes\":{\"source\":{\"id\":\"2577\",\"type\":\"ColumnDataSource\"}},\"id\":\"2581\",\"type\":\"CDSView\"},{\"attributes\":{\"callback\":null},\"id\":\"2560\",\"type\":\"DataRange1d\"},{\"attributes\":{\"interval\":1},\"id\":\"2305\",\"type\":\"SingleIntervalTicker\"},{\"attributes\":{\"children\":[[{\"id\":\"2557\",\"subtype\":\"Figure\",\"type\":\"Plot\"},0,0],[{\"id\":\"2432\",\"subtype\":\"Figure\",\"type\":\"Plot\"},1,0],[{\"id\":\"2307\",\"subtype\":\"Figure\",\"type\":\"Plot\"},2,0],[{\"id\":\"2182\",\"subtype\":\"Figure\",\"type\":\"Plot\"},3,0]]},\"id\":\"2770\",\"type\":\"GridBox\"},{\"attributes\":{\"base\":{\"field\":\"base\",\"units\":\"data\"},\"lower\":{\"field\":\"lower\",\"units\":\"data\"},\"lower_head\":{\"id\":\"2709\",\"type\":\"TeeHead\"},\"source\":{\"id\":\"2552\",\"type\":\"ColumnDataSource\"},\"upper\":{\"field\":\"upper\",\"units\":\"data\"},\"upper_head\":{\"id\":\"2708\",\"type\":\"TeeHead\"}},\"id\":\"2553\",\"type\":\"Whisker\"},{\"attributes\":{\"active_drag\":\"auto\",\"active_inspect\":\"auto\",\"active_multi\":null,\"active_scroll\":\"auto\",\"active_tap\":\"auto\"},\"id\":\"2326\",\"type\":\"Toolbar\"},{\"attributes\":{},\"id\":\"2314\",\"type\":\"LinearScale\"},{\"attributes\":{\"callback\":null,\"data\":{\"x\":[0,1,2,3,4,5,6,7,8,9,10],\"y\":{\"__ndarray__\":\"AAAAAADgVkAAAAAAAKBWQAAAAAAAgD5AAAAAAAAAEEAAAAAAAOBVQAAAAAAAQFZAAAAAAAAgVkAAAAAAAEBWQAAAAAAAADFAAAAAAABgWUAAAAAAAKBdQA==\",\"dtype\":\"float64\",\"shape\":[11]}},\"selected\":{\"id\":\"2601\",\"type\":\"Selection\"},\"selection_policy\":{\"id\":\"2602\",\"type\":\"UnionRenderers\"}},\"id\":\"2577\",\"type\":\"ColumnDataSource\"},{\"attributes\":{\"source\":{\"id\":\"2202\",\"type\":\"ColumnDataSource\"}},\"id\":\"2206\",\"type\":\"CDSView\"},{\"attributes\":{},\"id\":\"2259\",\"type\":\"Selection\"},{\"attributes\":{\"callback\":null,\"data\":{\"x\":[0,1,2,3,4,5,6,7,8,9,10],\"y\":{\"__ndarray__\":\"sj8B+xOwvz/ZveKMdNTQP4CQobLD1Lc/mpmZmZmZmT+apccXTzHDP4wU6dxoH8I/cFOMGv42yT+qLrc/yFBZPx/7sR/7sY8/IVnnygOSsT/89sLTUEe0Pw==\",\"dtype\":\"float64\",\"shape\":[11]}},\"selected\":{\"id\":\"2241\",\"type\":\"Selection\"},\"selection_policy\":{\"id\":\"2242\",\"type\":\"UnionRenderers\"}},\"id\":\"2215\",\"type\":\"ColumnDataSource\"},{\"attributes\":{\"fill_color\":{\"value\":\"#F79341\"},\"line_color\":{\"value\":\"#F79341\"},\"line_width\":{\"value\":2},\"x\":{\"field\":\"x\"},\"y\":{\"field\":\"y\"}},\"id\":\"2245\",\"type\":\"Diamond\"},{\"attributes\":{},\"id\":\"2312\",\"type\":\"LinearScale\"},{\"attributes\":{\"fill_alpha\":{\"value\":0.1},\"fill_color\":{\"value\":\"#1f77b4\"},\"line_alpha\":{\"value\":0.1},\"line_color\":{\"value\":\"#1f77b4\"},\"line_width\":{\"value\":2},\"x\":{\"field\":\"x\"},\"y\":{\"field\":\"y\"}},\"id\":\"2533\",\"type\":\"Circle\"},{\"attributes\":{\"active_drag\":\"auto\",\"active_inspect\":\"auto\",\"active_multi\":null,\"active_scroll\":\"auto\",\"active_tap\":\"auto\"},\"id\":\"2576\",\"type\":\"Toolbar\"},{\"attributes\":{\"base\":{\"field\":\"base\",\"units\":\"data\"},\"lower\":{\"field\":\"lower\",\"units\":\"data\"},\"lower_head\":{\"id\":\"2753\",\"type\":\"TeeHead\"},\"source\":{\"id\":\"2302\",\"type\":\"ColumnDataSource\"},\"upper\":{\"field\":\"upper\",\"units\":\"data\"},\"upper_head\":{\"id\":\"2752\",\"type\":\"TeeHead\"}},\"id\":\"2303\",\"type\":\"Whisker\"},{\"attributes\":{},\"id\":\"2226\",\"type\":\"Selection\"},{\"attributes\":{},\"id\":\"2317\",\"type\":\"BasicTicker\"},{\"attributes\":{\"line_alpha\":0.1,\"line_color\":\"#1f77b4\",\"x\":{\"field\":\"x\"},\"y\":{\"field\":\"y\"}},\"id\":\"2230\",\"type\":\"Line\"},{\"attributes\":{\"toolbar\":{\"id\":\"2771\",\"type\":\"ProxyToolbar\"},\"toolbar_location\":\"above\"},\"id\":\"2772\",\"type\":\"ToolbarBox\"},{\"attributes\":{\"axis_label\":\"week\",\"formatter\":{\"id\":\"2337\",\"type\":\"BasicTickFormatter\"},\"minor_tick_line_color\":{\"value\":null},\"ticker\":{\"id\":\"2430\",\"type\":\"SingleIntervalTicker\"},\"visible\":false},\"id\":\"2316\",\"type\":\"LinearAxis\"},{\"attributes\":{\"fill_color\":{\"value\":\"#0C0786\"},\"line_color\":{\"value\":\"#0C0786\"},\"line_width\":{\"value\":2},\"x\":{\"field\":\"x\"},\"y\":{\"field\":\"y\"}},\"id\":\"2216\",\"type\":\"Square\"},{\"attributes\":{},\"id\":\"2653\",\"type\":\"Selection\"},{\"attributes\":{\"axis_label\":\"Nb. of state switches\",\"formatter\":{\"id\":\"2585\",\"type\":\"BasicTickFormatter\"},\"minor_tick_line_color\":{\"value\":null},\"ticker\":{\"id\":\"2572\",\"type\":\"BasicTicker\"}},\"id\":\"2571\",\"type\":\"LinearAxis\"},{\"attributes\":{\"axis_label\":\"Score\",\"formatter\":{\"id\":\"2335\",\"type\":\"BasicTickFormatter\"},\"minor_tick_line_color\":{\"value\":null},\"ticker\":{\"id\":\"2322\",\"type\":\"BasicTicker\"}},\"id\":\"2321\",\"type\":\"LinearAxis\"},{\"attributes\":{},\"id\":\"2528\",\"type\":\"Selection\"},{\"attributes\":{\"level\":\"underlay\",\"size\":10},\"id\":\"2687\",\"type\":\"TeeHead\"},{\"attributes\":{\"callback\":null,\"data\":{\"x\":[0,1,2,3,4,5,6,7,8,9,10],\"y\":{\"__ndarray__\":\"fBG6F6F7gT9K4Z67CaSYP9iCLdiCLYg/ERERERERkT9zEVm8EDKbP0T+ExrUeII/GISgZ9n1nD94FK5H4XpEPx7UQR3UQX0/61x5QLLOdT+cvbFBsBNePw==\",\"dtype\":\"float64\",\"shape\":[11]}},\"selected\":{\"id\":\"2765\",\"type\":\"Selection\"},\"selection_policy\":{\"id\":\"2766\",\"type\":\"UnionRenderers\"}},\"id\":\"2281\",\"type\":\"ColumnDataSource\"},{\"attributes\":{\"fill_color\":{\"value\":\"#7C02A7\"},\"line_color\":{\"value\":\"#7C02A7\"},\"line_width\":{\"value\":2},\"x\":{\"field\":\"x\"},\"y\":{\"field\":\"y\"}},\"id\":\"2532\",\"type\":\"Circle\"},{\"attributes\":{\"active_drag\":\"auto\",\"active_inspect\":\"auto\",\"active_multi\":null,\"active_scroll\":\"auto\",\"active_tap\":\"auto\"},\"id\":\"2201\",\"type\":\"Toolbar\"},{\"attributes\":{\"callback\":null,\"data\":{\"base\":[0,1,2,3,4,5,6,7,8,9,10],\"lower\":{\"__ndarray__\":\"9PtRJymMvT8rt0D2BhvQP6WQebO+U7c/mpmZmZmZmT+78dMuftzCP7FHkgVGI8E/VK5Un9LYyD+syL58xJRYPx/7sR/7sY8/ovslUBL7sD/jprFf5TyuPw==\",\"dtype\":\"float64\",\"shape\":[11]},\"upper\":{\"__ndarray__\":\"uEFYZ//pwD+HxIQj4o3RP1uQybHIVbg/mpmZmZmZmT95WbsAIIbDP2fhP7SLG8M/jPjDlSmVyT+olK8CzAxaPx/7sR/7sY8/oLaoRfUosj+GGq33LnC5Pw==\",\"dtype\":\"float64\",\"shape\":[11]}},\"selected\":{\"id\":\"2767\",\"type\":\"Selection\"},\"selection_policy\":{\"id\":\"2768\",\"type\":\"UnionRenderers\"}},\"id\":\"2302\",\"type\":\"ColumnDataSource\"},{\"attributes\":{\"callback\":null},\"id\":\"2310\",\"type\":\"DataRange1d\"},{\"attributes\":{},\"id\":\"2564\",\"type\":\"LinearScale\"},{\"attributes\":{},\"id\":\"2279\",\"type\":\"UnionRenderers\"},{\"attributes\":{\"dimension\":1,\"grid_line_alpha\":0,\"ticker\":{\"id\":\"2322\",\"type\":\"BasicTicker\"}},\"id\":\"2325\",\"type\":\"Grid\"},{\"attributes\":{\"dimension\":1,\"grid_line_alpha\":0,\"ticker\":{\"id\":\"2197\",\"type\":\"BasicTicker\"}},\"id\":\"2200\",\"type\":\"Grid\"},{\"attributes\":{\"callback\":null,\"data\":{\"x\":[0,1,2,3,4,5,6,7,8,9,10],\"y\":{\"__ndarray__\":\"l8rbEU4L6j9ftwiM9Q3oP7U1IhgHl9Y/LpELzuDvlz/V6NUApaHsP2tGBrmLMO8/f73CgvsB6D/UYYVbPpLKP3JsPUM4Zrk/9yLajqm76T8dcjPcgM/vPw==\",\"dtype\":\"float64\",\"shape\":[11]}},\"selected\":{\"id\":\"2721\",\"type\":\"Selection\"},\"selection_policy\":{\"id\":\"2722\",\"type\":\"UnionRenderers\"}},\"id\":\"2531\",\"type\":\"ColumnDataSource\"},{\"attributes\":{\"label\":{\"value\":\"Timeout (1)\"},\"renderers\":[{\"id\":\"2231\",\"type\":\"GlyphRenderer\"},{\"id\":\"2247\",\"type\":\"GlyphRenderer\"}]},\"id\":\"2243\",\"type\":\"LegendItem\"},{\"attributes\":{},\"id\":\"2403\",\"type\":\"Selection\"},{\"attributes\":{},\"id\":\"2768\",\"type\":\"UnionRenderers\"},{\"attributes\":{\"data_source\":{\"id\":\"2327\",\"type\":\"ColumnDataSource\"},\"glyph\":{\"id\":\"2328\",\"type\":\"Line\"},\"hover_glyph\":null,\"muted_glyph\":null,\"nonselection_glyph\":{\"id\":\"2329\",\"type\":\"Line\"},\"selection_glyph\":null,\"view\":{\"id\":\"2331\",\"type\":\"CDSView\"}},\"id\":\"2330\",\"type\":\"GlyphRenderer\"},{\"attributes\":{\"source\":{\"id\":\"2636\",\"type\":\"ColumnDataSource\"}},\"id\":\"2640\",\"type\":\"CDSView\"},{\"attributes\":{},\"id\":\"2723\",\"type\":\"Selection\"},{\"attributes\":{\"source\":{\"id\":\"2281\",\"type\":\"ColumnDataSource\"}},\"id\":\"2285\",\"type\":\"CDSView\"},{\"attributes\":{\"interval\":1},\"id\":\"2555\",\"type\":\"SingleIntervalTicker\"},{\"attributes\":{},\"id\":\"2241\",\"type\":\"Selection\"},{\"attributes\":{\"axis_label\":\"week\",\"formatter\":{\"id\":\"2587\",\"type\":\"BasicTickFormatter\"},\"minor_tick_line_color\":{\"value\":null},\"ticker\":{\"id\":\"2680\",\"type\":\"SingleIntervalTicker\"},\"visible\":false},\"id\":\"2566\",\"type\":\"LinearAxis\"},{\"attributes\":{\"data_source\":{\"id\":\"2577\",\"type\":\"ColumnDataSource\"},\"glyph\":{\"id\":\"2578\",\"type\":\"Line\"},\"hover_glyph\":null,\"muted_glyph\":null,\"nonselection_glyph\":{\"id\":\"2579\",\"type\":\"Line\"},\"selection_glyph\":null,\"view\":{\"id\":\"2581\",\"type\":\"CDSView\"}},\"id\":\"2580\",\"type\":\"GlyphRenderer\"},{\"attributes\":{},\"id\":\"2278\",\"type\":\"Selection\"},{\"attributes\":{\"below\":[{\"id\":\"2191\",\"type\":\"LinearAxis\"}],\"center\":[{\"id\":\"2195\",\"type\":\"Grid\"},{\"id\":\"2200\",\"type\":\"Grid\"},{\"id\":\"2213\",\"type\":\"Legend\"},{\"id\":\"2303\",\"type\":\"Whisker\"}],\"left\":[{\"id\":\"2196\",\"type\":\"LinearAxis\"}],\"plot_height\":250,\"plot_width\":900,\"renderers\":[{\"id\":\"2205\",\"type\":\"GlyphRenderer\"},{\"id\":\"2218\",\"type\":\"GlyphRenderer\"},{\"id\":\"2231\",\"type\":\"GlyphRenderer\"},{\"id\":\"2247\",\"type\":\"GlyphRenderer\"},{\"id\":\"2264\",\"type\":\"GlyphRenderer\"},{\"id\":\"2284\",\"type\":\"GlyphRenderer\"}],\"title\":{\"id\":\"2208\",\"type\":\"Title\"},\"toolbar\":{\"id\":\"2201\",\"type\":\"Toolbar\"},\"toolbar_location\":null,\"x_range\":{\"id\":\"2183\",\"type\":\"Range1d\"},\"x_scale\":{\"id\":\"2187\",\"type\":\"LinearScale\"},\"y_range\":{\"id\":\"2185\",\"type\":\"DataRange1d\"},\"y_scale\":{\"id\":\"2189\",\"type\":\"LinearScale\"}},\"id\":\"2182\",\"subtype\":\"Figure\",\"type\":\"Plot\"},{\"attributes\":{\"label\":{\"value\":\"Timeout (10)\"},\"renderers\":[{\"id\":\"2639\",\"type\":\"GlyphRenderer\"},{\"id\":\"2659\",\"type\":\"GlyphRenderer\"}]},\"id\":\"2655\",\"type\":\"LegendItem\"},{\"attributes\":{\"source\":{\"id\":\"2244\",\"type\":\"ColumnDataSource\"}},\"id\":\"2248\",\"type\":\"CDSView\"},{\"attributes\":{},\"id\":\"2550\",\"type\":\"Selection\"},{\"attributes\":{},\"id\":\"2301\",\"type\":\"UnionRenderers\"},{\"attributes\":{\"dimension\":1,\"grid_line_alpha\":0,\"ticker\":{\"id\":\"2572\",\"type\":\"BasicTicker\"}},\"id\":\"2575\",\"type\":\"Grid\"},{\"attributes\":{\"data_source\":{\"id\":\"2452\",\"type\":\"ColumnDataSource\"},\"glyph\":{\"id\":\"2453\",\"type\":\"Line\"},\"hover_glyph\":null,\"muted_glyph\":null,\"nonselection_glyph\":{\"id\":\"2454\",\"type\":\"Line\"},\"selection_glyph\":null,\"view\":{\"id\":\"2456\",\"type\":\"CDSView\"}},\"id\":\"2455\",\"type\":\"GlyphRenderer\"},{\"attributes\":{\"line_color\":\"#0C0786\",\"x\":{\"field\":\"x\"},\"y\":{\"field\":\"y\"}},\"id\":\"2328\",\"type\":\"Line\"},{\"attributes\":{},\"id\":\"2322\",\"type\":\"BasicTicker\"},{\"attributes\":{\"callback\":null,\"data\":{\"x\":[0,1,2,3,4,5,6,7,8,9,10],\"y\":{\"__ndarray__\":\"Ih020mEjjT+50bs8rFGfP68FW7AFW5A/mpmZmZmZmT8ToWcQU6WhP8IIccGk7ow/EfAot5rToT+Db15NPCtaPxiGYRiGYYg/5N3d3d3djT+Qv5kE9RFzPw==\",\"dtype\":\"float64\",\"shape\":[11]}},\"selected\":{\"id\":\"2278\",\"type\":\"Selection\"},\"selection_policy\":{\"id\":\"2279\",\"type\":\"UnionRenderers\"}},\"id\":\"2244\",\"type\":\"ColumnDataSource\"},{\"attributes\":{},\"id\":\"2572\",\"type\":\"BasicTicker\"},{\"attributes\":{\"data_source\":{\"id\":\"2244\",\"type\":\"ColumnDataSource\"},\"glyph\":{\"id\":\"2245\",\"type\":\"Diamond\"},\"hover_glyph\":null,\"muted_glyph\":null,\"nonselection_glyph\":{\"id\":\"2246\",\"type\":\"Diamond\"},\"selection_glyph\":null,\"view\":{\"id\":\"2248\",\"type\":\"CDSView\"}},\"id\":\"2247\",\"type\":\"GlyphRenderer\"},{\"attributes\":{\"line_alpha\":0.1,\"line_color\":\"#1f77b4\",\"x\":{\"field\":\"x\"},\"y\":{\"field\":\"y\"}},\"id\":\"2329\",\"type\":\"Line\"},{\"attributes\":{\"grid_line_alpha\":0,\"ticker\":{\"id\":\"2317\",\"type\":\"BasicTicker\"}},\"id\":\"2320\",\"type\":\"Grid\"},{\"attributes\":{},\"id\":\"2654\",\"type\":\"UnionRenderers\"},{\"attributes\":{\"callback\":null,\"data\":{\"base\":[0,1,2,3,4,5,6,7,8,9,10],\"lower\":{\"__ndarray__\":\"1Zgw3vID0T9Rw8FuUqLOP1kUggtYYrM/Y4VXfPEwhz+7MeqHUevdP+UwQIHfzs4/OP4xncd9zz+rRdxsZcPNP0JfiUQQnqc/gxBfZ5Nx0j8h0aWnDMLSPw==\",\"dtype\":\"float64\",\"shape\":[11]},\"upper\":{\"__ndarray__\":\"LZHrYjfB0T/s1i06nHTQPwETrLvTrbk/5avoJRjjiT9mAotJ3xrhP4DzDmQJR9A/TB8nVNu/0D9xVqwRCDrPP0IG46NW4ag/t0/4KxQ71D+dsY67xLLVPw==\",\"dtype\":\"float64\",\"shape\":[11]}},\"selected\":{\"id\":\"2723\",\"type\":\"Selection\"},\"selection_policy\":{\"id\":\"2724\",\"type\":\"UnionRenderers\"}},\"id\":\"2552\",\"type\":\"ColumnDataSource\"},{\"attributes\":{},\"id\":\"2551\",\"type\":\"UnionRenderers\"},{\"attributes\":{},\"id\":\"2562\",\"type\":\"LinearScale\"},{\"attributes\":{\"label\":{\"value\":\"Timeout (10)\"},\"renderers\":[{\"id\":\"2264\",\"type\":\"GlyphRenderer\"},{\"id\":\"2284\",\"type\":\"GlyphRenderer\"}]},\"id\":\"2280\",\"type\":\"LegendItem\"},{\"attributes\":{\"data_source\":{\"id\":\"2281\",\"type\":\"ColumnDataSource\"},\"glyph\":{\"id\":\"2282\",\"type\":\"Circle\"},\"hover_glyph\":null,\"muted_glyph\":null,\"nonselection_glyph\":{\"id\":\"2283\",\"type\":\"Circle\"},\"selection_glyph\":null,\"view\":{\"id\":\"2285\",\"type\":\"CDSView\"}},\"id\":\"2284\",\"type\":\"GlyphRenderer\"},{\"attributes\":{\"source\":{\"id\":\"2531\",\"type\":\"ColumnDataSource\"}},\"id\":\"2535\",\"type\":\"CDSView\"},{\"attributes\":{\"line_color\":\"#0C0786\",\"x\":{\"field\":\"x\"},\"y\":{\"field\":\"y\"}},\"id\":\"2578\",\"type\":\"Line\"},{\"attributes\":{\"callback\":null,\"end\":10.5},\"id\":\"2558\",\"type\":\"Range1d\"},{\"attributes\":{\"callback\":null,\"data\":{\"x\":[0,1,2,3,4,5,6,7,8,9,10],\"y\":{\"__ndarray__\":\"ZVsGnKXeKcD4GoLjMnYowPRvl/26wxDAAvOQKR9C4r9g7L34onktwPWaHhSUkifA0jsVcM/xKMDll8EYkbAmwCIUW0HTCgLA12oPe6EILMB64jlbQCwuwA==\",\"dtype\":\"float64\",\"shape\":[11]}},\"selected\":{\"id\":\"2351\",\"type\":\"Selection\"},\"selection_policy\":{\"id\":\"2352\",\"type\":\"UnionRenderers\"}},\"id\":\"2327\",\"type\":\"ColumnDataSource\"},{\"attributes\":{},\"id\":\"2744\",\"type\":\"UnionRenderers\"},{\"attributes\":{\"line_alpha\":0.1,\"line_color\":\"#1f77b4\",\"x\":{\"field\":\"x\"},\"y\":{\"field\":\"y\"}},\"id\":\"2579\",\"type\":\"Line\"},{\"attributes\":{\"label\":{\"value\":\"DeepShutdown\"},\"renderers\":[{\"id\":\"2205\",\"type\":\"GlyphRenderer\"},{\"id\":\"2218\",\"type\":\"GlyphRenderer\"}]},\"id\":\"2214\",\"type\":\"LegendItem\"},{\"attributes\":{\"callback\":null,\"end\":10.5},\"id\":\"2308\",\"type\":\"Range1d\"},{\"attributes\":{\"label\":{\"value\":\"Timeout (10)\"},\"renderers\":[{\"id\":\"2514\",\"type\":\"GlyphRenderer\"},{\"id\":\"2534\",\"type\":\"GlyphRenderer\"}]},\"id\":\"2530\",\"type\":\"LegendItem\"},{\"attributes\":{},\"id\":\"2404\",\"type\":\"UnionRenderers\"},{\"attributes\":{},\"id\":\"2260\",\"type\":\"UnionRenderers\"},{\"attributes\":{},\"id\":\"2771\",\"type\":\"ProxyToolbar\"},{\"attributes\":{},\"id\":\"2476\",\"type\":\"Selection\"},{\"attributes\":{\"level\":\"underlay\",\"size\":10},\"id\":\"2686\",\"type\":\"TeeHead\"},{\"attributes\":{\"source\":{\"id\":\"2340\",\"type\":\"ColumnDataSource\"}},\"id\":\"2344\",\"type\":\"CDSView\"},{\"attributes\":{\"callback\":null},\"id\":\"2435\",\"type\":\"DataRange1d\"},{\"attributes\":{\"line_color\":\"#7C02A7\",\"x\":{\"field\":\"x\"},\"y\":{\"field\":\"y\"}},\"id\":\"2637\",\"type\":\"Line\"},{\"attributes\":{\"callback\":null,\"data\":{\"x\":[0,1,2,3,4,5,6,7,8,9,10],\"y\":{\"__ndarray__\":\"l8rbEU4L6j9ftwiM9Q3oP7U1IhgHl9Y/LpELzuDvlz/V6NUApaHsP2tGBrmLMO8/f73CgvsB6D/UYYVbPpLKP3JsPUM4Zrk/9yLajqm76T8dcjPcgM/vPw==\",\"dtype\":\"float64\",\"shape\":[11]}},\"selected\":{\"id\":\"2550\",\"type\":\"Selection\"},\"selection_policy\":{\"id\":\"2551\",\"type\":\"UnionRenderers\"}},\"id\":\"2511\",\"type\":\"ColumnDataSource\"},{\"attributes\":{\"data_source\":{\"id\":\"2636\",\"type\":\"ColumnDataSource\"},\"glyph\":{\"id\":\"2637\",\"type\":\"Line\"},\"hover_glyph\":null,\"muted_glyph\":null,\"nonselection_glyph\":{\"id\":\"2638\",\"type\":\"Line\"},\"selection_glyph\":null,\"view\":{\"id\":\"2640\",\"type\":\"CDSView\"}},\"id\":\"2639\",\"type\":\"GlyphRenderer\"},{\"attributes\":{\"line_color\":\"#7C02A7\",\"x\":{\"field\":\"x\"},\"y\":{\"field\":\"y\"}},\"id\":\"2262\",\"type\":\"Line\"},{\"attributes\":{\"source\":{\"id\":\"2215\",\"type\":\"ColumnDataSource\"}},\"id\":\"2219\",\"type\":\"CDSView\"},{\"attributes\":{},\"id\":\"2746\",\"type\":\"UnionRenderers\"},{\"attributes\":{\"callback\":null},\"id\":\"2185\",\"type\":\"DataRange1d\"},{\"attributes\":{\"items\":[{\"id\":\"2214\",\"type\":\"LegendItem\"},{\"id\":\"2243\",\"type\":\"LegendItem\"},{\"id\":\"2280\",\"type\":\"LegendItem\"}],\"location\":\"top_center\",\"orientation\":\"horizontal\",\"visible\":false},\"id\":\"2213\",\"type\":\"Legend\"},{\"attributes\":{\"callback\":null,\"data\":{\"x\":[0,1,2,3,4,5,6,7,8,9,10],\"y\":{\"__ndarray__\":\"AAAAAAAAWUAAAAAAAABZQAAAAAAAAEdAAAAAAAAAAEAAAAAAAIBVQAAAAAAAgGBAAAAAAAAAWkAAAAAAAABCQAAAAAAAAChAAAAAAABAWEAAAAAAAMBRQA==\",\"dtype\":\"float64\",\"shape\":[11]}},\"selected\":{\"id\":\"2699\",\"type\":\"Selection\"},\"selection_policy\":{\"id\":\"2700\",\"type\":\"UnionRenderers\"}},\"id\":\"2656\",\"type\":\"ColumnDataSource\"},{\"attributes\":{\"line_color\":\"#F79341\",\"x\":{\"field\":\"x\"},\"y\":{\"field\":\"y\"}},\"id\":\"2354\",\"type\":\"Line\"},{\"attributes\":{\"callback\":null,\"data\":{\"x\":[0,1,2,3,4,5,6,7,8,9,10],\"y\":{\"__ndarray__\":\"AAAAAADgVkAAAAAAAKBWQAAAAAAAgD5AAAAAAAAAEEAAAAAAAOBVQAAAAAAAQFZAAAAAAAAgVkAAAAAAAEBWQAAAAAAAADFAAAAAAABgWUAAAAAAAKBdQA==\",\"dtype\":\"float64\",\"shape\":[11]}},\"selected\":{\"id\":\"2616\",\"type\":\"Selection\"},\"selection_policy\":{\"id\":\"2617\",\"type\":\"UnionRenderers\"}},\"id\":\"2590\",\"type\":\"ColumnDataSource\"},{\"attributes\":{\"line_color\":\"#7C02A7\",\"x\":{\"field\":\"x\"},\"y\":{\"field\":\"y\"}},\"id\":\"2512\",\"type\":\"Line\"},{\"attributes\":{},\"id\":\"2676\",\"type\":\"UnionRenderers\"},{\"attributes\":{\"data_source\":{\"id\":\"2494\",\"type\":\"ColumnDataSource\"},\"glyph\":{\"id\":\"2495\",\"type\":\"Diamond\"},\"hover_glyph\":null,\"muted_glyph\":null,\"nonselection_glyph\":{\"id\":\"2496\",\"type\":\"Diamond\"},\"selection_glyph\":null,\"view\":{\"id\":\"2498\",\"type\":\"CDSView\"}},\"id\":\"2497\",\"type\":\"GlyphRenderer\"},{\"attributes\":{\"fill_alpha\":{\"value\":0.1},\"fill_color\":{\"value\":\"#1f77b4\"},\"line_alpha\":{\"value\":0.1},\"line_color\":{\"value\":\"#1f77b4\"},\"line_width\":{\"value\":2},\"x\":{\"field\":\"x\"},\"y\":{\"field\":\"y\"}},\"id\":\"2658\",\"type\":\"Circle\"},{\"attributes\":{\"label\":{\"value\":\"Timeout (1)\"},\"renderers\":[{\"id\":\"2606\",\"type\":\"GlyphRenderer\"},{\"id\":\"2622\",\"type\":\"GlyphRenderer\"}]},\"id\":\"2618\",\"type\":\"LegendItem\"},{\"attributes\":{\"callback\":null,\"data\":{\"x\":[0,1,2,3,4,5,6,7,8,9,10],\"y\":{\"__ndarray__\":\"sj8B+xOwvz/ZveKMdNTQP4CQobLD1Lc/mpmZmZmZmT+apccXTzHDP4wU6dxoH8I/cFOMGv42yT+qLrc/yFBZPx/7sR/7sY8/IVnnygOSsT/89sLTUEe0Pw==\",\"dtype\":\"float64\",\"shape\":[11]}},\"selected\":{\"id\":\"2226\",\"type\":\"Selection\"},\"selection_policy\":{\"id\":\"2227\",\"type\":\"UnionRenderers\"}},\"id\":\"2202\",\"type\":\"ColumnDataSource\"},{\"attributes\":{\"source\":{\"id\":\"2511\",\"type\":\"ColumnDataSource\"}},\"id\":\"2515\",\"type\":\"CDSView\"},{\"attributes\":{},\"id\":\"2352\",\"type\":\"UnionRenderers\"},{\"attributes\":{},\"id\":\"2366\",\"type\":\"Selection\"},{\"attributes\":{\"fill_color\":{\"value\":\"#0C0786\"},\"line_color\":{\"value\":\"#0C0786\"},\"line_width\":{\"value\":2},\"x\":{\"field\":\"x\"},\"y\":{\"field\":\"y\"}},\"id\":\"2591\",\"type\":\"Square\"},{\"attributes\":{\"callback\":null,\"data\":{\"x\":[0,1,2,3,4,5,6,7,8,9,10],\"y\":{\"__ndarray__\":\"ARWOIJVi0T+VuI5xxcXPP60Tl+MViLY/pBgg0QSKiD+iDcAGRAjgP/ILryR5rs8/NA9gkV8/0D8OTkS/tn7OP8IyNnSzP6g/HbCryVNW0z9fQZqxaDrUPw==\",\"dtype\":\"float64\",\"shape\":[11]}},\"selected\":{\"id\":\"2476\",\"type\":\"Selection\"},\"selection_policy\":{\"id\":\"2477\",\"type\":\"UnionRenderers\"}},\"id\":\"2452\",\"type\":\"ColumnDataSource\"},{\"attributes\":{\"line_alpha\":0.1,\"line_color\":\"#1f77b4\",\"x\":{\"field\":\"x\"},\"y\":{\"field\":\"y\"}},\"id\":\"2513\",\"type\":\"Line\"},{\"attributes\":{},\"id\":\"2701\",\"type\":\"Selection\"},{\"attributes\":{\"source\":{\"id\":\"2452\",\"type\":\"ColumnDataSource\"}},\"id\":\"2456\",\"type\":\"CDSView\"},{\"attributes\":{},\"id\":\"2462\",\"type\":\"BasicTickFormatter\"},{\"attributes\":{\"label\":{\"value\":\"Timeout (1)\"},\"renderers\":[{\"id\":\"2481\",\"type\":\"GlyphRenderer\"},{\"id\":\"2497\",\"type\":\"GlyphRenderer\"}]},\"id\":\"2493\",\"type\":\"LegendItem\"},{\"attributes\":{\"axis_label\":\"week\",\"formatter\":{\"id\":\"2462\",\"type\":\"BasicTickFormatter\"},\"minor_tick_line_color\":{\"value\":null},\"ticker\":{\"id\":\"2555\",\"type\":\"SingleIntervalTicker\"},\"visible\":false},\"id\":\"2441\",\"type\":\"LinearAxis\"},{\"attributes\":{\"label\":{\"value\":\"DeepShutdown\"},\"renderers\":[{\"id\":\"2580\",\"type\":\"GlyphRenderer\"},{\"id\":\"2593\",\"type\":\"GlyphRenderer\"}]},\"id\":\"2589\",\"type\":\"LegendItem\"},{\"attributes\":{},\"id\":\"2721\",\"type\":\"Selection\"},{\"attributes\":{\"fill_color\":{\"value\":\"#F79341\"},\"line_color\":{\"value\":\"#F79341\"},\"line_width\":{\"value\":2},\"x\":{\"field\":\"x\"},\"y\":{\"field\":\"y\"}},\"id\":\"2620\",\"type\":\"Diamond\"},{\"attributes\":{\"callback\":null,\"data\":{\"x\":[0,1,2,3,4,5,6,7,8,9,10],\"y\":{\"__ndarray__\":\"ZI/C9ShcQ8BxS3qa0OVBwAQrhxbZzjDA7EVz4m7P8b+5sOxFc6JAwJAAet3hNEfAOCfu9hzXQcDobs9xMcUjwDdSdQ325RLARHhvSU/TQsAgwUR/J6tHwA==\",\"dtype\":\"float64\",\"shape\":[11]}},\"selected\":{\"id\":\"2743\",\"type\":\"Selection\"},\"selection_policy\":{\"id\":\"2744\",\"type\":\"UnionRenderers\"}},\"id\":\"2406\",\"type\":\"ColumnDataSource\"},{\"attributes\":{},\"id\":\"2510\",\"type\":\"UnionRenderers\"},{\"attributes\":{\"fill_alpha\":{\"value\":0.1},\"fill_color\":{\"value\":\"#1f77b4\"},\"line_alpha\":{\"value\":0.1},\"line_color\":{\"value\":\"#1f77b4\"},\"line_width\":{\"value\":2},\"x\":{\"field\":\"x\"},\"y\":{\"field\":\"y\"}},\"id\":\"2621\",\"type\":\"Diamond\"},{\"attributes\":{},\"id\":\"2212\",\"type\":\"BasicTickFormatter\"},{\"attributes\":{},\"id\":\"2426\",\"type\":\"UnionRenderers\"},{\"attributes\":{\"data_source\":{\"id\":\"2511\",\"type\":\"ColumnDataSource\"},\"glyph\":{\"id\":\"2512\",\"type\":\"Line\"},\"hover_glyph\":null,\"muted_glyph\":null,\"nonselection_glyph\":{\"id\":\"2513\",\"type\":\"Line\"},\"selection_glyph\":null,\"view\":{\"id\":\"2515\",\"type\":\"CDSView\"}},\"id\":\"2514\",\"type\":\"GlyphRenderer\"},{\"attributes\":{\"line_color\":\"#7C02A7\",\"x\":{\"field\":\"x\"},\"y\":{\"field\":\"y\"}},\"id\":\"2387\",\"type\":\"Line\"},{\"attributes\":{},\"id\":\"2447\",\"type\":\"BasicTicker\"},{\"attributes\":{\"source\":{\"id\":\"2369\",\"type\":\"ColumnDataSource\"}},\"id\":\"2373\",\"type\":\"CDSView\"},{\"attributes\":{\"grid_line_alpha\":0,\"ticker\":{\"id\":\"2192\",\"type\":\"BasicTicker\"}},\"id\":\"2195\",\"type\":\"Grid\"},{\"attributes\":{},\"id\":\"2585\",\"type\":\"BasicTickFormatter\"},{\"attributes\":{\"source\":{\"id\":\"2406\",\"type\":\"ColumnDataSource\"}},\"id\":\"2410\",\"type\":\"CDSView\"},{\"attributes\":{\"data_source\":{\"id\":\"2465\",\"type\":\"ColumnDataSource\"},\"glyph\":{\"id\":\"2466\",\"type\":\"Square\"},\"hover_glyph\":null,\"muted_glyph\":null,\"nonselection_glyph\":{\"id\":\"2467\",\"type\":\"Square\"},\"selection_glyph\":null,\"view\":{\"id\":\"2469\",\"type\":\"CDSView\"}},\"id\":\"2468\",\"type\":\"GlyphRenderer\"},{\"attributes\":{},\"id\":\"2766\",\"type\":\"UnionRenderers\"},{\"attributes\":{},\"id\":\"2767\",\"type\":\"Selection\"},{\"attributes\":{\"data_source\":{\"id\":\"2261\",\"type\":\"ColumnDataSource\"},\"glyph\":{\"id\":\"2262\",\"type\":\"Line\"},\"hover_glyph\":null,\"muted_glyph\":null,\"nonselection_glyph\":{\"id\":\"2263\",\"type\":\"Line\"},\"selection_glyph\":null,\"view\":{\"id\":\"2265\",\"type\":\"CDSView\"}},\"id\":\"2264\",\"type\":\"GlyphRenderer\"},{\"attributes\":{\"data_source\":{\"id\":\"2619\",\"type\":\"ColumnDataSource\"},\"glyph\":{\"id\":\"2620\",\"type\":\"Diamond\"},\"hover_glyph\":null,\"muted_glyph\":null,\"nonselection_glyph\":{\"id\":\"2621\",\"type\":\"Diamond\"},\"selection_glyph\":null,\"view\":{\"id\":\"2623\",\"type\":\"CDSView\"}},\"id\":\"2622\",\"type\":\"GlyphRenderer\"},{\"attributes\":{\"grid_line_alpha\":0,\"ticker\":{\"id\":\"2442\",\"type\":\"BasicTicker\"}},\"id\":\"2445\",\"type\":\"Grid\"},{\"attributes\":{\"items\":[{\"id\":\"2339\",\"type\":\"LegendItem\"},{\"id\":\"2368\",\"type\":\"LegendItem\"},{\"id\":\"2405\",\"type\":\"LegendItem\"}],\"location\":\"top_center\",\"orientation\":\"horizontal\",\"visible\":false},\"id\":\"2338\",\"type\":\"Legend\"},{\"attributes\":{\"items\":[{\"id\":\"2464\",\"type\":\"LegendItem\"},{\"id\":\"2493\",\"type\":\"LegendItem\"},{\"id\":\"2530\",\"type\":\"LegendItem\"}],\"location\":\"top_center\",\"orientation\":\"horizontal\",\"visible\":false},\"id\":\"2463\",\"type\":\"Legend\"},{\"attributes\":{\"source\":{\"id\":\"2656\",\"type\":\"ColumnDataSource\"}},\"id\":\"2660\",\"type\":\"CDSView\"},{\"attributes\":{\"fill_alpha\":{\"value\":0.1},\"fill_color\":{\"value\":\"#1f77b4\"},\"line_alpha\":{\"value\":0.1},\"line_color\":{\"value\":\"#1f77b4\"},\"line_width\":{\"value\":2},\"x\":{\"field\":\"x\"},\"y\":{\"field\":\"y\"}},\"id\":\"2408\",\"type\":\"Circle\"},{\"attributes\":{\"axis_label\":\"Average stretch (min)\",\"formatter\":{\"id\":\"2210\",\"type\":\"BasicTickFormatter\"},\"minor_tick_line_color\":{\"value\":null},\"ticker\":{\"id\":\"2197\",\"type\":\"BasicTicker\"}},\"id\":\"2196\",\"type\":\"LinearAxis\"},{\"attributes\":{\"data_source\":{\"id\":\"2590\",\"type\":\"ColumnDataSource\"},\"glyph\":{\"id\":\"2591\",\"type\":\"Square\"},\"hover_glyph\":null,\"muted_glyph\":null,\"nonselection_glyph\":{\"id\":\"2592\",\"type\":\"Square\"},\"selection_glyph\":null,\"view\":{\"id\":\"2594\",\"type\":\"CDSView\"}},\"id\":\"2593\",\"type\":\"GlyphRenderer\"},{\"attributes\":{},\"id\":\"2675\",\"type\":\"Selection\"},{\"attributes\":{},\"id\":\"2385\",\"type\":\"UnionRenderers\"},{\"attributes\":{\"axis_label\":\"Energy wasted (J x Million)\",\"formatter\":{\"id\":\"2460\",\"type\":\"BasicTickFormatter\"},\"minor_tick_line_color\":{\"value\":null},\"ticker\":{\"id\":\"2447\",\"type\":\"BasicTicker\"}},\"id\":\"2446\",\"type\":\"LinearAxis\"},{\"attributes\":{\"data_source\":{\"id\":\"2228\",\"type\":\"ColumnDataSource\"},\"glyph\":{\"id\":\"2229\",\"type\":\"Line\"},\"hover_glyph\":null,\"muted_glyph\":null,\"nonselection_glyph\":{\"id\":\"2230\",\"type\":\"Line\"},\"selection_glyph\":null,\"view\":{\"id\":\"2232\",\"type\":\"CDSView\"}},\"id\":\"2231\",\"type\":\"GlyphRenderer\"},{\"attributes\":{},\"id\":\"2351\",\"type\":\"Selection\"},{\"attributes\":{},\"id\":\"2192\",\"type\":\"BasicTicker\"},{\"attributes\":{},\"id\":\"2765\",\"type\":\"Selection\"},{\"attributes\":{\"line_alpha\":0.1,\"line_color\":\"#1f77b4\",\"x\":{\"field\":\"x\"},\"y\":{\"field\":\"y\"}},\"id\":\"2388\",\"type\":\"Line\"},{\"attributes\":{},\"id\":\"2635\",\"type\":\"UnionRenderers\"},{\"attributes\":{},\"id\":\"2509\",\"type\":\"Selection\"},{\"attributes\":{\"line_color\":\"#0C0786\",\"x\":{\"field\":\"x\"},\"y\":{\"field\":\"y\"}},\"id\":\"2203\",\"type\":\"Line\"},{\"attributes\":{},\"id\":\"2227\",\"type\":\"UnionRenderers\"},{\"attributes\":{\"data_source\":{\"id\":\"2202\",\"type\":\"ColumnDataSource\"},\"glyph\":{\"id\":\"2203\",\"type\":\"Line\"},\"hover_glyph\":null,\"muted_glyph\":null,\"nonselection_glyph\":{\"id\":\"2204\",\"type\":\"Line\"},\"selection_glyph\":null,\"view\":{\"id\":\"2206\",\"type\":\"CDSView\"}},\"id\":\"2205\",\"type\":\"GlyphRenderer\"},{\"attributes\":{\"line_alpha\":0.1,\"line_color\":\"#1f77b4\",\"x\":{\"field\":\"x\"},\"y\":{\"field\":\"y\"}},\"id\":\"2480\",\"type\":\"Line\"},{\"attributes\":{\"fill_color\":{\"value\":\"#F79341\"},\"line_color\":{\"value\":\"#F79341\"},\"line_width\":{\"value\":2},\"x\":{\"field\":\"x\"},\"y\":{\"field\":\"y\"}},\"id\":\"2370\",\"type\":\"Diamond\"},{\"attributes\":{\"interval\":1},\"id\":\"2430\",\"type\":\"SingleIntervalTicker\"},{\"attributes\":{},\"id\":\"2743\",\"type\":\"Selection\"},{\"attributes\":{},\"id\":\"2242\",\"type\":\"UnionRenderers\"},{\"attributes\":{\"text\":\"\"},\"id\":\"2333\",\"type\":\"Title\"},{\"attributes\":{},\"id\":\"2745\",\"type\":\"Selection\"},{\"attributes\":{},\"id\":\"2187\",\"type\":\"LinearScale\"},{\"attributes\":{\"fill_alpha\":{\"value\":0.1},\"fill_color\":{\"value\":\"#1f77b4\"},\"line_alpha\":{\"value\":0.1},\"line_color\":{\"value\":\"#1f77b4\"},\"line_width\":{\"value\":2},\"x\":{\"field\":\"x\"},\"y\":{\"field\":\"y\"}},\"id\":\"2467\",\"type\":\"Square\"},{\"attributes\":{\"level\":\"underlay\",\"size\":10},\"id\":\"2708\",\"type\":\"TeeHead\"},{\"attributes\":{\"callback\":null,\"data\":{\"x\":[0,1,2,3,4,5,6,7,8,9,10],\"y\":{\"__ndarray__\":\"ZI/C9ShcQ8BxS3qa0OVBwAQrhxbZzjDA7EVz4m7P8b+5sOxFc6JAwJAAet3hNEfAOCfu9hzXQcDobs9xMcUjwDdSdQ325RLARHhvSU/TQsAgwUR/J6tHwA==\",\"dtype\":\"float64\",\"shape\":[11]}},\"selected\":{\"id\":\"2425\",\"type\":\"Selection\"},\"selection_policy\":{\"id\":\"2426\",\"type\":\"UnionRenderers\"}},\"id\":\"2386\",\"type\":\"ColumnDataSource\"},{\"attributes\":{\"below\":[{\"id\":\"2316\",\"type\":\"LinearAxis\"}],\"center\":[{\"id\":\"2320\",\"type\":\"Grid\"},{\"id\":\"2325\",\"type\":\"Grid\"},{\"id\":\"2338\",\"type\":\"Legend\"},{\"id\":\"2428\",\"type\":\"Whisker\"}],\"left\":[{\"id\":\"2321\",\"type\":\"LinearAxis\"}],\"plot_height\":250,\"plot_width\":900,\"renderers\":[{\"id\":\"2330\",\"type\":\"GlyphRenderer\"},{\"id\":\"2343\",\"type\":\"GlyphRenderer\"},{\"id\":\"2356\",\"type\":\"GlyphRenderer\"},{\"id\":\"2372\",\"type\":\"GlyphRenderer\"},{\"id\":\"2389\",\"type\":\"GlyphRenderer\"},{\"id\":\"2409\",\"type\":\"GlyphRenderer\"}],\"title\":{\"id\":\"2333\",\"type\":\"Title\"},\"toolbar\":{\"id\":\"2326\",\"type\":\"Toolbar\"},\"toolbar_location\":null,\"x_range\":{\"id\":\"2308\",\"type\":\"Range1d\"},\"x_scale\":{\"id\":\"2312\",\"type\":\"LinearScale\"},\"y_range\":{\"id\":\"2310\",\"type\":\"DataRange1d\"},\"y_scale\":{\"id\":\"2314\",\"type\":\"LinearScale\"}},\"id\":\"2307\",\"subtype\":\"Figure\",\"type\":\"Plot\"},{\"attributes\":{},\"id\":\"2210\",\"type\":\"BasicTickFormatter\"},{\"attributes\":{\"source\":{\"id\":\"2261\",\"type\":\"ColumnDataSource\"}},\"id\":\"2265\",\"type\":\"CDSView\"},{\"attributes\":{\"data_source\":{\"id\":\"2353\",\"type\":\"ColumnDataSource\"},\"glyph\":{\"id\":\"2354\",\"type\":\"Line\"},\"hover_glyph\":null,\"muted_glyph\":null,\"nonselection_glyph\":{\"id\":\"2355\",\"type\":\"Line\"},\"selection_glyph\":null,\"view\":{\"id\":\"2357\",\"type\":\"CDSView\"}},\"id\":\"2356\",\"type\":\"GlyphRenderer\"},{\"attributes\":{\"source\":{\"id\":\"2603\",\"type\":\"ColumnDataSource\"}},\"id\":\"2607\",\"type\":\"CDSView\"},{\"attributes\":{\"line_alpha\":0.1,\"line_color\":\"#1f77b4\",\"x\":{\"field\":\"x\"},\"y\":{\"field\":\"y\"}},\"id\":\"2454\",\"type\":\"Line\"},{\"attributes\":{\"fill_color\":{\"value\":\"#F79341\"},\"line_color\":{\"value\":\"#F79341\"},\"line_width\":{\"value\":2},\"x\":{\"field\":\"x\"},\"y\":{\"field\":\"y\"}},\"id\":\"2495\",\"type\":\"Diamond\"},{\"attributes\":{\"line_alpha\":0.1,\"line_color\":\"#1f77b4\",\"x\":{\"field\":\"x\"},\"y\":{\"field\":\"y\"}},\"id\":\"2605\",\"type\":\"Line\"},{\"attributes\":{},\"id\":\"2442\",\"type\":\"BasicTicker\"},{\"attributes\":{\"source\":{\"id\":\"2228\",\"type\":\"ColumnDataSource\"}},\"id\":\"2232\",\"type\":\"CDSView\"},{\"attributes\":{},\"id\":\"2197\",\"type\":\"BasicTicker\"},{\"attributes\":{\"line_alpha\":0.1,\"line_color\":\"#1f77b4\",\"x\":{\"field\":\"x\"},\"y\":{\"field\":\"y\"}},\"id\":\"2263\",\"type\":\"Line\"},{\"attributes\":{},\"id\":\"2384\",\"type\":\"Selection\"},{\"attributes\":{\"callback\":null,\"data\":{\"x\":[0,1,2,3,4,5,6,7,8,9,10],\"y\":{\"__ndarray__\":\"z4QuY0ckMMDfK77iK74twDUIrBxaZBvAXQmg1x1O379/DyFtYVkywAoatf9CETrA37HgADfMMcCzBvtyJYAmwN4FxKbSkAPATIFSMvzmN8CjLPWufq1MwA==\",\"dtype\":\"float64\",\"shape\":[11]}},\"selected\":{\"id\":\"2403\",\"type\":\"Selection\"},\"selection_policy\":{\"id\":\"2404\",\"type\":\"UnionRenderers\"}},\"id\":\"2369\",\"type\":\"ColumnDataSource\"},{\"attributes\":{\"active_drag\":\"auto\",\"active_inspect\":\"auto\",\"active_multi\":null,\"active_scroll\":\"auto\",\"active_tap\":\"auto\"},\"id\":\"2451\",\"type\":\"Toolbar\"},{\"attributes\":{},\"id\":\"2587\",\"type\":\"BasicTickFormatter\"},{\"attributes\":{\"fill_color\":{\"value\":\"#0C0786\"},\"line_color\":{\"value\":\"#0C0786\"},\"line_width\":{\"value\":2},\"x\":{\"field\":\"x\"},\"y\":{\"field\":\"y\"}},\"id\":\"2341\",\"type\":\"Square\"},{\"attributes\":{\"fill_alpha\":{\"value\":0.1},\"fill_color\":{\"value\":\"#1f77b4\"},\"line_alpha\":{\"value\":0.1},\"line_color\":{\"value\":\"#1f77b4\"},\"line_width\":{\"value\":2},\"x\":{\"field\":\"x\"},\"y\":{\"field\":\"y\"}},\"id\":\"2592\",\"type\":\"Square\"},{\"attributes\":{\"callback\":null,\"data\":{\"x\":[0,1,2,3,4,5,6,7,8,9,10],\"y\":{\"__ndarray__\":\"Ih020mEjjT+50bs8rFGfP68FW7AFW5A/mpmZmZmZmT8ToWcQU6WhP8IIccGk7ow/EfAot5rToT+Db15NPCtaPxiGYRiGYYg/5N3d3d3djT+Qv5kE9RFzPw==\",\"dtype\":\"float64\",\"shape\":[11]}},\"selected\":{\"id\":\"2259\",\"type\":\"Selection\"},\"selection_policy\":{\"id\":\"2260\",\"type\":\"UnionRenderers\"}},\"id\":\"2228\",\"type\":\"ColumnDataSource\"},{\"attributes\":{},\"id\":\"2492\",\"type\":\"UnionRenderers\"},{\"attributes\":{},\"id\":\"2724\",\"type\":\"UnionRenderers\"},{\"attributes\":{\"base\":{\"field\":\"base\",\"units\":\"data\"},\"lower\":{\"field\":\"lower\",\"units\":\"data\"},\"lower_head\":{\"id\":\"2687\",\"type\":\"TeeHead\"},\"source\":{\"id\":\"2677\",\"type\":\"ColumnDataSource\"},\"upper\":{\"field\":\"upper\",\"units\":\"data\"},\"upper_head\":{\"id\":\"2686\",\"type\":\"TeeHead\"}},\"id\":\"2678\",\"type\":\"Whisker\"},{\"attributes\":{},\"id\":\"2601\",\"type\":\"Selection\"},{\"attributes\":{\"data_source\":{\"id\":\"2340\",\"type\":\"ColumnDataSource\"},\"glyph\":{\"id\":\"2341\",\"type\":\"Square\"},\"hover_glyph\":null,\"muted_glyph\":null,\"nonselection_glyph\":{\"id\":\"2342\",\"type\":\"Square\"},\"selection_glyph\":null,\"view\":{\"id\":\"2344\",\"type\":\"CDSView\"}},\"id\":\"2343\",\"type\":\"GlyphRenderer\"},{\"attributes\":{\"source\":{\"id\":\"2494\",\"type\":\"ColumnDataSource\"}},\"id\":\"2498\",\"type\":\"CDSView\"},{\"attributes\":{\"label\":{\"value\":\"Timeout (10)\"},\"renderers\":[{\"id\":\"2389\",\"type\":\"GlyphRenderer\"},{\"id\":\"2409\",\"type\":\"GlyphRenderer\"}]},\"id\":\"2405\",\"type\":\"LegendItem\"},{\"attributes\":{},\"id\":\"2189\",\"type\":\"LinearScale\"},{\"attributes\":{\"source\":{\"id\":\"2590\",\"type\":\"ColumnDataSource\"}},\"id\":\"2594\",\"type\":\"CDSView\"},{\"attributes\":{\"label\":{\"value\":\"DeepShutdown\"},\"renderers\":[{\"id\":\"2455\",\"type\":\"GlyphRenderer\"},{\"id\":\"2468\",\"type\":\"GlyphRenderer\"}]},\"id\":\"2464\",\"type\":\"LegendItem\"},{\"attributes\":{\"line_color\":\"#F79341\",\"x\":{\"field\":\"x\"},\"y\":{\"field\":\"y\"}},\"id\":\"2479\",\"type\":\"Line\"},{\"attributes\":{},\"id\":\"2722\",\"type\":\"UnionRenderers\"},{\"attributes\":{},\"id\":\"2367\",\"type\":\"UnionRenderers\"},{\"attributes\":{},\"id\":\"2437\",\"type\":\"LinearScale\"},{\"attributes\":{\"fill_alpha\":{\"value\":0.1},\"fill_color\":{\"value\":\"#1f77b4\"},\"line_alpha\":{\"value\":0.1},\"line_color\":{\"value\":\"#1f77b4\"},\"line_width\":{\"value\":2},\"x\":{\"field\":\"x\"},\"y\":{\"field\":\"y\"}},\"id\":\"2496\",\"type\":\"Diamond\"},{\"attributes\":{\"fill_alpha\":{\"value\":0.1},\"fill_color\":{\"value\":\"#1f77b4\"},\"line_alpha\":{\"value\":0.1},\"line_color\":{\"value\":\"#1f77b4\"},\"line_width\":{\"value\":2},\"x\":{\"field\":\"x\"},\"y\":{\"field\":\"y\"}},\"id\":\"2342\",\"type\":\"Square\"},{\"attributes\":{\"callback\":null,\"data\":{\"x\":[0,1,2,3,4,5,6,7,8,9,10],\"y\":{\"__ndarray__\":\"AAAAAACAYEAAAAAAAIBeQAAAAAAAAExAAAAAAAAAEEAAAAAAAEBiQAAAAAAAgGpAAAAAAADAYEAAAAAAAABXQAAAAAAAADRAAAAAAABgZ0AAAAAAAFB9QA==\",\"dtype\":\"float64\",\"shape\":[11]}},\"selected\":{\"id\":\"2634\",\"type\":\"Selection\"},\"selection_policy\":{\"id\":\"2635\",\"type\":\"UnionRenderers\"}},\"id\":\"2603\",\"type\":\"ColumnDataSource\"},{\"attributes\":{\"source\":{\"id\":\"2353\",\"type\":\"ColumnDataSource\"}},\"id\":\"2357\",\"type\":\"CDSView\"},{\"attributes\":{\"level\":\"underlay\",\"size\":10},\"id\":\"2731\",\"type\":\"TeeHead\"},{\"attributes\":{},\"id\":\"2425\",\"type\":\"Selection\"},{\"attributes\":{\"text\":\"\"},\"id\":\"2458\",\"type\":\"Title\"},{\"attributes\":{\"line_alpha\":0.1,\"line_color\":\"#1f77b4\",\"x\":{\"field\":\"x\"},\"y\":{\"field\":\"y\"}},\"id\":\"2638\",\"type\":\"Line\"},{\"attributes\":{\"callback\":null,\"data\":{\"x\":[0,1,2,3,4,5,6,7,8,9,10],\"y\":{\"__ndarray__\":\"24ZREDy+1T94nKIjufzTPwKbc/BMaMI/3h6EgHwJhT8R5QtaSMDiPw/UKY9uhOE/DrvvGB771z9f7L34oj3OP5YmpaDbS6o/Ud7H0RxZ4D95WRMLfEXzPw==\",\"dtype\":\"float64\",\"shape\":[11]}},\"selected\":{\"id\":\"2509\",\"type\":\"Selection\"},\"selection_policy\":{\"id\":\"2510\",\"type\":\"UnionRenderers\"}},\"id\":\"2478\",\"type\":\"ColumnDataSource\"},{\"attributes\":{\"text\":\"\"},\"id\":\"2208\",\"type\":\"Title\"},{\"attributes\":{\"line_color\":\"#F79341\",\"x\":{\"field\":\"x\"},\"y\":{\"field\":\"y\"}},\"id\":\"2604\",\"type\":\"Line\"},{\"attributes\":{\"callback\":null,\"data\":{\"x\":[0,1,2,3,4,5,6,7,8,9,10],\"y\":{\"__ndarray__\":\"ARWOIJVi0T+VuI5xxcXPP60Tl+MViLY/pBgg0QSKiD+iDcAGRAjgP/ILryR5rs8/NA9gkV8/0D8OTkS/tn7OP8IyNnSzP6g/HbCryVNW0z9fQZqxaDrUPw==\",\"dtype\":\"float64\",\"shape\":[11]}},\"selected\":{\"id\":\"2491\",\"type\":\"Selection\"},\"selection_policy\":{\"id\":\"2492\",\"type\":\"UnionRenderers\"}},\"id\":\"2465\",\"type\":\"ColumnDataSource\"},{\"attributes\":{\"callback\":null,\"data\":{\"x\":[0,1,2,3,4,5,6,7,8,9,10],\"y\":{\"__ndarray__\":\"ZVsGnKXeKcD4GoLjMnYowPRvl/26wxDAAvOQKR9C4r9g7L34onktwPWaHhSUkifA0jsVcM/xKMDll8EYkbAmwCIUW0HTCgLA12oPe6EILMB64jlbQCwuwA==\",\"dtype\":\"float64\",\"shape\":[11]}},\"selected\":{\"id\":\"2366\",\"type\":\"Selection\"},\"selection_policy\":{\"id\":\"2367\",\"type\":\"UnionRenderers\"}},\"id\":\"2340\",\"type\":\"ColumnDataSource\"},{\"attributes\":{\"fill_alpha\":{\"value\":0.1},\"fill_color\":{\"value\":\"#1f77b4\"},\"line_alpha\":{\"value\":0.1},\"line_color\":{\"value\":\"#1f77b4\"},\"line_width\":{\"value\":2},\"x\":{\"field\":\"x\"},\"y\":{\"field\":\"y\"}},\"id\":\"2371\",\"type\":\"Diamond\"},{\"attributes\":{\"level\":\"underlay\",\"size\":10},\"id\":\"2753\",\"type\":\"TeeHead\"},{\"attributes\":{},\"id\":\"2700\",\"type\":\"UnionRenderers\"},{\"attributes\":{\"callback\":null,\"end\":10.5},\"id\":\"2433\",\"type\":\"Range1d\"},{\"attributes\":{},\"id\":\"2602\",\"type\":\"UnionRenderers\"},{\"attributes\":{},\"id\":\"2491\",\"type\":\"Selection\"},{\"attributes\":{},\"id\":\"2617\",\"type\":\"UnionRenderers\"},{\"attributes\":{\"text\":\"\"},\"id\":\"2583\",\"type\":\"Title\"},{\"attributes\":{},\"id\":\"2439\",\"type\":\"LinearScale\"},{\"attributes\":{\"source\":{\"id\":\"2327\",\"type\":\"ColumnDataSource\"}},\"id\":\"2331\",\"type\":\"CDSView\"},{\"attributes\":{\"source\":{\"id\":\"2619\",\"type\":\"ColumnDataSource\"}},\"id\":\"2623\",\"type\":\"CDSView\"},{\"attributes\":{\"fill_color\":{\"value\":\"#7C02A7\"},\"line_color\":{\"value\":\"#7C02A7\"},\"line_width\":{\"value\":2},\"x\":{\"field\":\"x\"},\"y\":{\"field\":\"y\"}},\"id\":\"2657\",\"type\":\"Circle\"},{\"attributes\":{\"fill_color\":{\"value\":\"#0C0786\"},\"line_color\":{\"value\":\"#0C0786\"},\"line_width\":{\"value\":2},\"x\":{\"field\":\"x\"},\"y\":{\"field\":\"y\"}},\"id\":\"2466\",\"type\":\"Square\"},{\"attributes\":{\"base\":{\"field\":\"base\",\"units\":\"data\"},\"lower\":{\"field\":\"lower\",\"units\":\"data\"},\"lower_head\":{\"id\":\"2731\",\"type\":\"TeeHead\"},\"source\":{\"id\":\"2427\",\"type\":\"ColumnDataSource\"},\"upper\":{\"field\":\"upper\",\"units\":\"data\"},\"upper_head\":{\"id\":\"2730\",\"type\":\"TeeHead\"}},\"id\":\"2428\",\"type\":\"Whisker\"},{\"attributes\":{\"level\":\"underlay\",\"size\":10},\"id\":\"2730\",\"type\":\"TeeHead\"},{\"attributes\":{\"line_alpha\":0.1,\"line_color\":\"#1f77b4\",\"x\":{\"field\":\"x\"},\"y\":{\"field\":\"y\"}},\"id\":\"2204\",\"type\":\"Line\"},{\"attributes\":{},\"id\":\"2477\",\"type\":\"UnionRenderers\"},{\"attributes\":{\"items\":[{\"id\":\"2589\",\"type\":\"LegendItem\"},{\"id\":\"2618\",\"type\":\"LegendItem\"},{\"id\":\"2655\",\"type\":\"LegendItem\"}],\"location\":\"top_center\",\"orientation\":\"horizontal\"},\"id\":\"2588\",\"type\":\"Legend\"},{\"attributes\":{},\"id\":\"2460\",\"type\":\"BasicTickFormatter\"},{\"attributes\":{\"line_alpha\":0.1,\"line_color\":\"#1f77b4\",\"x\":{\"field\":\"x\"},\"y\":{\"field\":\"y\"}},\"id\":\"2355\",\"type\":\"Line\"},{\"attributes\":{\"source\":{\"id\":\"2465\",\"type\":\"ColumnDataSource\"}},\"id\":\"2469\",\"type\":\"CDSView\"},{\"attributes\":{\"source\":{\"id\":\"2386\",\"type\":\"ColumnDataSource\"}},\"id\":\"2390\",\"type\":\"CDSView\"},{\"attributes\":{},\"id\":\"2337\",\"type\":\"BasicTickFormatter\"},{\"attributes\":{},\"id\":\"2699\",\"type\":\"Selection\"},{\"attributes\":{\"data_source\":{\"id\":\"2215\",\"type\":\"ColumnDataSource\"},\"glyph\":{\"id\":\"2216\",\"type\":\"Square\"},\"hover_glyph\":null,\"muted_glyph\":null,\"nonselection_glyph\":{\"id\":\"2217\",\"type\":\"Square\"},\"selection_glyph\":null,\"view\":{\"id\":\"2219\",\"type\":\"CDSView\"}},\"id\":\"2218\",\"type\":\"GlyphRenderer\"},{\"attributes\":{\"callback\":null,\"data\":{\"base\":[0,1,2,3,4,5,6,7,8,9,10],\"lower\":{\"__ndarray__\":\"RNQUnV2PVUAwAZUJH5hVQIszLL62EDpAAAAAAAAAEEDNd0w8wFNUQFuuo7HAmlVArtto1u9+VUBcrqOxwJpVQJz5TRfLsC9A4wyLry1EWEAKkzqDz7xbQA==\",\"dtype\":\"float64\",\"shape\":[11]},\"upper\":{\"__ndarray__\":\"vCvrYqIwWEDQ/mr24KdXQDrm6aCkd0FAAAAAAAAAEEAziLPDP2xXQKVRXE4/5VZAUiSXKRDBVkCkUVxOP+VWQDIDWXSaJzJAHfN0UNJ7WkD2bMV8MINfQA==\",\"dtype\":\"float64\",\"shape\":[11]}},\"selected\":{\"id\":\"2701\",\"type\":\"Selection\"},\"selection_policy\":{\"id\":\"2702\",\"type\":\"UnionRenderers\"}},\"id\":\"2677\",\"type\":\"ColumnDataSource\"},{\"attributes\":{\"callback\":null,\"data\":{\"x\":[0,1,2,3,4,5,6,7,8,9,10],\"y\":{\"__ndarray__\":\"24ZREDy+1T94nKIjufzTPwKbc/BMaMI/3h6EgHwJhT8R5QtaSMDiPw/UKY9uhOE/DrvvGB771z9f7L34oj3OP5YmpaDbS6o/Ud7H0RxZ4D95WRMLfEXzPw==\",\"dtype\":\"float64\",\"shape\":[11]}},\"selected\":{\"id\":\"2528\",\"type\":\"Selection\"},\"selection_policy\":{\"id\":\"2529\",\"type\":\"UnionRenderers\"}},\"id\":\"2494\",\"type\":\"ColumnDataSource\"},{\"attributes\":{\"data_source\":{\"id\":\"2369\",\"type\":\"ColumnDataSource\"},\"glyph\":{\"id\":\"2370\",\"type\":\"Diamond\"},\"hover_glyph\":null,\"muted_glyph\":null,\"nonselection_glyph\":{\"id\":\"2371\",\"type\":\"Diamond\"},\"selection_glyph\":null,\"view\":{\"id\":\"2373\",\"type\":\"CDSView\"}},\"id\":\"2372\",\"type\":\"GlyphRenderer\"},{\"attributes\":{\"callback\":null,\"data\":{\"x\":[0,1,2,3,4,5,6,7,8,9,10],\"y\":{\"__ndarray__\":\"AAAAAAAAWUAAAAAAAABZQAAAAAAAAEdAAAAAAAAAAEAAAAAAAIBVQAAAAAAAgGBAAAAAAAAAWkAAAAAAAABCQAAAAAAAAChAAAAAAABAWEAAAAAAAMBRQA==\",\"dtype\":\"float64\",\"shape\":[11]}},\"selected\":{\"id\":\"2675\",\"type\":\"Selection\"},\"selection_policy\":{\"id\":\"2676\",\"type\":\"UnionRenderers\"}},\"id\":\"2636\",\"type\":\"ColumnDataSource\"},{\"attributes\":{\"source\":{\"id\":\"2478\",\"type\":\"ColumnDataSource\"}},\"id\":\"2482\",\"type\":\"CDSView\"},{\"attributes\":{},\"id\":\"2335\",\"type\":\"BasicTickFormatter\"},{\"attributes\":{\"callback\":null,\"data\":{\"base\":[0,1,2,3,4,5,6,7,8,9,10],\"lower\":{\"__ndarray__\":\"H9CS9IhaKsDb5bH+5YApwDOdQI89GxPAWxRw995C479M9edWVnowwNr9eJXyOCjA5JMQS0SEKsC+Wl2i8DsnwKpE8mIXgwLAe6Sm6BNYLcDsclx/IzEwwA==\",\"dtype\":\"float64\",\"shape\":[11]},\"upper\":{\"__ndarray__\":\"q+Z5Q8JiKcAVUFLIf2snwGqF3Ndw2AzAqdGxW19B4b8n7qtDmf4pwBA4xJI17CbAwOMZlVpfJ8AM1SWPMSUmwJrjwx+PkgHAMzF4DS+5KsAc37q3OfYrwA==\",\"dtype\":\"float64\",\"shape\":[11]}},\"selected\":{\"id\":\"2745\",\"type\":\"Selection\"},\"selection_policy\":{\"id\":\"2746\",\"type\":\"UnionRenderers\"}},\"id\":\"2427\",\"type\":\"ColumnDataSource\"},{\"attributes\":{},\"id\":\"2702\",\"type\":\"UnionRenderers\"},{\"attributes\":{\"data_source\":{\"id\":\"2656\",\"type\":\"ColumnDataSource\"},\"glyph\":{\"id\":\"2657\",\"type\":\"Circle\"},\"hover_glyph\":null,\"muted_glyph\":null,\"nonselection_glyph\":{\"id\":\"2658\",\"type\":\"Circle\"},\"selection_glyph\":null,\"view\":{\"id\":\"2660\",\"type\":\"CDSView\"}},\"id\":\"2659\",\"type\":\"GlyphRenderer\"},{\"attributes\":{\"data_source\":{\"id\":\"2478\",\"type\":\"ColumnDataSource\"},\"glyph\":{\"id\":\"2479\",\"type\":\"Line\"},\"hover_glyph\":null,\"muted_glyph\":null,\"nonselection_glyph\":{\"id\":\"2480\",\"type\":\"Line\"},\"selection_glyph\":null,\"view\":{\"id\":\"2482\",\"type\":\"CDSView\"}},\"id\":\"2481\",\"type\":\"GlyphRenderer\"},{\"attributes\":{\"label\":{\"value\":\"Timeout (1)\"},\"renderers\":[{\"id\":\"2356\",\"type\":\"GlyphRenderer\"},{\"id\":\"2372\",\"type\":\"GlyphRenderer\"}]},\"id\":\"2368\",\"type\":\"LegendItem\"},{\"attributes\":{\"line_color\":\"#F79341\",\"x\":{\"field\":\"x\"},\"y\":{\"field\":\"y\"}},\"id\":\"2229\",\"type\":\"Line\"},{\"attributes\":{\"below\":[{\"id\":\"2566\",\"type\":\"LinearAxis\"}],\"center\":[{\"id\":\"2570\",\"type\":\"Grid\"},{\"id\":\"2575\",\"type\":\"Grid\"},{\"id\":\"2588\",\"type\":\"Legend\"},{\"id\":\"2678\",\"type\":\"Whisker\"}],\"left\":[{\"id\":\"2571\",\"type\":\"LinearAxis\"}],\"plot_height\":250,\"plot_width\":900,\"renderers\":[{\"id\":\"2580\",\"type\":\"GlyphRenderer\"},{\"id\":\"2593\",\"type\":\"GlyphRenderer\"},{\"id\":\"2606\",\"type\":\"GlyphRenderer\"},{\"id\":\"2622\",\"type\":\"GlyphRenderer\"},{\"id\":\"2639\",\"type\":\"GlyphRenderer\"},{\"id\":\"2659\",\"type\":\"GlyphRenderer\"}],\"title\":{\"id\":\"2583\",\"type\":\"Title\"},\"toolbar\":{\"id\":\"2576\",\"type\":\"Toolbar\"},\"toolbar_location\":null,\"x_range\":{\"id\":\"2558\",\"type\":\"Range1d\"},\"x_scale\":{\"id\":\"2562\",\"type\":\"LinearScale\"},\"y_range\":{\"id\":\"2560\",\"type\":\"DataRange1d\"},\"y_scale\":{\"id\":\"2564\",\"type\":\"LinearScale\"}},\"id\":\"2557\",\"subtype\":\"Figure\",\"type\":\"Plot\"},{\"attributes\":{\"data_source\":{\"id\":\"2603\",\"type\":\"ColumnDataSource\"},\"glyph\":{\"id\":\"2604\",\"type\":\"Line\"},\"hover_glyph\":null,\"muted_glyph\":null,\"nonselection_glyph\":{\"id\":\"2605\",\"type\":\"Line\"},\"selection_glyph\":null,\"view\":{\"id\":\"2607\",\"type\":\"CDSView\"}},\"id\":\"2606\",\"type\":\"GlyphRenderer\"},{\"attributes\":{\"callback\":null,\"end\":10.5},\"id\":\"2183\",\"type\":\"Range1d\"},{\"attributes\":{\"level\":\"underlay\",\"size\":10},\"id\":\"2709\",\"type\":\"TeeHead\"},{\"attributes\":{\"line_color\":\"#0C0786\",\"x\":{\"field\":\"x\"},\"y\":{\"field\":\"y\"}},\"id\":\"2453\",\"type\":\"Line\"},{\"attributes\":{\"label\":{\"value\":\"DeepShutdown\"},\"renderers\":[{\"id\":\"2330\",\"type\":\"GlyphRenderer\"},{\"id\":\"2343\",\"type\":\"GlyphRenderer\"}]},\"id\":\"2339\",\"type\":\"LegendItem\"},{\"attributes\":{\"level\":\"underlay\",\"size\":10},\"id\":\"2752\",\"type\":\"TeeHead\"},{\"attributes\":{\"data_source\":{\"id\":\"2406\",\"type\":\"ColumnDataSource\"},\"glyph\":{\"id\":\"2407\",\"type\":\"Circle\"},\"hover_glyph\":null,\"muted_glyph\":null,\"nonselection_glyph\":{\"id\":\"2408\",\"type\":\"Circle\"},\"selection_glyph\":null,\"view\":{\"id\":\"2410\",\"type\":\"CDSView\"}},\"id\":\"2409\",\"type\":\"GlyphRenderer\"},{\"attributes\":{\"below\":[{\"id\":\"2441\",\"type\":\"LinearAxis\"}],\"center\":[{\"id\":\"2445\",\"type\":\"Grid\"},{\"id\":\"2450\",\"type\":\"Grid\"},{\"id\":\"2463\",\"type\":\"Legend\"},{\"id\":\"2553\",\"type\":\"Whisker\"}],\"left\":[{\"id\":\"2446\",\"type\":\"LinearAxis\"}],\"plot_height\":250,\"plot_width\":900,\"renderers\":[{\"id\":\"2455\",\"type\":\"GlyphRenderer\"},{\"id\":\"2468\",\"type\":\"GlyphRenderer\"},{\"id\":\"2481\",\"type\":\"GlyphRenderer\"},{\"id\":\"2497\",\"type\":\"GlyphRenderer\"},{\"id\":\"2514\",\"type\":\"GlyphRenderer\"},{\"id\":\"2534\",\"type\":\"GlyphRenderer\"}],\"title\":{\"id\":\"2458\",\"type\":\"Title\"},\"toolbar\":{\"id\":\"2451\",\"type\":\"Toolbar\"},\"toolbar_location\":null,\"x_range\":{\"id\":\"2433\",\"type\":\"Range1d\"},\"x_scale\":{\"id\":\"2437\",\"type\":\"LinearScale\"},\"y_range\":{\"id\":\"2435\",\"type\":\"DataRange1d\"},\"y_scale\":{\"id\":\"2439\",\"type\":\"LinearScale\"}},\"id\":\"2432\",\"subtype\":\"Figure\",\"type\":\"Plot\"},{\"attributes\":{\"dimension\":1,\"grid_line_alpha\":0,\"ticker\":{\"id\":\"2447\",\"type\":\"BasicTicker\"}},\"id\":\"2450\",\"type\":\"Grid\"},{\"attributes\":{},\"id\":\"2616\",\"type\":\"Selection\"},{\"attributes\":{\"callback\":null,\"data\":{\"x\":[0,1,2,3,4,5,6,7,8,9,10],\"y\":{\"__ndarray__\":\"AAAAAACAYEAAAAAAAIBeQAAAAAAAAExAAAAAAAAAEEAAAAAAAEBiQAAAAAAAgGpAAAAAAADAYEAAAAAAAABXQAAAAAAAADRAAAAAAABgZ0AAAAAAAFB9QA==\",\"dtype\":\"float64\",\"shape\":[11]}},\"selected\":{\"id\":\"2653\",\"type\":\"Selection\"},\"selection_policy\":{\"id\":\"2654\",\"type\":\"UnionRenderers\"}},\"id\":\"2619\",\"type\":\"ColumnDataSource\"},{\"attributes\":{\"fill_alpha\":{\"value\":0.1},\"fill_color\":{\"value\":\"#1f77b4\"},\"line_alpha\":{\"value\":0.1},\"line_color\":{\"value\":\"#1f77b4\"},\"line_width\":{\"value\":2},\"x\":{\"field\":\"x\"},\"y\":{\"field\":\"y\"}},\"id\":\"2217\",\"type\":\"Square\"},{\"attributes\":{\"interval\":1},\"id\":\"2680\",\"type\":\"SingleIntervalTicker\"},{\"attributes\":{\"callback\":null,\"data\":{\"x\":[0,1,2,3,4,5,6,7,8,9,10],\"y\":{\"__ndarray__\":\"z4QuY0ckMMDfK77iK74twDUIrBxaZBvAXQmg1x1O379/DyFtYVkywAoatf9CETrA37HgADfMMcCzBvtyJYAmwN4FxKbSkAPATIFSMvzmN8CjLPWufq1MwA==\",\"dtype\":\"float64\",\"shape\":[11]}},\"selected\":{\"id\":\"2384\",\"type\":\"Selection\"},\"selection_policy\":{\"id\":\"2385\",\"type\":\"UnionRenderers\"}},\"id\":\"2353\",\"type\":\"ColumnDataSource\"},{\"attributes\":{},\"id\":\"2634\",\"type\":\"Selection\"},{\"attributes\":{\"fill_color\":{\"value\":\"#7C02A7\"},\"line_color\":{\"value\":\"#7C02A7\"},\"line_width\":{\"value\":2},\"x\":{\"field\":\"x\"},\"y\":{\"field\":\"y\"}},\"id\":\"2407\",\"type\":\"Circle\"},{\"attributes\":{\"axis_label\":\"week\",\"formatter\":{\"id\":\"2212\",\"type\":\"BasicTickFormatter\"},\"minor_tick_line_color\":{\"value\":null},\"ticker\":{\"id\":\"2305\",\"type\":\"SingleIntervalTicker\"}},\"id\":\"2191\",\"type\":\"LinearAxis\"},{\"attributes\":{\"data_source\":{\"id\":\"2386\",\"type\":\"ColumnDataSource\"},\"glyph\":{\"id\":\"2387\",\"type\":\"Line\"},\"hover_glyph\":null,\"muted_glyph\":null,\"nonselection_glyph\":{\"id\":\"2388\",\"type\":\"Line\"},\"selection_glyph\":null,\"view\":{\"id\":\"2390\",\"type\":\"CDSView\"}},\"id\":\"2389\",\"type\":\"GlyphRenderer\"}],\"root_ids\":[\"2773\"]},\"title\":\"Bokeh Application\",\"version\":\"1.3.4\"}};\n",
       "  var render_items = [{\"docid\":\"384fd370-dc43-4fad-a68b-61485e388be6\",\"roots\":{\"2773\":\"0880213a-7252-4c1f-9d47-c8ef2bce1432\"}}];\n",
       "  root.Bokeh.embed.embed_items_notebook(docs_json, render_items);\n",
       "\n",
       "  }\n",
       "  if (root.Bokeh !== undefined) {\n",
       "    embed_document(root);\n",
       "  } else {\n",
       "    var attempts = 0;\n",
       "    var timer = setInterval(function(root) {\n",
       "      if (root.Bokeh !== undefined) {\n",
       "        embed_document(root);\n",
       "        clearInterval(timer);\n",
       "      }\n",
       "      attempts++;\n",
       "      if (attempts > 100) {\n",
       "        console.log(\"Bokeh: ERROR: Unable to run BokehJS code because BokehJS library is missing\");\n",
       "        clearInterval(timer);\n",
       "      }\n",
       "    }, 10, root)\n",
       "  }\n",
       "})(window);"
      ],
      "application/vnd.bokehjs_exec.v0+json": ""
     },
     "metadata": {
      "application/vnd.bokehjs_exec.v0+json": {
       "id": "2773"
      }
     },
     "output_type": "display_data"
    }
   ],
   "source": [
    "p4= compare(test_results, 'mean_stretch', 'Average stretch (min)', legnd=False)\n",
    "p3 = compare(test_results,'score', 'Score', legnd=False, showx=False)\n",
    "p2 = compare(test_results,'energy_waste', 'Energy wasted (J x Million)', legnd=False, showx=False, scale=1000000)\n",
    "p1 = compare(test_results,'nb_switches', 'Nb. of state switches', showx=False)\n",
    "fig = gridplot([[p1], [p2], [p3], [p4]])\n",
    "export_png(fig, os.path.join(output_dir, 'test_results.png'))\n",
    "show(fig)"
   ]
  },
  {
   "cell_type": "code",
   "execution_count": 11,
   "metadata": {},
   "outputs": [
    {
     "data": {
      "text/html": [
       "<div>\n",
       "<style scoped>\n",
       "    .dataframe tbody tr th:only-of-type {\n",
       "        vertical-align: middle;\n",
       "    }\n",
       "\n",
       "    .dataframe tbody tr th {\n",
       "        vertical-align: top;\n",
       "    }\n",
       "\n",
       "    .dataframe thead th {\n",
       "        text-align: right;\n",
       "    }\n",
       "</style>\n",
       "<table border=\"1\" class=\"dataframe\">\n",
       "  <thead>\n",
       "    <tr style=\"text-align: right;\">\n",
       "      <th></th>\n",
       "      <th>policy</th>\n",
       "      <th>score</th>\n",
       "      <th>mean_stretch</th>\n",
       "      <th>nb_switches</th>\n",
       "      <th>energy_waste</th>\n",
       "      <th>score_perc</th>\n",
       "      <th>mean_stretch_perc</th>\n",
       "      <th>nb_switches_perc</th>\n",
       "      <th>energy_waste_perc</th>\n",
       "    </tr>\n",
       "  </thead>\n",
       "  <tbody>\n",
       "    <tr>\n",
       "      <th>0</th>\n",
       "      <td>DeepShutdown</td>\n",
       "      <td>-10.147909</td>\n",
       "      <td>0.105293</td>\n",
       "      <td>73.409091</td>\n",
       "      <td>229642.000000</td>\n",
       "      <td>0.363136</td>\n",
       "      <td>1.000000</td>\n",
       "      <td>0.513024</td>\n",
       "      <td>0.378912</td>\n",
       "    </tr>\n",
       "    <tr>\n",
       "      <th>1</th>\n",
       "      <td>Timeout (1)</td>\n",
       "      <td>-17.774390</td>\n",
       "      <td>0.018358</td>\n",
       "      <td>143.090909</td>\n",
       "      <td>392469.454545</td>\n",
       "      <td>0.636045</td>\n",
       "      <td>0.174349</td>\n",
       "      <td>1.000000</td>\n",
       "      <td>0.647579</td>\n",
       "    </tr>\n",
       "    <tr>\n",
       "      <th>2</th>\n",
       "      <td>Timeout (10)</td>\n",
       "      <td>-27.945195</td>\n",
       "      <td>0.012714</td>\n",
       "      <td>71.454545</td>\n",
       "      <td>606056.363636</td>\n",
       "      <td>1.000000</td>\n",
       "      <td>0.120753</td>\n",
       "      <td>0.499365</td>\n",
       "      <td>1.000000</td>\n",
       "    </tr>\n",
       "  </tbody>\n",
       "</table>\n",
       "</div>"
      ],
      "text/plain": [
       "         policy      score  mean_stretch  nb_switches   energy_waste  \\\n",
       "0  DeepShutdown -10.147909      0.105293    73.409091  229642.000000   \n",
       "1   Timeout (1) -17.774390      0.018358   143.090909  392469.454545   \n",
       "2  Timeout (10) -27.945195      0.012714    71.454545  606056.363636   \n",
       "\n",
       "   score_perc  mean_stretch_perc  nb_switches_perc  energy_waste_perc  \n",
       "0    0.363136           1.000000          0.513024           0.378912  \n",
       "1    0.636045           0.174349          1.000000           0.647579  \n",
       "2    1.000000           0.120753          0.499365           1.000000  "
      ]
     },
     "execution_count": 11,
     "metadata": {},
     "output_type": "execute_result"
    }
   ],
   "source": [
    "x = test_results.groupby(['policy'], as_index=False).mean()\n",
    "x = x[['policy', 'score', 'mean_stretch', 'nb_switches', 'energy_waste']]\n",
    "x['score_perc'] = x['score'] / x['score'].min()\n",
    "x['mean_stretch_perc'] = x['mean_stretch'] / x['mean_stretch'].max()\n",
    "x['nb_switches_perc'] = x['nb_switches'] / x['nb_switches'].max()\n",
    "x['energy_waste_perc'] = x['energy_waste'] / x['energy_waste'].max()\n",
    "x"
   ]
  },
  {
   "cell_type": "markdown",
   "metadata": {},
   "source": [
    "### 5) Analyse the policy learned by DeepShutdown"
   ]
  },
  {
   "cell_type": "code",
   "execution_count": 42,
   "metadata": {},
   "outputs": [],
   "source": [
    "import pandas as pd\n",
    "\n",
    "history = pd.read_csv(\"lyon/results/history.csv\")\n",
    "history = history[~((history.queue_sz == 0) & (history.reservation == 0))]\n",
    "\n",
    "#clusters = pd.read_csv(\"lyon/lyon_clusters.csv\")\n",
    "#cluster_util = clusters.groupby('cluster', as_index=False).mean()\n",
    "#bins = [0, 5., 25., 50., 75., 100.]\n",
    "#group_names = [\"5 %\", \"25 %\", \"50 %\", \"75 %\", \"100 %\"]\n",
    "#clusters['utilization_binned'] = pd.cut(clusters['utilization'], bins, labels=group_names, include_lowest=True)\n",
    "#clusters = clusters.groupby('cluster').first()\n",
    "#history['cluster_util'] = history['cluster'].apply(lambda c: clusters.iloc[c]['utilization_binned'])"
   ]
  },
  {
   "cell_type": "markdown",
   "metadata": {},
   "source": [
    "#### 5.1) Reservation size frequency per workload utilisation"
   ]
  },
  {
   "cell_type": "code",
   "execution_count": 83,
   "metadata": {},
   "outputs": [
    {
     "ename": "NameError",
     "evalue": "name 'history' is not defined",
     "output_type": "error",
     "traceback": [
      "\u001b[0;31m---------------------------------------------------------------------------\u001b[0m",
      "\u001b[0;31mNameError\u001b[0m                                 Traceback (most recent call last)",
      "\u001b[0;32m<ipython-input-83-172ffefd4741>\u001b[0m in \u001b[0;36m<module>\u001b[0;34m\u001b[0m\n\u001b[1;32m      6\u001b[0m \u001b[0mplot_order\u001b[0m \u001b[0;34m=\u001b[0m \u001b[0;34m{\u001b[0m\u001b[0;34m'5 %'\u001b[0m\u001b[0;34m:\u001b[0m \u001b[0;36m0\u001b[0m\u001b[0;34m,\u001b[0m \u001b[0;34m'25 %'\u001b[0m\u001b[0;34m:\u001b[0m \u001b[0;36m1\u001b[0m\u001b[0;34m,\u001b[0m \u001b[0;34m'50 %'\u001b[0m\u001b[0;34m:\u001b[0m \u001b[0;36m2\u001b[0m\u001b[0;34m,\u001b[0m \u001b[0;34m'75 %'\u001b[0m\u001b[0;34m:\u001b[0m \u001b[0;36m3\u001b[0m\u001b[0;34m,\u001b[0m \u001b[0;34m'100 %'\u001b[0m\u001b[0;34m:\u001b[0m \u001b[0;36m4\u001b[0m\u001b[0;34m}\u001b[0m\u001b[0;34m\u001b[0m\u001b[0;34m\u001b[0m\u001b[0m\n\u001b[1;32m      7\u001b[0m \u001b[0;34m\u001b[0m\u001b[0m\n\u001b[0;32m----> 8\u001b[0;31m \u001b[0;32mfor\u001b[0m \u001b[0ma\u001b[0m\u001b[0;34m,\u001b[0m \u001b[0mb\u001b[0m \u001b[0;32min\u001b[0m \u001b[0mhistory\u001b[0m\u001b[0;34m.\u001b[0m\u001b[0mgroupby\u001b[0m\u001b[0;34m(\u001b[0m\u001b[0;34m'cluster_util'\u001b[0m\u001b[0;34m)\u001b[0m\u001b[0;34m:\u001b[0m\u001b[0;34m\u001b[0m\u001b[0;34m\u001b[0m\u001b[0m\n\u001b[0m\u001b[1;32m      9\u001b[0m     \u001b[0mx\u001b[0m \u001b[0;34m=\u001b[0m \u001b[0mb\u001b[0m\u001b[0;34m.\u001b[0m\u001b[0mgroupby\u001b[0m\u001b[0;34m(\u001b[0m\u001b[0;34m'reservation'\u001b[0m\u001b[0;34m)\u001b[0m\u001b[0;34m.\u001b[0m\u001b[0msize\u001b[0m\u001b[0;34m(\u001b[0m\u001b[0;34m)\u001b[0m\u001b[0;34m\u001b[0m\u001b[0;34m\u001b[0m\u001b[0m\n\u001b[1;32m     10\u001b[0m     \u001b[0mx\u001b[0m \u001b[0;34m/=\u001b[0m \u001b[0mx\u001b[0m\u001b[0;34m.\u001b[0m\u001b[0msum\u001b[0m\u001b[0;34m(\u001b[0m\u001b[0;34m)\u001b[0m\u001b[0;34m\u001b[0m\u001b[0;34m\u001b[0m\u001b[0m\n",
      "\u001b[0;31mNameError\u001b[0m: name 'history' is not defined"
     ]
    },
    {
     "data": {
      "image/png": "[encoded data removed]",
      "text/plain": [
       "<Figure size 1080x360 with 5 Axes>"
      ]
     },
     "metadata": {
      "needs_background": "light"
     },
     "output_type": "display_data"
    }
   ],
   "source": [
    "import matplotlib.pyplot as plt\n",
    "import numpy as np\n",
    "\n",
    "fig, ax = plt.subplots(1, 5, figsize=(15,5), sharey=True, sharex=False, clear=True)\n",
    "\n",
    "plot_order = {'5 %': 0, '25 %': 1, '50 %': 2, '75 %': 3, '100 %': 4}\n",
    "\n",
    "for a, b in history.groupby('cluster_util'):\n",
    "    x = b.groupby('reservation').size()\n",
    "    x /= x.sum()\n",
    "    ax[plot_order[a]].set_title(a)\n",
    "    ax[plot_order[a]].bar(x=np.arange(0, 15), height=x, width=1, align='edge', edgecolor='black')\n",
    "    ax[plot_order[a]].set_xlim([-0, 15])\n",
    "    ax[plot_order[a]].set_xticks(np.arange(0, 15)+.5, minor=False)\n",
    "    ax[plot_order[a]].set_xticklabels([str(a) for a in np.arange(0, 15)], minor=False)\n",
    "    ax[plot_order[a]].set_ylim([0, 0.7])\n",
    "    ax[plot_order[a]].grid(axis='y')\n",
    "\n",
    "ax[0].set_ylabel(\"Frequency\")\n",
    "ax[2].set_xlabel(\"Reservation size\")\n",
    "plt.tight_layout()\n",
    "\n",
    "plt.savefig(os.path.join(output_dir, 'reservation_freq.png'))\n"
   ]
  },
  {
   "cell_type": "markdown",
   "metadata": {},
   "source": [
    "#### 5.2) Reservation size vs Queue size"
   ]
  },
  {
   "cell_type": "code",
   "execution_count": 106,
   "metadata": {},
   "outputs": [
    {
     "name": "stdout",
     "output_type": "stream",
     "text": [
      "56477.0\n"
     ]
    },
    {
     "data": {
      "image/png": "[encoded data removed]",
      "text/plain": [
       "<Figure size 576x288 with 1 Axes>"
      ]
     },
     "metadata": {
      "needs_background": "light"
     },
     "output_type": "display_data"
    }
   ],
   "source": [
    "\n",
    "import matplotlib.colors as colors\n",
    "grouped =history.groupby(['queue_sz', 'reservation']).size().unstack().fillna(0)\n",
    "print(np.max(grouped.max()))\n",
    "fig, ax = plt.subplots(figsize=(8,4))\n",
    "im = ax.pcolor(grouped, edgecolors=None, cmap='PuBu', norm=colors.LogNorm(vmin=1+np.min(grouped.min()), vmax=np.max(grouped.max())))\n",
    "               \n",
    "ax.set_xticks(np.arange(0, 15)+.5, minor=False)\n",
    "ax.set_xticklabels([str(a) for a in np.arange(0, 15)], minor=False)\n",
    "ax.set_yticks(np.arange(0, grouped.shape[0]+1, 25), minor=False)\n",
    "ax.set_xlabel(\"Reservation size\")\n",
    "ax.set_ylabel(\"Queue size\")\n",
    "plt.tight_layout()\n",
    "plt.savefig(os.path.join(output_dir, 'normalized_reservation_per_queue.png'))"
   ]
  },
  {
   "cell_type": "code",
   "execution_count": 105,
   "metadata": {},
   "outputs": [
    {
     "data": {
      "image/png": "[encoded data removed]",
      "text/plain": [
       "<Figure size 432x432 with 1 Axes>"
      ]
     },
     "metadata": {
      "needs_background": "light"
     },
     "output_type": "display_data"
    }
   ],
   "source": [
    "import seaborn as sns\n",
    "f, ax = plt.subplots(figsize=(6, 6))\n",
    "#cmap = sns.cubehelix_palette(as_cmap=True, dark=0, light=1, reverse=False)\n",
    "sns.kdeplot(history.reservation, history.queue_sz, shade=True);"
   ]
  },
  {
   "cell_type": "markdown",
   "metadata": {},
   "source": [
    "#### 4.1) ANOVA   "
   ]
  },
  {
   "cell_type": "code",
   "execution_count": 103,
   "metadata": {},
   "outputs": [
    {
     "name": "stdout",
     "output_type": "stream",
     "text": [
      "F_onewayResult(statistic=21.46025640351677, pvalue=1.0500722183321777e-05)\n",
      "F_onewayResult(statistic=65.99968357968736, pvalue=9.863426074777389e-13)\n",
      "F_onewayResult(statistic=110.67840849562002, pvalue=4.6260566079517584e-18)\n"
     ]
    }
   ],
   "source": [
    "#fig, ax = plt.subplots()\n",
    "grouped = bench_results.groupby([bench_results.index, bench_results.policy]).reward.apply(np.mean).unstack()\n",
    "\n",
    "print(stats.f_oneway(grouped['DeepShutdown'], grouped['idle_5']))\n",
    "print(stats.f_oneway(grouped['DeepShutdown'], grouped['idle_10']))\n",
    "print(stats.f_oneway(grouped['DeepShutdown'], grouped['idle_15']))"
   ]
  },
  {
   "cell_type": "code",
   "execution_count": 82,
   "metadata": {},
   "outputs": [],
   "source": [
    "import json\n",
    "\n",
    "with open('clrlcgce02/workloads/temp/2006-03-05.json') as f:\n",
    "    workload = json.load(f)\n",
    "    all_jobs = workload['jobs']\n",
    "    for i in range(1, 8):\n",
    "        workload['jobs'] = []\n",
    "        while True and all_jobs:\n",
    "            job = all_jobs[0]\n",
    "            if job['subtime'] < 1440 * i:\n",
    "                job['subtime'] -= 1440 * (i - 1)\n",
    "                workload['jobs'].append(job)\n",
    "                del all_jobs[0]\n",
    "            else:\n",
    "                break\n",
    "        workload['nb_jobs'] = len(workload['jobs'])\n",
    "        if workload['jobs']:\n",
    "            workload['max_walltime'] = max(j['walltime'] for j in workload['jobs'])\n",
    "            workload['load'] = sum((workload['profiles'][j['profile']]['cpu'] / 1000000.) * j['res'] for j in workload['jobs']) / (1440 * 168.)\n",
    "            with open('clrlcgce02/workloads/temp/day_{}.json'.format(i), 'w') as ou:\n",
    "                json.dump(workload, ou)\n",
    "                                \n",
    "        \n"
   ]
  }
 ],
 "metadata": {
  "kernelspec": {
   "display_name": "Python 3",
   "language": "python",
   "name": "python3"
  },
  "language_info": {
   "codemirror_mode": {
    "name": "ipython",
    "version": 3
   },
   "file_extension": ".py",
   "mimetype": "text/x-python",
   "name": "python",
   "nbconvert_exporter": "python",
   "pygments_lexer": "ipython3",
   "version": "3.6.7"
  }
 },
 "nbformat": 4,
 "nbformat_minor": 2
}
